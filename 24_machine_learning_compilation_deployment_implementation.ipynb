{
  "nbformat": 4,
  "nbformat_minor": 0,
  "metadata": {
    "colab": {
      "provenance": [],
      "gpuType": "T4",
      "authorship_tag": "ABX9TyNvCvMpsPaukm6f9gppnhHH",
      "include_colab_link": true
    },
    "kernelspec": {
      "name": "python3",
      "display_name": "Python 3"
    },
    "language_info": {
      "name": "python"
    },
    "accelerator": "GPU"
  },
  "cells": [
    {
      "cell_type": "markdown",
      "metadata": {
        "id": "view-in-github",
        "colab_type": "text"
      },
      "source": [
        "<a href=\"https://colab.research.google.com/github/dlsyscourse/public_notebooks/blob/main/24_machine_learning_compilation_deployment_implementation.ipynb\" target=\"_parent\"><img src=\"https://colab.research.google.com/assets/colab-badge.svg\" alt=\"Open In Colab\"/></a>"
      ]
    },
    {
      "cell_type": "markdown",
      "metadata": {
        "id": "Mpn1ti5Urdsv"
      },
      "source": [
        "# Lecture 24: Machine Learning Compiler and Deployment\n",
        "\n",
        "In this lecture, we will walk you through some example usage of the machine learning compiler Apache TVM. To learn more, checkout https://tvm.apache.org/\n",
        "\n",
        "The content of this lecture is adapted from TVM's tutorials.\n",
        "\n"
      ]
    },
    {
      "cell_type": "markdown",
      "metadata": {
        "id": "qXysoqn-vZuF"
      },
      "source": [
        "## Install package\n",
        "\n",
        "To get started, we need to obtain a version of TVM. For quick demo purpose we will use the following command to install a latest version of the TVM unity compiler and related language model dependenchy solution"
      ]
    },
    {
      "cell_type": "code",
      "metadata": {
        "colab": {
          "base_uri": "https://localhost:8080/"
        },
        "id": "Xe3vClsD9jlq",
        "outputId": "29482ab0-1e2d-4e99-d1e8-33c8eef1fb4a"
      },
      "source": [
        "!pip install --pre  mlc-ai-nightly-cu118 mlc-chat-nightly-cu118 -f https://mlc.ai/wheels"
      ],
      "execution_count": 2,
      "outputs": [
        {
          "output_type": "stream",
          "name": "stdout",
          "text": [
            "Looking in links: https://mlc.ai/wheels\n",
            "Collecting mlc-ai-nightly-cu118\n",
            "  Downloading https://github.com/mlc-ai/package/releases/download/v0.9.dev0/mlc_ai_nightly_cu118-0.12.dev1880-cp310-cp310-manylinux_2_28_x86_64.whl (544.5 MB)\n",
            "\u001b[2K     \u001b[90m━━━━━━━━━━━━━━━━━━━━━━━━━━━━━━━━━━━━━━━━\u001b[0m \u001b[32m544.5/544.5 MB\u001b[0m \u001b[31m2.6 MB/s\u001b[0m eta \u001b[36m0:00:00\u001b[0m\n",
            "\u001b[?25hCollecting mlc-chat-nightly-cu118\n",
            "  Downloading https://github.com/mlc-ai/package/releases/download/v0.9.dev0/mlc_chat_nightly_cu118-0.1.dev646-cp310-cp310-manylinux_2_28_x86_64.whl (60.4 MB)\n",
            "\u001b[2K     \u001b[90m━━━━━━━━━━━━━━━━━━━━━━━━━━━━━━━━━━━━━━━━\u001b[0m \u001b[32m60.4/60.4 MB\u001b[0m \u001b[31m11.5 MB/s\u001b[0m eta \u001b[36m0:00:00\u001b[0m\n",
            "\u001b[?25hRequirement already satisfied: attrs in /usr/local/lib/python3.10/dist-packages (from mlc-ai-nightly-cu118) (23.1.0)\n",
            "Requirement already satisfied: cloudpickle in /usr/local/lib/python3.10/dist-packages (from mlc-ai-nightly-cu118) (2.2.1)\n",
            "Requirement already satisfied: decorator in /usr/local/lib/python3.10/dist-packages (from mlc-ai-nightly-cu118) (4.4.2)\n",
            "Requirement already satisfied: ml-dtypes in /usr/local/lib/python3.10/dist-packages (from mlc-ai-nightly-cu118) (0.2.0)\n",
            "Requirement already satisfied: numpy in /usr/local/lib/python3.10/dist-packages (from mlc-ai-nightly-cu118) (1.23.5)\n",
            "Requirement already satisfied: psutil in /usr/local/lib/python3.10/dist-packages (from mlc-ai-nightly-cu118) (5.9.5)\n",
            "Requirement already satisfied: scipy in /usr/local/lib/python3.10/dist-packages (from mlc-ai-nightly-cu118) (1.11.3)\n",
            "Requirement already satisfied: tornado in /usr/local/lib/python3.10/dist-packages (from mlc-ai-nightly-cu118) (6.3.2)\n",
            "Requirement already satisfied: typing-extensions in /usr/local/lib/python3.10/dist-packages (from mlc-ai-nightly-cu118) (4.5.0)\n",
            "Collecting fastapi (from mlc-chat-nightly-cu118)\n",
            "  Downloading fastapi-0.104.1-py3-none-any.whl (92 kB)\n",
            "\u001b[2K     \u001b[90m━━━━━━━━━━━━━━━━━━━━━━━━━━━━━━━━━━━━━━━━\u001b[0m \u001b[32m92.9/92.9 kB\u001b[0m \u001b[31m2.3 MB/s\u001b[0m eta \u001b[36m0:00:00\u001b[0m\n",
            "\u001b[?25hCollecting uvicorn (from mlc-chat-nightly-cu118)\n",
            "  Downloading uvicorn-0.24.0.post1-py3-none-any.whl (59 kB)\n",
            "\u001b[2K     \u001b[90m━━━━━━━━━━━━━━━━━━━━━━━━━━━━━━━━━━━━━━━━\u001b[0m \u001b[32m59.7/59.7 kB\u001b[0m \u001b[31m9.1 MB/s\u001b[0m eta \u001b[36m0:00:00\u001b[0m\n",
            "\u001b[?25hCollecting shortuuid (from mlc-chat-nightly-cu118)\n",
            "  Downloading shortuuid-1.0.11-py3-none-any.whl (10 kB)\n",
            "Requirement already satisfied: anyio<4.0.0,>=3.7.1 in /usr/local/lib/python3.10/dist-packages (from fastapi->mlc-chat-nightly-cu118) (3.7.1)\n",
            "Requirement already satisfied: pydantic!=1.8,!=1.8.1,!=2.0.0,!=2.0.1,!=2.1.0,<3.0.0,>=1.7.4 in /usr/local/lib/python3.10/dist-packages (from fastapi->mlc-chat-nightly-cu118) (1.10.13)\n",
            "Collecting starlette<0.28.0,>=0.27.0 (from fastapi->mlc-chat-nightly-cu118)\n",
            "  Downloading starlette-0.27.0-py3-none-any.whl (66 kB)\n",
            "\u001b[2K     \u001b[90m━━━━━━━━━━━━━━━━━━━━━━━━━━━━━━━━━━━━━━━━\u001b[0m \u001b[32m67.0/67.0 kB\u001b[0m \u001b[31m9.7 MB/s\u001b[0m eta \u001b[36m0:00:00\u001b[0m\n",
            "\u001b[?25hCollecting typing-extensions (from mlc-ai-nightly-cu118)\n",
            "  Downloading typing_extensions-4.9.0rc1-py3-none-any.whl (32 kB)\n",
            "Requirement already satisfied: click>=7.0 in /usr/local/lib/python3.10/dist-packages (from uvicorn->mlc-chat-nightly-cu118) (8.1.7)\n",
            "Collecting h11>=0.8 (from uvicorn->mlc-chat-nightly-cu118)\n",
            "  Downloading h11-0.14.0-py3-none-any.whl (58 kB)\n",
            "\u001b[2K     \u001b[90m━━━━━━━━━━━━━━━━━━━━━━━━━━━━━━━━━━━━━━━━\u001b[0m \u001b[32m58.3/58.3 kB\u001b[0m \u001b[31m8.3 MB/s\u001b[0m eta \u001b[36m0:00:00\u001b[0m\n",
            "\u001b[?25hRequirement already satisfied: idna>=2.8 in /usr/local/lib/python3.10/dist-packages (from anyio<4.0.0,>=3.7.1->fastapi->mlc-chat-nightly-cu118) (3.4)\n",
            "Requirement already satisfied: sniffio>=1.1 in /usr/local/lib/python3.10/dist-packages (from anyio<4.0.0,>=3.7.1->fastapi->mlc-chat-nightly-cu118) (1.3.0)\n",
            "Requirement already satisfied: exceptiongroup in /usr/local/lib/python3.10/dist-packages (from anyio<4.0.0,>=3.7.1->fastapi->mlc-chat-nightly-cu118) (1.1.3)\n",
            "Installing collected packages: typing-extensions, shortuuid, h11, uvicorn, starlette, mlc-ai-nightly-cu118, fastapi, mlc-chat-nightly-cu118\n",
            "  Attempting uninstall: typing-extensions\n",
            "    Found existing installation: typing_extensions 4.5.0\n",
            "    Uninstalling typing_extensions-4.5.0:\n",
            "      Successfully uninstalled typing_extensions-4.5.0\n",
            "\u001b[31mERROR: pip's dependency resolver does not currently take into account all the packages that are installed. This behaviour is the source of the following dependency conflicts.\n",
            "lida 0.0.10 requires kaleido, which is not installed.\n",
            "lida 0.0.10 requires python-multipart, which is not installed.\n",
            "tensorflow-probability 0.22.0 requires typing-extensions<4.6.0, but you have typing-extensions 4.9.0rc1 which is incompatible.\u001b[0m\u001b[31m\n",
            "\u001b[0mSuccessfully installed fastapi-0.104.1 h11-0.14.0 mlc-ai-nightly-cu118-0.12.dev1880 mlc-chat-nightly-cu118-0.1.dev646 shortuuid-1.0.11 starlette-0.27.0 typing-extensions-4.9.0rc1 uvicorn-0.24.0.post1\n"
          ]
        }
      ]
    },
    {
      "cell_type": "markdown",
      "metadata": {
        "id": "BBIuE2jc1DaU"
      },
      "source": [
        "## Loop-level representation and transformations\n",
        "\n",
        "Let us start with a vector add example. the follow code snippet allows us to create a vector add code, and store it in a container called IRModule."
      ]
    },
    {
      "cell_type": "code",
      "metadata": {
        "id": "vvfOgcu-YdaB"
      },
      "source": [
        "import tvm\n",
        "from tvm.ir.module import IRModule\n",
        "from tvm.script import tir as T\n",
        "import numpy as np"
      ],
      "execution_count": 4,
      "outputs": []
    },
    {
      "cell_type": "code",
      "source": [
        "def lnumpy_add(a, b, c):\n",
        "    for i in range(128):\n",
        "        c[i] = a[i] + b[i]"
      ],
      "metadata": {
        "id": "xxeOOes6OEkw"
      },
      "execution_count": 5,
      "outputs": []
    },
    {
      "cell_type": "code",
      "metadata": {
        "id": "qCViJNUNYfTW"
      },
      "source": [
        "from tvm import te\n",
        "\n",
        "A = te.placeholder(shape=(128,), dtype=\"float32\", name=\"A\")\n",
        "B = te.placeholder(shape=(128,), dtype=\"float32\", name=\"B\")\n",
        "C = te.compute((128,), lambda i: A[i] + B[i], name=\"C\")\n",
        "func = te.create_prim_func([A, B, C])\n",
        "func = func.with_attr(\"global_symbol\", \"main\")\n",
        "ir_module = IRModule({\"main\": func})"
      ],
      "execution_count": 6,
      "outputs": []
    },
    {
      "cell_type": "markdown",
      "metadata": {
        "id": "4PJd0Pw8zVQD"
      },
      "source": [
        "An IRModule contains a collection of low-level functions, we can use the script function to inspect the functions inside an IRModule.  "
      ]
    },
    {
      "cell_type": "code",
      "metadata": {
        "colab": {
          "base_uri": "https://localhost:8080/",
          "height": 280
        },
        "id": "VXy-4v3Czax9",
        "outputId": "1192722c-f435-4fb1-9c4f-8ce25cef9731"
      },
      "source": [
        "ir_module.show()"
      ],
      "execution_count": 7,
      "outputs": [
        {
          "output_type": "display_data",
          "data": {
            "text/plain": [
              "<IPython.core.display.HTML object>"
            ],
            "text/html": [
              "<div class=\"highlight\" style=\"background: \"><pre style=\"line-height: 125%;\"><span></span><span style=\"color: #007979; font-style: italic\"># from tvm.script import ir as I</span>\n",
              "<span style=\"color: #007979; font-style: italic\"># from tvm.script import tir as T</span>\n",
              "\n",
              "<span style=\"color: #AA22FF\">@I</span><span style=\"color: #AA22FF; font-weight: bold\">.</span>ir_module\n",
              "<span style=\"color: #008000; font-weight: bold\">class</span> <span style=\"color: #0000FF; font-weight: bold\">Module</span>:\n",
              "    <span style=\"color: #AA22FF\">@T</span><span style=\"color: #AA22FF; font-weight: bold\">.</span>prim_func\n",
              "    <span style=\"color: #008000; font-weight: bold\">def</span> <span style=\"color: #0000FF\">main</span>(A: T<span style=\"color: #AA22FF; font-weight: bold\">.</span>Buffer((<span style=\"color: #008000\">128</span>,), <span style=\"color: #BA2121\">&quot;float32&quot;</span>), B: T<span style=\"color: #AA22FF; font-weight: bold\">.</span>Buffer((<span style=\"color: #008000\">128</span>,), <span style=\"color: #BA2121\">&quot;float32&quot;</span>), C: T<span style=\"color: #AA22FF; font-weight: bold\">.</span>Buffer((<span style=\"color: #008000\">128</span>,), <span style=\"color: #BA2121\">&quot;float32&quot;</span>)):\n",
              "        T<span style=\"color: #AA22FF; font-weight: bold\">.</span>func_attr({<span style=\"color: #BA2121\">&quot;tir.noalias&quot;</span>: T<span style=\"color: #AA22FF; font-weight: bold\">.</span>bool(<span style=\"color: #008000; font-weight: bold\">True</span>)})\n",
              "        <span style=\"color: #007979; font-style: italic\"># with T.block(&quot;root&quot;):</span>\n",
              "        <span style=\"color: #008000; font-weight: bold\">for</span> i <span style=\"color: #008000; font-weight: bold\">in</span> range(<span style=\"color: #008000\">128</span>):\n",
              "            <span style=\"color: #008000; font-weight: bold\">with</span> T<span style=\"color: #AA22FF; font-weight: bold\">.</span>block(<span style=\"color: #BA2121\">&quot;C&quot;</span>):\n",
              "                v_i <span style=\"color: #AA22FF; font-weight: bold\">=</span> T<span style=\"color: #AA22FF; font-weight: bold\">.</span>axis<span style=\"color: #AA22FF; font-weight: bold\">.</span>spatial(<span style=\"color: #008000\">128</span>, i)\n",
              "                T<span style=\"color: #AA22FF; font-weight: bold\">.</span>reads(A[v_i], B[v_i])\n",
              "                T<span style=\"color: #AA22FF; font-weight: bold\">.</span>writes(C[v_i])\n",
              "                C[v_i] <span style=\"color: #AA22FF; font-weight: bold\">=</span> A[v_i] <span style=\"color: #AA22FF; font-weight: bold\">+</span> B[v_i]\n",
              "</pre></div>\n"
            ]
          },
          "metadata": {}
        }
      ]
    },
    {
      "cell_type": "markdown",
      "metadata": {
        "id": "tOMSOuW6aIJg"
      },
      "source": [
        "### Build and run\n",
        "\n",
        "We can turn the programs in an IRModule to runnable functions by calling a build function."
      ]
    },
    {
      "cell_type": "code",
      "metadata": {
        "id": "oESoqN-xaTCf",
        "colab": {
          "base_uri": "https://localhost:8080/"
        },
        "outputId": "245a8e09-51f8-46b2-b22c-c122753ca8d2"
      },
      "source": [
        "rt_mod = tvm.build(ir_module, target=\"llvm\")  # The module for CPU backends.\n",
        "print(type(rt_mod))"
      ],
      "execution_count": 16,
      "outputs": [
        {
          "output_type": "stream",
          "name": "stdout",
          "text": [
            "<class 'tvm.driver.build_module.OperatorModule'>\n"
          ]
        }
      ]
    },
    {
      "cell_type": "markdown",
      "metadata": {
        "id": "Y2ZfGrH1z6SV"
      },
      "source": [
        "After build, mod contains a collection of runnable functions. We can retrieve each function by its name."
      ]
    },
    {
      "cell_type": "code",
      "metadata": {
        "id": "5I3GqwnRz-Ne"
      },
      "source": [
        "func = rt_mod[\"main\"]"
      ],
      "execution_count": 17,
      "outputs": []
    },
    {
      "cell_type": "code",
      "metadata": {
        "id": "bngdW1eVl683"
      },
      "source": [
        "func"
      ],
      "execution_count": null,
      "outputs": []
    },
    {
      "cell_type": "code",
      "metadata": {
        "id": "DKxo8uq_mNlp"
      },
      "source": [
        "a = tvm.nd.array(np.arange(128, dtype=\"float32\"))"
      ],
      "execution_count": 25,
      "outputs": []
    },
    {
      "cell_type": "code",
      "metadata": {
        "id": "1hAFAqv_mP8W"
      },
      "source": [
        "b = tvm.nd.array(np.ones(128, dtype=\"float32\"))"
      ],
      "execution_count": 24,
      "outputs": []
    },
    {
      "cell_type": "code",
      "metadata": {
        "id": "TseB1UBumivT"
      },
      "source": [
        "c = tvm.nd.empty((128,), dtype=\"float32\")"
      ],
      "execution_count": 26,
      "outputs": []
    },
    {
      "cell_type": "code",
      "metadata": {
        "id": "heOAWvPAm57P",
        "colab": {
          "base_uri": "https://localhost:8080/"
        },
        "outputId": "86192aff-f415-4ddb-e9b2-7769f8d226e8"
      },
      "source": [
        " c"
      ],
      "execution_count": 27,
      "outputs": [
        {
          "output_type": "execute_result",
          "data": {
            "text/plain": [
              "<tvm.nd.NDArray shape=(128,), cpu(0)>\n",
              "array([ 1.5414283e-44,  0.0000000e+00, -1.8209923e+38,  5.9951127e-36,\n",
              "        9.3680810e-38,            nan, -1.7944576e+38,            nan,\n",
              "       -1.7950287e+38,  1.5046100e-36, -2.3580977e-13,  5.0714873e+03,\n",
              "       -2.1031324e-29,  4.3239867e-41, -1.0050381e-27,  4.3239867e-41,\n",
              "       -5.0817178e-28,  7.4720040e-31, -5.4709796e-29,  4.3239867e-41,\n",
              "       -3.8291387e-29,  4.3239867e-41, -3.0956019e+08,  3.5900357e+37,\n",
              "       -2.1032094e-29,  4.3239867e-41, -2.1031901e-29,  4.3239867e-41,\n",
              "        1.0217351e+24,  2.9740162e-25, -2.9161776e-28,  4.3239867e-41,\n",
              "       -1.0050535e-27,  4.3239867e-41,  5.3499954e+35,  2.2136460e-08,\n",
              "       -7.9329131e-28,  4.3239867e-41,  2.1864253e-07,  3.2584393e-41,\n",
              "        3.7308126e+18, -1.3384625e-12, -2.1032190e-29,  4.3239867e-41,\n",
              "       -1.0052569e-27,  4.3239867e-41,  2.3641396e+20,  1.1002859e+12,\n",
              "       -2.1032286e-29,  4.3239867e-41, -1.0522280e-27,  4.3239867e-41,\n",
              "       -1.2803440e-37,  7.2564893e-31, -2.1032383e-29,  4.3239867e-41,\n",
              "       -1.0522156e-27,  4.3239867e-41,  2.2818005e-05,  4.0465242e-08,\n",
              "       -5.7715267e-28,  4.3239867e-41, -9.1011591e-28,  4.3239867e-41,\n",
              "        1.5972619e-25,  1.1333209e+00, -7.3430239e-28,  4.3239867e-41,\n",
              "        2.1928236e-07,  3.2584393e-41,  1.3122041e+07,  2.4848557e+26,\n",
              "       -1.9644851e-28,  4.3239867e-41, -1.0074093e-27,  4.3239867e-41,\n",
              "        0.0000000e+00,  0.0000000e+00,  0.0000000e+00,  0.0000000e+00,\n",
              "        0.0000000e+00,  0.0000000e+00,  0.0000000e+00,  0.0000000e+00,\n",
              "        0.0000000e+00,  0.0000000e+00,  0.0000000e+00,  0.0000000e+00,\n",
              "        0.0000000e+00,  0.0000000e+00,  0.0000000e+00,  0.0000000e+00,\n",
              "        0.0000000e+00,  0.0000000e+00,  0.0000000e+00,  0.0000000e+00,\n",
              "        0.0000000e+00,  0.0000000e+00,  0.0000000e+00,  0.0000000e+00,\n",
              "        0.0000000e+00,  0.0000000e+00,  0.0000000e+00,  0.0000000e+00,\n",
              "        0.0000000e+00,  0.0000000e+00,  0.0000000e+00,  0.0000000e+00,\n",
              "        0.0000000e+00,  0.0000000e+00,  0.0000000e+00,  0.0000000e+00,\n",
              "        0.0000000e+00,  0.0000000e+00,  0.0000000e+00,  0.0000000e+00,\n",
              "        0.0000000e+00,  0.0000000e+00,  0.0000000e+00,  0.0000000e+00,\n",
              "        0.0000000e+00,  0.0000000e+00,  0.0000000e+00,  0.0000000e+00,\n",
              "        0.0000000e+00,  0.0000000e+00,  0.0000000e+00,  0.0000000e+00],\n",
              "      dtype=float32)"
            ]
          },
          "metadata": {},
          "execution_count": 27
        }
      ]
    },
    {
      "cell_type": "markdown",
      "metadata": {
        "id": "p68xZ0_P0MPw"
      },
      "source": [
        "To invoke the function, we can create three NDArrays in the tvm runtime, and then invoke the generated function."
      ]
    },
    {
      "cell_type": "code",
      "metadata": {
        "id": "SMkcgO-L0Xr5"
      },
      "source": [
        "func(a, b, c)\n"
      ],
      "execution_count": 28,
      "outputs": []
    },
    {
      "cell_type": "code",
      "metadata": {
        "id": "AakkTpE50b6o",
        "colab": {
          "base_uri": "https://localhost:8080/"
        },
        "outputId": "db4a5861-d341-4672-d532-a72e34cc0ed1"
      },
      "source": [
        "print(a)\n",
        "print(b)\n",
        "print(c)"
      ],
      "execution_count": 29,
      "outputs": [
        {
          "output_type": "stream",
          "name": "stdout",
          "text": [
            "[  0.   1.   2.   3.   4.   5.   6.   7.   8.   9.  10.  11.  12.  13.\n",
            "  14.  15.  16.  17.  18.  19.  20.  21.  22.  23.  24.  25.  26.  27.\n",
            "  28.  29.  30.  31.  32.  33.  34.  35.  36.  37.  38.  39.  40.  41.\n",
            "  42.  43.  44.  45.  46.  47.  48.  49.  50.  51.  52.  53.  54.  55.\n",
            "  56.  57.  58.  59.  60.  61.  62.  63.  64.  65.  66.  67.  68.  69.\n",
            "  70.  71.  72.  73.  74.  75.  76.  77.  78.  79.  80.  81.  82.  83.\n",
            "  84.  85.  86.  87.  88.  89.  90.  91.  92.  93.  94.  95.  96.  97.\n",
            "  98.  99. 100. 101. 102. 103. 104. 105. 106. 107. 108. 109. 110. 111.\n",
            " 112. 113. 114. 115. 116. 117. 118. 119. 120. 121. 122. 123. 124. 125.\n",
            " 126. 127.]\n",
            "[1. 1. 1. 1. 1. 1. 1. 1. 1. 1. 1. 1. 1. 1. 1. 1. 1. 1. 1. 1. 1. 1. 1. 1.\n",
            " 1. 1. 1. 1. 1. 1. 1. 1. 1. 1. 1. 1. 1. 1. 1. 1. 1. 1. 1. 1. 1. 1. 1. 1.\n",
            " 1. 1. 1. 1. 1. 1. 1. 1. 1. 1. 1. 1. 1. 1. 1. 1. 1. 1. 1. 1. 1. 1. 1. 1.\n",
            " 1. 1. 1. 1. 1. 1. 1. 1. 1. 1. 1. 1. 1. 1. 1. 1. 1. 1. 1. 1. 1. 1. 1. 1.\n",
            " 1. 1. 1. 1. 1. 1. 1. 1. 1. 1. 1. 1. 1. 1. 1. 1. 1. 1. 1. 1. 1. 1. 1. 1.\n",
            " 1. 1. 1. 1. 1. 1. 1. 1.]\n",
            "[  1.   2.   3.   4.   5.   6.   7.   8.   9.  10.  11.  12.  13.  14.\n",
            "  15.  16.  17.  18.  19.  20.  21.  22.  23.  24.  25.  26.  27.  28.\n",
            "  29.  30.  31.  32.  33.  34.  35.  36.  37.  38.  39.  40.  41.  42.\n",
            "  43.  44.  45.  46.  47.  48.  49.  50.  51.  52.  53.  54.  55.  56.\n",
            "  57.  58.  59.  60.  61.  62.  63.  64.  65.  66.  67.  68.  69.  70.\n",
            "  71.  72.  73.  74.  75.  76.  77.  78.  79.  80.  81.  82.  83.  84.\n",
            "  85.  86.  87.  88.  89.  90.  91.  92.  93.  94.  95.  96.  97.  98.\n",
            "  99. 100. 101. 102. 103. 104. 105. 106. 107. 108. 109. 110. 111. 112.\n",
            " 113. 114. 115. 116. 117. 118. 119. 120. 121. 122. 123. 124. 125. 126.\n",
            " 127. 128.]\n"
          ]
        }
      ]
    },
    {
      "cell_type": "markdown",
      "metadata": {
        "id": "i_MIDZCOcmwp"
      },
      "source": [
        "### Transform the code\n",
        "\n",
        "The IRModule is the central data structure for program optimization, which can be transformed by a helper class called Schedule. A schedule contains multiple primitive methods to interactively transform the program. Each primitive transforms the program in certain ways to bring additional performance optimizations."
      ]
    },
    {
      "cell_type": "markdown",
      "metadata": {
        "id": "qlc8oWsZc0_p"
      },
      "source": [
        "Let us try to transform the module, we can do it by creating a Schedule instance.\n"
      ]
    },
    {
      "cell_type": "code",
      "source": [
        "sch = tvm.tir.Schedule(ir_module)"
      ],
      "metadata": {
        "id": "GEwPVl8AOa7i"
      },
      "execution_count": 30,
      "outputs": []
    },
    {
      "cell_type": "code",
      "source": [
        "sch.mod.show()"
      ],
      "metadata": {
        "colab": {
          "base_uri": "https://localhost:8080/",
          "height": 280
        },
        "id": "-6DtngEJShsR",
        "outputId": "92f85b5f-a2bb-47b1-cc39-81c0889968f0"
      },
      "execution_count": 31,
      "outputs": [
        {
          "output_type": "display_data",
          "data": {
            "text/plain": [
              "<IPython.core.display.HTML object>"
            ],
            "text/html": [
              "<div class=\"highlight\" style=\"background: \"><pre style=\"line-height: 125%;\"><span></span><span style=\"color: #007979; font-style: italic\"># from tvm.script import ir as I</span>\n",
              "<span style=\"color: #007979; font-style: italic\"># from tvm.script import tir as T</span>\n",
              "\n",
              "<span style=\"color: #AA22FF\">@I</span><span style=\"color: #AA22FF; font-weight: bold\">.</span>ir_module\n",
              "<span style=\"color: #008000; font-weight: bold\">class</span> <span style=\"color: #0000FF; font-weight: bold\">Module</span>:\n",
              "    <span style=\"color: #AA22FF\">@T</span><span style=\"color: #AA22FF; font-weight: bold\">.</span>prim_func\n",
              "    <span style=\"color: #008000; font-weight: bold\">def</span> <span style=\"color: #0000FF\">main</span>(A: T<span style=\"color: #AA22FF; font-weight: bold\">.</span>Buffer((<span style=\"color: #008000\">128</span>,), <span style=\"color: #BA2121\">&quot;float32&quot;</span>), B: T<span style=\"color: #AA22FF; font-weight: bold\">.</span>Buffer((<span style=\"color: #008000\">128</span>,), <span style=\"color: #BA2121\">&quot;float32&quot;</span>), C: T<span style=\"color: #AA22FF; font-weight: bold\">.</span>Buffer((<span style=\"color: #008000\">128</span>,), <span style=\"color: #BA2121\">&quot;float32&quot;</span>)):\n",
              "        T<span style=\"color: #AA22FF; font-weight: bold\">.</span>func_attr({<span style=\"color: #BA2121\">&quot;tir.noalias&quot;</span>: T<span style=\"color: #AA22FF; font-weight: bold\">.</span>bool(<span style=\"color: #008000; font-weight: bold\">True</span>)})\n",
              "        <span style=\"color: #007979; font-style: italic\"># with T.block(&quot;root&quot;):</span>\n",
              "        <span style=\"color: #008000; font-weight: bold\">for</span> i <span style=\"color: #008000; font-weight: bold\">in</span> range(<span style=\"color: #008000\">128</span>):\n",
              "            <span style=\"color: #008000; font-weight: bold\">with</span> T<span style=\"color: #AA22FF; font-weight: bold\">.</span>block(<span style=\"color: #BA2121\">&quot;C&quot;</span>):\n",
              "                v_i <span style=\"color: #AA22FF; font-weight: bold\">=</span> T<span style=\"color: #AA22FF; font-weight: bold\">.</span>axis<span style=\"color: #AA22FF; font-weight: bold\">.</span>spatial(<span style=\"color: #008000\">128</span>, i)\n",
              "                T<span style=\"color: #AA22FF; font-weight: bold\">.</span>reads(A[v_i], B[v_i])\n",
              "                T<span style=\"color: #AA22FF; font-weight: bold\">.</span>writes(C[v_i])\n",
              "                C[v_i] <span style=\"color: #AA22FF; font-weight: bold\">=</span> A[v_i] <span style=\"color: #AA22FF; font-weight: bold\">+</span> B[v_i]\n",
              "</pre></div>\n"
            ]
          },
          "metadata": {}
        }
      ]
    },
    {
      "cell_type": "code",
      "source": [
        "blockC = sch.get_block(\"C\")\n",
        "i, = sch.get_loops(blockC)"
      ],
      "metadata": {
        "id": "48-aWNqxSeMW"
      },
      "execution_count": 32,
      "outputs": []
    },
    {
      "cell_type": "code",
      "source": [
        "i0, i1 = sch.split(i, factors=[None, 8])"
      ],
      "metadata": {
        "id": "d-fxPJCHSeQQ"
      },
      "execution_count": 33,
      "outputs": []
    },
    {
      "cell_type": "code",
      "source": [
        "sch.mod.show()"
      ],
      "metadata": {
        "colab": {
          "base_uri": "https://localhost:8080/",
          "height": 280
        },
        "id": "jXQKYSfQOdiN",
        "outputId": "25a87b6b-d59b-4741-dc81-1c7d72003d1e"
      },
      "execution_count": 34,
      "outputs": [
        {
          "output_type": "display_data",
          "data": {
            "text/plain": [
              "<IPython.core.display.HTML object>"
            ],
            "text/html": [
              "<div class=\"highlight\" style=\"background: \"><pre style=\"line-height: 125%;\"><span></span><span style=\"color: #007979; font-style: italic\"># from tvm.script import ir as I</span>\n",
              "<span style=\"color: #007979; font-style: italic\"># from tvm.script import tir as T</span>\n",
              "\n",
              "<span style=\"color: #AA22FF\">@I</span><span style=\"color: #AA22FF; font-weight: bold\">.</span>ir_module\n",
              "<span style=\"color: #008000; font-weight: bold\">class</span> <span style=\"color: #0000FF; font-weight: bold\">Module</span>:\n",
              "    <span style=\"color: #AA22FF\">@T</span><span style=\"color: #AA22FF; font-weight: bold\">.</span>prim_func\n",
              "    <span style=\"color: #008000; font-weight: bold\">def</span> <span style=\"color: #0000FF\">main</span>(A: T<span style=\"color: #AA22FF; font-weight: bold\">.</span>Buffer((<span style=\"color: #008000\">128</span>,), <span style=\"color: #BA2121\">&quot;float32&quot;</span>), B: T<span style=\"color: #AA22FF; font-weight: bold\">.</span>Buffer((<span style=\"color: #008000\">128</span>,), <span style=\"color: #BA2121\">&quot;float32&quot;</span>), C: T<span style=\"color: #AA22FF; font-weight: bold\">.</span>Buffer((<span style=\"color: #008000\">128</span>,), <span style=\"color: #BA2121\">&quot;float32&quot;</span>)):\n",
              "        T<span style=\"color: #AA22FF; font-weight: bold\">.</span>func_attr({<span style=\"color: #BA2121\">&quot;tir.noalias&quot;</span>: T<span style=\"color: #AA22FF; font-weight: bold\">.</span>bool(<span style=\"color: #008000; font-weight: bold\">True</span>)})\n",
              "        <span style=\"color: #007979; font-style: italic\"># with T.block(&quot;root&quot;):</span>\n",
              "        <span style=\"color: #008000; font-weight: bold\">for</span> i_0, i_1 <span style=\"color: #008000; font-weight: bold\">in</span> T<span style=\"color: #AA22FF; font-weight: bold\">.</span>grid(<span style=\"color: #008000\">16</span>, <span style=\"color: #008000\">8</span>):\n",
              "            <span style=\"color: #008000; font-weight: bold\">with</span> T<span style=\"color: #AA22FF; font-weight: bold\">.</span>block(<span style=\"color: #BA2121\">&quot;C&quot;</span>):\n",
              "                v_i <span style=\"color: #AA22FF; font-weight: bold\">=</span> T<span style=\"color: #AA22FF; font-weight: bold\">.</span>axis<span style=\"color: #AA22FF; font-weight: bold\">.</span>spatial(<span style=\"color: #008000\">128</span>, i_0 <span style=\"color: #AA22FF; font-weight: bold\">*</span> <span style=\"color: #008000\">8</span> <span style=\"color: #AA22FF; font-weight: bold\">+</span> i_1)\n",
              "                T<span style=\"color: #AA22FF; font-weight: bold\">.</span>reads(A[v_i], B[v_i])\n",
              "                T<span style=\"color: #AA22FF; font-weight: bold\">.</span>writes(C[v_i])\n",
              "                C[v_i] <span style=\"color: #AA22FF; font-weight: bold\">=</span> A[v_i] <span style=\"color: #AA22FF; font-weight: bold\">+</span> B[v_i]\n",
              "</pre></div>\n"
            ]
          },
          "metadata": {}
        }
      ]
    },
    {
      "cell_type": "code",
      "source": [
        "sch.reorder(i1, i0)"
      ],
      "metadata": {
        "id": "l5EySwKYObld"
      },
      "execution_count": 35,
      "outputs": []
    },
    {
      "cell_type": "code",
      "source": [
        "sch.mod.show()"
      ],
      "metadata": {
        "colab": {
          "base_uri": "https://localhost:8080/",
          "height": 280
        },
        "id": "lfZMmgJ3Obr7",
        "outputId": "8a4a4bae-bee7-4a10-c70f-7955ca92c629"
      },
      "execution_count": 36,
      "outputs": [
        {
          "output_type": "display_data",
          "data": {
            "text/plain": [
              "<IPython.core.display.HTML object>"
            ],
            "text/html": [
              "<div class=\"highlight\" style=\"background: \"><pre style=\"line-height: 125%;\"><span></span><span style=\"color: #007979; font-style: italic\"># from tvm.script import ir as I</span>\n",
              "<span style=\"color: #007979; font-style: italic\"># from tvm.script import tir as T</span>\n",
              "\n",
              "<span style=\"color: #AA22FF\">@I</span><span style=\"color: #AA22FF; font-weight: bold\">.</span>ir_module\n",
              "<span style=\"color: #008000; font-weight: bold\">class</span> <span style=\"color: #0000FF; font-weight: bold\">Module</span>:\n",
              "    <span style=\"color: #AA22FF\">@T</span><span style=\"color: #AA22FF; font-weight: bold\">.</span>prim_func\n",
              "    <span style=\"color: #008000; font-weight: bold\">def</span> <span style=\"color: #0000FF\">main</span>(A: T<span style=\"color: #AA22FF; font-weight: bold\">.</span>Buffer((<span style=\"color: #008000\">128</span>,), <span style=\"color: #BA2121\">&quot;float32&quot;</span>), B: T<span style=\"color: #AA22FF; font-weight: bold\">.</span>Buffer((<span style=\"color: #008000\">128</span>,), <span style=\"color: #BA2121\">&quot;float32&quot;</span>), C: T<span style=\"color: #AA22FF; font-weight: bold\">.</span>Buffer((<span style=\"color: #008000\">128</span>,), <span style=\"color: #BA2121\">&quot;float32&quot;</span>)):\n",
              "        T<span style=\"color: #AA22FF; font-weight: bold\">.</span>func_attr({<span style=\"color: #BA2121\">&quot;tir.noalias&quot;</span>: T<span style=\"color: #AA22FF; font-weight: bold\">.</span>bool(<span style=\"color: #008000; font-weight: bold\">True</span>)})\n",
              "        <span style=\"color: #007979; font-style: italic\"># with T.block(&quot;root&quot;):</span>\n",
              "        <span style=\"color: #008000; font-weight: bold\">for</span> i_1, i_0 <span style=\"color: #008000; font-weight: bold\">in</span> T<span style=\"color: #AA22FF; font-weight: bold\">.</span>grid(<span style=\"color: #008000\">8</span>, <span style=\"color: #008000\">16</span>):\n",
              "            <span style=\"color: #008000; font-weight: bold\">with</span> T<span style=\"color: #AA22FF; font-weight: bold\">.</span>block(<span style=\"color: #BA2121\">&quot;C&quot;</span>):\n",
              "                v_i <span style=\"color: #AA22FF; font-weight: bold\">=</span> T<span style=\"color: #AA22FF; font-weight: bold\">.</span>axis<span style=\"color: #AA22FF; font-weight: bold\">.</span>spatial(<span style=\"color: #008000\">128</span>, i_0 <span style=\"color: #AA22FF; font-weight: bold\">*</span> <span style=\"color: #008000\">8</span> <span style=\"color: #AA22FF; font-weight: bold\">+</span> i_1)\n",
              "                T<span style=\"color: #AA22FF; font-weight: bold\">.</span>reads(A[v_i], B[v_i])\n",
              "                T<span style=\"color: #AA22FF; font-weight: bold\">.</span>writes(C[v_i])\n",
              "                C[v_i] <span style=\"color: #AA22FF; font-weight: bold\">=</span> A[v_i] <span style=\"color: #AA22FF; font-weight: bold\">+</span> B[v_i]\n",
              "</pre></div>\n"
            ]
          },
          "metadata": {}
        }
      ]
    },
    {
      "cell_type": "code",
      "source": [
        "sch.reorder(i0, i1)"
      ],
      "metadata": {
        "id": "H8n1BTXBObvD"
      },
      "execution_count": 37,
      "outputs": []
    },
    {
      "cell_type": "code",
      "source": [
        "sch.mod.show()"
      ],
      "metadata": {
        "colab": {
          "base_uri": "https://localhost:8080/",
          "height": 280
        },
        "id": "-StL-Jx0ObyK",
        "outputId": "5f9956bf-e063-45dd-e1b6-f3b90af34429"
      },
      "execution_count": 38,
      "outputs": [
        {
          "output_type": "display_data",
          "data": {
            "text/plain": [
              "<IPython.core.display.HTML object>"
            ],
            "text/html": [
              "<div class=\"highlight\" style=\"background: \"><pre style=\"line-height: 125%;\"><span></span><span style=\"color: #007979; font-style: italic\"># from tvm.script import ir as I</span>\n",
              "<span style=\"color: #007979; font-style: italic\"># from tvm.script import tir as T</span>\n",
              "\n",
              "<span style=\"color: #AA22FF\">@I</span><span style=\"color: #AA22FF; font-weight: bold\">.</span>ir_module\n",
              "<span style=\"color: #008000; font-weight: bold\">class</span> <span style=\"color: #0000FF; font-weight: bold\">Module</span>:\n",
              "    <span style=\"color: #AA22FF\">@T</span><span style=\"color: #AA22FF; font-weight: bold\">.</span>prim_func\n",
              "    <span style=\"color: #008000; font-weight: bold\">def</span> <span style=\"color: #0000FF\">main</span>(A: T<span style=\"color: #AA22FF; font-weight: bold\">.</span>Buffer((<span style=\"color: #008000\">128</span>,), <span style=\"color: #BA2121\">&quot;float32&quot;</span>), B: T<span style=\"color: #AA22FF; font-weight: bold\">.</span>Buffer((<span style=\"color: #008000\">128</span>,), <span style=\"color: #BA2121\">&quot;float32&quot;</span>), C: T<span style=\"color: #AA22FF; font-weight: bold\">.</span>Buffer((<span style=\"color: #008000\">128</span>,), <span style=\"color: #BA2121\">&quot;float32&quot;</span>)):\n",
              "        T<span style=\"color: #AA22FF; font-weight: bold\">.</span>func_attr({<span style=\"color: #BA2121\">&quot;tir.noalias&quot;</span>: T<span style=\"color: #AA22FF; font-weight: bold\">.</span>bool(<span style=\"color: #008000; font-weight: bold\">True</span>)})\n",
              "        <span style=\"color: #007979; font-style: italic\"># with T.block(&quot;root&quot;):</span>\n",
              "        <span style=\"color: #008000; font-weight: bold\">for</span> i_0, i_1 <span style=\"color: #008000; font-weight: bold\">in</span> T<span style=\"color: #AA22FF; font-weight: bold\">.</span>grid(<span style=\"color: #008000\">16</span>, <span style=\"color: #008000\">8</span>):\n",
              "            <span style=\"color: #008000; font-weight: bold\">with</span> T<span style=\"color: #AA22FF; font-weight: bold\">.</span>block(<span style=\"color: #BA2121\">&quot;C&quot;</span>):\n",
              "                v_i <span style=\"color: #AA22FF; font-weight: bold\">=</span> T<span style=\"color: #AA22FF; font-weight: bold\">.</span>axis<span style=\"color: #AA22FF; font-weight: bold\">.</span>spatial(<span style=\"color: #008000\">128</span>, i_0 <span style=\"color: #AA22FF; font-weight: bold\">*</span> <span style=\"color: #008000\">8</span> <span style=\"color: #AA22FF; font-weight: bold\">+</span> i_1)\n",
              "                T<span style=\"color: #AA22FF; font-weight: bold\">.</span>reads(A[v_i], B[v_i])\n",
              "                T<span style=\"color: #AA22FF; font-weight: bold\">.</span>writes(C[v_i])\n",
              "                C[v_i] <span style=\"color: #AA22FF; font-weight: bold\">=</span> A[v_i] <span style=\"color: #AA22FF; font-weight: bold\">+</span> B[v_i]\n",
              "</pre></div>\n"
            ]
          },
          "metadata": {}
        }
      ]
    },
    {
      "cell_type": "code",
      "source": [
        "sch.parallel(i0)\n",
        "sch.vectorize(i1)"
      ],
      "metadata": {
        "id": "rGv-EfTuTbXM"
      },
      "execution_count": 39,
      "outputs": []
    },
    {
      "cell_type": "code",
      "source": [
        "sch.mod.show()"
      ],
      "metadata": {
        "colab": {
          "base_uri": "https://localhost:8080/",
          "height": 297
        },
        "id": "wl2uOxAATbZ6",
        "outputId": "89fe1278-e0f9-4e87-85e9-bdfa1aa976cf"
      },
      "execution_count": 40,
      "outputs": [
        {
          "output_type": "display_data",
          "data": {
            "text/plain": [
              "<IPython.core.display.HTML object>"
            ],
            "text/html": [
              "<div class=\"highlight\" style=\"background: \"><pre style=\"line-height: 125%;\"><span></span><span style=\"color: #007979; font-style: italic\"># from tvm.script import ir as I</span>\n",
              "<span style=\"color: #007979; font-style: italic\"># from tvm.script import tir as T</span>\n",
              "\n",
              "<span style=\"color: #AA22FF\">@I</span><span style=\"color: #AA22FF; font-weight: bold\">.</span>ir_module\n",
              "<span style=\"color: #008000; font-weight: bold\">class</span> <span style=\"color: #0000FF; font-weight: bold\">Module</span>:\n",
              "    <span style=\"color: #AA22FF\">@T</span><span style=\"color: #AA22FF; font-weight: bold\">.</span>prim_func\n",
              "    <span style=\"color: #008000; font-weight: bold\">def</span> <span style=\"color: #0000FF\">main</span>(A: T<span style=\"color: #AA22FF; font-weight: bold\">.</span>Buffer((<span style=\"color: #008000\">128</span>,), <span style=\"color: #BA2121\">&quot;float32&quot;</span>), B: T<span style=\"color: #AA22FF; font-weight: bold\">.</span>Buffer((<span style=\"color: #008000\">128</span>,), <span style=\"color: #BA2121\">&quot;float32&quot;</span>), C: T<span style=\"color: #AA22FF; font-weight: bold\">.</span>Buffer((<span style=\"color: #008000\">128</span>,), <span style=\"color: #BA2121\">&quot;float32&quot;</span>)):\n",
              "        T<span style=\"color: #AA22FF; font-weight: bold\">.</span>func_attr({<span style=\"color: #BA2121\">&quot;tir.noalias&quot;</span>: T<span style=\"color: #AA22FF; font-weight: bold\">.</span>bool(<span style=\"color: #008000; font-weight: bold\">True</span>)})\n",
              "        <span style=\"color: #007979; font-style: italic\"># with T.block(&quot;root&quot;):</span>\n",
              "        <span style=\"color: #008000; font-weight: bold\">for</span> i_0 <span style=\"color: #008000; font-weight: bold\">in</span> T<span style=\"color: #AA22FF; font-weight: bold\">.</span>parallel(<span style=\"color: #008000\">16</span>):\n",
              "            <span style=\"color: #008000; font-weight: bold\">for</span> i_1 <span style=\"color: #008000; font-weight: bold\">in</span> T<span style=\"color: #AA22FF; font-weight: bold\">.</span>vectorized(<span style=\"color: #008000\">8</span>):\n",
              "                <span style=\"color: #008000; font-weight: bold\">with</span> T<span style=\"color: #AA22FF; font-weight: bold\">.</span>block(<span style=\"color: #BA2121\">&quot;C&quot;</span>):\n",
              "                    v_i <span style=\"color: #AA22FF; font-weight: bold\">=</span> T<span style=\"color: #AA22FF; font-weight: bold\">.</span>axis<span style=\"color: #AA22FF; font-weight: bold\">.</span>spatial(<span style=\"color: #008000\">128</span>, i_0 <span style=\"color: #AA22FF; font-weight: bold\">*</span> <span style=\"color: #008000\">8</span> <span style=\"color: #AA22FF; font-weight: bold\">+</span> i_1)\n",
              "                    T<span style=\"color: #AA22FF; font-weight: bold\">.</span>reads(A[v_i], B[v_i])\n",
              "                    T<span style=\"color: #AA22FF; font-weight: bold\">.</span>writes(C[v_i])\n",
              "                    C[v_i] <span style=\"color: #AA22FF; font-weight: bold\">=</span> A[v_i] <span style=\"color: #AA22FF; font-weight: bold\">+</span> B[v_i]\n",
              "</pre></div>\n"
            ]
          },
          "metadata": {}
        }
      ]
    },
    {
      "cell_type": "code",
      "source": [],
      "metadata": {
        "id": "V0hCoH-0Tbcq"
      },
      "execution_count": null,
      "outputs": []
    },
    {
      "cell_type": "code",
      "source": [],
      "metadata": {
        "id": "KuJ3GNa7Tbe9"
      },
      "execution_count": null,
      "outputs": []
    },
    {
      "cell_type": "code",
      "metadata": {
        "id": "xwyjwh51cjWI",
        "colab": {
          "base_uri": "https://localhost:8080/"
        },
        "outputId": "8f25bd05-b6d7-4c41-bd81-b91ec2d0f8c6"
      },
      "source": [
        "sch = tvm.tir.Schedule(ir_module)\n",
        "print(type(sch))"
      ],
      "execution_count": 41,
      "outputs": [
        {
          "output_type": "stream",
          "name": "stdout",
          "text": [
            "<class 'tvm.tir.schedule.schedule.Schedule'>\n"
          ]
        }
      ]
    },
    {
      "cell_type": "code",
      "source": [
        "ir_module.show()"
      ],
      "metadata": {
        "id": "wpiFYFSNVIWa",
        "colab": {
          "base_uri": "https://localhost:8080/",
          "height": 280
        },
        "outputId": "bac1fd55-6358-491e-da8b-9c8cb9e3d9d3"
      },
      "execution_count": 42,
      "outputs": [
        {
          "output_type": "display_data",
          "data": {
            "text/plain": [
              "<IPython.core.display.HTML object>"
            ],
            "text/html": [
              "<div class=\"highlight\" style=\"background: \"><pre style=\"line-height: 125%;\"><span></span><span style=\"color: #007979; font-style: italic\"># from tvm.script import ir as I</span>\n",
              "<span style=\"color: #007979; font-style: italic\"># from tvm.script import tir as T</span>\n",
              "\n",
              "<span style=\"color: #AA22FF\">@I</span><span style=\"color: #AA22FF; font-weight: bold\">.</span>ir_module\n",
              "<span style=\"color: #008000; font-weight: bold\">class</span> <span style=\"color: #0000FF; font-weight: bold\">Module</span>:\n",
              "    <span style=\"color: #AA22FF\">@T</span><span style=\"color: #AA22FF; font-weight: bold\">.</span>prim_func\n",
              "    <span style=\"color: #008000; font-weight: bold\">def</span> <span style=\"color: #0000FF\">main</span>(A: T<span style=\"color: #AA22FF; font-weight: bold\">.</span>Buffer((<span style=\"color: #008000\">128</span>,), <span style=\"color: #BA2121\">&quot;float32&quot;</span>), B: T<span style=\"color: #AA22FF; font-weight: bold\">.</span>Buffer((<span style=\"color: #008000\">128</span>,), <span style=\"color: #BA2121\">&quot;float32&quot;</span>), C: T<span style=\"color: #AA22FF; font-weight: bold\">.</span>Buffer((<span style=\"color: #008000\">128</span>,), <span style=\"color: #BA2121\">&quot;float32&quot;</span>)):\n",
              "        T<span style=\"color: #AA22FF; font-weight: bold\">.</span>func_attr({<span style=\"color: #BA2121\">&quot;tir.noalias&quot;</span>: T<span style=\"color: #AA22FF; font-weight: bold\">.</span>bool(<span style=\"color: #008000; font-weight: bold\">True</span>)})\n",
              "        <span style=\"color: #007979; font-style: italic\"># with T.block(&quot;root&quot;):</span>\n",
              "        <span style=\"color: #008000; font-weight: bold\">for</span> i <span style=\"color: #008000; font-weight: bold\">in</span> range(<span style=\"color: #008000\">128</span>):\n",
              "            <span style=\"color: #008000; font-weight: bold\">with</span> T<span style=\"color: #AA22FF; font-weight: bold\">.</span>block(<span style=\"color: #BA2121\">&quot;C&quot;</span>):\n",
              "                v_i <span style=\"color: #AA22FF; font-weight: bold\">=</span> T<span style=\"color: #AA22FF; font-weight: bold\">.</span>axis<span style=\"color: #AA22FF; font-weight: bold\">.</span>spatial(<span style=\"color: #008000\">128</span>, i)\n",
              "                T<span style=\"color: #AA22FF; font-weight: bold\">.</span>reads(A[v_i], B[v_i])\n",
              "                T<span style=\"color: #AA22FF; font-weight: bold\">.</span>writes(C[v_i])\n",
              "                C[v_i] <span style=\"color: #AA22FF; font-weight: bold\">=</span> A[v_i] <span style=\"color: #AA22FF; font-weight: bold\">+</span> B[v_i]\n",
              "</pre></div>\n"
            ]
          },
          "metadata": {}
        }
      ]
    },
    {
      "cell_type": "code",
      "source": [
        "sch = tvm.tir.Schedule(ir_module)\n",
        "block_C = sch.get_block(\"C\")\n",
        "i, = sch.get_loops(block_C)\n",
        "i0, i1 = sch.split(i, [None, 8])\n",
        "sch.reorder(i1, i0)\n",
        "sch.parallel(i1)\n",
        "sch.mod.show()"
      ],
      "metadata": {
        "id": "KbtzPuFCU6yR"
      },
      "execution_count": null,
      "outputs": []
    },
    {
      "cell_type": "code",
      "source": [],
      "metadata": {
        "id": "jUgTV7aZU83o"
      },
      "execution_count": null,
      "outputs": []
    },
    {
      "cell_type": "markdown",
      "metadata": {
        "id": "Dw7Fgw8o8HPm"
      },
      "source": [
        "Let us first try to split the loops"
      ]
    },
    {
      "cell_type": "code",
      "metadata": {
        "id": "kNQf8D0ic4me",
        "colab": {
          "base_uri": "https://localhost:8080/",
          "height": 280
        },
        "outputId": "866c1e70-25c4-47cf-c40d-49d324d921a1"
      },
      "source": [
        "# Get block by its name\n",
        "block_c = sch.get_block(\"C\")\n",
        "# Get loops surronding the block\n",
        "(i,) = sch.get_loops(block_c)\n",
        "# Tile the loop nesting.\n",
        "i_0, i_1, i_2 = sch.split(i, factors=[None, 4, 4])\n",
        "sch.mod.show()"
      ],
      "execution_count": 43,
      "outputs": [
        {
          "output_type": "display_data",
          "data": {
            "text/plain": [
              "<IPython.core.display.HTML object>"
            ],
            "text/html": [
              "<div class=\"highlight\" style=\"background: \"><pre style=\"line-height: 125%;\"><span></span><span style=\"color: #007979; font-style: italic\"># from tvm.script import ir as I</span>\n",
              "<span style=\"color: #007979; font-style: italic\"># from tvm.script import tir as T</span>\n",
              "\n",
              "<span style=\"color: #AA22FF\">@I</span><span style=\"color: #AA22FF; font-weight: bold\">.</span>ir_module\n",
              "<span style=\"color: #008000; font-weight: bold\">class</span> <span style=\"color: #0000FF; font-weight: bold\">Module</span>:\n",
              "    <span style=\"color: #AA22FF\">@T</span><span style=\"color: #AA22FF; font-weight: bold\">.</span>prim_func\n",
              "    <span style=\"color: #008000; font-weight: bold\">def</span> <span style=\"color: #0000FF\">main</span>(A: T<span style=\"color: #AA22FF; font-weight: bold\">.</span>Buffer((<span style=\"color: #008000\">128</span>,), <span style=\"color: #BA2121\">&quot;float32&quot;</span>), B: T<span style=\"color: #AA22FF; font-weight: bold\">.</span>Buffer((<span style=\"color: #008000\">128</span>,), <span style=\"color: #BA2121\">&quot;float32&quot;</span>), C: T<span style=\"color: #AA22FF; font-weight: bold\">.</span>Buffer((<span style=\"color: #008000\">128</span>,), <span style=\"color: #BA2121\">&quot;float32&quot;</span>)):\n",
              "        T<span style=\"color: #AA22FF; font-weight: bold\">.</span>func_attr({<span style=\"color: #BA2121\">&quot;tir.noalias&quot;</span>: T<span style=\"color: #AA22FF; font-weight: bold\">.</span>bool(<span style=\"color: #008000; font-weight: bold\">True</span>)})\n",
              "        <span style=\"color: #007979; font-style: italic\"># with T.block(&quot;root&quot;):</span>\n",
              "        <span style=\"color: #008000; font-weight: bold\">for</span> i_0, i_1, i_2 <span style=\"color: #008000; font-weight: bold\">in</span> T<span style=\"color: #AA22FF; font-weight: bold\">.</span>grid(<span style=\"color: #008000\">8</span>, <span style=\"color: #008000\">4</span>, <span style=\"color: #008000\">4</span>):\n",
              "            <span style=\"color: #008000; font-weight: bold\">with</span> T<span style=\"color: #AA22FF; font-weight: bold\">.</span>block(<span style=\"color: #BA2121\">&quot;C&quot;</span>):\n",
              "                v_i <span style=\"color: #AA22FF; font-weight: bold\">=</span> T<span style=\"color: #AA22FF; font-weight: bold\">.</span>axis<span style=\"color: #AA22FF; font-weight: bold\">.</span>spatial(<span style=\"color: #008000\">128</span>, i_0 <span style=\"color: #AA22FF; font-weight: bold\">*</span> <span style=\"color: #008000\">16</span> <span style=\"color: #AA22FF; font-weight: bold\">+</span> i_1 <span style=\"color: #AA22FF; font-weight: bold\">*</span> <span style=\"color: #008000\">4</span> <span style=\"color: #AA22FF; font-weight: bold\">+</span> i_2)\n",
              "                T<span style=\"color: #AA22FF; font-weight: bold\">.</span>reads(A[v_i], B[v_i])\n",
              "                T<span style=\"color: #AA22FF; font-weight: bold\">.</span>writes(C[v_i])\n",
              "                C[v_i] <span style=\"color: #AA22FF; font-weight: bold\">=</span> A[v_i] <span style=\"color: #AA22FF; font-weight: bold\">+</span> B[v_i]\n",
              "</pre></div>\n"
            ]
          },
          "metadata": {}
        }
      ]
    },
    {
      "cell_type": "markdown",
      "metadata": {
        "id": "nzrbvqBSdC-D"
      },
      "source": [
        "We can also reorder the loops, swapping the order of i_0 and i_1\n",
        "\n"
      ]
    },
    {
      "cell_type": "code",
      "metadata": {
        "id": "yJWBq7lRdDmn",
        "colab": {
          "base_uri": "https://localhost:8080/",
          "height": 280
        },
        "outputId": "5253c3fe-1b57-48c3-ce71-ec983e85a537"
      },
      "source": [
        "sch.reorder(i_1, i_0, i_2)\n",
        "sch.mod.show()"
      ],
      "execution_count": 44,
      "outputs": [
        {
          "output_type": "display_data",
          "data": {
            "text/plain": [
              "<IPython.core.display.HTML object>"
            ],
            "text/html": [
              "<div class=\"highlight\" style=\"background: \"><pre style=\"line-height: 125%;\"><span></span><span style=\"color: #007979; font-style: italic\"># from tvm.script import ir as I</span>\n",
              "<span style=\"color: #007979; font-style: italic\"># from tvm.script import tir as T</span>\n",
              "\n",
              "<span style=\"color: #AA22FF\">@I</span><span style=\"color: #AA22FF; font-weight: bold\">.</span>ir_module\n",
              "<span style=\"color: #008000; font-weight: bold\">class</span> <span style=\"color: #0000FF; font-weight: bold\">Module</span>:\n",
              "    <span style=\"color: #AA22FF\">@T</span><span style=\"color: #AA22FF; font-weight: bold\">.</span>prim_func\n",
              "    <span style=\"color: #008000; font-weight: bold\">def</span> <span style=\"color: #0000FF\">main</span>(A: T<span style=\"color: #AA22FF; font-weight: bold\">.</span>Buffer((<span style=\"color: #008000\">128</span>,), <span style=\"color: #BA2121\">&quot;float32&quot;</span>), B: T<span style=\"color: #AA22FF; font-weight: bold\">.</span>Buffer((<span style=\"color: #008000\">128</span>,), <span style=\"color: #BA2121\">&quot;float32&quot;</span>), C: T<span style=\"color: #AA22FF; font-weight: bold\">.</span>Buffer((<span style=\"color: #008000\">128</span>,), <span style=\"color: #BA2121\">&quot;float32&quot;</span>)):\n",
              "        T<span style=\"color: #AA22FF; font-weight: bold\">.</span>func_attr({<span style=\"color: #BA2121\">&quot;tir.noalias&quot;</span>: T<span style=\"color: #AA22FF; font-weight: bold\">.</span>bool(<span style=\"color: #008000; font-weight: bold\">True</span>)})\n",
              "        <span style=\"color: #007979; font-style: italic\"># with T.block(&quot;root&quot;):</span>\n",
              "        <span style=\"color: #008000; font-weight: bold\">for</span> i_1, i_0, i_2 <span style=\"color: #008000; font-weight: bold\">in</span> T<span style=\"color: #AA22FF; font-weight: bold\">.</span>grid(<span style=\"color: #008000\">4</span>, <span style=\"color: #008000\">8</span>, <span style=\"color: #008000\">4</span>):\n",
              "            <span style=\"color: #008000; font-weight: bold\">with</span> T<span style=\"color: #AA22FF; font-weight: bold\">.</span>block(<span style=\"color: #BA2121\">&quot;C&quot;</span>):\n",
              "                v_i <span style=\"color: #AA22FF; font-weight: bold\">=</span> T<span style=\"color: #AA22FF; font-weight: bold\">.</span>axis<span style=\"color: #AA22FF; font-weight: bold\">.</span>spatial(<span style=\"color: #008000\">128</span>, i_0 <span style=\"color: #AA22FF; font-weight: bold\">*</span> <span style=\"color: #008000\">16</span> <span style=\"color: #AA22FF; font-weight: bold\">+</span> i_1 <span style=\"color: #AA22FF; font-weight: bold\">*</span> <span style=\"color: #008000\">4</span> <span style=\"color: #AA22FF; font-weight: bold\">+</span> i_2)\n",
              "                T<span style=\"color: #AA22FF; font-weight: bold\">.</span>reads(A[v_i], B[v_i])\n",
              "                T<span style=\"color: #AA22FF; font-weight: bold\">.</span>writes(C[v_i])\n",
              "                C[v_i] <span style=\"color: #AA22FF; font-weight: bold\">=</span> A[v_i] <span style=\"color: #AA22FF; font-weight: bold\">+</span> B[v_i]\n",
              "</pre></div>\n"
            ]
          },
          "metadata": {}
        }
      ]
    },
    {
      "cell_type": "markdown",
      "metadata": {
        "id": "UmUr6b_L07-8"
      },
      "source": [
        "Finally, we can add hints to the program generator that we want to vectorize the inner most loop."
      ]
    },
    {
      "cell_type": "code",
      "metadata": {
        "id": "u95zQFuldHs_",
        "colab": {
          "base_uri": "https://localhost:8080/",
          "height": 297
        },
        "outputId": "281a259e-5138-4f90-9793-1a1cdc6472b4"
      },
      "source": [
        "sch.vectorize(i_2)\n",
        "sch.mod.show()"
      ],
      "execution_count": 45,
      "outputs": [
        {
          "output_type": "display_data",
          "data": {
            "text/plain": [
              "<IPython.core.display.HTML object>"
            ],
            "text/html": [
              "<div class=\"highlight\" style=\"background: \"><pre style=\"line-height: 125%;\"><span></span><span style=\"color: #007979; font-style: italic\"># from tvm.script import ir as I</span>\n",
              "<span style=\"color: #007979; font-style: italic\"># from tvm.script import tir as T</span>\n",
              "\n",
              "<span style=\"color: #AA22FF\">@I</span><span style=\"color: #AA22FF; font-weight: bold\">.</span>ir_module\n",
              "<span style=\"color: #008000; font-weight: bold\">class</span> <span style=\"color: #0000FF; font-weight: bold\">Module</span>:\n",
              "    <span style=\"color: #AA22FF\">@T</span><span style=\"color: #AA22FF; font-weight: bold\">.</span>prim_func\n",
              "    <span style=\"color: #008000; font-weight: bold\">def</span> <span style=\"color: #0000FF\">main</span>(A: T<span style=\"color: #AA22FF; font-weight: bold\">.</span>Buffer((<span style=\"color: #008000\">128</span>,), <span style=\"color: #BA2121\">&quot;float32&quot;</span>), B: T<span style=\"color: #AA22FF; font-weight: bold\">.</span>Buffer((<span style=\"color: #008000\">128</span>,), <span style=\"color: #BA2121\">&quot;float32&quot;</span>), C: T<span style=\"color: #AA22FF; font-weight: bold\">.</span>Buffer((<span style=\"color: #008000\">128</span>,), <span style=\"color: #BA2121\">&quot;float32&quot;</span>)):\n",
              "        T<span style=\"color: #AA22FF; font-weight: bold\">.</span>func_attr({<span style=\"color: #BA2121\">&quot;tir.noalias&quot;</span>: T<span style=\"color: #AA22FF; font-weight: bold\">.</span>bool(<span style=\"color: #008000; font-weight: bold\">True</span>)})\n",
              "        <span style=\"color: #007979; font-style: italic\"># with T.block(&quot;root&quot;):</span>\n",
              "        <span style=\"color: #008000; font-weight: bold\">for</span> i_1, i_0 <span style=\"color: #008000; font-weight: bold\">in</span> T<span style=\"color: #AA22FF; font-weight: bold\">.</span>grid(<span style=\"color: #008000\">4</span>, <span style=\"color: #008000\">8</span>):\n",
              "            <span style=\"color: #008000; font-weight: bold\">for</span> i_2 <span style=\"color: #008000; font-weight: bold\">in</span> T<span style=\"color: #AA22FF; font-weight: bold\">.</span>vectorized(<span style=\"color: #008000\">4</span>):\n",
              "                <span style=\"color: #008000; font-weight: bold\">with</span> T<span style=\"color: #AA22FF; font-weight: bold\">.</span>block(<span style=\"color: #BA2121\">&quot;C&quot;</span>):\n",
              "                    v_i <span style=\"color: #AA22FF; font-weight: bold\">=</span> T<span style=\"color: #AA22FF; font-weight: bold\">.</span>axis<span style=\"color: #AA22FF; font-weight: bold\">.</span>spatial(<span style=\"color: #008000\">128</span>, i_0 <span style=\"color: #AA22FF; font-weight: bold\">*</span> <span style=\"color: #008000\">16</span> <span style=\"color: #AA22FF; font-weight: bold\">+</span> i_1 <span style=\"color: #AA22FF; font-weight: bold\">*</span> <span style=\"color: #008000\">4</span> <span style=\"color: #AA22FF; font-weight: bold\">+</span> i_2)\n",
              "                    T<span style=\"color: #AA22FF; font-weight: bold\">.</span>reads(A[v_i], B[v_i])\n",
              "                    T<span style=\"color: #AA22FF; font-weight: bold\">.</span>writes(C[v_i])\n",
              "                    C[v_i] <span style=\"color: #AA22FF; font-weight: bold\">=</span> A[v_i] <span style=\"color: #AA22FF; font-weight: bold\">+</span> B[v_i]\n",
              "</pre></div>\n"
            ]
          },
          "metadata": {}
        }
      ]
    },
    {
      "cell_type": "markdown",
      "metadata": {
        "id": "GEqpO14Lf0Lq"
      },
      "source": [
        "## Transforming a matrix multiplication program\n",
        "\n",
        "In the above example, we showed how to transform an vector add. Now let us try to apply that to a slightly more complicated program(matrix multiplication).\n"
      ]
    },
    {
      "cell_type": "code",
      "source": [
        "M = 1024\n",
        "K = 1024\n",
        "N = 1024\n",
        "\n",
        "# The default tensor type in tvm\n",
        "dtype = \"float32\"\n",
        "\n",
        "target = \"llvm\"\n",
        "dev = tvm.device(target, 0)\n",
        "\n",
        "# Algorithm\n",
        "k = te.reduce_axis((0, K), \"k\")\n",
        "A = te.placeholder((M, K), name=\"A\")\n",
        "B = te.placeholder((K, N), name=\"B\")\n",
        "C = te.compute((M, N), lambda m, n: te.sum(A[m, k] * B[k, n], axis=k), name=\"C\")\n",
        "\n",
        "# Default schedule\n",
        "func = te.create_prim_func([A, B, C])\n",
        "func = func.with_attr(\"global_symbol\", \"main\")\n",
        "ir_module = IRModule({\"main\": func})\n",
        "ir_module.show()"
      ],
      "metadata": {
        "colab": {
          "base_uri": "https://localhost:8080/",
          "height": 315
        },
        "id": "B3a2bl2GWwMZ",
        "outputId": "7dcea30c-c00f-4944-8814-f5e4c3c4e0ce"
      },
      "execution_count": 46,
      "outputs": [
        {
          "output_type": "display_data",
          "data": {
            "text/plain": [
              "<IPython.core.display.HTML object>"
            ],
            "text/html": [
              "<div class=\"highlight\" style=\"background: \"><pre style=\"line-height: 125%;\"><span></span><span style=\"color: #007979; font-style: italic\"># from tvm.script import ir as I</span>\n",
              "<span style=\"color: #007979; font-style: italic\"># from tvm.script import tir as T</span>\n",
              "\n",
              "<span style=\"color: #AA22FF\">@I</span><span style=\"color: #AA22FF; font-weight: bold\">.</span>ir_module\n",
              "<span style=\"color: #008000; font-weight: bold\">class</span> <span style=\"color: #0000FF; font-weight: bold\">Module</span>:\n",
              "    <span style=\"color: #AA22FF\">@T</span><span style=\"color: #AA22FF; font-weight: bold\">.</span>prim_func\n",
              "    <span style=\"color: #008000; font-weight: bold\">def</span> <span style=\"color: #0000FF\">main</span>(A: T<span style=\"color: #AA22FF; font-weight: bold\">.</span>Buffer((<span style=\"color: #008000\">1024</span>, <span style=\"color: #008000\">1024</span>), <span style=\"color: #BA2121\">&quot;float32&quot;</span>), B: T<span style=\"color: #AA22FF; font-weight: bold\">.</span>Buffer((<span style=\"color: #008000\">1024</span>, <span style=\"color: #008000\">1024</span>), <span style=\"color: #BA2121\">&quot;float32&quot;</span>), C: T<span style=\"color: #AA22FF; font-weight: bold\">.</span>Buffer((<span style=\"color: #008000\">1024</span>, <span style=\"color: #008000\">1024</span>), <span style=\"color: #BA2121\">&quot;float32&quot;</span>)):\n",
              "        T<span style=\"color: #AA22FF; font-weight: bold\">.</span>func_attr({<span style=\"color: #BA2121\">&quot;tir.noalias&quot;</span>: T<span style=\"color: #AA22FF; font-weight: bold\">.</span>bool(<span style=\"color: #008000; font-weight: bold\">True</span>)})\n",
              "        <span style=\"color: #007979; font-style: italic\"># with T.block(&quot;root&quot;):</span>\n",
              "        <span style=\"color: #008000; font-weight: bold\">for</span> m, n, k <span style=\"color: #008000; font-weight: bold\">in</span> T<span style=\"color: #AA22FF; font-weight: bold\">.</span>grid(<span style=\"color: #008000\">1024</span>, <span style=\"color: #008000\">1024</span>, <span style=\"color: #008000\">1024</span>):\n",
              "            <span style=\"color: #008000; font-weight: bold\">with</span> T<span style=\"color: #AA22FF; font-weight: bold\">.</span>block(<span style=\"color: #BA2121\">&quot;C&quot;</span>):\n",
              "                v_m, v_n, v_k <span style=\"color: #AA22FF; font-weight: bold\">=</span> T<span style=\"color: #AA22FF; font-weight: bold\">.</span>axis<span style=\"color: #AA22FF; font-weight: bold\">.</span>remap(<span style=\"color: #BA2121\">&quot;SSR&quot;</span>, [m, n, k])\n",
              "                T<span style=\"color: #AA22FF; font-weight: bold\">.</span>reads(A[v_m, v_k], B[v_k, v_n])\n",
              "                T<span style=\"color: #AA22FF; font-weight: bold\">.</span>writes(C[v_m, v_n])\n",
              "                <span style=\"color: #008000; font-weight: bold\">with</span> T<span style=\"color: #AA22FF; font-weight: bold\">.</span>init():\n",
              "                    C[v_m, v_n] <span style=\"color: #AA22FF; font-weight: bold\">=</span> T<span style=\"color: #AA22FF; font-weight: bold\">.</span>float32(<span style=\"color: #008000\">0</span>)\n",
              "                C[v_m, v_n] <span style=\"color: #AA22FF; font-weight: bold\">=</span> C[v_m, v_n] <span style=\"color: #AA22FF; font-weight: bold\">+</span> A[v_m, v_k] <span style=\"color: #AA22FF; font-weight: bold\">*</span> B[v_k, v_n]\n",
              "</pre></div>\n"
            ]
          },
          "metadata": {}
        }
      ]
    },
    {
      "cell_type": "code",
      "source": [
        "func = tvm.build(ir_module, target=\"llvm\")  # The module for CPU backends.\n",
        "a_np = np.random.rand(M, K).astype(dtype)\n",
        "b_np = np.random.rand(K, N).astype(dtype)\n",
        "a = tvm.nd.array(a_np, dev)\n",
        "b = tvm.nd.array(b_np, dev)\n",
        "c = tvm.nd.array(np.zeros((M, N), dtype=dtype), dev)\n",
        "func(a, b, c)\n",
        "\n",
        "evaluator = func.time_evaluator(\"main\", dev, number=3)\n",
        "print(\"Baseline time cost %g sec\" % evaluator(a, b, c).mean)"
      ],
      "metadata": {
        "colab": {
          "base_uri": "https://localhost:8080/"
        },
        "id": "iGaL3GMMXWNX",
        "outputId": "cc1883cc-cad1-44c7-c2e5-70d88fc0ba11"
      },
      "execution_count": 47,
      "outputs": [
        {
          "output_type": "stream",
          "name": "stdout",
          "text": [
            "Baseline time cost 3.08041 sec\n"
          ]
        }
      ]
    },
    {
      "cell_type": "code",
      "source": [
        "c.numpy() - a_np @b_np"
      ],
      "metadata": {
        "colab": {
          "base_uri": "https://localhost:8080/"
        },
        "id": "pSYr3MJ8Vkzf",
        "outputId": "f86b2872-2a93-4598-e6a3-cce7eecdcc5a"
      },
      "execution_count": 48,
      "outputs": [
        {
          "output_type": "execute_result",
          "data": {
            "text/plain": [
              "array([[ 0.0000000e+00, -1.2207031e-04,  0.0000000e+00, ...,\n",
              "         3.0517578e-05,  0.0000000e+00,  1.2207031e-04],\n",
              "       [ 6.1035156e-05, -9.1552734e-05,  3.0517578e-05, ...,\n",
              "        -9.1552734e-05, -1.5258789e-05,  0.0000000e+00],\n",
              "       [-3.0517578e-05,  1.5258789e-04,  3.0517578e-05, ...,\n",
              "         6.1035156e-05, -1.5258789e-04,  0.0000000e+00],\n",
              "       ...,\n",
              "       [-6.1035156e-05, -1.2207031e-04,  9.1552734e-05, ...,\n",
              "        -1.2207031e-04, -1.3732910e-04,  1.2207031e-04],\n",
              "       [-9.1552734e-05,  0.0000000e+00,  6.1035156e-05, ...,\n",
              "         3.0517578e-05, -1.6784668e-04, -3.0517578e-05],\n",
              "       [ 2.4414062e-04, -1.5258789e-04,  1.5258789e-04, ...,\n",
              "        -1.3732910e-04, -1.2207031e-04, -7.6293945e-05]], dtype=float32)"
            ]
          },
          "metadata": {},
          "execution_count": 48
        }
      ]
    },
    {
      "cell_type": "code",
      "source": [
        "ir_module.show()"
      ],
      "metadata": {
        "colab": {
          "base_uri": "https://localhost:8080/",
          "height": 315
        },
        "id": "PsTxdgEWXWie",
        "outputId": "58b85d3d-dcbb-408f-cede-a111c58fe435"
      },
      "execution_count": 52,
      "outputs": [
        {
          "output_type": "display_data",
          "data": {
            "text/plain": [
              "<IPython.core.display.HTML object>"
            ],
            "text/html": [
              "<div class=\"highlight\" style=\"background: \"><pre style=\"line-height: 125%;\"><span></span><span style=\"color: #007979; font-style: italic\"># from tvm.script import ir as I</span>\n",
              "<span style=\"color: #007979; font-style: italic\"># from tvm.script import tir as T</span>\n",
              "\n",
              "<span style=\"color: #AA22FF\">@I</span><span style=\"color: #AA22FF; font-weight: bold\">.</span>ir_module\n",
              "<span style=\"color: #008000; font-weight: bold\">class</span> <span style=\"color: #0000FF; font-weight: bold\">Module</span>:\n",
              "    <span style=\"color: #AA22FF\">@T</span><span style=\"color: #AA22FF; font-weight: bold\">.</span>prim_func\n",
              "    <span style=\"color: #008000; font-weight: bold\">def</span> <span style=\"color: #0000FF\">main</span>(A: T<span style=\"color: #AA22FF; font-weight: bold\">.</span>Buffer((<span style=\"color: #008000\">1024</span>, <span style=\"color: #008000\">1024</span>), <span style=\"color: #BA2121\">&quot;float32&quot;</span>), B: T<span style=\"color: #AA22FF; font-weight: bold\">.</span>Buffer((<span style=\"color: #008000\">1024</span>, <span style=\"color: #008000\">1024</span>), <span style=\"color: #BA2121\">&quot;float32&quot;</span>), C: T<span style=\"color: #AA22FF; font-weight: bold\">.</span>Buffer((<span style=\"color: #008000\">1024</span>, <span style=\"color: #008000\">1024</span>), <span style=\"color: #BA2121\">&quot;float32&quot;</span>)):\n",
              "        T<span style=\"color: #AA22FF; font-weight: bold\">.</span>func_attr({<span style=\"color: #BA2121\">&quot;tir.noalias&quot;</span>: T<span style=\"color: #AA22FF; font-weight: bold\">.</span>bool(<span style=\"color: #008000; font-weight: bold\">True</span>)})\n",
              "        <span style=\"color: #007979; font-style: italic\"># with T.block(&quot;root&quot;):</span>\n",
              "        <span style=\"color: #008000; font-weight: bold\">for</span> m, n, k <span style=\"color: #008000; font-weight: bold\">in</span> T<span style=\"color: #AA22FF; font-weight: bold\">.</span>grid(<span style=\"color: #008000\">1024</span>, <span style=\"color: #008000\">1024</span>, <span style=\"color: #008000\">1024</span>):\n",
              "            <span style=\"color: #008000; font-weight: bold\">with</span> T<span style=\"color: #AA22FF; font-weight: bold\">.</span>block(<span style=\"color: #BA2121\">&quot;C&quot;</span>):\n",
              "                v_m, v_n, v_k <span style=\"color: #AA22FF; font-weight: bold\">=</span> T<span style=\"color: #AA22FF; font-weight: bold\">.</span>axis<span style=\"color: #AA22FF; font-weight: bold\">.</span>remap(<span style=\"color: #BA2121\">&quot;SSR&quot;</span>, [m, n, k])\n",
              "                T<span style=\"color: #AA22FF; font-weight: bold\">.</span>reads(A[v_m, v_k], B[v_k, v_n])\n",
              "                T<span style=\"color: #AA22FF; font-weight: bold\">.</span>writes(C[v_m, v_n])\n",
              "                <span style=\"color: #008000; font-weight: bold\">with</span> T<span style=\"color: #AA22FF; font-weight: bold\">.</span>init():\n",
              "                    C[v_m, v_n] <span style=\"color: #AA22FF; font-weight: bold\">=</span> T<span style=\"color: #AA22FF; font-weight: bold\">.</span>float32(<span style=\"color: #008000\">0</span>)\n",
              "                C[v_m, v_n] <span style=\"color: #AA22FF; font-weight: bold\">=</span> C[v_m, v_n] <span style=\"color: #AA22FF; font-weight: bold\">+</span> A[v_m, v_k] <span style=\"color: #AA22FF; font-weight: bold\">*</span> B[v_k, v_n]\n",
              "</pre></div>\n"
            ]
          },
          "metadata": {}
        }
      ]
    },
    {
      "cell_type": "markdown",
      "metadata": {
        "id": "swj-gMz-1vBE"
      },
      "source": [
        "We can transform the loop access pattern to make it more cache friendly. Let us use the following schedule."
      ]
    },
    {
      "cell_type": "code",
      "source": [
        "def transform(sch, tile_m, tile_n):\n",
        "    block_C = sch.get_block(\"C\")\n",
        "    m, n, k = sch.get_loops(block_C)\n",
        "    mo, mi = sch.split(m, [None, tile_m])\n",
        "    no, ni = sch.split(n, [None, tile_n])\n",
        "    sch.reorder(mo, no, k, mi, ni)\n",
        "    return sch\n",
        "sch = tvm.tir.Schedule(ir_module)\n",
        "sch = transform(sch, 8, 8)\n",
        "sch.mod.show()"
      ],
      "metadata": {
        "colab": {
          "base_uri": "https://localhost:8080/",
          "height": 350
        },
        "id": "erNEAsU-Ofo0",
        "outputId": "699fff51-ed2c-4c14-cc8f-92995c7ae536"
      },
      "execution_count": 53,
      "outputs": [
        {
          "output_type": "display_data",
          "data": {
            "text/plain": [
              "<IPython.core.display.HTML object>"
            ],
            "text/html": [
              "<div class=\"highlight\" style=\"background: \"><pre style=\"line-height: 125%;\"><span></span><span style=\"color: #007979; font-style: italic\"># from tvm.script import ir as I</span>\n",
              "<span style=\"color: #007979; font-style: italic\"># from tvm.script import tir as T</span>\n",
              "\n",
              "<span style=\"color: #AA22FF\">@I</span><span style=\"color: #AA22FF; font-weight: bold\">.</span>ir_module\n",
              "<span style=\"color: #008000; font-weight: bold\">class</span> <span style=\"color: #0000FF; font-weight: bold\">Module</span>:\n",
              "    <span style=\"color: #AA22FF\">@T</span><span style=\"color: #AA22FF; font-weight: bold\">.</span>prim_func\n",
              "    <span style=\"color: #008000; font-weight: bold\">def</span> <span style=\"color: #0000FF\">main</span>(A: T<span style=\"color: #AA22FF; font-weight: bold\">.</span>Buffer((<span style=\"color: #008000\">1024</span>, <span style=\"color: #008000\">1024</span>), <span style=\"color: #BA2121\">&quot;float32&quot;</span>), B: T<span style=\"color: #AA22FF; font-weight: bold\">.</span>Buffer((<span style=\"color: #008000\">1024</span>, <span style=\"color: #008000\">1024</span>), <span style=\"color: #BA2121\">&quot;float32&quot;</span>), C: T<span style=\"color: #AA22FF; font-weight: bold\">.</span>Buffer((<span style=\"color: #008000\">1024</span>, <span style=\"color: #008000\">1024</span>), <span style=\"color: #BA2121\">&quot;float32&quot;</span>)):\n",
              "        T<span style=\"color: #AA22FF; font-weight: bold\">.</span>func_attr({<span style=\"color: #BA2121\">&quot;tir.noalias&quot;</span>: T<span style=\"color: #AA22FF; font-weight: bold\">.</span>bool(<span style=\"color: #008000; font-weight: bold\">True</span>)})\n",
              "        <span style=\"color: #007979; font-style: italic\"># with T.block(&quot;root&quot;):</span>\n",
              "        <span style=\"color: #008000; font-weight: bold\">for</span> m_0, n_0, k, m_1, n_1 <span style=\"color: #008000; font-weight: bold\">in</span> T<span style=\"color: #AA22FF; font-weight: bold\">.</span>grid(<span style=\"color: #008000\">128</span>, <span style=\"color: #008000\">128</span>, <span style=\"color: #008000\">1024</span>, <span style=\"color: #008000\">8</span>, <span style=\"color: #008000\">8</span>):\n",
              "            <span style=\"color: #008000; font-weight: bold\">with</span> T<span style=\"color: #AA22FF; font-weight: bold\">.</span>block(<span style=\"color: #BA2121\">&quot;C&quot;</span>):\n",
              "                v_m <span style=\"color: #AA22FF; font-weight: bold\">=</span> T<span style=\"color: #AA22FF; font-weight: bold\">.</span>axis<span style=\"color: #AA22FF; font-weight: bold\">.</span>spatial(<span style=\"color: #008000\">1024</span>, m_0 <span style=\"color: #AA22FF; font-weight: bold\">*</span> <span style=\"color: #008000\">8</span> <span style=\"color: #AA22FF; font-weight: bold\">+</span> m_1)\n",
              "                v_n <span style=\"color: #AA22FF; font-weight: bold\">=</span> T<span style=\"color: #AA22FF; font-weight: bold\">.</span>axis<span style=\"color: #AA22FF; font-weight: bold\">.</span>spatial(<span style=\"color: #008000\">1024</span>, n_0 <span style=\"color: #AA22FF; font-weight: bold\">*</span> <span style=\"color: #008000\">8</span> <span style=\"color: #AA22FF; font-weight: bold\">+</span> n_1)\n",
              "                v_k <span style=\"color: #AA22FF; font-weight: bold\">=</span> T<span style=\"color: #AA22FF; font-weight: bold\">.</span>axis<span style=\"color: #AA22FF; font-weight: bold\">.</span>reduce(<span style=\"color: #008000\">1024</span>, k)\n",
              "                T<span style=\"color: #AA22FF; font-weight: bold\">.</span>reads(A[v_m, v_k], B[v_k, v_n])\n",
              "                T<span style=\"color: #AA22FF; font-weight: bold\">.</span>writes(C[v_m, v_n])\n",
              "                <span style=\"color: #008000; font-weight: bold\">with</span> T<span style=\"color: #AA22FF; font-weight: bold\">.</span>init():\n",
              "                    C[v_m, v_n] <span style=\"color: #AA22FF; font-weight: bold\">=</span> T<span style=\"color: #AA22FF; font-weight: bold\">.</span>float32(<span style=\"color: #008000\">0</span>)\n",
              "                C[v_m, v_n] <span style=\"color: #AA22FF; font-weight: bold\">=</span> C[v_m, v_n] <span style=\"color: #AA22FF; font-weight: bold\">+</span> A[v_m, v_k] <span style=\"color: #AA22FF; font-weight: bold\">*</span> B[v_k, v_n]\n",
              "</pre></div>\n"
            ]
          },
          "metadata": {}
        }
      ]
    },
    {
      "cell_type": "code",
      "source": [
        "sch = tvm.tir.Schedule(ir_module)\n",
        "sch = transform(sch, 32, 32)\n",
        "sch.mod.show()\n",
        "mod = tvm.build(sch.mod, target=\"llvm\")\n",
        "new_eval = mod.time_evaluator(\"main\", number=3, dev=tvm.cpu())\n",
        "print(\"Transformed time cost %g sec\" % new_eval(a, b, c).mean)"
      ],
      "metadata": {
        "colab": {
          "base_uri": "https://localhost:8080/",
          "height": 367
        },
        "id": "QgR9qO49Oham",
        "outputId": "719054f6-21f1-43c2-f7f6-55d84d1786de"
      },
      "execution_count": 54,
      "outputs": [
        {
          "output_type": "display_data",
          "data": {
            "text/plain": [
              "<IPython.core.display.HTML object>"
            ],
            "text/html": [
              "<div class=\"highlight\" style=\"background: \"><pre style=\"line-height: 125%;\"><span></span><span style=\"color: #007979; font-style: italic\"># from tvm.script import ir as I</span>\n",
              "<span style=\"color: #007979; font-style: italic\"># from tvm.script import tir as T</span>\n",
              "\n",
              "<span style=\"color: #AA22FF\">@I</span><span style=\"color: #AA22FF; font-weight: bold\">.</span>ir_module\n",
              "<span style=\"color: #008000; font-weight: bold\">class</span> <span style=\"color: #0000FF; font-weight: bold\">Module</span>:\n",
              "    <span style=\"color: #AA22FF\">@T</span><span style=\"color: #AA22FF; font-weight: bold\">.</span>prim_func\n",
              "    <span style=\"color: #008000; font-weight: bold\">def</span> <span style=\"color: #0000FF\">main</span>(A: T<span style=\"color: #AA22FF; font-weight: bold\">.</span>Buffer((<span style=\"color: #008000\">1024</span>, <span style=\"color: #008000\">1024</span>), <span style=\"color: #BA2121\">&quot;float32&quot;</span>), B: T<span style=\"color: #AA22FF; font-weight: bold\">.</span>Buffer((<span style=\"color: #008000\">1024</span>, <span style=\"color: #008000\">1024</span>), <span style=\"color: #BA2121\">&quot;float32&quot;</span>), C: T<span style=\"color: #AA22FF; font-weight: bold\">.</span>Buffer((<span style=\"color: #008000\">1024</span>, <span style=\"color: #008000\">1024</span>), <span style=\"color: #BA2121\">&quot;float32&quot;</span>)):\n",
              "        T<span style=\"color: #AA22FF; font-weight: bold\">.</span>func_attr({<span style=\"color: #BA2121\">&quot;tir.noalias&quot;</span>: T<span style=\"color: #AA22FF; font-weight: bold\">.</span>bool(<span style=\"color: #008000; font-weight: bold\">True</span>)})\n",
              "        <span style=\"color: #007979; font-style: italic\"># with T.block(&quot;root&quot;):</span>\n",
              "        <span style=\"color: #008000; font-weight: bold\">for</span> m_0, n_0, k, m_1, n_1 <span style=\"color: #008000; font-weight: bold\">in</span> T<span style=\"color: #AA22FF; font-weight: bold\">.</span>grid(<span style=\"color: #008000\">32</span>, <span style=\"color: #008000\">32</span>, <span style=\"color: #008000\">1024</span>, <span style=\"color: #008000\">32</span>, <span style=\"color: #008000\">32</span>):\n",
              "            <span style=\"color: #008000; font-weight: bold\">with</span> T<span style=\"color: #AA22FF; font-weight: bold\">.</span>block(<span style=\"color: #BA2121\">&quot;C&quot;</span>):\n",
              "                v_m <span style=\"color: #AA22FF; font-weight: bold\">=</span> T<span style=\"color: #AA22FF; font-weight: bold\">.</span>axis<span style=\"color: #AA22FF; font-weight: bold\">.</span>spatial(<span style=\"color: #008000\">1024</span>, m_0 <span style=\"color: #AA22FF; font-weight: bold\">*</span> <span style=\"color: #008000\">32</span> <span style=\"color: #AA22FF; font-weight: bold\">+</span> m_1)\n",
              "                v_n <span style=\"color: #AA22FF; font-weight: bold\">=</span> T<span style=\"color: #AA22FF; font-weight: bold\">.</span>axis<span style=\"color: #AA22FF; font-weight: bold\">.</span>spatial(<span style=\"color: #008000\">1024</span>, n_0 <span style=\"color: #AA22FF; font-weight: bold\">*</span> <span style=\"color: #008000\">32</span> <span style=\"color: #AA22FF; font-weight: bold\">+</span> n_1)\n",
              "                v_k <span style=\"color: #AA22FF; font-weight: bold\">=</span> T<span style=\"color: #AA22FF; font-weight: bold\">.</span>axis<span style=\"color: #AA22FF; font-weight: bold\">.</span>reduce(<span style=\"color: #008000\">1024</span>, k)\n",
              "                T<span style=\"color: #AA22FF; font-weight: bold\">.</span>reads(A[v_m, v_k], B[v_k, v_n])\n",
              "                T<span style=\"color: #AA22FF; font-weight: bold\">.</span>writes(C[v_m, v_n])\n",
              "                <span style=\"color: #008000; font-weight: bold\">with</span> T<span style=\"color: #AA22FF; font-weight: bold\">.</span>init():\n",
              "                    C[v_m, v_n] <span style=\"color: #AA22FF; font-weight: bold\">=</span> T<span style=\"color: #AA22FF; font-weight: bold\">.</span>float32(<span style=\"color: #008000\">0</span>)\n",
              "                C[v_m, v_n] <span style=\"color: #AA22FF; font-weight: bold\">=</span> C[v_m, v_n] <span style=\"color: #AA22FF; font-weight: bold\">+</span> A[v_m, v_k] <span style=\"color: #AA22FF; font-weight: bold\">*</span> B[v_k, v_n]\n",
              "</pre></div>\n"
            ]
          },
          "metadata": {}
        },
        {
          "output_type": "stream",
          "name": "stdout",
          "text": [
            "Transformed time cost 0.300325 sec\n"
          ]
        }
      ]
    },
    {
      "cell_type": "code",
      "metadata": {
        "id": "W60q68KRgdNL"
      },
      "source": [],
      "execution_count": null,
      "outputs": []
    },
    {
      "cell_type": "markdown",
      "metadata": {
        "id": "h1RQGOBjn4w_"
      },
      "source": [
        "Try to change the value of bn to see what performance you can get. In pratice, we will leverage an automated system to search over a set of possible transfromations to find an optimal one."
      ]
    },
    {
      "cell_type": "markdown",
      "metadata": {
        "id": "sXQnXaPCnxJH"
      },
      "source": [
        "\n",
        "\n",
        "![image.png](data:image/png;base64,iVBORw0KGgoAAAANSUhEUgAABi4AAAJiCAYAAABQCTpKAAAAAXNSR0IArs4c6QAAAERlWElmTU0AKgAAAAgAAYdpAAQAAAABAAAAGgAAAAAAA6ABAAMAAAABAAEAAKACAAQAAAABAAAGLqADAAQAAAABAAACYgAAAACMJYzCAABAAElEQVR4AezdCXxcVb3A8X+6UZAdCrIJsioqCAgCCk0KBUQqgk9UUFBWFcUNFAU1IuK+8BQRFXB/WkUFFFmbFBQURPZNdihrWUtp6Zr3OzNz00k6k0ySmUwm8zsfLnc79yzfc5N0zplzb4RBAQUUUEABBRRQQAEFFFBAAQUUUEABBRRQQAEFFFBAAQUUUEABBRRQQAEFFFBAAQUUUEABBRRQQAEFFFBAAQUUUEABBRRQQAEFFFBAAQUUUEABBRRQQAEFFFBAAQUUUEABBRRQQAEFFFBAAQUUUEABBRRQQAEFFFBAAQUUUEABBRRQQAEFFFBAAQUUUEABBRRQQAEFFFBAAQUUUEABBRRQQAEFFFBAAQUUUEABBRRQQAEFFFBAAQUUUEABBRRQQAEFFFBAAQUUUEABBRRQQAEFFFBAAQUUUEABBRRQQAEFFFBAAQUUUEABBRRQQAEFFFBAAQUUUEABBRRQQAEFFFBAAQUUUEABBRRQQAEFFFBAAQUUUEABBRRQQAEFFFBAAQUUUEABBRRQQAEFFFBAAQUUUEABBRRQQAEFFFBAAQUUUEABBRRQQAEFFFBAAQUUUEABBRRQQAEFFFBAAQUUUEABBRRQQAEFFFBAAQUUUEABBRRQQAEFFFBAAQUUUEABBRRQQAEFFFBAAQUUUEABBRRQQAEFFFBAAQUUUEABBRRQQAEFFFBAAQUUUEABBRRQQAEFFFBAAQUUUEABBRRQQAEFFFBAAQUUUEABBRRQQAEFFFBAAQUUUEABBRRQQAEFFFBAAQUUUEABBRRQQAEFFFBAAQUUUEABBRRQQAEFFFBAAQUUUEABBRRQQAEFFFBAAQUUUEABBRRQQAEFFFBAAQUUUEABBRRQQAEFFFBAAQUUUEABBRRQQAEFFFBAAQUUUEABBRRQQAEFFFBAAQUUUEABBRRQQAEFFFBAAQUUUEABBRRQQAEFFFBAAQUUUEABBRRQQAEFFFBAAQUUUEABBRRQQAEFFFBAAQUUUEABBRRQQAEFFFBAAQUUUEABBRRQQAEFFFBAAQUUUEABBRRQQAEFFFBAAQUUUEABBRRQQAEFFBiUQMugrvIiBRRQQAEFFFBAAQUUUEABBRpE4MKIlVaOmEJxN2ZZj2VdPgwv7Ip4jO203NYW8S/WHDIosLzA9Iixt3N/tEcsTWc7IsbNjhiTtg+KWMTKeydhDGNo1jZo1noP461lVgUB7zVvhXoLOHBR7xYwfwUUUEABBRRQQAEFFFBAgZoIzIjYgw+9H2TZlwxW6ieTh+mR/gNxv9MWMaufuJ5uAoErIrYfG3EiIxKvo7pbcG+wG8+yvzXbF7C9Y2Jg1GL7qRE3pG3D8Al0RlxLbk3XBs1a7+G7s8wpE/BeyyRc10tgXL0yNl8FFFBAAQUUUEABBRRQQAEFaiFwacT6EyK+S9p8Gb7isBFfn/8EndJHMeDxxaciTufiJRVfbcRRJcA98Dbuh99SqRUZpCgOa7BjX0qxSBW3GSzagOS2T0kykDjLAaEq4o6gpGznEdQYFkWBESzgH9sR3DgWTQEFFFBAAQUUUEABBRRQYGACdDhvS0fz5Vy1dvGVDEj8g+WPHHuA9eN0Sk9gvT5xX8dyMMdfkeKzvTLLt9eJ2LMj4sC2iJfScUNzCXAPfIMar1io9RzulatZHuO+WXluxDOrNBfHsNUW98kY/zplyPSWX7A6bNgyN6NhE7Cdh43ajBRoaAEHLhq6+Sy8AgoooIACCiiggAIKKKBAJpAe7UOn52Xsr5kdo7P532y/hwGIe7JjJdafY8DjAK79GeeyPum30Ll2wfSI/Zl5Mb/ENR4apQLcRzvR9lsVqjeHR0HtzDf/7yiubmfxjtsKKKCAAgooUHUBBy6qTmqCCiiggAIKKKCAAgoooIACwy3QwTfhyTPNqOgetGD7T3w7/r3TIub1U56uKVzLNI17+Jb3X+m03rAQf+qkiK+y/fF+rvf0KBLgHtgsqw4DX5f2HrQonDuTRxn9mcGu+fdF3JrFdz2sAs3aBs1a72G9ucwsJ+C95o1QVwEHLurKb+YKKKCAAgoooIACCiiggAJVEvgmAw4bZ2nR4fytmRGfac89Kj872vd6z4ibeT/GG3k/xl+IuV2KTZrHMSjyh7aIv/d9tWdHiwADEpMYkMgF7qP7S9WrNeLcUsc9NnwCzdoGzVrv4buzzCkT8F7LJFzXSyD7W1yv/M1XAQUUUEABBRRQQAEFFFBAgSEJMLDwKgYYjilK5PcMNJzQPoBBi+zavSIeXRwxlQ5rJmvkQgtpfyc773r0C9DeK2W1ZHthtu1aAQUUUEABBYZPwBkXw2dtTgoooIACCiiggAIKKKCAAjUQoHP5QyTLKh/4xvxXsu3BrJl58TSDIT/i2uML1+/IY6R25Ph1WXpMyViDmRm5lzc/F/EE78FYks7xgo1X8EH7nWxuToE2YAAkdXzfwfoGyvUP0ngixRtIIO9deHwRYyqxIWmuQ1pz2H6E9X94c/j5+0YsGEh6A417ccR61DW9AyS992E98h3Dch/7d7O+ri3ixoGkWZwe16/LspB6vUgaD7L8hfRurSS9arYB7bYa5XhZypeyrFeU/8rMwlk/20/l5NFRz1/ErAzaeXw6fn/EbEbNeBVGn6GFdtyZdtybWKkdJ3E/PM36v+xf3FZkeD7vWeHGyr1rhUZ/jPMULR86eCQaGa2a9orvu8LpsiuuW53rcgMyXPds7/e2XMJ9RVnG0aYLuEefLk6Iuq5KebakEJtyfMmUiPOKz6dt0n8516cBv43Z3Zjtdanfc6T3GOt750X8fj/y7X1d2k/3A/G4JPe/NdI6BdJaqdie/cXgPZk/GzHQNqjGfVfNey6rx0DXfdV7OMrXzs//bhF70mbb0yavoOHSz8dzrO9lfQ/HLmxbNvDbXb3BtnN3AoWNjiHca1law+GU8iq+59gd8u/OlOZw/j2o972W6mtoboHcH4bmJrD2CiiggAIKKKCAAgoooIACjSpAx8oKdKo+wYfb1VId6DT7K51m9JEOLaTOMVK4n3QnppRI92zSPTJLlfN3cO5VhXMbLY54gY7sM9h/F8fZXD6QxlyOnkA6Z7Fmt+9AHq8nxm9Jb6s+Yj7DueNba/DoIvJfmbxTWd/NQj9l6UBF/kr9P0+H/g2lY+SPVpoesa9lFOjgPfIdoWWTJL2qtUFnvrO++P0oJfOlrj+i/T5E/GuJsGOKxIDA9n3VnY7GbRiw+B2WufslXdM7kO5f6OD/IHV+hHrdmbX5SxFr7ROR2jgXOhmsYiP3GDOu2YiyzMqf6fv/XPdzYhyaYpHPIVMifpO2s9AZcRvbW5PmU6Q5KR2/ggEIyv1pNj/Awo9ZLtzeGvGawnY2UJfiHNFS+FnJzvVazyft6bzl/jgG2tLAW3egvi9wbXpHTX+hR96dFbYB6Vd0H5N5v/cdaVXtnuuvsuXO91XvWpavnd8Bk/n9Rbk+RHttXK58HJ/dFXHa7IgfHlQ0Y4myDaqds3wuyw8KD+ley9KiLDVtR9Kv6J7DqaLfnancpDnsfw86+/gZq7Vh1laum1ug7D88mpvF2iuggAIKKKCAAgoooIACCjSCAL2pO9KJlhu0SOWlU/a0apS7LeJxOpXOLUqLPuUeITegkY7Qyb4RX72/mnIcwtI9aMH19OcvC5xLnVln0uHzp2VHS28RJw2+XEX83oMWJNsjpM72c4h/Yo+jQ9yhs31rkkgzTA5m6d13QF/9skAZ30r9r6cMaYCjZOgnvd7X7ESG18+I2L/3iV771WyD1XulXZVdTA7jhvgnRmUHLVJGnN+PQYJr6Jx9Ndvdsw56F4LGL3uud9xB7udMaa8dKU8aJPkwSzZo0SNJZmmk+/46ynssS3dbUMYlLM8TmVV3WJE4h5HQeYyEcdnwhBrcd931rMXPfRVUalK+dn4H7B7xM9rwaywbZ+VMbc32C9l+YT2JON9dm/i9jg96twb3Wk2cUgX7uecG/LszpdlR578HqQwlQs0MS+TloSYV6P2PjyZlsNoKKKCAAgoooIACCiiggAKNKEDH2a5F5X6Y0YWri/aHtEnav80SoCNuk+LH1mTH05qO6R+xSh39KVzEddP4pvz6bRET6NXbnP33cZwvIOcDae1PpzxPvSkdOnhfB3HOZ8m+hf4kMY8jrR1IawI9XxuznwYUrsxSIO5XOyO+ne0PZU3H21Q6ra8lzVcV0llEvj9gUOh/FvAIoFZmuaQysP8xjvPkoVxI7wJJAyhvKOx3r/pLjzRXJp2ppPdl1k+kC0lrNTos/kx6n+lOqI+NKrTByeR/UlrIhqbOB8pzfXa8cO787Fx/a8p+EvX4GfGyjv+72f40ae5yF+3IeguWI1kuLqSVBgLOY3+Fwn5dVh18sxvPK8i8ewYKZXqKpZPlf1OhiDNxQn4Abp20z/G5LF9n2YLdiW08mortdP+/ifXPU5wU8NiTCF/P73X//0uZMUemdx/lZyY7Xlinb/tXHGp931Xhnqu4LoOJWM3yTebxe/w8pt9jWThnccROM2njVh4lNo+fV9pof9r6X1kE4r9nBr+3sn3Wg2rnjurea0XFyW9W06m/e651gL87Uwmpf13/HuSV+v5/NQ37zsmzzSbA3wyDAgoooIACCiiggAIKKKCAAo0p0MkjeCg5TyTJhY7WiCmF7SGv6LndgA78WVlCdMK+jYGRC9M+nUnpMVKbZOfosKMfL05sy7/Im92egbTSY3cu42jq2E3hmtaegy65gxfxmJ6VIh5gh1WuQ/jfrA4g3e5ypOMpUIZxZPQdOgg/mj+S+/rzHpSR/sLBhbP4NvyWEbdTt80LKbxAxd6xZ77syyVKGV7OwfSt+w0LJ+9u5X0IWcSBpndJxCvptU8d+Vkai3B/NXW6N0szW5N3TdqAdE+kPl9N+eB7Kvafz/LM1p19PEIlxaG9072TBiqyQYvrSGtf0noqne8VWjrzg19H9zoeDID1eFRUcZ1JrxaPippLGa6n/pNTWcjjJjqkj8b/2uKyUY4PEufMwrF5i3h/x9SIW4rjFG8T/1Tin5SOkea9OGT3V3G0dOMezP3868LBX7QyS6NHhKKdzj7aoFb3HfWoyT1XVK1+N/uqd63KR7p30365Nuvi0XS0X7lB0nQv/4FKHJgqQtznZnIPt+cmw6Uj+TCQdibvqt9rpFn1dhzoPUcZ+vzdmaTq/fegs4+fsVoY5u8O/6/AMgH+HhgUUEABBRRQQAEFFFBAAQUUaFiB3PP4U+m7eGF0NWtBZ+2jpEnfcT7QcdedV3asaH16oTOPS5YPpPUgR79cdGYXvrq/StF+bpNe7o+xkQ1aPEgv8mTSndU7Xtrn+GJGadI3mn+cnS8exMiODWTNaMHRLcs6ledQmd3LDVqkdClDeqTWu9nM6r0F3zreOstzoOntTYciAyW7kthNhTTGU6evZOn1s65KG/STR0Wnx0acQsTiQYspWJUatEjpdbXSOUudz0479Qy0fXqc2eRCGVId3sC922PQonAui5N2T+xr0CJFmBnxBVa5RwqR/mZ/qfEjr4bxvhsx91xyLhGGXD4GEzeizbKBpjlMHfteiXyyQ10LeJcK9/LT6QDXrf6moneiZJEGuB6Oe23ITgO959r6+d2ZjOr992CA7TRkwwHmZ/QmEODvv0EBBRRQQAEFFFBAAQUUUECBhhVYKys5nWVVHbgg3S463u7P0me7+9E52bHCejad7cWDEr1O53d5nMp0tp7NTjI6kc1SyB3i27WrsnFsdp71Z6ZFcFnfgY7CNCMg1ynMehrf9t+47ytKn+3Id1qnDuZcwPP7dK7dmO2XW0+J+Adxr8zO02m/b9oebHoMlDxNet2PiML9INJa7hFUWX6FdVXaoFeag9pl4GZLyn9YdvFSHpGDY5rJ0FfgkjiZhckLIyJc0BrxRcrNrb18oE12z44Sgb7tvkM737ingjdnsbj3t8+2q73uGOR9PIj7bsTcc2UMq1K+CQw0ZenThi8clH+vRXZouTWDjy9y8KrsxDgeF5ZtD2Y9DPfakJ0Ge8+V+92ZnOr992CAbTVkwwHmZ/QmEXDgokka2moqoIACCiiggAIKKKCAAqNRgI40/ssHOrj67eTP4g5g/XgWl/SXmyFROPdLvnGeXkbcZ6A3nzGGuCeLRHobZttpzbdr38ax1dM2lbqxLf8YrLTbZ6Cj8Eni/zBF4vqxfNA/ss8LypwkjT04tU46zXbqfOzrm9UpWnegc/50dm7hujtZb5xODCU9OvQu4fr0mKwUqFb5F3/nYkRUpQ0KaQ1plTpqUzukRJIHdaEPsv9Aez+OY3rMTr3Ds0wz+mC5QkynbpTzr5xPL5mfTof/3eXiFh/HJLVjFtbNNqq9Hsb7bsTcc2UMq1K+hTw6LkufBtxgBr+nsv1y6yURp3GPHJMWfukxuWxwYZjutSE7DeWew2i5351Jq95/DwbYYkM2HGB+Rm8SAf6eGhRQQAEFFFBAAQUUUEABBRQYFQIvq3Yt6JBaL+ttZTub1dAjGzqebupxoO+dx7LTfCBfO9tOa/LZomj/4qLtfjcp29VZOYn86n4vKBGBAQ+edpIPpPcbOtzLPdooi9a9ZsQjdWKnpTsMJb1CIqlD75eF7a26Ey6xUa02KJH0gA9ht1VRW/yKBDhUWeC6XxDzPZXFrlmsP+0T0X2f9s7loPw37o/ufbyv/ct5qhgIOxW59BV9SOeG674bSfdcKbBqlS8NjHbw3h3abpOUD75/YP8UNn/Qxjss0rHegcGs6ziWliGF4bjXquE0lHuu1O/OhIZ3Xf8eDKThqmE4kPyM2zwCDlw0T1tbUwUUUEABBRRQQAEFFFBg1AnQufNMVim2N822q7QmyXhllhY7uee2Z/vZmm8X35Jt97emg+d5Orlyge2UfnegY3ezogOL6ezdpftkPxukWTxo8/J+opc8Tf7dHe6Uo/uxPiUjV3BwqOlx/S2ZB+s+By6q1QYVVKuSKK8qinRv0XYlm90zciqJXIs4A+yE7FEE7tl1uRc3ob024URaXsn261ine5nN2ofhuu9G2D23HGyVy3cUrhfTgGkm0XjWX2b92c4Imjwu59w1rNMsscWshyVU616rhtNQ77lSYKRZ178HpcpU7lg1DMul7fHmFnDgornb39oroIACCiiggAIKKKCAAg0tQOfOk1lvaOroqWZlOngsCmmvkKVJ+rOz7eI1H6xLHi+Ok23TqUsypQN5bZqdYftk0j052x/gelADF+TRPThAISt6/E8/5RpSerzs4Z4Mn/K88iw6TI8p8w6IarVBP/Wp6DRt1/1NaTr0HqzookKk+REP8/6HdI+QTH0Cmd9Yac6X8OJm3oFwCIXdnWvSe0j6eoF9pckONd6w3Hcj6Z4rBVbN8rUxODEj4l3kczptvUEhP27V3GOj0iPuUpjXGfFP1pcz+HXBlIjb0sFqhVrda1VyGtI9V8oI03r/PShVrJLHqmRYMm0PNrcA/2YyKKCAAgoooIACCiiggAIKKNCYAnTuXF9U8s2Ltqux2SO9BT3zqkb6PdKgw3idHgcGuYPJYNNZL8uSNJ7ItoewHlJ6e/OeDUxyL7WmPOM27vVorSGUq6aXUmb6bfOBbV4XUXm4loGZ4usrv7LvmBQIwsoC+T9eScyOiPczaHEHCX+V+G9h6T1oMY+0bmT5LcvHOf+3StKtQpymvO+q4NZnEgxEnMf7LlIH/XEsV7F03+eFC9NABtHiNDobb+mMOPui5e+JQtSBrUbwvZZVZEj3XJZI8ZqfmcH+Hi9OJv3gVyWdHom6o8AwCTAoZlBAAQUUUEABBRRQQAEFFFCgMQX4Rvs/0rNLUqCDJr04djI9ZzPzR4b8/0OKUri/r+f+F8UbymbqMM5mjXyHjqsbBpMYJo8M5jqueTjLn7zTt6or/uZ9mfyGlB6dnqvSpisX0l44h9k1ZfIZaYcfpECvTYWi02VjVhW3427MYKDO2S2dkqhKIM2qdV525KoVPyPN4p+PLu6ZKynsNfRmX8ty/dT8/cThfOiM2D7brvG6We+7GrNGpMFEMvl+WrgP1qZxd2V7Z+6FXVl2YZuxrFxgNw7nBdM7XMi5aczGKBwf0Io8Ur/lSL7XsvoM6Z7LEum1rvffg17FcVeB4Rdw4GL4zc1RAQUUUEABBRRQQAEFFFCgSgIL6CClc+w5eslWT0nyTd/PsZo51OSvyD8m6tAsHTpi07Pcax3uJ4M3pUzoELymjZfg1jrDXunfxX5rOoZn9+OO0v4gw5DSWyFi86J87z0o/1LookMjdvOBrGQ4vjLbrnC9WYXxBhSNcrxiQBf0EZm03sfp7kEL7tVO9k9oi/h3H5ele3oC1w5HaNb7bjhsu/OgvZ9i54LCEh0MMtK+02jnT7N+fYrIettVIr7L5jFpf6CB60f6vZZVaUj3XJZIr/X97Nfz70Gv4rirwPAL8G86gwIKKKCAAgoooIACCiiggAKNKbBvxAI6ys4tKv1eM/iWb9H+oDbpMPsUF2bfHk6drj8aVEIDuIg87s+ik/+ABg46IiZS7z0KS3qcy4ADeabOt1ygLAP6djwDPdt3RtybFspybkpkKOml65l20N2OlKe7bOncCA/3F5Vvv6LtfjfppHlbX5EwhSIfFkUwZldRaOGiqg1ckNahWa5LI37ZFtHG0uegRYpP2bfNrqvlmny67xXKOqD7OJWrge+7mrBewmydDgYR09JXBtwDc1sj/m8mP7fpviiKe0DR9oA2R/q9llVmKPdcqd+dKV3qfn9R+sP+9yDL27UC9RRw4KKe+uatgAIKKKCAAgoooIACCigwZIHFEWeSCP08+cAH3TTrYtDhIp7LTkfU0VkCJPzPPSL+k+3Xak2e9xWl/f723ASSoiN9bFLGg6j35YXl3D6ilj1FZ2N3hy/pvKsjYsOykXudIH56x8GmaaEeJJX736DTa8/X/RMpnUK4M9togPW/iso4hY7JnYr2y24W7rujykbgBO3c/bis8cseK9bXJUH++9AmL+sz0sBOvrIo+reLtstuUrdVOfmqshGqeGIo93F7Y993VVRclhQzn/7N/XN3Wph2tuWyM6W32vnRZypGmmHBKzFyYRLXpd8Ngwkj+l7LKjSUe67U786ULt73ZemzHva/B0V5u6lA3QT4+TAooIACCiiggAIKKKCAAgoo0LgCe9GhRum/X1SDAzsjTp8+iHcF8O3ijVaKuIJOo1xHLx3FS0i3uAO9KJvqbi7gsSvkl3sZNSlvuXvE2yvNgQ/3R2ZxSYOqDzzwFukruPbBwpXpsT4nVJJKe76zt/hb1Ren6wabXrqWuqf0Xp22UxswOPWLtN0IoS3i75T571lZaZtTKrkXue9O5hpWfYYHis5WNBDADIKPFF0z5E3uizQIkQWapv8wMeK9xOLS2odmve9qJcu9fFOWNvcSP5r9h4Mi5hPruSwmPwM8MWrgYaTfa1mNBnvPtZf53ZnSrfffg6xurhWopwC/OwwKKKCAAgoooIACCiiggAIKNLbACxGfpYPtnqJaHDcp4s8dy17uXHSq9GZ6ZAffLk7fln9dFoM0v0NH9D+z/Vqu94l4hvTPyvLgA/upDKSsk+2XW1PHIzi3WzpPeZcw0vJ/5eL2dXzfXF9ZrvM8F420jp7B46f6uiadoyfzeDoYc4914prFLJel44NNryNiE+r+jZRGCqR3ztSIO/J7jfF/2uCUrKTY7J3uRdqy5KyHdjovqXN6D8Bx2TXl1qT1YHaO7aPa8x2f2aHl1tzT6eXJaTZM1QLtcVuWGGVozbbLrbkZtiNeRTMziLc0S4d81s+2B7Ju5vtuIE6VxqVNrszisn1cufs4i5PW/N54Davsd9ezJHBL8flK27mW91pxeYa6Pdh7rtzvzlSeev89GKqJ1ytQDYEx1UjENBRQQAEFFFBAAQUUUEABBRSop8C0iHl0cr2d5YmsHHSOpfcLXEXHae6b+9nx3uvpzMzoiHg3H5BTB916Recv4JEn6VvwwxYWMVBCHRYUMnw1L9m4+vI+HrNCx3TqlD4jKyB1/vmeRQbZ8UrXMyN+Q/43pvikNRGTv2GTvi1fMqRzxDk1O8k132gr+qb1QNNLndykdQ3LpoU05/G8mS9m6TfKmjagKqn/Nh9w2Y9Bsas6Iz5Ae+Yet8PjkyYR4cDJEedz/uOFqLd3FfkVjnWvOHdh907E1qnjs2i/xyb57MY35NPsF5Kvarg+S42ET+vo4xFQnNuPR1ql+jHpYllgv+S7J6jf7GWxcgOIgyr7zAHex6Plviuyq9omv5PSPbS0kODruI9/yU24UrkMsHwFvxP4tZoPtOmM9mXX5w4OoJ1rdq8Vile11UDvOX42+vzdmQqGfV3/HlQNx4QUGKTAuEFe52UKKKCAAgoooIACCiiggAIKjCiBKXwTnI7gyRQqPeppg1Q41q+n4/T2zojr6Cz7I4ceYHmcXrgJdK6tz7FtWL+bY8UDFuzG7++KOOSYXN9R2h2ewGOvHqVD60RyS99QH0P5N+OD+z85Np3tmXTi/4PO6BU5tyXlPoZj+xeV7OYXIj5atD/gzXY6GOnwPpo8LiTtdUlgPOtfdNLBjlkn21dShqcx3Y78j+T8NJZcwPJfbHyxsJtbtVeQHhHT47HexLIby7vIY2XWKdBvFx/hm8eP5fYa7H/zmHRCQ/2A+iSnFNKgzDm0Z3SylAhPYnwwrpdm5+gk5tCy0MYjqLgXLiZNWHLTLb7OfhuR/pfr7mamxwuc25X2a+V0yncl2mUBx37O9tEs1Qi/Jc1jSTNVJT026roZEd9kfR7HHqEsm1KWV7N9OMemsKTArZmbVfKFtMO54zoZvCCdc9oifpWOpZCuz2/lttelbhew/1fijSHN+a2FF79nccqt25v4vitnMtjjU5kt0ZkfwD2tkMYBq/DiaNrmG+zPfDHiXqYSjaWNNmM//fweynqtQtz53JOnF7a7VwNo55rda92FqdJGewX33EB+d6Zi1fvvQZVoTEaBQQukPzIGBRRQQAEFFFBAAQUUUEABBUaFAL2kd/H14G34evdXqdBRLPSR5cKObOxY2A46dnMhO5kdp/PtaZZPk865HGNz+ENbxPeYSXEvZUwduqljOL0s/FjWx04oUxwK+gCn3sEoAv3lQwt70hFNz/n25PVbUkqDCYnpADqOD0gp05leKtxMp9x79uZRUb1P9pde7/iF/YfpAH8n7ZAGQxoy7JufOXNUR/5RY2kAg9uydKD9/kV9D7mKDuHWiDUKsRYx/WC59gT40wwcbUOc9VM80t2He2WftF2ik2cOhw8h7TSYUJXQlh9ISzM9vpcSJP+VWb7EZlq6f7bSdiE8Q/3eQRnuppwncywVhSpEG9c9zDrd57nQFnFnJ7OM2Nk1HeB8mjW1H+sUbmc5N7dVwf+a9b6rgGbAUVojvtbJIDAXHlS4eB3a5FtpOxtlLLRR4XRuNY9Bi2m0A7d1z9BWYTsTLw3a1uRe61mi6uz1d88N9HdnKhUGdf17UB0ZU1FgcALV+rs1uNy9SgEFFFBAAQUUUEABBRRQQIEqC9CD+0wrsxHo4H0jnaU/odP0qf6yIM6txPkCy6voLD+HNYf6D0RawnOdlutcLncl8dM3z3OBjr7UqVwy7MGMB6Yb7Ez8f5aMUDjI+efZ/DRvwn0VHVz39BV3IOfSN31JG4o4jfVz5a7l3FyW41l2YNDi/nLxKk2P69Msi+m03XZkXtGgBXnXpA1SXfpoo+52pGOlbDumNGiXs2mfNHvlYJYfUt7zWH7N9p9Yf4u6TiHOzrT5vYwSpZk/qVM/hRfoJWY8qGeYyjfgX+I9LFz7u55nlu1xbgnLn1neSNp/WXamdJ2Il9Whi5+ZucXxS22TZvoWfapPGkwoGQplOL9Qhk7q9wjb6Zr7WNiMhfzvmd4X4/E+ynAu5/jRWhbYf3TZXm6r3zao1X1HWWp2z/WqY6ndfutdg/J1tTKbgnZ5KwW6tlShio7NIf8fEXcn2nxG0fEem5W2cy3vtRo45WZJkG7VfncmtDr+PajHvdbjPnGnuQVamrv61l4BBRRQQAEFFFBAAQUUUGC0C3Tkv4i+M/XcmOXlLONYUufwc3QwPcYH49voHLuT/REZrqDcdI63Urj1KOsCOgRXZH0v+2m5k7L329FMvEEHHlY/YW363ynDliTycvJvIf+7ltBpnRYGLHhaTOWhRHrpcVRPsDxEe1xGfcoOlFSeS2PGvDxiF27Oqwulv6G1zLsgstpdyqyLsRGvpW3SQAb/5WZ1PIDllTjOyuLVat3O7InJ+dkRm5HHKynASqwfZ5lFGa4eShnOj1iFRxCle35l0n2J++65NBBB2oMK3neDYit50WU8Coz7dDPaZVPah/9ys4Rmsf8wI49/H8jvhErbub2G91rJSlbhYIl7bki/O1ORrqjz34MqsJiEAhULpF8uBgUUUEABBRRQQAEFFFBAAQUUUECBKgi008HaGvGxiFidjtyFbcxaYZvN/gNfT/80gxBfTzG54M9ce0D/VxlDAQUUUECB0SeQvmViUEABBRRQQAEFFFBAAQUUUEABBRSogsBkBi4YdDiJb4qulb4tyjekr+NRL0yO6Dt05GdLfCKLxbU3Z9uuFVBAAQUUaDYBBvINCiiggAIKKKCAAgoooIACCiiggALVEGCWxGIGLi7I0uJRTicVBiWyQ+XWn2KwIj3KLM22eJHl++UielwBBRRQQIHRLuDAxWhvYeungAIKKKCAAgoooIACCiiggALDKsAABI+37w67s3U5My/SeyCWCwxqrNwZ8XOuObXo5PcZAOn3pfJF8d1UQAEFFFBgVAnwd9GggAIKKKCAAgoooIACCiiggAIKKFBNAQYkTqbT5ctFaXYxi2Imx65lPZtlfb5N+hrOb8cyKYvH8Xt46fnOe0Y8nR1zrYACCiigQLMJOHDRbC1ufRVQQAEFFFBAAQUUUEABBRRQYFgEOiKOp+PlFDJbsZIMGbQ4a2HEp/bmUVGVxDeOAgoooIACo1XAgYvR2rLWSwEFFFBAAQUUUEABBRRQQAEF6i5wccSaEyOOYFDiUAqzOR0x7HaHOWzdybk7lkb8jpd4/637jBsKKKCAAgoooIACCiiggAIKKKCAAgoooIACwyvAt9FbOyO+NLy5mpsC9RW4JGKdGRHb8s6LDepbEnNXQAEFFFBAAQUUUEABBRRQQAEFFFBAAQUUyAlcFLFqZ8TpLEtZui6P2C13wv8poIACCiiggAIKKIDAOBUUUEABBRRQQAEFFFBAAQUUGC4BvmW+19iIn5DfK1gW8nicr7N/zXDlbz4KKKCAAgoooIACI1/Ad1yM/DayhAoooIACCiiggAIKKKBAwwvwWKjVqcTX+BB6TKEy1zFo8YEpEbc1fOWsgAIKKKCAAgoooEBVBcZUNTUTU0ABBRRQQAEFFFBAAQUUUKCXALMspjFgcVsatOAlxC+xnPxkxC4OWvSCclcBBRRQQAEFFFAgJ+CMC28EBRRQQAEFFFBAAQUUUECBmgjw7oq1eAzUt/jg+f6UAQMW/1gScfieEf+tSYYmqoACCiiggAIKKDAqBJxxMSqa0UoooIACCiiggAIKKKCAAiNLYEbE/rxU8fbCoMU8Bi1OmBmxu4MWI6udLI0CCiiggAIKKDASBZxxMRJbxTIpoIACCiiggAIKKKCAAg0qcEnEOhMifsiHzXcUqtCxOOJIBizua9AqWWwFFFBAAQUUUEABBRRQQAEFFFBAAQUUUEABBRRoRAFmWRzUEfFUJ0+FYpnD8lHq4RfmQDAooIACCiiggAIKVC7gPyArtzKmAgoooIACCiiggAIKKKBACYFLI9ZnlsWPODUtneaxUJcsjDhq74iHS0T3kAIKKKCAAgoooIACfQrwyFGDAgoooIACCiiggAIKKKCAAoMT6Ix4HwMV3+fq1Vg/x/KZKRE/Hlxqtb+qI2Lc7Ijc+x4PimB8xaDA4AS8lwbn5lUKKKCAAgpUIuDLuStRMo4CCiiggAIKKKCAAgoooEAPgcsiXtHJzAoO/oKp/KuxvmBBxNYjedAiVYCy/mediAVpoeN5w3TMoMBgBLyXBqPmNQoooIACClQm4IyLypyMpYACCiiggAIKKKCAAgookBdoocP/CDptv8PuKl0RT7P+VFvEz+sJdEXEBuS/fSrD0ohZUyNuKFUeyrsKZTcoMGQB76UhE5qAAgoooIACZQUcuChL4wkFFFBAAQUUUEABBRRQQIFiAQYHNmPa/k/p+G9Nx+m4/TPPWjqGd1k8WRyvHtuUaTJl+3XKeyyzQFgdVo9ymKcCCiiggAIKKKDA0AUcuBi6oSkooIACCiiggAIKKKCAAqNaoJ13QkyO+BCDA9+goisxYPEEy7FTIs4b1RW3cgoooIACCiiggAJ1EXDgoi7sZqqAAgoooIACCiiggAIKNIbAjIitmMlwDqXdNZWYAYvf8S6LD+8T8Uxj1MBSKqCAAgoooIACCjSagAMXjdZillcBBRRQQAEFFFBAAQUUGAaB6Txxae2IjzHL4itkN5EBi0dYf7At4i/DkL1ZKKCAAgoooIACCjSxgAMXTdz4Vl0BBRRQQAEFFFBAAQUUKCXQEfFajp/LoMUbCud/sTjiOF54/Xyp+B5TQAEFFFBAAQUUUKCaAg5cVFPTtBRQQAEFFFBAAQUUUECBBhY4K2L8VhHHU4V2lgnMsnhwScRRe0ZcNhKrdXHEejzGivGV3P/WyMpIuVe6NGL9ov3F/b1AnAq+gg/I7+SazUlwA9LgveNxB+sblkb8A4MnsvQqXV8esQsvCt+L+BuS5jqkNYftR1j/56WI8/eN4Klb1Q/tvJNkt4g9sdmevF5B3sniOdb3sr6HYxe2RcwdSM7VrktHxMspz1TKsjHl2JjtdXF+jjI/xvreeRG/3y/i2XJlvARPrhlH/AW0zdPF8S6KWHXFiC1Je1OOL5lS5l0s6f6ZEHEAaXDbx3rEH8NyH/t3s74OoxuL0610uxb3Un95t1ehzcuZXsjP08oRB1KG1+CS2greeIL1g7TVBfje1l/5ep/vGGL7904v7deiPat935cqt8cUUEABBUoL8HfGoIACCiiggAIKKKCAAgoo0OwCdLZuR8d9mmWxLRZddEj+lO1Ptg2wg3s4Hen8fIEy0qfab7i9lU7XFItr7ueaTdI2nbAbMZPkBep9Brvv4jibywfipU7+E9oiGNtJl/UdyOP1xPgt6aUO8XIhvSPk+FbMy0UY6PH2/EvUT+C69CL1jfu4fjaVOG12xA8Pyg/QlI1a7boUOvU/TYZHUMaJZTOOmE8Zp89npg8DPGnAp0fozHeWb02cp2iXSenkFdSZgaKU9gdYUud6Ct1tn9/N3QMrk3dqy3ezME5ROpD2X7k/Ps9MoxtKxcCm5vdSqXyLj7VXsc07e5lSv/Tz0I7Vh1l3Dwyy3TtcxUDcu3jvzWO9T/Ter1b7F6dLOavSnr3SrMvPcHEZ3FZAAQWaXaDsH+hmh7H+CiiggAIKKKCAAgoooEAzCFwUsQIdf+30UF5LB+W2XXzbnUGLNr5FfXTbCB60qEbbMJtko/ERV1PvQ1i6By0woL96WeBc6hg9E6c/LTtaeos4TBSIq4jfe9CCZHuENdk7h/gn9jg6yJ12OrB3j/gZ+X6NZeMsGTKlmvFCtl9YTyLOd9cmfq/jPXYpW1Xrwjf6k/d15H0sS/egRSojS3oMGavusCJxDmP04TxGGLisbMilwzfjd2TQ4j/ESp3s2aDFchcRb2sOXsdyMEvvPpFFxReQ/1vJ+Hoc0gBHn6EW91KfGXKyvQZtXshzInVene2/YXAS696DFsXtlC7ZjUb4d2qDtFMu1KL9a9Ge1L2q9305D48roIACCvQt0PuPdN+xPauAAgoooIACCiiggAIKKDBqBGZEvHElOnvpnPwiS3pMzg+YWrANgxYzG6SSX2KQ5aS0UN7pRWWenR0vrNMshOUCIxU/4mDqyE7hIuo/jW+Or9/GY7LoiN6c/fdxnIkJ+YDR/jMi9s72e6/p8DyGOOezZLNAniTOcaS1A2lNoFd8Y/ZTh/mV2bXE/WpnxLez/cGuJ/MSdT7gp/Jm4ZzFETvNJN9WHp00L2I1LPanHP/KIhD/PdTnuGy/eN1R5bqQ3kQey5QGftZJ+VCOuSxfZ9mC3YltdJSzndzfxPrnKU4KLTzyighfz++V/n8HM1xoyys4mwaDcoE0nmLpZPnf7Bid3FMZ3EgDdK8qHFvE+R/g8j8LeFRVK4N4qY3Y/xjHnyvEaSF+GmB6Q5ZOqXW176VSefQ+NrnKbd4r/e8n+8Kx+zE5iftpL34/rInVKuzvg1Fqv8xpfWyvpBHe0iud3C5+VW//WrQn5azbz3ApN48poIACzSzA3yGDAgoooIACCiiggAIKKKBAMwnQw78iz9b5Ah8I02N10oDFnXQYH04v5TWN6jCDAQE64n9dKP8vWvm2fqm60DHZ/XifdJ660x8bJ7ZFfCe/m44uC3TEpscPXcaR1MGewjWtEbvmtor+x8yVSStFPMAhVrl0/83qANKdlfaLA2UYR77fobwfzY7jv8ceEVRjcIE076Y9N09Xk/bx5FtuMKSlM+IPRDuwEPe5mRFrtUfQF50PtagL5fsg5TuzkMU8Bgh2nhpxS5Zn7zXxTyX+Sek49bmX+uTqlsXrXPZYI/rS43riTk7niHsTFTkay2vTfhbSrI0teWwU8bJ0XqDh37Fnmfe3kP/LuTbNDtmwkMbdrbw3I0svrYlTk3upOI++tsm/am2e8uksmPbK85p5DHjtWzSAV3yen4/tuY8vxWmtdBz/u2YyGNhedD+l45S1qu1fi/asxX2f6m5QQAEFFBicAH9fDAoooIACCiiggAIKKKCAAs0iwLeUd1uHzl06Gk+kk7GL5du8R+D1dOA27KDFENvu9LZ8Jz8Uywc6wB/k6JeLzuxyPt84L9rPbfJsoo+xkQ1aPEhv+mTSndU7Xtrn+OIp+ZkOP87OFw9iZMcqXV/CI5halnXIz2GKyPf6uLZrQcShVPbpFIfrVn9T4f0f2TU1qsvkLH3WJ/Y1aJHizWRgjVXuEVeUcbO/LP+4ohQtlT89xitL+xQOvaH3oEWKx4jD0cTLBi3mUP/dyw1apPhtEY8TJz0iilUubMHPztaF7XKrqtxL5RIvPl7tNi9OO9um4p0sU8oNWqR4WKfHc7USLz3qK7XHVruXfrTW5HS+EIbc/rVozxrd91mdXSuggAIKDFDAgYsBghldAQUUUEABBRRQQAEFFGhEATo6XzaDb/mPyz8GKs0euIXOxjfSQXs8HZP0ZTdlmM237osHJUoi8I3z6Zx4Nju50rJv4ecO8U3tVdk4NjvP+jPTIris7wD654mRvX9iWprd0fcVpc9OoGM/O0ObvnBQ/r0W2aHl1ntHvMjBq7IT3BOMXeRDrepChzb92fmAObdj36Gdb+xTl5uzWJhvn22XWV/QyiPPuJ9JvmfoyA9upIGQXCDd7xPvxmy/3JrBpX8Q98rs/NgIflTKhqrcS2VT73Wimm3eK+nu3aX8bODE09P6DsS5lRg/yWLR0XRye6/3h7RUsf1r0Z61uu8zE9cKKKCAAgMXcOBi4GZeoYACCiiggAIKKKCAAgo0lAADFnvQ0XkrHwA/QcFTx+5pd/HehSk8YqehKlL9wv6Sb/7nvineV9L0VqeBnXuyOHTCbphtpzXf1H4bx1ZP23R030hH7u/Sdn+BAYQnif/DFI/rx9I+R/Z3TanzC3kEUnacdDagvd+W7Zdb82iq0+iYPiYtVI5JJPlQi7pMp27k81dySO+4mM5Mh7sL2fW5oi781x3W7d5afuNZetc/uPzh/BGM92BrnbTHdhq06WtGSorWHSj36eykQb47WW/cfWL5jarcS8snW/pINdu8dA5xO2gzypwrdfgMDsKVC6+eXDQ7pdrtT1tUvT1rcd8XLFwpoIACCgxSgC9WGBRQQAEFFFBAAQUUUEABBUajQPoW8Uq8/Jm6fbhQv/8wavEBOo67v8k+GutdaZ3oZb2p0rjEeyyLywfptbPttKZ3Pc1gycLF2UYlazphry7qnX91Jdf0jpMGQDp4vwbpbJLOMQDyB/ZPYfMHbctenpxOdQfugevYSUuPQBpVr8tB+RkgR/fIqJ+dy3laEzY7UZ5Kwp/2KWqf3hfgsWV2jDR/M4UXd2f7/a3pIU+DLWnpM1TrXuozk6KT1WzzomSLN39bvNPfNvfZA535F6QzFpgbINqUVZqJEdVu/1q0Zy3u+1R3gwIKKKDA4AUcuBi8nVcqoIACCiiggAIKKKCAAiNWgMcOvYUOvvQOhQ3prF3Achqdc6fRYc3YhSEJMOug7MuhewvRMf08nrnAdo/+dGw3KzqwmE73XXpfX26fNF9WdO7lRdsD3TyKclxMOcZy4XjWX2b92c4IihOXc+4a1mk2SJ/tP9x1oXDrYrAJ5d2E8qXllWy/jnUyZLP/0N+gAXXaKkuIdU0G7ap1L/Vf2x4xqtLmPVIs7GD2UKnjfR2jHe6kLXMDF6w36ytudm4w7V+L9hzu+z6rv2sFFFBAgfICDlyUt/GMAgoooIACCiiggAIKKNBwAuklxvSEf5MO2iNS4emQ+yc91YfTm3hHw1WmxgXmA/HsSrOgIxbK0gHrTbMzbJ9Muidn+wNcD3rgoo3BiRkR7yK/0ynDBoV8mXCTe2xUepRVCvM6uR9YX04n8wVTIm5LB4sD8Wpal0t4kTiPLTuEfHYn3zewTCrOfzDbNEx/76vYKkuXuBU9piqLX+m6WvdSpfmleG1VavNSeTIQ82ip430do00fzM7j3H0fZcfSukrtX/X2pOzd5WW7Lj/DxU5uK6CAAgr0elmSIAoooIACCiiggAIKKKCAAo0r0BGxH4MWt9PxlgYt5tN5eOJMXrzsoEVt2xTn3PsThpoL7TakdBiIOI93H6RO3eNYrmJhfKJHSAMZRIvTxjDbpDPi7It6DRzUsi7cn+9n0OIO6vlVyvAWlt6DFvPI/0aW37J8nPN/Y+k3EPfxfiKtl50n7yey7dGwrkabl3LAqd93v/S+jnZYlB0rdS93VK/9q96elH1IP3t91Ts751oBBRRQYGACzrgYmJexFVBAAQUUUEABBRRQQIERJ0CHYHrnwg/oLEzfuE/hSjrijmgreqF0/rD/r5FA6jjPHo3zHexvGEw+fMv9kcFcV3zN3vmXT3+fY99P9wVl2ZXtnbk3dmXZhW3GDnKB3TiclxLvcCHnpjEbo3C86nWhHKnv4WdkeEghj7TqomxXsr6G0ZVrWa5ngO3hdDydTKEzYvvcxtD/l9LNtQ+Jp9ko/c3QGHqOw5hCFdp8udLSVgOe/cM13E75gHP3jI2O6rd/Ldqz6vd9ZuFaAQUUUGBwAg5cDM7NqxRQQAEFFFBAAQUUUECBESEwI+IddBieSWEm0Vk4l/Xn23hcEGt2DcMkcD/5vCnlBfo1+P9hmPLtMxvKkV5CfUFhiY6IlblXplHGT7N+fbqY9barRHyXzWPSPqHqdSGP95Fu96AF+Xeyf0JbxL9Zlw3Em8C11Qh3kUhrSoj0tkjr0RowHUybL8eB0yuWO9jPgeJr2L4vi852tdu/Fu1Z9fs+q79rBRRQQIHBCThwMTg3r1JAAQUUUEABBRRQQAEF6irQkf9G9Jl0Cr49FYROXt5zG0e1RTyQ9g3DJ4D9/bRDLrAeUMc47TiR63ODHiQwi0f/pE7ZAYVLeMwN0yhWTRfR/veUu5hzaWDr/9ojfrc7MyDG5DuUU/QDWHIDF7WoC2kemvksjfgldTw0Zdpf4Jpt+4tTyXnS6TalLAOaxXEF8cdG/D7lw7VXYviBSvKsdZxqtnmpslLXbUod7+dYeql6LtDO92Xb1W7/WrQnZazrz3Bm5VoBBRRQYJkA/04xKKCAAgoooIACCiiggAIKNJLAjIiD6bxL77JIgxZzWD7cFjGV5YFGqsdoKSvt0N1JS53e3z6A90nSYXoQH8wvLyznDsZkBWYuUIa708Lo1Zb9pUH5lvK1/DRQwSsxcmES122atmpUl1fms8n9/9tF22U3efdGGoh5VdkIAzhBJ3r3wAXO7+qI2LDSy4mf3sWRbDbFhqRGRqhmm5eqEXU9GKfVS50rdYz7Z2uO75ad4/p7s23WVW3/WrQn5a3rz3CRlZsKKKCAAgUB/gYbFFBAAQUUUEABBRRQQAEFGkEgdbh2RvyVD3K/prxrsFzUFfGa1vyjotg11ENgAY9joh3SbIYUtty9MAsmv9v3/2nLI7MYpDE92x7ImutuyuIzO4Ds+w8H8fJ2Yj2XxaQcPDEqohZ1oVM4NxukkNfiLM++1hMj3st5Lh16eCniCoweLKSUHj91QiWptucHoNJslCxcnG3Ue13NNi9VF4xexvHue7NUnOJj3D8fyfYp27/bIu7M9kmrqu1fi/asxX2f1d+1AgoooMDgBPjbYlBAAQUUUEABBRRQQAEFFBjpAp08ooYOwNso574sz/Kt4yNaI95KB+Es9ps+YANJPtBxun62PRzrfSKeIZ+zsrz4oH3qJTy+Kdsvt+6gDTmX+5Y6ZV6yhMc4lYvb13HqfmV2nu3jyDt1OvcZZjDgRYSsjM+SwC3pglrUhbql+zYXKF9rYbPs6rKI7YhX0cyMsokUneAHhn7pODk7RHmOpv57ZPvl1rtHHE85dkjnuWYxC0UbGYFyVa3Ny9WIPD6NU7+P62K2xW5jmGmUpbM04pRsO62r3f61aM9a3PfFBm4roIACCgxcgL8tBgUUUEABBRRQQAEFFFBAgZEq0BGxCQt9g3EOS/rm8oV0BG49Jb8/Uos97OXCZHZRpulZ+/S7Dl9YFPEdypA6yFN4Ne+cuJpG2zS/u/z/r8g/guiM7AyF/fmeEU9k+wNZk3eaCUB/cS68jscI/fLCiJUK+8ut6H1/BZ0B07MTlHtG+7LrowZ1uT7Li3qe1tHHI6A4t9/4iPOJx6SLZYH9Ab2bYtmV+a2ZEb+hnjemvZQ29f8beb23d7xsP50jzqnZPtd8o61ohkp2vF7rard5mXpMwuBKLFrLnE8vfN9zXP7+W7EQ5z+MCHH79QhVb/9atGcN7vseCO4ooIACCgxMgL+9BgUUUEABBRRQQAEFFFBAgREo0EKnYHoPwbf44Ja+QT+bnumPTCnqcB6BZa5bkbB6FU53ZAXoivgL239lPYbO1/mtEeemc8RLL+HdJG1zbqO2CmesdDKwwCWHputoh0Noh9+k7eJA2h8n7TRTgCxzYTZ5TOfYTF4m8Y+xEalzd0tOHsOx/Qtx0urmFyJ2mRYxr+jYgDY7Iz7LBacVXfQkeX+D/Zkv8r4BbqCx7G/G/rvIO70se61C3PmLI/Zm0OSqomuTU9XqQlo7k/ZV5Ekfd859LmX5JpvncewRPDfF5NVsH86xKSkOAZL4LssX0g6BfuX4O9ed0xbxq878LI6t0wnKvxXl/2/a7iswkLQjbXAh+axbiEdy8Wfy7+TYlbTR0wyabEdZjuQ4zZEPRPoXW28mX7JaFjpqeC8ty6X8VmeV25z00syYnCkm38XhEyl36r+A5Y8Y/YPdtMxlezfitLE+iIWxslx4BqD9aItrCvu5FU5Vb/+UcLXbM6VJWat236f0DAoooIACgxfg74tBAQUUUEABBRRQQAEFFFBgJAlcGrEF39g/mzJljxH6A9sfaovgncqGcgKd+U7VXUucv701/2ikmg5cpHyZSTGNzvFfsVn8XP90qmSgQ/gBTqQXq99TMkLlB1s6I35LdF5fUXGYt4Ty7sGMi1JXVLMudAh/jA6I75XKp8SxZ3B5Bx3jd2P5EOfpQ+8Ov2iNOKyzqJOdzvKKBi5SCvxsrc/PVnLK/WylY/2Ej7v28wAAQABJREFUm5lG8/a9GaToHY861WwQrHdeZfar2uadRaaMEm09Lj/AdWKZvHscpr1uo7325166t8eJwg5WVW3/LI9qtmeWZjXv+yxN1woooIACAxco/uM/8Ku9QgEFFFBAAQUUUEABBRRQoGoC7XTQpg4+OlbTy5Z3ozPwcToD306n9jsdtOifmQ7s9+F1Lm7ZI5tyF7H/aO+rObaESBXPcCB+mgGQC3TAz8m2e6/puL2QTt+dif/P3ueK9zn/PPuf5g3Zr6JthzpokZLuamU2BfV/K9vXpgN9hDnk/yPi7lRu0CJdW826UMfTSfJglttT2qUCZVrCcj7LG4nfSf6PsJ2uuY+FzVjI/9L7RNJO1gZd1CN7MXo61WfYi3uBa6cQ6TTW3S8n730R59KskONZdig1aFEcnzg1uZeK8yizXfU2z/LhHl9CG3wW23dQv+5HPWXni9YLifNL9nemvUoOWqS41W7/LP9atGc17/usnK4VUEABBQYuwN8igwIKKKCAAgoooIACCiigQL0FLuNROXzD+Vw+pL0xlYXOwl/ziJ+P7seLuOtdtkbL//yIVXg00npYrozjS3SsPpc6OIe7Hnxze2O+LdhKvqksCyjHiqxT525a7mwbQIc78QcUCvfTZtR/U/Lkv1iDZRb7DzOw8nc647m9Kg/Vqks7g3OTI3Yl581YXkl5VmL9OMssCnk1JrPYHpYwPWLC2vSp00ZbkuHLaZ8WynDXEgZX0jJQo2EpdB+ZDLXNO4tmXPSexdIR8XpstiP7TQr38RPsP0T7XUablR0A6l3c9hq2fy3as1r3fW8H9xVQQAEF+hfg74xBAQUUUEABBRRQQAEFFFCgXgJ0CI6j8++TfDg7hWUFtmfRMXg03/r9W73KZL4KKNB8Ap19DFw0n4Y1VkABBRSotwBf6DEooIACCiiggAIKKKCAAgrUQ+DyiG0YrEizLLYv5H8Ojw76xL7LHoNTj2KZpwIKKKCAAgoooIACdRVw4KKu/GaugAIKKKCAAgoooIACzSiQHmmyTsRnqPvnWcaz3M+jaY5klsWMZvSwzgoooIACCiiggAIKFAs4cFGs4bYCCiiggAIKKKCAAgooUGMBHg31BmZYnEM2r2NJLxY+k3cOnNBoz9OvMZPJK6CAAgoooIACCjSxgAMXTdz4Vl0BBRRQQAEFFFBAAQWGT4ABi4nkdjLLiSxjWe7mfRaHT+FFyWwbFFBAAQUUUEABBRRQoCAwRgkFFFBAAQUUUEABBRRQQIHaClwRsSs53MBMi5NSTgxYfO/JiG3bHLSoLbypK6CAAgoooIACCjSkgDMuGrLZLLQCCiiggAIKKKCAAgo0gsCFESutHPElBiw+SXnTF8duL8yy+FcjlN8yKqBA8wjwu2k6v6vWp8ZzmRL2UPPU3JoqoIACCoxEAf4mGRRQQAEFFFBAAQUUUEABBaotwFu2J/OB62yWzegQXEz6354d8YWDIhZWOy/TU0ABBRRQQAEFFFBgNAk4cDGaWtO6KKCAAgoooIACCiigQN0FOiJWZqDiNKZXfITCtLB9E6MWH5jKo6LqXjgLoIACCiiggAIKKKBAAwj4josGaCSLqIACCiiggAIKKKCAAo0hwLss9qKkt/JB66OsF7Gc8t+IHR20aIz2s5QKKKCAAgoooIACI0PAGRcjox0shQIKKKCAAgoooIACCjSwwGURq42P+AZVOLpQjeuYaXF4G4MYDVwti66AAgoooIACCiigQF0EnHFRF3YzVUABBRRQQAEFFFBAgdEiwKOh9mPQ4nbqczSDFS8tjTjpyYhdHLQYLS1sPRRQQAEFFFBAAQWGW2DccGdofgoooIACCiiggAIKKKDAaBC4PGKtsbxwm2nshxXqc3WaZTEl4q7RUD/roIACCiiggAIKKKBAvQSccVEvefNVQAEFFFBAAQUUUECBhhVglsXbGbS4rTBoMY8Bi+M7I3Zz0KJhm9SCK6CAAgoooIACCowgAf6dbVBAAQUUUEABBRRQQAEFFKhE4JKIdSZEnMEHqf9J8Rmw6FwSccSeEfdVcr1xFFBAAQUUUEABBRRQQAEFFFBAAQUUUEABBRRQQIGqCDDL4l0sT3UyXsEyh+2PkLBfBquKrokooIACCiiggAIKKLBMwH9kL7NwSwEFFFBAAQUUUEABBRRYTuDSiPWZZfEjTkxLJ5llccliXsQ9NeKh5SJ7QAEFFFBAAQUUUEABBRRQQAEFFFBAAQUUUEABBRSolcCMiEOZWfFsJ+MVhfVRtcrLdBVQQAEFFFBAAQUUUCAvME4IBRRQQAEFFFBAAQUUUECBngKXRbyCD0s/Zor63oUzFy6K+OBeEY/2jOmeAgoooIACCiiggAIKKKCAAgoooIACCiiggAIKKFA7gZbOiKNY5rCkWRbpnRbvC4MCCiiggAIKKKCAAgoMm4AzLoaN2owUUEABBRRQQAEFFFBgJAtcHrEpH5B+ShnbCuX800JmWTDl4smRXG7LpoACCiiggAIKKKCAAgoooIACCiiggAIKKKCAAqNIoD1iDDMrPtIZ8SJLF8sTvNviHWFQQAEFFFBAAQUUUECBugjwyFaDAgoooIACCiiggAIKKNCcAgxQbMWHorNZ3pQEuiJ+u4RBjD0jnm5OEWutgAIKKKCAAgoooED9BRy4qH8bWAIFFFBAAQUUUEABBRQYZoHpEWMnRXycbE/lQ9FE1o8yaHFMW8RfhrkoZqeAAgoooIACCiiggAK9BBy46AXirgIKKKCAAgoooIACCoxuAR4L9Vo+CJ1DLXdMNWXA4ueLIz42NeL50V1za6eAAgoooIACCiiggAIKKKCAAgoooIACCiiggAIjRuCsiPE8GupznRELWNK7LB68ImKvEVNAC6KAAgoooIACCiiggAI5AWdceCMooIACCiiggAIKKKDAqBe4LGK7cRHn8gFoWyrLJIv4CdMrjt8/4oVRX3krqIACCiiggAIKKKBAgwk4cNFgDWZxFVBAAQUUUEABBRRQoHIB3mUxYZ2Ikxip+Bwffsaxvperj2yL6Kw8FWMqoIACCiiggAIKKKDAcAo4cDGc2ualgAIKKKCAAgoooIACwybAY6B2GsssCzLcmmXp0ogzXow4cVrEvGErhBkpoIACCiiggAIKKKDAgAWYLW1QQAEFFFBAAQUUUEABBUaPALMsVpwU8UVqdDzLWGZZ3MWgxeF7RFw9emppTRRQQAEFFFBAAQUUGL0CzrgYvW1rzRRQQAEFFFBAAQUUaDqBjog38yHnHCq+BQMWS1h/l+XzPBrqpabDsMIKKKCAAgoooIACCjSogAMXDdpwFlsBBRRQQAEFFFBAAQWWCVwS8bIJEafyAedjHG1h0OJW1h9gwOLfy2K5pYACCiiggAIKKKCAAo0gMKYRCmkZFVBAAQUUUEABBRRQQIFyArzLYsoKEbcwaPFx4ixm0OIrsyN2cNCinJjHFVBAAQUUUEABBRQY2QL8296ggAIKKKCAAgoooIACCjSewEURq06M+BrfxvpQofT/Se+ymBJxU+PVxhIroIACCiiggAIKKKBAJuDARSbhWgEFFFBAAQUUUEABBRpGgFkWbxkbcRYF3ogZFgv4YPMV1l9llsXihqmEBVVAAQUUUEABBRRQQIGSAg5clGTxoAIKKKCAAgoooIACCoxEgb9ErLFyxLco2+GpfAxW/Is3cB++Z8TtI7G8lkkBBRRQQAEFFFBAAQUGLuA7LgZu5hUKKKCAAgoooIACCihQB4EZEfszaHEbWadBi/k8FuozMyN2ddCiDo1hlgoooIACCiiggAIK1FDAGRc1xDVpBRRQQAEFFFBAAQUUGLpAR8TafHA5nZQOLqR21cKII/aKuHvoqZuCAgoooIACCiiggAIKKKCAAgoooIACCiiggAIKKFChAIMW/9MZ8SRLF9tzWT7GpX4Bq0I/oymggAIKKKCAAgoo0IgC/oO/EVvNMiuggAIKKKCAAgooMMoFGKB4OR9Wfkg1D0hV7YrgfdxxZFvEA2nfoIACCiiggAIKKKCAAgoooIACCiiggAIKKKCAAgoMiwCDFod0RjzN0sXyPPvHDEvGZqKAAgoooIACCiiggAIjQsAZFyOiGSyEAgoooIACCiiggAIKMECxIR9QzkJi34LG35hpcTSzLGapo4ACCiiggAIKKKCAAgoooIACCiiggAIKKKCAAgoMm8CMiMMZuHiuMz/L4hm23z9smZuRAgoooIACCiiggAIKjCgBZ1yMqOawMAoooIACCiiggAIKNJcAAxSbUOOf8MFkz1RzZlj8mdWHmGXxeNo3KKCAAgoooIACCiiggAIKKKCAAgoooIACCiiggALDIdDSyQAFAxcvsE7vsniS5T1hUEABBRRQQAEFFFBAgaYXcMZF098CAiiggAIKKKCAAgooMLwCDFZszgeRs8l190LOv58XcSwvtpg9vCUxNwUUUEABBRRQQAEFFFBAAQUUUEABBRRQQAEFFGhagfaIMQxafLwzYh5LF9uPsby9aUGsuAIKKKCAAgoooIACCpQUcMZFSRYPKqCAAgoooIACCiigQDUFLot49biIc/gAsnNKtyviVy9GHLdfxLPVzMe0FFBAAQUUUEABBRRQoPEFHLho/Da0BgoooIACCiiggAIKjFgBZlQwXhGfYvkSHz5WYMBiFssxUyIuGrGFtmAKKKCAAgoooIACCihQV4H0IcKggAIKKKCAAgoooIACClRd4PKIbRisOJeEt0+JM2Bx9vyIT/IuizlVz8wEFVBAAQUUUEABBRRQYNQIOONi1DSlFVFAAQUUUEABBRRQYGQInBUxfouIz46JOJkSjWfA4gGWI5llccXIKKGlUEABBRRQQAEFFFBAgZEs4MDFSG4dy6aAAgoooIACCiigQIMJzIjYgQGLNMvidSyMV8SZCyI+vXcEr7QwKKCAAgoooIACCiiggAL9C/ioqP6NjKGAAgoooIACCiiggAL9CPDCihVWivgCIxWfIepYlrsXRxyxZ8RV/VzqaQUUUEABBRRQQAEFFFCghwBfhjIooIACCiiggAIKKKCAAoMX4F0Wu6wYcSMpfI4p3S1LI777ZMS2DloM3tQrFVBAAQUUUEABBRRoZgEfFdXMrW/dFVBAAQUUUEABBRQYgsCFESutHHEKHyo+QTLpS1G3M2hxOO+y+NcQkvVSBRRQQAEFFFBAAQUUaHIBBy6a/Aaw+goooIACCiiggAIKDEaAd1lM5sPE2Syb8XgongoV35of0b5vBK+0MCiggAIKKKCAAgoooIACgxdw4GLwdl6pgAIKKKCAAgoooEDTCXREMMkivsoHiWNZtzBocVOaZbFHxH+aDsMKK6CAAgoooIACCiigQE0EfMdFTVhNVAEFFFBAAQUUUECB0SfAuyymUqtbGbT4COtFDFp86b8ROzpoMfra2hopoIACCiiggAIKKFBPAWdc1FPfvBVQQAEFFFBAAQUUaACByyJWG8ejoPjwcGQqLgMW/2b1gTYGMRqg+BZRAQUUUEABBRRQQAEFGkzAGRcN1mAWVwEFFFBAAQUUUECB4RTg0VD7MWhxWxq0YMDiJfL+3OyInR20GM5WMC8FFFBAAQUUUEABBZpLgM8gBgUUUEABBRRQQAEFFFCgp8DFEWtOiPgeAxbvK5y5moGLwxmwuKtnTPcUUEABBRRQQAEFFFBAgeoKOOOiup6mpoACCiiggAIKKKBAwwtcEXHAChG382EhDVrMY/lkZ8RuUxy0aPi2tQIKKKCAAgoooIACCjSCAF+gMiiggAIKKKCAAgoooIACEZdErMOAxQ+weGfyYIZF51IeEcXLt+/VRwEFFFBAAQUUUEABBRRQQAEFFFBAAQUUUEABBRQYNgHeZfFulqc6Ga9gmTMj4sNk7hedhq0FzEgBBRRQQAEFFFBAAQUyAT+IZBKuFVBAAQUUUEABBRRoQgHeZbHexIgfUfW3Fap/6aKIo6ZGPNSEHFZZAQUUUEABBRRQQAEFFFBAAQUUUEABBRRQQAEF6iXADIvDWJ7tZJYF6+dYjqhXWcxXAQUUUEABBRRQQAEFFMgEnHGRSbhWQAEFFFBAAQUUUKBJBHiXxUYTIn7Ch4G9U5W7Iv7CLItj9op4tEkIrKYCCiiggAIKKKCAAgoooIACCiiggAIKKKCAAgqMAIEW3l1xdCfvsGBJsyyeYnnvCCiXRVBAAQUUUEABBRRQQAEFugXGdW+5oYACCiiggAIKKKCAAqNW4PKITfnH/0+pYFuhkn9cwgu494x4YtRW2oopoIACCiiggAIKKKCAAgoooIACCiiggAIKKKDAyBJojxjTGfFRZlbMZd3F8gTb/xMGBRRQQAEFFFBAAQUUUGCECviOixHaMBZLAQUUUEABBRRQQIGhCjDLYsuxEefwj/43pbSWRvwfy0eZZfH0UNP2egUUUEABBRRQQAEFFFCgVgIOXNRK1nQVUEABBRRQQAEFFKiTwPSIsZMiPkH2X+Yf/BNZP8pjoT64R8SFdSqS2SqggAIKKKCAAgoooIACFQs4cFExlREVUEABBRRQQAEFFBj5Arx8+zVjIs6lpDum0nZF/IzVJ9oinkv7BgUUUEABBRRQQAEFFFBgpAs4cDHSW8jyKaCAAgoooIACCihQgQDvreDd2/EZ/oH/BdYTWB7isVBHT4m4pILLjaKAAgoooIACCiiggAIKjBgBBy5GTFNYEAUUUEABBRRQQAEFBifAoMXrufJc/nGf1l3MsvjxnIgT9o94YXApepUCCiiggAIKKKCAAgooUD+B9K0sgwIKKKCAAgoooIACCjSgAO+ymLB2xMkU/bMMWqR/29/HoMURbRGdDVgdi6yAAgoooIACCiiggAIK5AScceGNoIACCiiggAIKKKBAAwpcEbET77I4h3/Qv4bi81So+AHTKz47LWJeA1bHIiuggAIKKKCAAgoooIAC3QIOXHRTuKGAAgoooIACCiigwMgX4LFQE/lH/JeYWfEp1mNZ38WoxeF7RFw98ktvCRVQQAEFFFBAAQUUUECB/gXG9h/FGAoooIACCiiggAIKKDASBBi0eDODFX+jLG9jSe+y+Db77+IF3PePhPJZBgUUUEABBRRQQAEFFFCgGgJ8zjEooIACCiiggAIKKKDASBa4JOJlK0ScRhk/wjKGAYtblzDLYs+I60ZyuS2bAgoooIACCiiggAIKKDAYAR6La1BAAQUUUEABBRRQQIGRKsC7LKYwaHEL5TuOZQmDFqfOjtjBQYuR2mKWSwEFFFBAAQUUUEABBYYq4IyLoQp6vQIKKKCAAgoooIACNRA4P2KVVSO+yT/Yjyb59O/2G3iXxQd4LNRNNcjOJBVQQAEFFFBAAQUUUECBESPgwMWIaQoLooACCiiggAIKKKBAXqAjYh/+of5j9jZiWcgsi1NYf70tYnE+hv9XQAEFFFBAAQUUUEABBUavgAMXo7dtrZkCCiiggAIKKKBAgwkwYLE6Rf4u/0h/fyo6Axb/KrzL4va0b1BAAQUUUEABBRRQQAEFmkHAd1w0QytbRwUUUEABBRRQQIERLzAjYn8GLG4vDFrMZ9DiBN5l8SbeZeGgxYhvPQuogAIKKKCAAgoooIAC1RRwxkU1NU1LAQUUUEABBRRQQIEBCjDLYm0GKf6XbxS9J13K9t8XRRy+V8TdA0zK6AoooIACCiiggAIVCnQRKoxqNAUUGGaBFsK4Yc7T7BRQQAEFFFBAAQUUUKAg0BnxTjbP4NtEk/jk/CLrz7ZF/IBjfpAuGLlSQAEFFFBAAQUUUECB5hNw4KL52twaK6CAAgoooIACCtRZ4PKIdfmH+A8pxoGFosxYGHHk3hH317loZq+AAgoooIACCiiggAIK1F3AgYu6N4EFUEABBRRQQAEFFGgmgY6I9zKz4nTqvCbLnKW8y2JKxI+bycC6KqCAAgoooIACCiiggAJ9CThw0ZeO5xRQQAEFFFBAAQUUqJLAFREb8B6Lsxi0eGshyb8tiDiGWRYPVykLk1FAAQUUUEABBRRQQAEFRoUAn50MCiiggAIKKKCAAgooMFiBGRFvnB4xtq/rmWVxBP/wvq0waPEsL7B4f2vEvg5a9KXmOQUUUEABBRRQQAEFFGhWAQcumrXlrbcCCiiggAIKKKDAkAUYsFiRwYjfrRPxyVKJMcti486IS4nzU5bVGLA4/6WI17RF/LxUfI8poIACCiiggAIKKNDoAosXL46uLv7lS0jbaTEoMFABBy4GKmZ8BRRQQAEFFFBAAQUKAmvzfgoGJDbmY9kpvHB7yyKYFmZifJh/bN/Ksamcf4rlPQxYvH2fiMeK4rmpgAIKKKCAAgoooMCoEhg7dmy0tPCvZELaHjPGLuhR1cDDVJn8HTRMmZmNAgoooIACCiiggAKjRaAjYkP+MX0X9Vkp1YmBiX/MjNh9csSmHD+bQ7un44Tp8yI+sm/E7Pyu/1dAAQUUUEABBRSotwAzAvjnm2G4BDLubEBjuPI1n8YU4D5p8eXcjdl2lloBBRRQQAEFFFCgzgJ80v0GAxS5QYtUFLbfxKDFeax5dUWsyPnHlzLrYo+IP9W5qGavgAIKKKCAAgoooEBdBRy4qCt/Q2bO5yqDAgoooIACCiiggAIKDESgI+LN/EP6qnLXMGDxy4URH+exUM+Ui+NxBRRQQAEFFFBAgfoJOOOidvZz586NiRMnxrhx+e/ML126NPfoKGdb1M58tKXsjIvR1qLWRwEFFFBAAQUUUKDmAu0RYxi0OL2PjG6YEnEY55l0YVBAAQUUUEABBRRQoLkEnnv22VhzrTVzAxddDFosXLggVpiwAlOU/Q59c90JQ6vtoB4V9aEf3rzGiktjlzFjWrbtiq4tuOvWb2npmsR6NfZX5hacSLHG80ltPGvevtKSPtx5Zw6trbxagaYU4PdI+o8vrsZSfoksYr2IAy+1RMtcjj/f1dXC88K7HmX/7qVLu26aPyauOfPD2zzblFgjrNKf++JvaCqDAgqMBoHTvnSw/44rasjJEYezu33Rod6b23VEHN0WcVbvE+4roIACCiiggAIKKDCyBNJH99Tt0vsjfPYRgK7dLrZbluSK3dWVXrwdkfY4E+lNIanj9+mn58Saa64aLSQ1buzimDCe+cdd42LevGfjv/f8N17zqu1jwsSVC/ksILdxdBaPi8VLFuQ6jVtaxude4r10SVcu/dSbvHTJ0hgzNuXPZSlP9seyv3DBgpiwAgMhZcvMKUPDC1Q8cNHa3jHuDWuvfWDX2K4jqfWUlrEtY1Pt6SwsIOTXy/YdqSjAuFJAgSEI8Jsl/Zd+36QlDYamA6uxWjdt5Qfr879/xoxt4UHjXUs+debNM1qWtPz030899cfO9rbF6RqDAgoooIAC1RC4jL9B/NX5Sn9pEeebl0RcxMsuHu4vrucVUEABBRRQoOkE0ofY9PmWz7XBkyVjZ5YNWVJP7BMsN7F0sNzM8hJLvseYjV5hAvubsOzLsiPL+iz0Fuf+/XEd60tZHmdJafTuleaQQYF0W6Sl1MBF0klDE+lc6pJJt1bq+R1bGEfIhi5aYgk9Lw/Puo9BjA1j7bXXZqbFAuI+T/SJMX7sS/HEE/fGdq/fMZYw82L+Sy/G7GcfjA033JJz4xiIYKCC2LmvrFKU9DiptJ8yaWkZkxu8SO/HGDuWMhSKMm5c+vFJO71D7sqeB1P1UihxKn/C/49Ugf4HLtrbxxy/zoGH0binUIkNiwcmRmqlLJcCCjSvAL+j0l/TqfwdnfqGddea9YYf3vyFbz35x59He3upv2jNC2XNFVBAAQUGJcBHpC9w4ToVXLwKPQk/Jt5bKohrlCYS+NCv37zG+BVW3GVMS2H2etcYZq/HJD5T88UMZq93xcSu9JXDri5uNz6tt3TxfcP8VzWaiMmqKqBAFQR4Igb/pe8+0x3Y0rKopatrEV+apgO7ZS79d8xej9l8NTo/e72r66ZFC+Zfc+Yhf3f2ehXs+0kiDTZsyfJ+lveypMGLF1lSr3AKK7IcxJJ6ha9k+TZLB8s8liyk3uT1WD7KchTLqizzWVIa6dybWY5gSb3Hv2D5Ost9LFkXLpsGBYoFUldKqW6TdDtxvCXdWukWJB6DES3cWi3sz184N1acsHosZYbFams8EY88fhcDF7vzW+fpuOiCa6NtyoGxaNGzcdftt8Y+ezNIwayNB++/J+6+/6bYeKPNSS/ihTnPEmdRrL76y/mVNCbGjCPPNMOD0DKGWzYrFr/OxnJu8aKFuZkZ+Vs9F43/pXL2Cr3v9rTv4EUvpJG92+fAxSfOuH7zMWMm/Joq7DSyq2HpFFBAgVICLRvyR+mcT637jg8uPWPaId89dod7SsXymAIKKKCAApUIzIjYinipg6Bk4LMQ3zWLWXweeojth9h+8KKISXwFkscaGppZoLW9ddw2rx13IN8aPJIP4lMYhki9A/wzhbul8AE6v8rv57a7xyoKEZoZ0LoroMCgBHKDnrnfN7kvd41PY6D8RinMXufXT+7XS76zj8FUHrvysiUfO2+vGV1dS396862Lmb3emf6uGaonkMRXZ5nKcirLpiyPslzO0sHyX5bUT5f64PZjSefbCus0ePELFr7CnvvL8RrW32RJ559iYVJoXMtyL0uatbEDy7tYNmJJAxtpNsYBLA+wGBRAIPXiZyH3y4Cd3D9PWGf7xedT/HR7Mu6WhtT4jkW0rBQti/g1wUyIMQwwrLPGKvHYI7dx8vmY+8JsBim6eLfF/FhrzdVi7vOz444brolXbv5axiEWxpxnnuKaNEbXFbfc+O+Yt/ClmLrngbn9/EDG4tw7MhYzoMFjwXMDFWOYndHFP7dbGPzgqx2E9L/eZU3HDaNFoOzAxfFn3DStq2XMb2j+9PAxgwIKKNCwAvwe22lMy4Qb+L128LeO3fbChq2IBVdAAQUUqLfAFynAnXxse5C/Ld2DE3wJ7CE+Nj00k86H9mXfCat3Wc1/JAi0x5jjXrP3YXy4PoV7ZsNckdgwKKCAAiNRgLGL9FXqqS0tY6du+7qxs7b5/d5f+N/bLmH2evf3nUdisRulTOm3/9osH2A5iSXt81TJ3OzMi1mnmRFZmM5GGsw4jWVblo1ZPsXCex7j/wr7X2M9heUWlrT9N5Z0PoU1WFJ/35tZ1mdJvbuvZzme5SMshqYXSIMQaUkh3YppKYTscLafW3M+DVTwcO7cE85yAxfcVi0rxMQJk/Jf3eG3R9cCBjIWp8k/q8R999wff79qZuz+prfE0sULYpWXrRS/+uW58cVTvh5rrvqyeITHSs1+9I6YtP7mzKJYEguff4Hr0tSKpXHrrTcyMNESO6+1C+fIhoGLpUvTjI8UmEjW/eS0dJsXlT13Phcl23Ld4AKphZcLnzzjpkOZkHwOTZ8NtS0XxwMKKKBAIwnwj/CVeezCn/j9dvh3jt32F41UdsuqgAIKKDAyBOgdOHhklMRSNILAh6fvvfmEsV2/pqzOXm+EBrOMCijQQ4D+oA0ZdD3n46/b64MLp7cc8sODLrmnRwR3BiqwChe8h+XzLOl9E2kAIg1MpPdP9A6p9/ZSljSr4rUsqW8uDV4cxJJmV6Svpe/JcitLGtC4iiV1JaeQ4h7GkvJZk6U4MAnUoEAamchulzSmVQglByzy59INma7ITxhdHOPGp+5kxtpaXoylC3ls01gmco1bMR55eA6PcXo55zaISattwPssXmIm14QYs+L4eOih++PFOeNiPNemGRgPPnB3XH7JX+Ldhx4bG663dtx7350xa9Z/Y731NogX5j7HQMVSHnaXZle0xNVXXxkTJ64Y22+/HZM70tM0F7OkOWWpZIXQVVSX7FjxOtUvN8aRNvqobPE1ue1+0l0uvgeqKbCcfpppwagWgxb5l29XMzPTUkABBeopkH6vpd9v6fdcPcth3goooIACCigwugU++oe9po0f03UDn5AdtBjdTW3tFGgCgZad0u+z9HutCSpbqyrybJ3cO6++yDr1/57L8lmWUoMWHM6Fxfw/DVI8k9/N/X8q//8KSxq0SLMrvsVyNUvWC81mbM5yLEvvQYt0Lj2myqBAQSB1+vfdgZ9eiJ1Cet3EIjYZRmA+BPMd2E+vz0kDCGPGM1bGY6JSuPWu+2PO3PzMiOl/vCAmrbl2PPvYY5zhR2Dx4th2221i/vPPxIRxY2PChPHx4rwX6KUZH/Pnz42rruqMO+64JZYsfSnWWHMVZlwsjoWL5sW8+c/HnBeeJu6zDFqkkYeFcctt/4nrr/9nLv9UhyVLlrCQ7/+z9x2AcZTX1mf7atV7b5bce8E22BjTezc9QEgg7aX9KS/JeymQvOSlvlQIhN6bgYApNuDeuy1bsiXL6r1L21db/nNHXlsScsXGwv6+5Hpnp35zZ7TM3POdcwTIONBn7TM8LZ072MLnLC5A4WnZTM5Hzu7QvIObqInTloEBwIV4WvTJQynQ4rRdEXVglQGVgVOaAQEv5HdOfu9O6YHUzlUGVAZUBlQGVAaOPQPyTB7FSGSQb6/pj8tQNtU+hxn4zuuX30NH7bc4QlCuqWoqAyoDKgOf+wzI75n8rsnv2+f+ZD77E5D/xo9l/JQhgv7vMP6X4WQcrdVzhep+KwmbYiIji/EmYy2jr0rMiQNtDj8P99+fhvBK6vNsz8DQxXmSHLR6v2RHavp+f4BABUEBfu8DLoIELwzaslAwAgE/Tbk1aShKSHGlDqcDLfSykJaXn426+ib0akplIRp3J6OjvRs+oh69vgBBCAPZGb08iJOm3LHo7Oog66IMJgE1LEa8/8G7+HjpYlgIcCQkxhPE8BIU6RCYAnv3FiPCZuax5fYPYNO61ajcV8ppAg9BMkGkMwF6Y3D/IUaArBBSODRgI0iwRSIU4rkFBR8MwE/Qw899+blNiPM0RgfnC5Ch2unNwCHg4sEH9WLELXIqp7dL6ugqAyoDKgOnNgPyOye/d+Dv3qk9ktq7yoDKgMqAyoDKwBEzIIWMnzMWMZYPCjHZ/B1DZCJU+5xkQBuRrMNTfNaQ4pJqKgMqAyoDZ0wGtN81/r4p5sVxX1ILt/gGQ/57vo8h/23vZBxLk6oqK7ufaGLQLZ4W/UGN8EpyvKHec6VS/Vx4JfWpMjAgAwdwjIPABYkNOn2Q/hJ+BEJOFvM9sPCuokgTH3BojM07U09swMgfBhn63usmWMDP/MJM7Kst0XadlJrKlawwmKTMHIXauiaCEJHw+yg1ZbYiOiaeYIWDzA2T9t3pcFEOygqX18Vj+tHY1AiP1wMf/TFAk+81a1dj85ZNmlxVTEwMZaI4WxgW9L7YuHENeyZ/LgQuaNy9Yc1KtHe0cD9ezZpDjMM11xcuDwbZf+k3tfAEPOFetHkmk4WgiYkm4Ace4YjcyDFUO70ZOPhj9r3Um7/I66GozKf3eqijqwyoDHxGGZDfO/nd+4wOpw5zFmRAT/MwI0eHqKYyoDKgMnCUDKRw+c0MGSUpb3YPMa5g5DJkJKb8kIi8wwzGfzJ2MV5kjGSoNowzIJ4WfLl6iS+56j8Gw/g6qa6pDKgMnHgG5PdNfufk9+7E93JWbSk1t3MYtzN6GM8yihnH2oSFmT7EyjK4Yc8Q82XWasZgZoUMS3+Z8QxDNZWBQRlgdeRA0/OO7cMwRDLJh6DOS3aCi8BFFx9uOhjVsKAMeuM+hIxbEDSsJ1CwGabICnjd5XB56lBfXY1/PvFPvPryW3B7glj46hvwdDRzOkDJJw+8IRMMkUkoKd6HEaPGwesTgMTG/Rh4PD4MW6xITk6GjywJm83G7xFITExEcfFutLW1sac6xMRGY//+cixaROIROx2fFI/IaAtJFg76bYAAx3q0tNQTkBDQIwCv146KMrGE6WuELTSwQlgc0kxGM/vn4Ln2MSwE1JAIaIwMxbroy9rp+VejoM9/cLlRjxBfmg7drKenO+qoKgMqAyoDn10G5HePv3/PrXjwQoHmVVMZOOYMpKbGYczIDBQWpCE2xsYHKgtHh5i0kRtOp5ejO+zo6HRony2tPSjZU8sHowPDWI75KGrFzzID0dERyEiPP3jIyqoWPiyrn4aDCVETJysDd3BHAkZMYMhzuPwwbGb8hVHEkBGUcuNZGUmMixg/YMh25zK+wBAta9WGWwYehL7PiFvJQw23S6P6ozKgMnByMyCyUdrv3YP879KDHL6s2pEyIED21xhizL2D8TzjeJo8C4jTcf8mzw4rGeX9Z/abFkDjQYY8Q+QwBDDZyniP0afhwwnVzvYMCKYmAlAD68Aaw4DF+yCZCnrSKoy6Xhg1X4kueDxlZD+sQ1fXVrjsDdyaGJwAHfwViIq8GDbrjejpKEHQHcDH72xEtC2RRtup2LhpJ/JH5cBkjkEzpaJ2bCtCZl4OmRA27Z1Z3rmiY5O4P70mHRUMhGAleGE2m9Hd063JNcm0x+PlQMG+x+fY2Dhs3rwFfk8vrifAoiNAsa+sBLuKtuOSSy7XwAuQtWGxyZ+eH9u3bUFDQwOBkjHsr4hf9fIdvQTjxwsRSn7Ggoiw2njekpNDLSTv8JIq1U5bBuSKY0ZS0k38yDptvVAHVhlQGVAZOC0Z0GXJ798K4LXTcnh10M9dBvLzUnDlZVORmZFw2L5HRlogkZMt7xl9rbPLiZWri7F1e4UCMMJJGWaf+bkpuG3BeQd79ca/N2DbjsqD39WEysCnzEA2t/8V494D+5GiQw3jT4xHGTIScnCr4owtjJcYjzCuYsi6lzBaGKoNowx8d8JlX+TL/8xh1CXVFZUBlQGVgVOYAd1M+d37Cz586hQe5EzYtTAmrma4GK8zjhc4MHEbM6N/c/NLF2MoCSlZTyqvIkG5kRHH8DAaGX1DyzmhmsrAoQwMBC40HIPyS3qRYOItFuLtY3d1wOVajo62PyAqqp0AhQcJNo3oQFBBrCR08Dga8fTffon2ngxY/dkYPWYi9ldvRGRMAmzRHrz0yhsI0mzb7XbjDZp2d9g70dXjQkNzO4p27cHM2eMo22RCfl6BJtXk9fDRmI7gTjtlqtgpt9ONmOhYAhtye7NXLh+BDJp4RwkwYUKv3002RgvKyspw+VXX0l8jC932DmzfvBKTJk9BSxtJSKJvRc6IyaRDW3srPTQ+wMQJkzhPmk7z2IiNidWwHPG2CPLkjJSOUu30ZkDDjUKG0P2ntxvq6CoDKgMqA6cnA+r37/Tk/fN2VANJ8TffMAv3f/HiI4IWhzuv+LhI3HDtTHzv29di+tQRh1tNzR9GGZBrrprKwEnKgBSzP2Dc3W9/AkgIEPE3xlCgRXhVeVsSdkYFQwoVYxkXMFQbRhmY/+B8Y0ine2gYdUl1RWVAZUBl4JRnQH735PfvlB/o832AGex+DMPJWHicpyKARSRj8ENpEedVH2VfUnVuYuxlVDEUaMEkqNY/AyIFJaCFAAFyu/Q1CigRtJB5eg0Zq2fxf2PJLqzZ/Bpy8uoRH+eBmTwin53oGbGAliruwWGBs92CBjLWY8mykP3uLNkBkzUCVdUNVCUwYcKk6UhJyoDL7SHLopuyT7w1DWYUl+zFO++8i6KivQgGjNi9qwTVNbWwmsl+IPMi0hbD/tBZI6RHTGQsvTQEr7OgvaUF+qAeDkeP1nGTyYp2ghEut4PfI5CTkw2nswd//ssfyb7Qa9/b2ltQVbkLDmcn929BR2sb1zURTLHD3tODFctXkE3SwXnMDY8nXhwHcyNDjiSkhaf7f/afr630Wfxz6Lp9Fkc7nmOEUyXbDDXdf97R9qv/+iNFootw0dFWVMtVBlQGVAbO0AxcdOB38Aw9PXVanzYD4lvxxS/Mx7QpnwQcQhyFUd/QQZppHdZvLMWqtXuwq7gGDY2dQ8oMCYBx0/WzMOuckZ+2W2p7lQGVgc9HBuazm28zxjOk8CDP6esZVzLIrz9ik2f0ZxjvMb7DiGJIgWg+Q7VhlIFJE4w38dVfsdeH0TVRXVEZUBk49RmQ3z35/Tv1R/pcH4GlXc1z4kl+Vh7nmRRy/SlDbLOc83YPMV/NOoszIA+YomoUYC3bz4J/r59W1fwU1kCAC/qmCTiQsRDgfB8NrQMcO9Pt6UBvwI5QL0k8AeJrATeCfh+WrlqO/R1teH99Eb7x0F/hs+bKIti4f187MQdiG1RMho3wmtOhhynagFVbrfjHU0vx0qJ3sHnPTppy2+CxexEVG4HGulZU7KunHFMEYuKiCDJ0YkT2OKSn5tKrohL/98eHYTbGYcPGnXjk0ado0B2ikXcsLPS+cBOs0IWMyM7IRkJMIs/UyP1EI8oaRdMdwfeMiI5MoXxzJLKy0vndhT2792nv4wYjtyVwYeP6EyeOxZNP/o1sjQ4ExduC8lJORzkMlJTSMUd7dxXDFsExQzQi9zl9+HjxR+hqaz6IXQR6e+F1kAHCT41qwm1kOhgIwE9ARuaJDFUYB+JX9qGPGOUW83I2mXfYdqRl2kbct7bzI31+cidyzMHHle+9vQLQHOpN33r9ZhxYJDWPAM8xyHOTOFILw2DhT1k7PC2fEnKE8Ccnj9qMkdCJLoLo7qmmMqAyoDJw1mWApkwGDmOR30EpDKmmMvCJDFx1+VSMyE8dMN/t9mmyTxs379N0OQcsPPBFRuzPmFaA+eePQ4w81fVrV18xDa1tPaio5IOQaioDKgNnagYu54k9y+j/A1LG719g8JXviE0Aij8y7hxirZQh5qlZpzEDNG+8/zQeXh1aZUBlQGXgtGXgwO/fa6etA8P/wLvYxXsZHJ+ueVgdT48ncuU5gzaQOmA9Q6SiVFMZGJABPdFEqiuxaf9oy0RaycCBeDqtXByC2WSAPxig/UMARrMRum4n2hzNSEhPpihZEB6jDmvXrsWIkYVYtmQlqToh/OA7P8GWTc8hwZWPkXmRiDDTNDsymnhBD/ShXvhdeaitjUZEbDEiAzZ4g5FobOrAawvfxpjCHGx9fSFmz5pNOahZ6CGzwc/iN71yKD/lQ0pUHD0jyaqgo3aE1QprhBE1FTV46KcPEpQwYn95Ff76pz/jsksuQW1NvSYXJX9K1ggbfPS8cGvm2jT7ZnVbb+hAwC9AgRGFI0ejpbUWGRnplLLyaeuvWbQavT43jMxBdATBE4ISr77yApUR7qKfRixzY0R7az1SUlIoSRVFaax29ouZC9BDg4yOZR99iHnnz+M0H9Olys/3fQEsTBE8NvvOA6HXS08Qi5nbyaN832qyqoXzwk2+a14i4RnyyXlak89Dl+/AzKE+wgCCfMoGQ28kxwo38dyU8wk3I6+19KPPi1PMygXIIOOGZudiTB7kfSLry3eDoQ82EBBDQq7fUE3mhk8hfOjwPFlfpsM9Dq8n84/U9MTfJh9pBbVMZUBlQGXgTM+A+h0806/wiZ+f+FQMZke0t9vx53+8iw8+3H5Y0EKOGOBwFwE2/vS3RVjy8Y4BnRBQ485b5yIhQQZQq6YyoDJwBmZgAs/pMUZ/0EL0rb/JqGAcrcno/cMxoqVgodowycDXX5wbzyrB4a7VMOml6obKgMqAysApygB//7TfwVO0+zNgtzLMupLRdgLnEsdtDpnm9e2Aw7o1z4pwTfAEdqs2OSMzIA7ZvCsEoNCFPzltYpE+FPSz+MyCMcGKurpauMkasJgjUVPKW9MTgMvhIXjhRI/BiL8ufBGV7h70EkiIsUVhzuQZyElIY6F6NF56Oxe//2c8Kju/jh//3o2FS6ahtufLaHZdineXOlFbb0BzYwBWYzziIxMQTU+KJso3RcREobhsD1545SUsXbkcby96WzPKjoiIgNfrQXJSsgZadLd3QCIjJYMggon9cqK6uoYeGLvx9DPPIi0tHd3dPXjjlVcoH6VHXUMjUlPTeDmDZFyQfcF37P0VPCeSnOVdvKW5BfHxlK4iw0QXMlAGqhvZ2bnwk1ESZE5CLMzX1tZAz2PpmLTIyAh88MF7XK8d3D3NxA1a3rweMlHYlnz0AfvLafH/YDW9qa6aslZ8rCdzA718zGdt32w1Qk+gSJr0wWyWfXP1A4CBFP2lhT+1L/KPVPTDcXDmkSbYwaO0A4fSMBa5Pfy8/tIEqPD5JAfCpOgDM+T+kPwJQNEHXLA70h9tfQE0WDU7wLj4RN/7VtP+lU2kZ8cSB3bfb+uhJwkB6QqHXqTmqgyoDKgMnC0ZUL+DZ8uVPt7zPHfWqAGb2O1uPP38cupl9lE9Byw8zBe/P4hVa/bQ2MuAi+fLwKm+FhFhxs3Xz8bjT38cnqU+VQZUBs6MDAjF6klGbr/TkbeUPzKO9Q9eNK0lBjcfZywePFN9P30ZMJqs5/HFTrHXT98lUEdWGVAZOI0ZkN8/+R1kFxR7/eReB/nvSgSDujUD2hZ+2ztgjvqiMiAZYBFeiul9491ZNmahORQKwOv0QMcCvMFgQ2nxLvz73bfh6LLjnnvuQXxKMh5Z+ALGTRyP80flI9TRg+mWFCxa9DGK1m0n+8KATc1N2LlpG3wOP+JtkxAbHYlK13hEFd6FKl8Ihp5srPp4KSzWAtz11WnYsb4Yyz9co0lVJaTEE3xwa8wIKxkJegIjAVJCHC4PyvbtJ4jSAAeBCAdZGNNmTMf0aVPQ1FQDi86MXl0vTHre/jwtE+WgPGQy7C3dh7jYWOyjtFR8QhyaCUzkFxZgyQdvU2YqhqCGHTfceAu8HjeBBwPcXj+8vZSBIjARYOXeYDYjKTmJbAo/JbN8hHUIVkTxz0zPqr5JwA4fnvzXo7j2uqsJhQTRSamsbVu3sMgfxCVX3qR5ZkRS5opGG1w/AuUEY7q7uzBiRB703LcAGiW7dmDU+ElkdVjkorD431eeFxDDYJBpuS7CdAh/yrxjLeELHCCt33Xum3Hg3/By7fL3zeOphZtJmCJstbV1qKmpobSWDUlJSRxMmQCr1UKQiwycA/0V0EOm+1gYfQwLo7Fv+/D+PqtPAS4yPquDqeOoDKgMqAwMzwyo38HheV1Of69GFaYP6MR7S7ahs6tvxMWABcfwZdmK3UhOjMGkibkH187LTeYokEh0dp7YPg/uSE2oDKgMDJcMSIFBAAox5O7fqvnl6f4zjjItEhBtjORB6wnwIR4Zqg2TDOh1OsVeHybXQnVDZUBl4PRk4MDvoAIuTm76x3B35w+xy6Wct3WI+WrWWZ0BFsjJIKAKNoMVZxbpgz4vPAwp/rc1N2LD+g1Y/MES7KLRdk9XD0aPHIP3KH208I2FePa917F4xXJsXL4K8y+4AJdedw3e5vfqljaMsMawoB2Bmso9sEzNoYTUOGypbkFczniSNexYsa8BW+t7EOhxkp0xDVfedD3mnn8B9pWUYeWWjbDqoxGgz0NLawv9IexwElQIsQDe0dONbgIWBlIb2ji9f3+FJqekIxuiZGcxRo4ajczMHM1wO4tG2x5KNZMggNauLs1s29HYjKTEJIIZe1G6pwLpafloaC6hhFUkvTAaKQkVoDeGFx1kcLhc9NmIiiVA4qKnhUcr+1sIpLhd/O50wutywBQbTaaEDol8XxdZJ4vFiJTUJCxbsQTjx07R7i6bzQh7V4smpXX1DTew/200+rZTJkowRj/qK8vwxpuv4meTJ/F7QAMnmgn8REVFc38RGmAhUkwiw0T+AuEKsmF4TtL6AAMBHmTGIQBCln2yhYGOAxv3W0Gbc2B2eGn4GD6vF3v27KU/5x76W/TS+NymARhmgi5xcXFIT08nkJGonb/JZNb6aTQO7EvY40JYGZ9VI3ARok5u+KQ/q8Oq46gMqAyoDAynDMjvoGoqAwMzEB0dwZEHh7QoZWl1devAlY7z2zvvb8GE8TkHqaKy+fix2VizTg2cOs5UqtVVBoZrBqaxY3cM0bm3OK9miPmHm9XIBd9l/IUhxYtOxiOMvzO6GaoNlwzoUThcuqL6oTKgMqAycFoyoH4HT0XahaZ90aAdy9jpHoZn0Hz19YzLQL9h8sd0blKilm1YTJYqtd9P82kfWIfHR0vex+YtW7Rie3NjE0JcxUo2wG9/9VsWpg1IjU5E/e5yTJo/E+U0tc5PMGFfWRm27t+HvKgkuGiofcOFV6EkrxB54wthJ9vAlhiLnVy+cfcOdBJ8WHDJpRhDkKGnvgl2KhM0saC/ZttaXHvrLVi+YT1sRhOyCvLhcrtZ3K+Cs72WZf4g0uglESAgoac8UY/bic1bt8HZ2Ul2BcEFgwkt7e0w8X18H7cpGFGgeUokJqey3yQ90CzaQp+LieNG463X3kFDXTeyciOxedMWlJc2IzE+icyCemI5RrQRgMlIJbBBaan8EZkaO0VvFj8NG0SuymSxasCPiYDKuLHjNdBCR/Nyg4lARlI800rah2SXjImGxnq89PKLuOzKyzWT8db2FtRWE9ThPgxkbTS3NrHELkCGlyQYPzZt2oDp02cQWLHyshBI0pgYFPQS7SY2rRovulQHWRQyV67n4Dq9rHOokQPBL2FoQqYPrR+eK7eCTDO9Ws6WLluDJgIp0mKiozXjdp+Yi3PFuvp61NbV8TwsiCWrJZrL4+NjNf8RYWSEPS7EpFukogTsGKod6sVQS09snpGoTsyJbaq2UhlQGVAZODMyoH4Hz4zreLLPIiV54H8eu2hc1kOpqE/TxNS7qbkTGekJB3eTEE+66Qk2eWiz2azaw5WTNGAv6bCnoslxokmjNXDEhchk+Xyn5jifpu+i3xoVyQdC0nBF0utUNovFxGNZEOCwnx6O3OkzNDuVR1T7/pxkQPjTDzHiBvVXCgwCOBzPW6is+yFjPEPefuSmDr+HcFK1YZOBkD6j37visOmW6ojKgMqAysBnlgH5HVTtZGdA/ttP9+MBzcVvCrQYkJIz9YuUf/uK5UOdoTwQik+DkcV9GakvzIEIG28ZzaiaD5w0qN60eRNZFuvx77ffppxRt+ZpIAXnXq8Pfiulkqh8bCabQjwOvJznsDswbsokvPn+22hq60DZ+4sx41s/hKXXQDmlaCTHxsNPWaTUlERMnDoDqzZsgcMRoqJAHnbsa0RzkxOXzJiFFe+8g6bKavz5X0/i4WefQuHECQRQ9NhI8IR2z7jx7rvQVt+ISso9FW/eDCOBAz9r8nJjR5MFERlP6zCnC2UV1ZqJdkJiPPbsLQEJFJhISasQq/BdZF1kZGZqOdi+YycKyB5xu0OwRupQVb0fZWUtZBNEIzLagraO/Vi7biMlpihBFRFNpYNuSkVxZ/x/Z0c3GRgJ9NSmnJSFcloELlLTUtHa2kY/DY5tZb5MlJnq7Oxg73w0+qZpd8BLpkUnwY4oDkYkmEGZqcUfvIsLL7oIhaNGkcnAR/ZgJ9kdblijYtBcXwtH4QhqHaWT/WJASdEOeDweTRqrVxgxZGuIb4ZIW5nJchAAwk/AI0C5aWFp9Ack+OVgE+PsELeRJneLNHl5kGl5dxc7C7HakJeT/dUN2LBxHa81WSCcaSCY45PtZV36WgS4vsyXbWV+G8+3ndHUaNT6KjJfqampSE5OpkdINs+ZjBHmxksGhwAYYfaFGK/H0GhdWBlyX0r4CaIJu0MAEVkvDHyI7JSsF96Whz5sM1JVK4q7O+wKaoHKgMqAysCZngH5HTzTz1Gd3/FnIGIQ28JBWunJaBWVzQOAixgyO46n5eYkYcqkfIiMlbBCxEQr3LzU/mzvcNDArArbdnI0C8GME2mRLMqfO2s0crISEU8dz5iYCM2jI7wvAS4ExCkjNXjT1nI+3MngryM38fSYMC774ErFe2pJ2/Ud/C4TyQSLRhakQ8AcCaHoPv38Cj7w8MlrUIuOsmrslQnjcpCWGkd2zCEJYOlfR6eD1GI75DhFu6vlufOEm5ipjWffZ80YyYf1WIJFolna13r54Nvc0sXRN52k3dZSc7VvFEt4ufo8qzJwFc/20iHOWNgWlUPMP5ZZcudKoUK14ZsBvtmqpjKgMqAycFZnQMHlnhIAAEAASURBVP0OntzLL15ZktO+quShfYtU5PZDX9XUmZkBefQb+sVFK1Zz6aFir6ynI2hh0xgWvXz3a25rxtqVa7FuwzoyGLagh8X5AEvaXso1hVgMN5j19HfgJ82sHWRltLm60dTZhjrKRpmjLPjujbdRjsmBv7e40EiPh5TkbPjNRtx8+x149rF/YMvm7XjhxbdgSExEhi0VHr8O+zkwz+8O4Df/fBSXTp2E/7jlemzcVYSVu3Zq8lNfuO9udFCOScywo1KS0G7vQWp+NqbNnqldwncpV+XscZChYKCpiw7dDgeMBGLibbEor61DLM275bOorJQggzA09GQxTMe0qVM4iMyJaA7k66ZvR7edAwQzs+CJMfA9sEuTaNIZ0vDKK68TFIiF0dKLLdt2ErR4Hj/6yW9oxh3D4roRTr7XRsboYSIzpKioCHfeeQf9tv1oa2vjchbbRYaLLZNgibARoqIi2Q87fT0smk+EyE3JNQmyQB9iMf7NN97UrsnlV15DMEQHIz1GXAQ7bDGxvD5NmnSWsDhkvlzrN954Hbfddht9QQhGsaBvJLAgoEMwRFN13aF3XK0TB/7RE7SQN2QNQCA4INsY+M4qXhr8P89Xz2vu5/mUoLy8nMwSG1w0GecqPCKFqnjrHLqPuCNBO+RD+7fvDnQSELMScJDW3NxMT5I67N69m3JaicjKytKADDm+gBHCyBDQQoCKsBeGABtyDGG1CEghEQYuBhz7wDEP9yHMIevhFqr5KgMqAyoDZ0MG1O/g2XCVj/8cW9sGFuOTkwYyMI5/j31b7Cqu1QCH8PZFu2vCk0f8TEyMxoIbZiMnO+mw6wkTICM9XotLL56MFatpjrayWHugOexG/RYIiHL+nLE4Z3qBZs7Vb9GASTMfXpPYn6TE0Thv9mhUVrXg1TfWHZHpIP2+4dq+h1PZWX2D6I32ARdZmQmYP28CxoziwOUDD03hAwpoMLhNm5KP666ecdg+Sv8EzJAQwOGC88dh6fJdBDHqBu/qqN9zc5Jx683ncpTOUD7J9GUj0yMrkw9vjJkzCrF1ewXeW7yNI1B6j7pvtcIZlQF5qv824xCS2Hd68k7xSt+k+veMzIAOJ+c/DmdkctRJqQyoDJwVGVC/gyf7Mo/jDi8bYqebOK9oiPlq1hmXgaGBCx2LwPKgKQOywu9MUjgW74JOFtl3kn3w8bKPsX3rdr6fVUIKz+IhYeaAPJ9I/JBdEWEQ1rie0kwemFhopo4TSusrccOll8BK1kXRy+9g8tw5+M5XHkAwPhlbS8rxj5dexDuL3sO5lFEaMWICghEECligXrNzO/a3Un4pPhp2Tw/uv28BMukRUV5XhpQRCfjHw3/Et375XyhvqsfNty1Afm4ubGQYiGxUE2WbOslsKKUs1WV33saBYC3wdNrhaOpALL0Wqmur0E4/DCtBgm76SEQZzYiOIRuDIExXdyd27NqNuuo6xHGAXdX+esyedQHGTcjnsg4iftGUgYqkr0Y73L09sFHyymZNQEjXzUK8HtVVdfivH/6E/hddHOgXg/feex8Lbr5T87+IIpjRQmmpzKzp9K9wIS0jDi6nEJ+NHKRWgnHjxmnFd3lHFZBCivFSrJdrI9MCIrW2tWBEfgEvVAAmvpfae7qwds1qfOELd6GHrBUBPmR/fr+bQEIvlix+n2DJPVy/l8BBiP1u0rw3srMpMS06T594veAsNo2ZwWtqMQvcI0AHg6CFkcCO0+HC9h3FKKcJugA9BkMvjyUsiL57J8yI0HY0xD9yBwoDRRgVAszI+nJ+Lt5Tcr5VVVUaUBEVFaWxMeRTQB0jARUd34oMNPo26gmmEIERRosAFbIPWS77kc6G7+EhDj9glrBGhoZvBqymvqgMqAyoDJzRGVC/g2f05T2xkxPgQkb6G2W4A5uAApMn5WFnUZX2/UT/qatvx2tvrD+uzSfSF+PmG2YdtlA/1M6EiXHx/IkoyE/D8y+vJM3zyIV0m82Mr3z5UjIshi7QD3WM8Lz8vBTcc+cFePzpj49bRkrO7Zabzh3AHAnvd/CnnNO1V00nsFI4eNERv6emxOHO287Hpi3lePvdzUdct//CKbzeN1438+A90H/Z4aanTx2BwhFpePqF5cfERDncftT8z10G8tnj8UP0upnz9g4xX806YzIgrM1PAqxnzOmpE1EZUBlQGThqBhR7/agpOr4Vcrn6jEGbsNIHB+N49VBFWUBGPbUxnAypR6r2ucjAJy9V+GnDH+hl8ZzFclYxOjo6WESuZvH7IxRtL9LMt80EJ3QGSvgYyRSgqYWXDAu90cIR/ib4yR7Q09vCGhmBGBpZN9O4OpOyRzGUA+rWe5GWPR6BBCumF46D06dDT10HdrJ4/sC3/gN15fuwffsOePl63E4wwRplww1XzIfBaoSFAMi2jWuws9eJKJsJCTFx2LxjCWqbOlHAYn+zsCgIrowZPZpsiHboYyIxd+Z05E4arz1FrX/+BQQ6upCVkYGO2gZcueBmbfBdM30qtnzwHhweMi0IaPjJuAhw8JvPFITb5EMLQZG4qETs3L4T+yu3awME29s8OGfGbKSlp8DtM9DvIhsuylq1d7YS6IhCr5uF98o6ZGbksT/jsGLZRvg8Rr7nbycrI4Q1a9Zj/Jh5ZC1QkpmeFPWdjbxjQmRXiCJAn3yT+IPI85/L5WEhnnBKkFbblO4Sr4uEhDgkU1LL5yVjgcBFW2szVq9ajrvvfYCFewEajFi3eimiWejPz8tnP8IEK1FL0GPb9q2Up+pCXt6IA3fqJ+8FvzZLR5YIDb65lp8AhoEeHBYyLeqb2rB16w7t3pDrLGyIkFx3DQTpMwfXEXiR+0nAg4AACYOaLO2l5JjT2ceSEM8LkbgS6SwBMyJ574gE1BNPPMHzTcA555yjsTBiKCsmgIfMiyUwFhsfp4E6AuyEm4AY0hcB3Y6lUSoKtBtRTWVAZUBl4OzNgPwOnr1nr878cBmQB5Dmlm4+SCQcXOV6jvJvoSxQY1PXwXmnemLUyPQhC/tNfAisqmlDTW2rJtsk7AJhNYzIS+UojkNkyrzcZNzFov3Tzy/XHqqG6q+MGLnjlrmfAC3aCN5s2rqfD5c9NFOjHiqBHJFJyia7YNqUEXwgOaSyJkyP22+Zg+dfWnXMDyFS5BcWxlCsCumniw/SYf+IOAIqd946d8D1CK+zg2DSvv2NGuND2BaJCdHMRTKmT80fQIEVRoRc0w2byoZKw4B54kMyY1rBwb5JP8rKGzSmSAPZIm4CQeKDkp4WTwmsHD68cWjJgRYba8NlF03Gi6+uDs9Sn2d+BsREM3WI06zivOOn+gyxIzVreGZAR0ll7c1veHZP9UplQGVAZeCUZ0D7HTzlRzlrDiDVPXnAPvSQ3XfqHfyQON52HTe4lvES4wPG8DOqY6dUGyoDhy/qiom0FNJra2uxbNkyrFixEps3boPd4dQKyj0ehyZh1NVj197dNC8CSv5IAdvr4sh7I5kC/MOtqq1BSkIKKktKMOJLd2FNaSMWvrWInhRmzJwwAxFkKazdvgfW2AS0OruRMWk03li/FLvL9uHu22/FA9ffilpPF554+gnK9LbDQk2fmqpmAiIRcMYHUNXchtGFo1DGfuo72rF000ZYPjBS7ncczpk6FaUNdbwhA3juX4+j025HTloOknJysHHbVriLAuhk/yZREuqKe++jl0Yiln74IRqKd3FEIb0womM0A2mvu0djSuhpdh0ZY0R1dS3cTgNWrVyFCZNGIisngR4US8jEz8OEifmoqy1HTEQcRhUU0sujGvZuN2qq6xATRfCAIM/558/HW28uRJQlm/tYjSnTR7N476ZvSAe9NbrppeEmCMBroyfwQ3AmQPaBlf2RIrwU510uN70hmugPGc1Bj5Ngi7QdeJ+U62nkOgQ4GC+/8jJuvfVWmEeNpOSxlfJd3XyfLSdgMpEsDZMmt6Q7DNNCQyq4Nw2QEMYN+2DmPeGhvFUJr2VNDXPAd3cTAQYNmCDbhhQHXleyIfgLI/JX0mSZREhbrs0a8I/IOhFnYW2BYA9BCmFeyLSNrJIWMmREAurLX/4y778VeOqppzTmxSUXXqT5j7RyuYNglbAwcsm0EX8MAT/6wJMBhznqF7nbD8EeR11draAyoDKgMnBGZkD9Dp6Rl/XTn9TW7fsHFMqFdfH1By7H2g2lWLNuL//jfWIeEsfaM/GFuH3BHD6UHLpFRbdy8Uc7qFtaOmA3Ite0fmOZ5vVw603nYTRll8JtRH4qLr9kMj74cEd41oDPiy+cSDrroZqrABRvvrOJXhniDSEPWQNbOX0clq8q1iSYLqMkVbiNHpmheW+U0vviaE3AheuvOecgMCDrSz4FKGlq7qKOZhf9OuwHgYvbbj5vwLWQ9feW1uOVhWv5IDXQA6OagM62HZXMR6kGjPSX17r6iqmk33ZDvEaO1ATkCDcx4BYprKrq1vAs7bO6pu/7qrV7+PB+Pk3c4g8uHzsmU5OqknNR7azIwDU8y6HGAi3jfNdZkYGz9CRDOp0aBHaWXnt12ioDKgN9GZDfQZWLk5YBYUcIg/PQw3/froWuLVJRx9NiufL3GNMZwv78kKGACyZheLehHif7ehygR4TX6+EI/nbKAG3Hpk2bsYWm1+Xl+3nHcBCV3kRWQbc20r2HUkGRNIf2UBJKT/ZFL/0tfHxnEv8Dp8NNg256E0SZEJuVigV33o41BEB6CT58ZcZF6GaRupLbb6gpRoDvNz0ckf/jf/4ZxtgIelU4kZyThikcYf/fTzwGC4v15eXNsPEYBrI6Zo+9GFddTm8Hml1/K8GM3/zjDxhTWECmRwAzpk5Gc0cnypoaUbu0Hc1VVVI9h55eEaGMVDQQqLh1wW248JJL6XcYC2e3HauXLcfSjz+EiayR+fPnwXrxxairqkEZZZtcbvFgsKGTptBxsWI0HiCYEAsP+2gyW1jEL+U7cxMNyZnTUAQSkqyIiowl+8KLRk8z2Rg+ykbVYubMWWihT4eZ23RTrmrEiFF44803+B7qZfeM2j4Xv/chutq7teXpaVnopv9HBI/toD+GgBQ8PeZfvEZoWJ6URNDHzO9iRs0/OV2Q6whTg14a0ZE0Cbdw8FsK5azMmoxXbV012tqbsG3bZgIX48ii0NNXUVgY8h4+9P1AcoXmcdHLczYKIEU/i12UzyopLtHkmRISkjWQRY5v4nXp9fNcCJgIciFgheRdPvmNx/hkCxEIiouNI2AjTA36opDlkpiYxIGMveznNr73pmmSUXb6lVxxxRWYM2cOr9PHZP4sRgwBinSyY6ZNm4Z2AhhtLc2UyOrRQI/JU6agsKBAO7aRYNqxNAIXB6CWY1lbraMyoDKgMnBGZkD9Dp6Rl/UknNTGzeWaWfTYMVkH9yYgwjz6QJx/3hiyHdqwr7wRFQQNRAJKQIWT2c6dNUqTqArvUxgIL722RvOUCM8b/CmSUCINdcmFk+gbcUi5RuSVlq7YPaSU06QJuQN28857W45JEmvl6hI+GNsw65yRB7efQOmnYwEuLiOQ0h+Q2bajAu8v2a6NDjm4swMT45j//uCDzBbZJ+nnUMBKeHthVzz74gp886tXIJ5m39KEmio+HkcDLsL7EHDihVdWcfRMnx9HeH7/z64uJx598iP8x1eu0AzGZZk8CM6bO/a4ZcH671dNf64yMPswvV1ymPlq9pmSgVCIwsJDv/SdKaeozkNlQGVAZeCIGZDfQdWOlIFoLkxkiMzTkUfOAPJQfQVjcNvNGcWDZx7l+1wul5FM8hArNGAFWjAJn33TrJB5WMGiDj0vyFQvi8oGDmmXejLH62vLAyL5w1W1NTmAzB/w0aeC3zmi3k7/hr179lDKaANWrVlLdkGdVoiPi0uBiywAb9COCHoLiHEz1ZsIULCAT9Ah2hZJtrgLJhbTO112ssYTUTiZXhVpybDTj+GjtWsxn0bXk0ZPQjqlmipbmtBMeSMTGQi1NNXuIqOgjYxyPU2wQzR5bmCV/quPPoIFF16MNYuXIZFG2vm5IzA6vxDRBp4PC9KlpSWYMKUA3777HsRSNqimoR7eHg9++/jDiCfDoJf7KKRsVDfBh2yab0uR/9zbv4CMxBTND0K8JBz0srj8+kvQ5GyBj+eyef8e7CfYcfGc+Zgz/gZ00ovC00jWfVsfoNDZ04yu1hboQgQgHD30p0iBn74RHlOA58P39Q/py0A2SHdrB5LiMzBz1jQCQTp4KR1F9wXKUJFhz4FxwoxITsigT4OOhXcXkhJi8bc//117j1z+8Ur6ZURj9Yq1GlPB3u2CjVJbOr9cXwMM/DmMJjhhJHAT7I2gBBXlo1ItlNUSEIKm6Po4yi1FUZIrA72hbs7jOl4e2+chGNLC72Q22Ls1sOHQ/cJ998cw5H5h3UEABSvvizrKae0rL6eZeDv7HQcvByG63ZTy4nXjpCavFUFfEhdBDjEg7+W9EiQAIVUwG8EanT6o7c/HPkRR/kvelwM0c9cRQJHyhpyZmdeY+mNUOOimBFUPj9VBtokXcfExPI4Z48aMwje/8WWkxKRi2ep1qCEYk0OAy0lNq2ICa05HC/JH5SIhPY35JhNIDM7pzWLgvdDvz4JH+mQTc27t7+GTi9QclQGVAZWBsyMD6nfw7LjOJ3qWb7y9EQ+w6J1KKab+TQrTYtwsIU1G/dfWtaGyukUDFmTaz5EtJ9pE8ujcmaMGbP7Wok1HBC3CKwtJ4qNlRVoRffzYbG22sEVE3mmwTJIADwkHivqyYhnZEmIwfaxtIwGE/sBFaooM7jp6Cx9T8vb8y6uwv6JpyI1ERkpAjv5tNRkOwjo5liZAzsuvr8XX7r+MD2F9jzz5uSmaqfZgpsbg/QkQ9ca/NxwRtAhvI/taR4aHsEjCLSPtkMxYeJ76PGMzUDDEmTk5b/MQ89WsMyoDavDDGXU51cmoDKgMnEAG1O/gYZJm4/wbGdMYaQyh4a5gvMPwMoZqQoEePcQCWf/IhnUDNxJ1lTsZ8gJTzChiyJhw1T7zDAgkQWNsrfTKUe58T5MadIivJUZtBDyLxry0FBDiJwvfMnrewaIzAQLoAzD4Ra63Fx00eF6yeAk2btyE3SVlZF10s6gsXhI2ghb0e6CfgofrRRC06KTpdKSVXgTyUsgitYEgQSwL9k1NTZgz91zoIoyILshCbE4mnnx0KVIiomlGnYNK7tOxbhN09J+oZ4HaQYngBhaXg9yWOlQI0myZtA1Q/wcufj739iLoKU/UGxNEgrMT9tIdcHfZcW9uDrLp+ddQUY5/L/o3sigVZCHjoL6xGbFkGzjJAhmbPwI5WVl8d67GdVdfzbyE8Pi/nkTHuPEYP3kcpYpb8fG6lfjni/8iQ4HFbb5Wdzk6qVtkRMSILGSRmTAzLgkde0pRX1GpyRfVUyJJQJ89e/aieP162P2J8JMF4fF1ImT2aobdDr4biudHa1crtmzfxqI9wQn6hAi8tOCmBRwUZ0ROZhaa9S002W5FR6tbY1mkpGYxlZRl4ulH2GIpJ/WOxvCwEKTpYN6spkiMnDCdRfxIdBKAsETKtSQDI0DAwONETIowLvw06pYUOtHjdJBp0sujengvWAgueJAQ1zfQzkrwyUXGy6FyvdwxA0v3ASISZgIMYpRdUrSLrJdyjdWSRLaHlQBTXFQs2RwmzZfCG6IgF43CLdZI9oU4JusYkbzmYuId4v1loCdKBO+JUMhGuS8Denq6NfCis6sTOqseRgI7csOaom1ITcsgMEOwgiwZl7OL2wbR0dZMrxEyV6ZMgr29A2PHjEdJ+V78zy9/gW/87CFkUA4rZXwWpkyeSXDNjPvvuBF/+t3vkVkwjvvlhT3Kf0Lkx0w1lQGVAZUBlQGVAZWBw2RA9CH/8dhizCXD4qILJhzWINtkMmhyS2HJJZFbEhaGsDFK9tTRF4MPWsfRhCEhfhLhJlJQsp/jaUtY3B8zKpMPFDJOApg9c+QngAvxwOjfBssh9V821HQrH9SkaC/nL62/v8ZQ6w+et3R50WFBC1lXfDCSk2IObiask6UrqG16HK2enhRVBJTC1yZ8rUrLjixpJdJb7R3ig3hsTbw2rrh0ykGWTEyMPKCqdpZkoO8PYODJCrp2uMLEwDXVt89vBnQcjjjoZfLzezKq5yoDKgMqAyeQAe138AS2O/M3+RFP8QFGer9TvYDTLF1iSb954UnRhpnJoMbMgCaMCYnjafO4sjAuhA3zKOPYH2i5smonPwNSmNcaPw6WoDXGpuBJskygjb51rPQQAJkC7Q1NLI77sJOyUEuWfow9e/eilWwBjzvA2jMNsTmiXkychb2gZ3HaSLZGF4vwMdxeG5HPA+lZBBf2BMwG/Oi/f4zVG9Zi9gXzsLenDaWVlYhKSCSoEIudVZUYTYkkB9dro3m2LjYKrZRckmJ3axsL1PQoCLrY1wi+l3U7EGIFPzE9FR2UANITlChh8bq7vQ05kVHo9tmRz+J/Rnwkfv/g/+Dhxx/Fh+8vQUJqMpz03bjqqqtR29CA1Vu3oIEsgX2UiBo/ogDX3XAdbrr0BizbvBx/e/oJ9PicKCjIw766OiTS6FmjpthdePfjxXj37X8zkUYUUhJp0ogRGDt9MhavWa75T0QlxOD+n/0EFQQ09pGh4vQR1CFzRC9MCCIgMSkJfH/1o5XgjAYkMe0CBCxdvowD/1Lw/vvvw0mvissvu1wzMXc4O5CemcmCfg/f7avI0vBqBtVOlwsTJ0zQpLn8zPXPf/xDtBFgKq+oQknpXlxy0b1UO/AhIToOXTxPmnNo7AQj3aYtZD5QQYrXnMwMDpaT4+bl5XEdvk9TasnlGkSQOnjTaKvAzEGJcrt08PqnksUwdfo0AlMNPOcKNJLd0hRqoMRVJJLIZokli8LHY7gJoMVQnkqTr/JRLoz3n4l0BoqG8XyscDj52kIWUHxcvAaC6C0ELcx6NNe3oa6ugVJRyUhnPyPIkhCTbvG7ENZFTk42ZckisL1oB/x23iLxqcyrAX/43Z/w7zWbEZeWhRtuugqlFWW8Bx9C6c6daGUfUzKyYYoSbPXITQEXR86PWqoyoDKgMqAyoDKg+SysWrOH8knVmDIpD+PHZX/Cb2FwmowcrZDHkf0SAniI0XVRcQ29Fyr4gCkDsY/czpt9iG0hckjvL9l25A2GWCpF901b9uHcWX0DtwQAKCxIg3hUhFtkJEew9Gt1LPIfTxPTagFpwsCFVR6ijrEJK2XN+tIjrn3+eWMHLBd/kaMxJQZscOCLgAph4EJmCVPmSMCFsC2WrxJW/rE3H7VFxT8jOytJ20hYLhJe7/EMkDv246k1h30Gtg/7HqoOfuoMiELwp96J2oHKgMqAysDnOAPqd3DIi3c+5/6AIayL/i2XX8QXayjgopDzhaExuAnQIZoyx9oiueI3GcLyWM/4gMGKpGrDLgNBviNQpqcPuOAni70c9s6geTZH4MclxeP5p5/E2nXrUMwCfH19A+JZqDea6AlBZoBIE3WS4WCyGGHiyHcjpYCy01PgoIm0yPd4WJyOpOdD4aRRNJmejk17dmLBPXdh8YqP8QGLzBNnz8YdX7yX8j8ubN20FaX0WTj3vLmYlsGBb2RZ1DQ1o5VMjuLKako1uWEhM6CV75c+yluFWFxvp19FDL0laggKxBI8SUtLpQE08CL9IVJY/B6VmYqmmip0kV2QN3YUDbi76YdYiFkTpuHmOZchLjUJ27dsxPadRZQa3oeP3/0AT7/4Iu647RYui0eyMVEbgDdyRB4ZHmQGkFFiikujxBYljMic0JHtUUegINregZ2vvoAuXQDtNQRjKHe1883XNEBh/OgC5E6bxHfxNtibWxAi6NJAQINO1ojLzCCAYEEnZaSYcdgpldRRsY+FeXpXEJQo2r0LGVkZiCB7YgdBjcKRBWSJ5PC827Wi/RQW7Btq6nhNEvH2okU0Ro9CJNkO8fFJfN9vxbpl61Gxrxw2yid1tjsol9TMK6YnmhhksT+HbAcZXBhNYCMWAQ4E7Ojo4neyIejDodOH/+RlnU8+agpRga/h9LUowXPPPU3QI5+MhokoGJGL6ZPGk9nRTd/IJoItnehuc8PBwZgJyZkkThj4fmqGhQMkRUFCGBsWAjo+AjmRNNuW6yfzDKxlxJNZE+Q9Gsl7wd/bB6BVk20RHxfL4+VSyjlDA9G4KtkXbrI7vGRuRKGL13kK/S1qG5pxzVXXct0MrF+7Ho89SRP3dnpdkE0k/h4m0TNTjAteX9VUBlQGVAZUBlQGTlIGuntcWLmmRIv4uEg+GKQhP0/AiWSaV8k7wuFbEkEDATDEH0PMnFeuLuZDgTyofrJJsbv//lro1dDQeHyMjfBei8nSCAMXMq+Qfe4PXIjJ967d1eHVObrk+N5rEhOj+YAyeGDYwd0dceJoHhXRUVaO7BBZ4L7mIbVVWBAn0op4jo5+ZupHY5a0t9v58HX8gIPd7hnQPWFdtLYe/34G7ER9+bxm4MRu1s/r2ap+qwyoDKgMqAyoDKgMhDNwGycGgxbhZUN9ikaMmGgLeDG4yYP2IRr24KWf/P5dzrqAISyLPzI43P7AUH5OqHY6MsAKs9SeB7/6yZB7baYsZLCQTD0mghnClNDB1dWDiy65GK+/uVDrtJlm0D4W62UsfqDXS6mfgMYcsBK4CJEFEEUGvInbWvi9mzI+086ZjngaKhsjLfBZdJh9yXz88Ne/4Hf6KvAgq9ZtxqqVa8nLMcPKYvSU8RMx8pxpeOallykFZMOMKdPhrW/Gj77wRby58G20czqF8kx7WuphJSPDx9uq1+2gBweZHiz0jyYQYCcjxOsLosFei+JNa/n+OxcpmWm48oqrsWXzFs1M/JnHH0MGzadzUjOQFZ+ML1+7APkpyVi2Zzd+/szDWLd1Izw0CI+gubiYRNsJ4gR5TpZoAgOWCEpA9SIgNW9m4q777sa8WbOwhRJa71JKq729hcBNG8/JhG6/G+u2b9Lymp6SChPlkeNYbE8rzCMIo6e5twdlZftoPE1skObivfR00OmtcHrc2mVop8dGMz1AgoZetFLmStb3egOUSooiENJJRYVWjCKYUV1LRkhSimaSnUFT6pbmdoJBPXjkkUf4vk8JqLQQJk+Yih3bd9GPwg2jkdct1MVrJX/WIbS3tiGoo7F6eyeBAnaXskw+5lC7JzgdHiPDu+hg6zcbDvp/FBfvwu6ibdr1nzxxPM49dyZS6M2RkRxHFQcrySlmMm+6UFlZg1r6dNpsUexzIkGZSLJ1eslECdEvJZKH0rMPQd4S9N0gm8LP+zOVrI3EuYlwk4VSX1ePhvo6vPjc88jKycBtt97MVBsJJAUI2CTS04PyVyTmGAwmTJg4HWYyNN79cAcWPvoPjJs0CZOnz8Ejv17H83PzvLiiUF6O0gSiU01lQGVAZUBlQGVAZeA4M9BJQ+Yt2/ZrIZsKkNEHYqRon2EPh8G7FSaGABhTJubhlYVrITJGg1tiQtSAWZXVrQO+H8+XpmYZuXGoCRgwuNkdA4vtg5cf7ntGejxuvG7W4RYfcb6wEI4GxuQc8A8J72gfmSInyl4QlsaRGBbhY4Q/m1oG5i08/2ifdo5G6t9MMgRFtbMhA/J2IUOi+rf6/l/UtMqAyoDKgMqAyoDKwFmTgcmHOVMBE5YPsWwc532NIc8TMlrJxKA2jtbkxWDgy8GBBUN83Mt59zFk24cYqxjHKzPFTVQ7qRkQJoUAE/1rtH06QSz4emikTBEfXnkLTZstVo62p8xvTc1+Dn5qR1pqOsGJXrSQMWDjaHa90QY/ZYT8lPQJ6igPxQK9MOCjWGgOcKS8nVJR8WQyLLjrVmzZsQ033n0r1m/djAbKOD3597dgonxQJ0GPYK8RuWnpqKa8kJguX3rRxZg+cxblnFJRSz+Llm1FuOnya9Fd04ok+kTceumVqCa7wEofhi/lZ6Ooej+eWf4ROpx2GMj0yExMwMbtO/H7r34DifRPeOJPf8WFcZmYYtdjzbKl+M1Tb2AKi+lxHLmfROmgMfRDeG/xh6jOSMfm2iqyG3YjtzCXI/gJDoR8GD9yJCWiqhFgnrp8Xo0dEEWlgPZAL4KUWtKzMG6lPNELi95irqqRS7+Mnz/0c3hYxK+qquJ7XxnWb9iE5maajNOHotFupzSTH+0CSvA9VMfifDylji667iptunhHESqLdvMahWAWRgtBoEZKbIlEVBdZJtFxceghW2P71iKuE0A3WS3nnz8PPsorJcYmoiC3AF7uW4CQ+ATKMdGUegxZJi2tIvelQ3VFDdYt/yeCvniMHJWP9q5KnDNrLDwdzUggs6GXjAgxWdeLjwhBBg+Z/MKoGYJsod2aAlxIiyCIkpiYyGP0aj4ZBp6jiwbslftLUUf/Dj3ZMT6PCy0t7RgzbiquuOhCzQ9kHYGevaVl9MOgD0dQh2gaqAe5rYkgloAXHyxeQSBkB0aOLMR5552HXPqUBMneSeJ6l158Eb797W/iW9/6Ju6598v41a9+Tl+QTHqRRKCX/U4kKDV67GTmxYK33t2EN//9PqZPPAez5s7BoqUfacBIcnI8gh7KdxFE6/u5005nyH8UcDFkWtRMlQGVAZUBlQGVgePLgAAZnTsqKQVVqW0YG2vD6JEZGDM6EwX5pM0OKmAnEJz4wu3n4++PLubDxUCWQ3w/s2zZmZhKjx6VcXwdOszaUXzAO54Wx/OIIygjwEzfZ5Q2LUwIMfY+0dZMFsnRmhyzfxMWxGfVBgM+x3pc0UtV7azMwB6e9fhBZz7wD3vQwhP4Kn8Qv2DIH8KvTmB7tYnKgMqAyoDKgMqAysBnk4GhdGFlpNBSxrJBXSjk9/9iCHgh0k7/x7iM8QBDmgyMSGLEMQ43skYq419hfJORy3iM8TxDZKZUGy4ZkGLzQfCCExzR7nD3cMR9B4viTiQlZiAl2YqulgYWogMcle7BzQtu5kC3ZljNZBpwgJSOklAeNxkHLIZbI/rMvHUcue4i+CGeBvljp2Dk6NHYUbIbtz/wRbz67juat8HVN92A7KkT8M/nn2VdnOvFZiGZI+TvWLAAl153Ldbt3MFCfSt6aAr97h//hgqyAOLpIXEH2QyCpv39I/pHUFKooq0Be5Z9iBGTxuH/vv99/PWJx1FDvwITmfHnxKZgx0ersL+oGBlkhzj2VmB78X4kJ8YhJioRdVt3w8d3YiflsXZs3IwvfuWrSCRL49WFb+Cy+RfCyXx0OLtR09pIw2f6bLD4H0VjbiO9FuopR9UZ8kBH3w1W3lnQ12lm5MmUrNrBArz4T3jJCJC85WRn44I5c8kYmaqZmdfV1tK83IuKkhI4CfRoI/0pbeViQb9+6YfQ0StkbGY2bv7Klwjz+bH846XwkmERtEbTFL0bZgIJLjIojAQVIgncNFNCy0JPiHWr1qChupaMhRDcThd9IOrx4x/+EEGThzJIZnR10yQ9KhJle8uRzfNsrJdrnEi7ERNslmgUF5Xif/f+Fg5Kdb3yyuss+NNMnKCKkWbZIV5fAbTMZotW6A8QaBEjcSPN23U05ZZrQrVmzYvDL3JL9KnQJKC4b4uZUsUExOrJjPGQCRMkqGEnoPPhh0vxhz/8DuPHj8MVl1+FSy+cx3tB5L+66J9SBi+PZyJoo+cxLrzgfFx79RVkchQTrNmKbQzxtpgzdy7y8nM04OyBBx6gEfoefO3r38Z0ylTl5GTSy2IBrp53mZaTZx99EW8uXY+Zcy7GeZTajiCwUUx/i1SyMOR89MzNYZEZLgk3BVyEM6E+VQZUBlQGVAZUBk5iBrq7XfSXKNdC5IIunDdBM5oOG2XLoWJY+L/t5vPwzAt8EDz4EAskDgIuZs4ohMTJaEMxLvrvNzcniYBLJrIyEzQfDysfuk5FOxaz8sESVO0dnx1wMRhMOhU5UPs8ozIghYjBwIUUGE5WEy757xlfZ+xgKOCCSVBNZUBlQGVAZUBlYJhmYBH7dfmBvslTfgPjGcbjjDD4IICEgBW/ZlzBEIlJAS3eZgjgMJ0xjSHtJoYMkniaMXhgxGjO+3+MaxmpDAEs/saoY0hFU7XTmgFBKw7EgVHyfegFmQNkE8TGx3HUuxUv/fbPfDdMxaTx0zjPyBHvb+EPf3qYXhXEpDi83hU0wcCispHTMrLdTCDDYDRSsqgDaSx4F4zL04r5U2eeg7qWRkw49xyU1FRpYMOI3Bxsq9iP1958E04ab19/35cxK72QYEMQFko+bVq1Fq2dHWQyGJCakIoishU2rN0AvcOLyFvvgJU+F4n0YaiEC16ad0+hBJWLEkjLV67i/joQ5/QhhcX2SLcf1Zt2IJXTEWRJpHCEfhqBBUtMFIr2lREAYOE/gnJELJB7Ka+78B9PEQiIo5wVJYuanDQNn0XPCZ4fC/Jt9EmICfGc6QPhoQxRni2GJtsEeqw6eMlA4a4QQXZAkFLOv/7hf2nSUpvJIrj68svwk5/+nMexQuShYuLjMXsaJYukmE/mwNP03xg9ZSKPEcTmLdvkxZteEwGU7C5CSXkZUhKTkTOK792FBTATIAiQZaHj8tJimnwTGImKCiE2Nl6TTYqgp4VbBiCS8dJB8Ck+Jh4rV6xGfHoMfUAClJdyIJM+H7PPncz1ejBxMvPWFaTEVBPNtWmzQZCkzdGExLhkSjNZMWnKNOwqKcVrr76JpOQ0vP7aG5rniIMeIU4CD2ZKfiWQ8SCeE1E0VDebzeyTg4cnq8Lrg5WSTSECN70MP6OB3h0OAi9egj2pKemUgrLBTeZFET1F1q1bj5RUyl4XjiTQNRZZ2TnIoMl3EkGFHocddpquV9EjI4n5K7hgPvtn0gZiGg1GVJXvQxfXGTVqFH7845/Q1yMSaZTIepwg1k233I4aSmU989SrqCDj56qrbkNewVi8+MSfMHr8KHpO5mBH7XYkxCdoefsEX32Iv1VeatVUBlQGVAZUBlQGVAZOZQZ6etx4+93N2LB5H+6/9yIOEpEaZF8Ts+yxY7JQQi+KcIs9il9GeL0T+Twc40IYIAKiZGUmHvNu3aS0Vla3aMyS/oDMseygo1OY8kduEYNAE2G1qKYyMEwz8Bb79VXGoT9uYMJJ6qughzKC8ssMoSr9J0M1lQGVAZUBlQGVAZWB4ZuBJ9m1OxnnHeiigBTSChixjHTGxYwFjGyGvAj8kvEOQ8zRVjIE0HiQMZGRyZDlIkH1JkPAj3zG5YzzGTkMOYasI+BGPUOBFkzC6W9EK8S7QuArfvR9BjgtI+hD8AZoem2JRDcLwS+9+g5G5o9FWgZH4xdvgYEj7C30mggEDBzkJt4D1BFjQT+FUjxuL4vZnS6aXY/EqHGjUFyyE9fccCO8PFYNDZmnTxyDOZdciOKKCvzyf38DN2WMArxFYgtH4cZrrkXL9lLceesC7Nu/H//7yN/hJQMhKSMT546fQvAiCalR0XDQz8HvdNKku43rleKCL92Of73yEowdrfRLaKEsEwvz9KFwEwCJ5m1rJRNkTM4ImLhdN2Wlbjn3EsQKM4LnnRCwYHtVGQv8XcjMzUY8QYVuSls12ru4Ly82V1VgZekuvicbyUDoRgTlsqIMVpiMVsRF2RCi/4Tb6IYz4GEKCQr0dCCdDBDE2bB+3QbE0qNDZIxeeOEl5KSl4Ydf+RbsXPfNf7/F5evQy2PFxsQgj5JSc887F5ks2o8k82Dhs8/DxyK/JTsTfh//9Agi7dhbAhP7nZRMHJBJj6WU1rmXzEcCDcfbW1qxZdNmdHZTuisqnmpOegIoVkTw+H6fDyWV+xHRbqGZOK+PnXJevMaWIjNBG15LAjrtrXYyHsaip7MNep0VGZlJiKLh9b6ySsycfR5NvbuxafNWzJkzDxPoi9HCPPcSOBGGgt9Fto2ngUbafSbYSUmplHDKwdx581BWsgu1dTUEKeyUF0she6aNAEkb2tta0dpCxs6+SmRl5CI+KYkeJH5KjpngpKF2Wek+fLjkI0TFxhGQiUMSl48aO4bS1hdi1oyZGsOjgfstKSvlvRtEcnIyjcujedomTYZr9OhRGlvI5erFo/98FDuLySL5v4fRSwbOfbffAlNsKr79rfvhqCqC5aNIhGwRSOR1tNFPI8B+GKzys3XkpoCLI+dHLVUZUBlQGVAZOAszIKyE/DwZsNTXauvb+BDx6YvmzfSbeOaFFfjSPRfR8MwU3r3GbOgPXPj5YDW4nai3w+D9tLb1DJ6FyRNzcf015/Ch+VCf+q8k8kfiRyHySbK9SDa1tvegi0CCMEW+8ZXLtXPov83RpvszTA63rhiD9W9mjiJRTWVgmGagiP3iEz0m9eufFBN+0u/7iUwKh/q3jK8wOOQO32OsYKimMqAyoDKgMqAyoDIwfDMgslBXMX7HkIENAlT8iPF9hjzgSrVOBiZIKXstQwYlbGSEH369nBbmRTPjxwxhZCQzHmB8kSFl8P77WMbv/8tYz3AxZLlqwykDvNIcmE8MI0SmRUArvhs5recIdrkVklhstlE6p5GF6oSUSBaVPSxsk17jlhH04j1Ag2VecRlx303Zol6/DzfeeAPKyWQwWA349k9/gl2lpdjL0fDX330n5ZNK8c+XX8G7r7+uGVWDI/pBP4Rf/+q3+Nmvf4/GLTtgJX5y84234Norr4CZfg+5+fmwcPT8T//7Z+hlITopLgEbtm3GfbfdgNhROVhCcGR/VRUcbV3IZRE/hefTVVoFG70EjQQYJo8Zj2kcve/maH3D6HFkhxBBq6lFNwvtazetR+bY0ZgwbjRSRhZiX2MDPtqwnrJJZvpiW4kP6Gguzj8JekZESIGeIICXWTLHGSgzFYmbbrwJBaMLsHtvESrqKlBaTg8HSlQ5PX5spsyVgewIAyWOvJSE6iX74Jd//QNuv/UWLKAUVn1dnZb8latXQ0/ZpKdeex0xpDx4afI9cvo0nt9t9Bcx41vf/wFBkx7o42KQTlNzJ5khYjRdRR+PjroqhGoqcA7lp+773rfoWVGJvbspPUWviw6yTtxup1bkj7VGEFwJwsfzCZr1KKkgWNPdziK9D/W1dZSMyiXLIR+RZG2kEShy9jgoZ7URIyeO1BggJWR2zJt3Ic3Mr+Els9Ag2893dN4IBEhCctcEfBpTR3xPKgmS2CibNYmm19OnTSXjwoDqqv3YunUTWRX7sb+mkS8PIdgJIjS1dtOvYwQclLRqI+tGfDEiIkz87iTbIgse5q2TrBuJ3bt34sWnn0XBiALKXo/DDTdeh9uYRz+Pvbt4N+sBbYjgfdJM35QE+nIkkx1SWVWDrdv24Ec/+xnGTj4Ht998I1qr9+IH3/kqOnmO6QkWpNPMu5a1hPycXDQ1kGmSU6C93Bztz1RVAI6WIbVcZUBlQGVAZeCsy8DUKfm4/JIpB8973YZSmoeRSnoSmphxb95ajvPnjD24t4z0hIPTMtExCCR5/uVVNM+qH7DOyfpy0fwJuHi+DOQa2Orq2zXj8br6DjTTqFpM3z7r5nL5BhxSWCGqqQwM0wx0sF9/YfyLEX6+nsrpOQwpSBxvk2JEAePXDBmNKfv/AeMZhmoqAyoDKgMqAyoDKgPDPwPCkvwa45eMWxjycpHPEBBD/rsugx5eZQjoMFRjyVR7hhAJqGkM2ccMRhaDlUwN1NjKz+cZsi9ZX7VhmAG5MPImJYbKUn4OaPhUCK6Al8VuPd3TCUSI4TNlf6JpJG020zCZEkkBAhokQtBbIJLWC9wDmQE+mluPpJRRdnYGquorcO8D92D7nmI8u+htbNqxA1+4527UtLXgtfffQxeL0qBUkxS9OawfrF6jqqEFV19xNQJTp+GeBXfge7/9GfZw1L2YXccTFLn/nvvwra99HdV1tTSvpowVwY6v//I3+BGL9e8sfAvp7F90aiaC3d0wkGGRR2mpJFs0YliwjyfAUMS+xPGYPo8TrWQdRKWa0dBEOas5kxHD0fp1jm6UblyPWhauY0NGRFli+OBsQnRyFtrIYghQAyo5LpVgDdko/iA9QCgrRRbBXx/6PcZMHI2JU8Yjk2bY5ZSaiqd0VupIFt25XiNNuAMESERGKUDExEtw6OnXXtIkjW6/6SYaV/tpWH4LXPycVVWNYnozNJM9EU+prn+/+y42bNqC//7u92m4PYfF/0r85bHHYCE4UE+gxkggo9PCa0EAYGV1Bd7fsRXxlImaOXWSJlflIvOkikBGD1kmnSLZxHw7nQScfC76OaTCTpUC8ZyIZ4G/rasdryxciLSkFPpj1BEcceL+B+5DdDyluKpqMXbcJPbhApIbdJphu8vrJ9jFG4fnE+DNICwdE3NkNvE8CZCI6oEAWh7KaHnIdIkkoHQXr+E1vD47CeisWbcGG9dtht7SCXdAhzj2gcpbcHgoVUbGhYtARjylvCyUnfLz3mprbSWjJ5nXxYqWxiaCLQ3YvGkDXn75RUw/ZxpNt8cgmdJk0dHxMHfZyQDxIUAmRk1NDR57/BnMnDUPswm87CFDY9HLj2HehbO1X6sMkxPtZJNk5OXih1//EvPjRRrlv/rw1yP/0YZfrI68llqqMqAyoDKgMqAycBZlwM+Hn/7NFiEDok5eq6hsHghcpJFm2q91djn6fePImkGeFwMWfoovUWSWzOsHoMiuRMLpo6VFKNpdfcx7NnF0x6lozkGm5Uk0BFdNZWAYZ0AKB6JH/R/9+vg/nL6BIcWLY23CspCRl/cxshmVjLsZGxiqqQyoDKgMqAyoDKgMfL4y0MDu/vVTdnkbt5dQ7XOWAQEs/BpsoeO/ZFvwu0SIc22GaJQ0FKF41x5s2b4NjQQcCmdOQjZHpK/hSl4WhS000hYjbhlZn8eiL2hsXVCQR2kfG6649mKsWLmUXhbV2MjR9ZH0GXj0qSfIuXFTXIz4GAvaPAyRDw7+cnBAGEf7P/zo43j5kUexec1H+MHfHkJmfjZlgS6GwWaiPFUplqz4mCP0vcgdkY/br74Or29YiemXzsFvnvgXotinSF8QgZ52+mP4kUNJqSTuu76yGgECABVkeQRYWB89cTylp7wIuDuQEhkPf3IkTapj4SAQYGXB20FfDh39NNx2L30kyKsIkVVgi0e0zgKd2agNmAvRpNpipEk1i/X6oA+pkYmoLa1G6e5dZJAwe0EPzNE2ClTptIdsN19H6QCCxu5OZBKAEU+GdvpCBINWPPfOW0iIjcXCxe8hkX3Oz8yjrJMfF5w7m8CIB24CDw0NjXj2zdewYsMamJjr6668EiMpw7W/vgYbdu1EHU2u961dBycBDCREw06j7iWb1hEUMtCjJJKyVbFImD0DI+g/Ess8uRtbsXX7BnqQkJXAYwYo9eUiq0HORyr54k0i7BYXAY2VK1fDRu/LH/zoP5GenoleMliEcRNJcCRIAIeHYo54zmRfaMAFARu/30sWjuTKT7YHpZ/IOJHv4kFRS2Nxnd6AcQSnJsyYgZvvaIWdzBAT91W+rxzLli0jq2I3GTF9zJ/Orh6CFh7NtLuO91HV/hpKlFHGKjVDY/r0EhDaRyCiiWbfCxe+poFJ2Tn5yKPs2J2334PnnuMrUNCAqVNnYO7FV2HLrl344+9+gTuvnYNLr70C3/l/38Y153Bg6FU3YNyUuRiZlw1HezfcVG+IIKtHg2GZlcM1BVwcLjNqvsqAyoDKgMrAWZsBHx9k+rekJBkNcPJac8vAGmYkjbb6t8GyVJ8WuJD962WkBptoZHo4wkLaxPE52gOO9oX/tJG6+Y/HFmsPS+F5R/s08+HyVAEKIk3Vv6WlxvX/elzTRuqiiqSV0IilVde24c23hZGvmsrAScuA/HD8gjGCIZIO8kc3j/Fzxu8YLYzDtQgu4Nso5jMEtMhnyA/Fc4wfMo60LRerpjKgMqAyoDKgMqAyoDKgMnD8GZBCsjR5bOt7T9BwBm3eoH/6Xqe0xQcm+6gU/Vej/JPMlH91/J+wK+Rf+V+Qc2U7uhUgAjY8uehJFO3aofk+uEVeiKyKjz/6kGyEKrTSFDoyLomyR72aKXdDYwulg6z4/n/+gAbQy3H53Avx94f/CruzG3U9PWQFJMLFgjZ1e2iE0ckqPqWhWJBHNN+fWLBmpZ/mzjRnJmvj57/5Fe5ccA3yR48gK6AXuaMnIM2cCA/lkuI7uhBFLwgrTbTv+imlk1jYt3vdSCewICCFs5kj8umFEBdngYFsgPrqWiSzMJ9IbwTyAVi/DqFsfwXMNjOsoV64CAj4e0OUI7Ji287d9G2YqBX7L7hwPvbs2ougLwB7Zw/VBUpgi41BR4Md0Ty+hdJYUTQOt/vscPV0IURgIjY2gv4KnXyPq0FaXhpGUXJqQ2sTGvmem8CCvZfr+DntJaui1e5CCpkffvbRyr50coT/6IKRBCgaUFFDm3G7A71uFyaPG49qFvqjySz5wfe/h700Jo8kcPHMU8/SKyMDPV4PJlx6ATYu+QD3/PC7uG/e9bj3599FzQ4CKAZeTXo2eCi3XNnBR/W6ajIhWGZnEX8aQY/zb7yeViYhdLZ1Yt3ipdTV6kJkciLZD2ZEmKM0Q+82RxdHKYXw24d+qTErRMrJTOksG5kjTl4/YekY6Y2hJ8siRGZDL1kRIiFt5HfwXuvpcRLgsCGeHhudjh74KEklIIbPQyN1SmEZ6GVhJDsjKcWGaPpSZGfl4bLLrkQTDcKLee+9v2gR1qxdSVmweO4nmmwOHR769a9pKp5FOawGVJFJYSdLJoogSytN3zdsW4Pymi7WDbpQweucmpjOPvRgRG4hLph3CZ6nx8g///Uw7vziTfjHw3/D//3tjwSGyGz5/+xdBWAVV9o9cXd3hQgSgjvBKcXa0kLdduu2le2/XSnbbnW77dZdKNBSoIYUh+BOIJAQd3d3+c83yQsvISEBEtps57aXmTd655v7Xma+c885TqMxbsIEWDn5MyFBnxKCOybCAlK+EZxcpPRr4MKEemEBnhbwcjKFGTXdzIz1eYPErKYehWWkuJRSx6uoBrnFIg+olt6KgKWZPn9EWn7Qi8rqSVeSn+Rfv6j94de/B2oL1Aj8r0SgjA862kUMq604CqK0rP1y7W0uZV6YDtpFTK61i5hQy6gKhRbKFcFB7ti8LUKhg2pv15N58et45k8LFRqpbC8SUB9+uk3ZtSMgsm3n6UsCLeQgri42ysORcsBe/iczq5CjSUQzlU+hLN5ejsr5xG/jUouXpwOcHM8DHxIHtagR6IMISMe6g1X0qB9lFbrWE6xTWVeybmBNY5XizjqEdSKrSEp5szqz8lEe61j/y3qUtQVp5Ixa1AioEVAjoEZAjYAaATUCagR6MwJkJyiAhUHLtAV3aA9IMHmsKSQ/KKCEvJ20YhQtq2QbZmOFPdDM5DkzZUyiNyn6obUoV9KzOjxPOYWhRCbpm/VrEB0dT/PkEtib2yFk5EQkxhchMfIcDbVToU/5HismpOvyi+Dk7IBnlj2PNatX443/vE1swgXLXnwH1la2GDt2BgoppRSRn46EwhzSNPi+aucInZxsGNJDQa+oHE42Nkywmyqm3WJmHVmcjsj33uFxHGlyTTkpZsd1aBDd3KADF46AL+EIfGMm9b2ZWLYmIGBdrw+90kqqFekprIaG+ib6N+ijiKCJk6szMnNyUUCZK5EbMtY1opQT5Z844r+6uhgFBAUsyXYwJFAzYfg4xQ9CAlhC2SofMkQkJl7j3ZlIz8a+ExHQs7VCWXUtbNneCnpLVJbkU6KpAlZ21ohLTkR8USYBhzKMumkunAYFIGN9Mk20HVFHiWEDgiADHbygQ6aKuT7lozLyaextrkgryTQrMwcldTWUliIQQ/Alj0yVrfGJjC/bwZv5RzIeFlw7jybY1XAmaBHsG4BBAYH46cB2DOc5dAvpV7n2C9SRLfGfl1+BOcGCrbt3Y/22LWgw47XzXbOGbBW6leNw3Gl2K+ZNGRN3ghi/CFm9AABAAElEQVR3vvxPFKemEvCIQUFyGq+B/hkmxpi58Aa88torqKRfhB7ZKk1kZtTy/beZVYd5VzEJF1ZFc70ODOgHYkQvkWb2qwb2tSa22dzaWskbFPCeSYLfiOBENWW6TAh+GNHHo4730YSAl5yvurkOB/cfJKvDlQCGO6aQaXP99UuQnZ2NaPpanCWbRe/IcRhZ2mHGvAV47/V38eHnn8HRxx5mtebwcXbHg4/cDmuCFYXZtfhp5UpERRzBvFvugRkNWU6RxXNow1qEuFshPTIcj/1xIY5HnsBj3Oe5p54nwEFJq2pek4kt6miwUkdgy4AuFzrdOF30S+DCionza8Y4IdTfmv1A6xek5efign9j08ux7Vge0vLkB0ktVxqBx67zg5W5/KgDb66JR3bRrwsMqf3hSu+our8aATUCHSOQnJLXLmEu68WTYuPmEx03vazPw4Z6t9uvgGbX2kWS9cLK0DAMBDQRA+2Tp5K1N+vRvPh1iPalpohMlabIcbVLfod2aK/rat7Tw76rVVe8XCS7EpNyETDQte1YYZMG4Zs1+9s+93TG31fywedLbEL2+Q/qnBqB3o1AAQ8nBpwHWJ9iDWQdxhrK+h9WeSXu+ADLR3mIlASHY+F1VtGq/l8twi5RH8r/V++uel1qBNQIqBFQI6BG4NIisJubL2Pdc2m79dbW8p4kMMT59yXlyNpPapp5JopF8Kmlas7f8ljXLMnlpiboUkJXDJQVpgXfwWStAf9jmhkF5cU4lx5PL4tKjohvQHZmNkaEjMbggKGIi4xDFeWIDM3M0MCR/A2VFbCkafKo0FA4kkXx7nvvwsHOHoYmpkzAZ8ORifWBAwbR9FkXA32CYOFCdkbEIaQWEIhgsl+fErvDKEd82913EKswI9vhDI4w8Z9aV4lMAgFEVehBwdbpc4wN/SmaazluxsgE2RVV9NkwhqWM8qcpeEURpZcIPFRR2sfe2gkmjvLuRxZBURGMmRjPysmDk70Dqtl2vsKivKEGJWQzGHDgmQPBBnc3sjxqqhEfn6TEopGMjyp6b1QzuW8nIAnNoJPJgDCkHpIBmQjlch4bLqfhtT6jaOdgD4MqI5yOjkRacS58QwLgQZ8LYaBsPXGSHhoOZAIUKgyN+opqpNEbwpIJfr7M89zuSCMgYm9spagOlJFdYsXzOJPJkZGRBVd3N8yYMg0jR4zGyu9Wk51giNTIKFiQbWJD3w43dw94+nrjb4EPIyo9juyYs7y3pEVb2uDUMY4t4jUOGjAQCekpcBkwgMyWemxd9wNo8kGgiDlTGpwLupVxLhrLYxJBkweMHjAEw4cPhx4ZNkFDhmDitDAUFLH9ktuWztLyj8xozSkflX+ahKqg9EBZL/vITqzSRznRI9BkQcBJ7kdzAwf4U7pKjLxFQqqJ5wxge/ft3YcoXqcBmSKTp4QpPh9BgwZjSlgYbrjxBqX/lpfRb4UG4iNHjUGjWSNMK4xRkJmLVauOI6+wEoP8JpBNUoexo4djQIA/nn7oAcpjFWD44MGwsTNCXPop+mMk4u233kToqMkgFkUGjT3Nz+sJHDXwzuoSpBH/DuWyLvpPvwMuAj3NcdtMD3bKltGXF7261pUBHhaQGpNWjlU70mlaIjdaLZcbAcNWtsXl7t+b+6n9oTejqR5LjYAaAU0ERFcyNS0fflrJ7nFjBiom1cdO8KHjCoqbqy1GDvdrd4S4BMlXti/7DpzDjdePa1s4eULwJQMXAliMGu7fdgyZiYhMaftcRxqtdrGxMkNeBxkr7fUd562tzeiREdxxca9+3rE7kg/lMgqm5alG2CcODpbIz5c8b8+KKenBoSE+bRuL0XhCogpctAVEnemLCPC1Bj+yCr3Jl3Uw6xhWN1Y7Vhn1UcIqPygCUiSwyg+BIIvKawun/6tFEOAVrO+y8s1ZLVcSASsTewx2GQs7MxcmGmxojmnDF8Em5FdksmYgrzwT6SVMhlBqob8WAyZPbEwofcHSSD3mwsr+9fvd1T2S6yioyEJ+ZRZySlM4YpYjZdWiRkCNgBqB318EwnjJ4a11Gad7WK9ikfEUUlozqDJpnW15JJPHMskhtlRaIXO+tSiz/Id/m8QgWYfJ5+aGOrLFDZiv5ohy+hnocQR8BQ8Rm0jAgpI7xDYosaRLTwQ73HXdUiyafz3ys0vgauYAP1dvxJ2Lxcm4aIwcHarINMUyWV6cn4vQYYOZyNfDmYLTCPT3Y0Ldn4oAlG+yc+Ko/23IKcmAv58zls6/Da+9+S8EuQ7Em889wUS9AcqKeXzr0Qga5A9DF0fEExT4cAPlgY1MUS7vg6b0wKglo50yRzqUTK5ndr6CI/hBo2lvJvGrKVulS+Pn6vxClNXlUvbJHa40yDYhK6LRsYkMjRLaanBMijAMGI46Ah52ZDTUcL6oqICj7OllwVH/ugRkrG3tYEoGSH5pCSooeWRA5kZuZoYiHWRtQ9NngialbJ89PTPKyktxJj4GmdmZyC0twvwlN6CIhten6AlSTIaHvYsT7S70eByCNWQYNBsbcWQMgZH6SkpVmSK3rAgkiaCGx7FkAr+C7AM3c0v4WzlhMf07qqjiAy7/cv33KC0pJkBSh5njxsDHy5tskhqs3fgzdhwMp4l4M9ycHBE2dQp2798PI75jJyck8P42Uc0gE568Vg+CPuGHTjJpT8ktPoeZWFqgiOAM8nIxLmwK7r35NqSfjkZdZj5ijp/CkhsX06zbkSEmk4XHM6DMlw7P0/ElQOTG5D/pi7JOVzpa23aa7Vv2EgyjltJWIldlQjaHAGE6jKcAR01sq/RFU7brmgXzUEbz7oy0dLzx71fJiLHEU0/9CVmUumog6GZOmaoYgi1BgYPwf8/+jc+RKZhOZs93736E3Wd+hpmFLgqL8mGiRziOLI7KyjISekxQRibLydOHMW3mRPgHBODBxx+Ej58/jynSV7YETnRhbm5COSv6l/C+GxlKXl++VzLtuvQr4MLD0QR3z/Fqx7KoI0UpIqEEqbnV/BFokS2ytTCgC70RQgdQd62VGSAhCKSs1O0zPfHZLyktoFTXcVHX9IMIqP2hH9wktYlqBPpxBPYSONAGLuRS5s8dCWFHCCPjcoq3lwPuuGUKGaPn//w2cuRD5Nm0Cw4n5tjTpw5pM+aWZP3smcOwdfupC7btaoG019aWD6KtRSSWtIEJ+ayd0B84wBWx8ReCKJr9tacCitxy00Q+FBlqL24DGNotvIIP0sbIM6kIaWWpCIBx8+IJ+GpVOOmmPRu0ff2CMdQt1byUACJBVcUHU7WoEbgKEeCbFM601m+vwvn6wylkqN7LrE+yCrvkfdbe0eHjgX4vJdQ9DJP9FsDLNqjT391ApxFtoajj6Mf9SRuxK24tKutK25b3lxlv20A8NOk1pbmS6H9p2z39ound3SPtixB5yMisA9h6biWyy1K0V6nzagTUCKgR+L1EIIwXGt5al3G6h7XvC0foK3lhOZPkh5X0sAzukjEoklSVKkWSw9ygme8UYrjQkitW1ij/KKsFwKDHAj0hjJgwNmaSOaMsDxu37+Lmzbh54WJU1pRj7XffwYlyOcEBQchLTEdMTAKNoINQy3ebIddfhwllk/DaW68ygV/M0f/GitzRicMH4UGWxf1/uAfpaZQ8KilHNb0fXvvwQxgwYW9qRv8DS10kHtqHQz+upW9ENp5//C5U0JNi3pzrMHpcGKaPHAFLO098tXWD4p0h/hE0yWDyno9hNMLW4Qh8HYIJ5pJwp1xSGk2jG5h4NicLfua4KajJKeHIm1qUpucqUlhiNu3p440aJst1CFqIR4X4PtSQjVHCpHkhwQBTts3Fy5sJ+loODExFMaWp7OztYMZkv4zqLy7IZzLbjEl1fcWjQV+HjAELM2TmZqCcQEMKfRX0+PmZJx/DLzQOT8rOokeEAQb5BqKRHoYZZCvYkaVSyOvUs7PlAAeO4udg6zqagzdTUsrK2RnNvJalCxdh+qTJKE5IRDWlrY5HnoWxmz3SCvMRFRuPYFcPTB8/FaMHDYMlTbH/8947uGvpUoI9gdhPH4jIkyfxDRkrZbwOK0pEVQswRfCkgaCAIZP2SWci4cS2Dx3A5zIm/rMJDOiRkTF44XVwd3KGHtswiKbraaVVeOLhhwhwNVD+irJY3F+8KJp4PE1PO9+ppMcpnVJrqul4LculI5LU0cIXEmkyAwI5NCUXrwovykHt2bsbEWSmzJozF8ZGZlxvSMZLBX0/jBBIqa1bbrsRp46fwMxpk/H4Y49i/vx5VBvjuCJqohFaoAdKE+684w9ki5TjTNQpeHn68r7U41xuAipKs2BuYYSiklyerxlTZkxADQGmQnpavPP6OzAhQ0hwMRMOrGmsN2QfoCG9mS6KcyiLpS8ACUWi2O+6K+czJ91t+RtYv2C8SzvQYs/pAuw4kXcBg0IzFnYr5aHGBNtg5ghHmJu0XOpAD3PIcX4+0L9G6vwGwv+ba4LaH35zt0RtUP+IADmMiO8fTf11W5mQmINzMRkcaeDe1hBJ1t+2dDIOHYnF0eMJHAXSs8S57CdSTwuuHdnODFsOLMcq7ESiSVgBwrpYOG9U2/knU67KjA8ZP204ylETmoeWttXtZoQhMmqEX7tlBw/HtPucmVXU7vOYUf6IJxMhJjaz3fKOH0Riav7cERD2SMcioIwDzczzafTdW2X7rkgMCvZo87pwokn3A/fOUsALbSCm4/lETnJ62JB291CSQ9t2RnbcVP2sRkCNwNWLgOZNSwAMAS6eYpWs9EesPftR5Ya/1+Jg7obFwx7FQEdRH+tZMaQe8rSBizHBdx72JvyIzdEr+Jrb2etxz46nbnXxCFzOPRJQPsRtIoa6TsCpzL348fRHNEPl6Fe1/KYj4GrlA3+HEKWNhZU0Os0+/Jtur9o4NQL9JAJhbGd4a13G6R7Wvi3yWqV5OlEACw1woXnfkpUc6S5VGfHe2hzNPjLlps1c36yjRwkecyZvOfgq+jSiKZHk5jeQxtI2eOu9D9HEZHxUxCn86eFH0FBWi70H9mDHjl1YvORmbNmxk6wEAxTz97+xrhqOlFqyoIxTEf0gaqpKcDYyF2dOnVa8JirJYtDRlaQvvSQ44t3R1g030HT5j/fdisMndkG/sQIvPv0UslPSsHvvIbzw3LNYcs+DMLR1Rjxli3xNLHBazLstrSirROYDE91NBAWamZSeMX0mvCxs8Mmx4yijpFJmfj6y45Lh4+BOz0BnSv5YwpHeFk2UeRLGgamNhWIK3VBWSuUpA4I2RgQfLNBIEEQS8umZWXxvLqdfA0kd9HwoKSpVsB89XqsBAR7iIspTSTOT6uK3kU1JqLiUBI7kr4Dn4GBMnB6GVds3Y9GC+QgiKJKSzndVvtPdestSvlvTDI6j/rfs34f4zDQkME5N9PwgGkIWhg68jfSx5M6HYMb7svmXLZRtOofJw0L4nn0AusaGMLO1xsJJYRgbOoKb6xHIyMX2Fctx4+LFsKRJeHUuJbGYxBfQI5LsDxeCJqmFeTTL1lFYAzI4rqG+Cu62Nigj08JSTw8zJk8hsNGATTRa97GzIWvUCDvW/4QXnnoWVrxvBvR2qGuspf9HBuW5yKPhPRaJZA1I0dq7tDpZSweTZwV5l20p55kYLX1PliqdkNJPljQlr6U8VzwBsQGU8nJkXiMG2ZTUsqLs16BBwTAhUDQgwI+33xxBwQFYuGge/v3vtwlyHOXgTV/4EKCYM/NGjJs2BXFJSYjYvQuDhgzAotsX48DRE0iI+gCiLtbYXIkb598EM97npdffgrmzR+Dt998ni8QA9VWUmCK7pYmMC+I0vFR9HNhzApt+WYuXX/4Lzeir2d953XJ5Fyn9BrgI8bOCt7Np26UcOFuIjYcuTqcV0+iDZ9mps6vw8CJf0mXkh4YOiEPsEJ1ahvgMIotq6ZcRUPtDv7xtaqN/GxFYx2bwLyT+znryt9Gk324rfiRAYEd9UEcHPtC1FmNjA0ydMhiTJwYrwMbxk4kQb4hyghjCntAUSZoL2yF0qI8iDdXRkFu2k+T+zvCzml0umJ48laScx4aSTJoyItSXupXGNOs+hbz8C0fOSlJ/3pzh8PVx0uyiTOVYEadT2i3LzimmgVgdjPnQJkUehpbcMB579kfjwKGYC4y6jUQHk+DJhHEBbQCM+HHExWcrBuKag1+3YDTESyM5NU/xqNAsv9ypmJXvZ3vE30JTrKxMcf89MxTfkTNRacrDnmadTJ0crXD9wjHUNrXTXsyXg3NK29otVD+oEVAjcDUj0PJAfv6M8mP1JuszrK+wfsL66xqosQG/xeJpMxAPTHiZhovnmXTSzrzyDJzMCOc0nSP3imjeaARHC3e4WHpDRv2LkaMUmc4MvBlmRlZYG/GOskz9p3cj0LN7VAwTAzM4W3pRasOHSY1BsKbklxT5OxzqPgWO5u54d+8zHIWpkpF69w717tF87QbjuqEPKAeNyj6iAhe9G171aGoEwhiC8Na6jNM9rL1fJA/cLnF6PjHcskJkbCR1Ko8vTO6zNtNEWVPa5vj7TUtlVNfX8V0jBWejzyKXbAJJ4O7YdQi5WdmYOm4CSnKzoEPvgY/e+wSxZ6Jga2+jSEvt3ROujPQv4Wh5c1Nj2BMcmD9vHmaGhSHmTDSefORRAhbNTJI3wdnOlV6IjpRqsiCLvAF/vPceuJA9kJ+fhj/cdQ8mTQqBp7sNPAd4YtA1QZhLOaq33voQa775Drfe/TBuve4W6J06iYLDB6BnbYO03FzYMXkuXhcmZKCcjohAnrE5HnnhRWREx6CSfhJZNNk+yYT12cxUylPZwTjJFK40tbZ3sEctPRR0mbBvFpkpVn16VdSQTdHMd2PxVzAhOGHpaImqCgIKfF3WoyySyBfVNtbQE0SfyXhGlSP2G8kYiEyMQ2ZGBhy8PTDt2lkEAOrxyQ+rETx6HDLJdhgyYjjGTpnKjHkTPRQyMDLQnwoFrjCdpIcj504juK6CPh2liDh7FnNnzcLk0JE4F3EWKfHJ2LF1F3w8XBATF4Nbb1yKHO5vS+moRdPm4AFKJTn50RuS77v30DD7NM2qnfVNYcC8coC3L+w8nOBN9oUljdIjzkXhxx2b0MwcswAYhjQi5/+wppn6eLYvNDAAB44dwY2zZ1OeOBGxZDQQeYIt4+BMMKo0txC1BLDEy8SAzwO19Dsx5FTMtgWQaetTnNchmCJBa3FWaemROgTPZKnEUuALMesW0EJkzHR5DAEtGui3YW5uqtwDZ7JO7Ak4NRGsaCSCUE7pLPHjqKLXSkJCPGzIaHnggfvh5GCHW268GZ9++ik8CFwEjRyC4wej8PjzT8KkJh87dm4mGGTG9/JTcPfywJnsFAJURti4ax2eeepJPPzIHXjy6QcIghG44vlojsFmGdIgvJn2KexXp+LwpycexROP38tllPMyI+ok19xN6TfAxSBvmpu0ljIanPy8P1vzsdtpVmENvtmZjrsoM6UpIwNsVOBCE4x+OFX7Qz+8aWqTfysRkN/9uazXsP7I+g/WKFa1dBKByspafL58F+65YyoT4dbtthAWxeBBnkrVrJDtKypJF+VIEytLE7IEO+bnNFtCkZta9d0+jk6RET2dFxl58eWK3bjv7umKHqRmK5F0kpqRWUjwoowPhA0Qvwl7WwuOsDBvx06UfURu6eeNxzW7t03l3Gt/OITbbp6sJEtkhTAmZk4bivFkbGSQkSEmXnIdwqKQcwggoyky4mP9puMQrwzxntAUL08H0kgdMJD7f/DJVs3iK5puJ0uivLwG18wa1sa8EMBl8XXjcO2cEUghSFJeUQMzMyO4udgqbe14QonXDrI31KJGQI3ArxqBrn4YXdgqyab/mfVl1s9ZVU03BkGKpw21gie+DGO+2GpKeU0xvj76ChIKLvxdi8lt+c3fFPUlpg9corAtDMSskmW8z1zIvlvOrdAcSp32QgQu9R6dzT6knFWfmtPTBt6IGQEcOdp6j9ys/XDP2L/jkwN/V2QveqF56iHUCKgRUCPQXyMQxoaHt9ZlnPYugKF5Kml7xZEFemQKEKSgJr8uf6N1W4eEM7+OBl0OVtMpoVRSEy23jfivWEjTaJg1l7JFO3fu48j2AoIPVjyGCVKTslBaVg5XRw/UM0HdROBh0sQpuPO2m7Fx/Xp89NHHNKC25nkMyTCg3wHb4ePjjc8//ACllSWIOxuFmKgoPP/833DrklsQviscd9/1AAfI2WB4aChe+OdLOHYyAjGJCRyg0AhXF09s3xKOgrwkSgIHY/7CBajhdVjYuaGkrAFTp10LawcXWEZG45/P/pWDzBJgTmbB5p07kJiaSsNtY3g5O2HO5KlopLeFF30doiIiYUqGhVPoYIVZsW3bdtSeO4PM0kLonm2Ap5cPvSlMyBCxU4y1hWmhQ6+PGqptiSk0Gpi4pqyThY0Diulf0cg4uDm5IJ/xqqypgZGxKfI4H5kQjaqCLNz46KNoIICwcec2NFvyHdzHHdE5mQgZPxa6ZsbIobxTVkYmTbatcddNt+DTd97B8RMHMWPBbIQfP4yJE0LgRhBm0cRJePixpzHCewCSYpLw8QsvIz49CRYclJgWEwcXa74zWlhiHQ21TcnQsCY74g9/uBf/eek13LvgegW4eOqBRygpZYu7HnkA8YxPfmUxsnjd1fTxMKY/hhENyovy8yhbVYVFs+fAicyaitJiGlmnw5mMvIljRiHd0QEV9Af5iRJe4wYPxaCxo/i3nf4Y9O5IIOuikAwUMxNLJS9gQtBK/C4aCSzIsesIQoiHigHnTWnM3kQT+HIyZYR4YU5JqzrxCSH4I8BRbWU5+5Ee1qxZTWN0OyxYwHtPgKC+riXGZTQvt7O3J4ZSDgt6XRQXFvB49eyjZTChB8n8+Yso+1WPJ/70ZwQOH4lDmw/h9f++RyP5OnqoNaOyIAWmDkNozF6N2JhzlHnSgT0N4GOTY3HnXXfj0fsISNDCz4q+K2IMXk+mih7zCMTAsD/8DF5/42W+zxfRr5KSXmScUJuM37W2Lx7nOy/9BrhwtJELaimpOdXnESjNwm6mUSnl/BGpgZNty4gjP5fzD/3d7Kqu/g1GQO0Pv8Gbojapv0RAAefZWPkLcT3rItbVrMtYVQkpBqFjqWAy/P2Pt2IKGRZTJgW3Jc07biefJWku9WJFkv3C0tjwy4l2DI2u9hEZqc++2oWbbhjHB1HbdpsJm6Ajo6DdBvwQE5eJ9QQthBnRWYmJy8LuPVGYFja43WozPhQGEBzpqghYsu7HwxxNlM6HJT2O2KilKdfFr72rY/V0+eGjcQpYc/ONE9oBE+KzoS3p1dnxTp5KJkvlZLcSW53tqy5TI6BGoFcj0N0biqCgH7D+H+u/WL9irWf93RZDPWPcOea5dqBFdmkKPj34DxRX5100LhW1pfj5zCfKSPD7J/yLCYQW8GJ20K2KefeJ9N0X3V9d2bMIXMk9amDSYFvMNziRtov3+a/wsBmgnHSgYyhuGPYw1kS83bNGqFupEVAjoEbgfzsCYby88Na6jNM9rL1T2j2ZyAdDMhtkFHxLylQBLDiUQpSMZLR7E9/n9DgSvp6ZySYacBdTlunQoRMcmJaOoIDBNIfmqHkyF4pLipjU94IOPxswgRsdHY31P6yDr5c7QYRSygXn0Xw6Fvb0grClnE9QcDDO0Iy7srachtuUe+L7W3pKCh4l28KcEks7d+zA0YMHMTwkiAPXmmHHQWWvvvYCEtKzUU9D8GFkBCTEJMPD0R1TKW20b88uHD0Zj0HDR1ESyRg2zl44cTIKNvZFqCwsw4evv0WJoPlwJuvgw6f+io82rsUPG9bj1usXwcPPEzs3bsP8OdcgNiUZX61dxYtnttzSHOMXzobrXbcg+VwcojduRhpZEs0ELgximhASGESpfjM+sxhCl+9o5UyWmxrTw4LMhRKO2tdv0sOIkcNRxOR+sUhLMfmdxeR9OhkpAv8s/uufsUcYH6cjoBvKAWscVBfA0ftF3DYhNqpFeoltGDZrBiwZk6NDQyi5lIO5U2fg0w8+RoiYmqemoT4rl9JXBRhq64jchGS4mFniS64fNWE070UzzhIMshg5GkNC/bF97TcoJiNCLz0dTz34KKaNGoNNP/yEYT4DEDQ8BBXGuggIHAL/wUOQmEdpLHMjbKEMVFpGGpP4RTBh7NkR8PWKFZg7bQbe37Edjz70IJZ/9SUlsXR5v71w5uhxFKdk4SeCNP6e3hhBZsaYSRMxkWBMNc3QU1IyFN+SwoICVDSWURHBmCBXPf00rFFN4/NasiNA0MKQAIYhQSAxgG8ge0LMuJvJajChHJW+vr7CcFmy9CZE0cPj2T//GWFhkzBy5EgSVIrh5eWPgvwc2JLNQ14Gj1tOBkY97GxtUUqQytTEHGPHh3GdDrb/tB2fvv85ZsyagyQCFhH7v6a3CH046HYuDAozMwsyjwrZxjqqMdD3stYExlxmRsCuioM5TcTwvYmACr9OP67dh7XrvsXI0KEoKUwiqJYBE7PxaCDrRI/xaMUFu/wu9xvgwsai5SFbriS3uKbLC7rYioTMyjbgwsJUX8na8WvXZTEi7WeoLx3n3cxhZaav+GTUEh0tqaxHNlkcJ+JKUFx+ae9RXk6mCPA0hw1Nw+WazI2pR0ezk3LSu4rK63CSxxSGyMWKmFLr8+7XsC3SDu3ibGsEZ/4g2VkaKj+muyMKtFcr8/Iz7ONqhiE+lsp2lrw2WVbEaykorUVmQQ3pWaXc/4JdL7pggJsZhlLSS85tyfiKVFd+SR2PV42ErEqk5/WebPHV6A9dxVmub2SANRxpAC/tEC1AuX8lNIc/l1aOc6nlpGVdWvB6o190vDl9cZ/74jvRsd3q5z6PgAa40JxIhpTcwnoT63LWF1lTWdWiFQGRgNq15yxHsyRiGL0qxNBaJJkupRRQFupUZIpSRfroUopISn3wyTaIb8W40QPbGW53dRxhWWzeFtEjWaSdHAGRlJKLaZTA6igx1fH4Eotoen+E741CTm6Jsrq+vhEffbZN8fDwcLenrik1LfmwX1pW1bZ7R2ZJRWX7v19tG3YzI6yJ9z7eQpbFcAwK8mhndN7ZriKn9fPGY2Rk5He2um3Z5ban7QCtM3V1nQNEHbdTP6sR+B1HQDO2sbsQeHKDT1j/wip/m1awdk1R48r/1bJgyB9ga3pe/i8m9wS+OvLSJckICSvj62Ov4i4mxnUV2QGQhTEfKnDRO72mN+5RYVUOPjv0PJ6c+i6sTFpkDkd7zcKmqK/6pal670RWPYoaATUCagQuiEAYl4S31mWc7mG9/KIjjxaSPdG8JvMxhekcDWjBgfUcxU7QomUMNMSwuLTWlIllU1QymXyOSftCGjE31ukTLJiBlStXoqCwEAN8/KHHkfJVJfnISy/A8aNHEXH0EKwpDVUn5tFmhhg9ahosfdyQxyR7ZloW4glS5HJkvhEHg2Wl5yM3Ix1mlClOTORId0M9fPXVV/BwccXSm2/CyVORqK6tRDHPbWNnjio28GTUGcyeOBkP3nUHR+9XYsDAEOhSLsjAwgrj54yGjWswkuJTUVbdiLFDhmH69Gk4TUmrX478gE00oMhiUtuKZtqfrlwOXbJLKqvrcCL+HGITkuAyKgTZNLwGE/UH4yl1TONwa4ICobfeCEPGKI+SUhX5xYhJTUYJPTFsyTywcXGkGoBVi2E0lXOY9Wao9ShJvA9GFmRZlJRQ2j8DaWQejGFy3TtsDLbu2IwS3g7dkcPgSGCinrm1Op7Tm8n1YEoe2RJMSkuKQyXbakfAxZTG3DvDw1H84zo89uTDeP6Fv+Ohx+7HGF9/GNAg/H6yVNZ89z0yM3OZmGfCvqION9+2kAyNCGwiO2NTQhSBFXptEAxpKq3E5KDBMGeudcSkSewHTQjzvhZPvfIyAvaHY8zoUdDltUYej4SjkTUCR3kjkgBL0EA/eo+cguvAgThBCa5ynjcmPg6ho0ZiYOBAvPHK6zhz5BhGBw1FaXEZkpOScI4g1so1a+DBfZ3dPTCWUlg+3r4I9POluTZNy4uLkZeXh6S4WAISejTWZgdspH1CXR29TfTY92ro99yoeFYYcn09mSuN7KwV5WW8ThP6QwZyYN9fcPDgIaxatYrqCMEEwTIwftw4Djgso0oEc77kCsmx41NS4eHmjZGjCKIwPqciovH1N99j+OjRGEgfjBPxEZSxquLxReqLkmA0pzfk+z7xE7JlDNluL9gZOhOAoGwVORfGpvQGqWmmtCnw2cc/IIp9Y968OVxfgfUbCuHuzmda7qvbLOJW8t27eOk3wEUpk8KmRi0/JNZM+l9OOZNcBnvrFgCkgAn1ixXxULgpzK3NF0N7W3mLGuprhVkjHXGAHhrrafTdXZrax8UUs7m9H0GQi5UpIfZM8FdR2iqDIELnbbxrtie174iuMXn03GfRCkXIl0CEtMePU00pI8DSEbiQpPsdszzgak/9ug5Fe9nsUY7YfjwPJ+Mv1E/vsBscrAxx60wPuHVxzBD/Fm34Q1FFii9JnTjvXGG5Gv2hY5xN+IfiRvYJkamSL6R2cW4dBD0qkIY8jPtXW9N6BNT0Zr/Qbk9f3Ofe/k5ot1edv6oR6Op3X5bfy3o766esL7Fms6pFKwLiY7HvYIxSRVJJpJPEf8LaqnXKeZGQkiS91Eom53PzSpUE/5WaVQtT4+DhWKW6utgoAIOFuYnid1FUXKGMsigsKofMFxVV0D+Dpmfd/XHSurbklDx8nrJLMdx2cbbmtRG0p9yVmIBLLSMIIUBEXEI2H6YuBB0Kec4vV4RrHbH9rBz/r8u+bb/wMj9V8yFa2B4CSAzwd4EzZbzEQ0RqA0GUPAI9AlhILSwUKm33gRBPjt5on4BAUtWiRkCNQJcR4KvKJRUfbv0F63OsL7B+w/q7QQhtCFiMo7STphTRAFiYFmJ2eanlTNZBHEjahEl+C5RdvW2DFG+FkuoLBzpd6rF/z9v35j0Sj5IvDv8Tj075DxMCBpRY0KPnxWTsT9rwew6xeu1qBNQIqBHoLAJhXBjeWpdxuof1Mor8PW0FLTSvDJzK64Pg/Lr6Dcz/yIBlqY0coV4He2MLSi4WYuXyz2iy3IShw0JxLjYSG75fyeRuM9ycXfHqP56DHyWUSshsKMgqYTLXlHJNTJxbGGPU1AlwCvTGlxu+ZyIYHPxrg6HjRqO8sATBwUOYhzTEvr1HOXiabH4jfSbHo1FOAOShRx7jwK0A5GRlwtvPh8nhGr77leC1d98luJCKP9x3P+Zeey3SOP/Dd2swZFQoRg0bj2YzEySl5iAgOAgJNAu343se/8Jg+/fr6YPhjVspEdTMQdUbd23FwcgI6PA919DcgoO2KxFRWgBdvmtVGPHxrYF5MF+vluDQ1LqEEkIHY87QCFwHznwHtglk4p3yS6Zs/+EjR5Bw8qhi/m1hYc1lRjSJtuO7pjtjYYKzBB8KCLrU0oT8lkf/SC/GSHwXvl1hdIDndhLWBmWLghydcOfi6zGWgEI12QVnyJSoYsa8NCsdaQXF8B0cAF8PL+jrNMKEIM2cGdPgRKBGvC2i6GWRmZ6LsQQQjuAUQ62PsClhZEKsoMwTgSfG1J6yRbHpyXA2MoMdE/4O9vb0CKM/iJsL42CAiNhYONDLo7K6Abt37oEJmasDfTiQkcySs/TBqLBxxMEtuzFtRhgZCDrYwfgOCAigD8ZZmo6TjVNRhliCW3q8l9SDhKMLzaqpVCCm5HoETJKSk3DoyFHs5bGbybDx8vbGxIkTyMgYgdGUAjOnpFNOdjbBq0QUkI0hxYTxa6afmSFjZMbjnomMxMmTJynzZcDBlU4YFjKUrJ9aAm66HFh4DR599CGcPHICt950K8KmTcbtt98KBxd7ykvpICMnByFDQhAQMJTsjUYcOn6W/Xo1AgePwuSxw7HvyB5s374DgwcQsEAV/TT06cnRSLZGDU3HASsagVfTe6SBaw0Yvzp+TUS2SpfX+tabqxB9LgEzZ06Ch4clvltD7wx3R8UXo4keJzr6kr/u/rWgqwSWEozf0j8yat/FrgXiFNBg18l85HeR2O+q3Ykc9S+1uzJ9uAMkcd8xOd1xP1kvRt/mJnpYvStTYRh03EY+y2j6++Z5k5rd/oYIvayOSJ4xE+LaxcPRFPfO9cK7PyahSkThuihyPMmfh/pbY8lUN3ZKfrhIkYT7kqnuNMZpfz7ZRdqi0e2Tz/ZWRrh5ugdEkmnL0a4p6J68trljndtAJdm3qzJukC2BGzO8uSahy1h1tW/H5VezP0icHciuuOcaoogEfrorAio9tNAH6/ZkKaycrrbvq37RF/e5t78TXcVEXX5VInDhD0D700onf5j1HlaR6niVVc1oMAgdiwATeQQlpF7tImwKqX1RMulLIbU/FGF6RJ/LUGp/aK/aRjUCagSUCFz8gbXrIPlz1desf2X9J+t3rFc+GoYH+S2XCT7X8hn9/DvEzri1lwVaaK7xYPJ54ELeZULcJmNPwg+a1RdMZSScr/0QDHUdD3tzV0pVWDFJU6v4LpRUFeBc7lHqTh/jiEiOwryEIgbig5zHcPTkaLIL7KmNba0co6iKo05Lk3A0dZtiNH4Jh2zb1IhmmiFuEzHAYRiBGb6r8di1DdUQgCaLxz6WthPFPE9vld6+R2nFcRBWzWCXsUoTR3pO7xFw0RvX7WzhxVG9Ld6SGSXxyr2WRgx0CEWI+yTYm1EX3Zja1EzG5FWkI7MkEfH5p5FWHNvjcPZGO8VPRICdmoZK3tPkducWU3pnVjszZ2Xgws44+aloXwS0C3QaqTCZbEwd2UesqGZQyT5XjCIyX46n7WI/TGy/U+snMeTWFHszV82sEjftdSIBdrG49NZ360pj0XYB6owagf4bgTA2Pby1LuN0D+slFCIU2kXzUXlaoVeDjuQQywlb0JsBFRyhXow1P3yKvfu3wMzKD/VNRvSd2M2BxSYozk/G6SNxlBiegy1r1+Htf7/Lv2cncfOChTiTGIsRk8fi3qcfx7+//Ag/fPExGRH+sLGyQk5GAWLCd2LpgsU4susgLJiQ1tM3gY9fAM4RSNi8dQdZAbrw8fZEVNRZWJIdIMliXUNdjJ0wBhvmTEPY4htwNu4M3vr3qxjo6IXr599AiagRSC4qoGF4FfTJpIinEfOiBdegMDOHg7+GoCAnF+MoJVRQWYS9p47guYeewudb1mDllk1IrypBYxVVU2TgMY2alfxyNVPI4rlQw2rNAcqUw2JjoEfwJoOskYyaMsRkl6EhvwCjx4/GzOuvReK5aBzatgPlWWnIK85HXGaa8tuswxH75vTpuOsP9+Obb1eikGCJz9BBSOF1NReX0ivDHqEDgvD0HXfCjjGyYMLckPJD/mMnoCJ0OAcIVmD/yeMwpCxWQkIijClj9c133/KZQh8bKfN0iAyNm5YspVE18MvO3bj3/vvwJqWiyvjbnJyXRdPvBjz/52eRTc+KL9etpVRVBh6672HkxCfiy3ffwqzxExDoPwAnyRYYQPbGkWMnMSowGPUNVRg3IARxEadhXFWHW6bPx7L7H0c5Y/nXfy0jcyYNcckJNMO2hR5zvQU0Cg8lUyPudBSqCXrp1zbAhKBRDUGYhlreF0szeHp4opaSWpKXjY+JwfEDB4ml6cHPz49qC6MxauwYTBk/kfJkuohJiCNzIpXABM21mytRyL/HYr49m/4aBgQiSsliOX78GG9TLebOvQYhlNuqKC/noEQL3H3nbXjnvffw08/r4eFqh6mzpuOZZ/8P/pTBkpzGf9/+FKdOxWLypDkIGTYMqelxBEGGwNvXkwyPOOaca+hdQg93I1Pmt/X5XaCHCSWrDPQJwtCQu1nGNuoboqS0ER++/xWSE7Nw331/5CDOBEqj5eP6G+bilRf3KUbm8mzbxHd5HTJ9uiv9BrgQmSEx1JZiSFrVPUzsr2ViOKkHQER3QdBef91EF4wf3ELNleXVRJx2nMhDck4VsiihJJJR3s5mCmAhUkJShhE4MCUK+sXm1AsS8iKZdMdsjzbQop5f+iPniiHsg4KyWpFBU2hncszxwbbQsBMEOFjC0f1fbklTztHVP4Mp97R0mls7kKWKbc6hn8exmPNJrfEEDa6bdP7BSr4QR9kOkc9Kzq5UpI6sLaiJR6bJ9BEOMCI6JmX6cOrBFdUiIqHzxNziKW5tTUvMrMC+M4XIyK8m66CBPy6G8KWXyLxxzm1gicgrjQ6yUa6/bcfLmLla/UHTtJunubeBFsKoOBRdpDAq0nmtgqgLc0IkxcbxHkr/FLBjKfcRkGg/Y9Kx9FW/6Iv73NvfiY6xUD9f9Qh0B1xoGiQ/cE+x3s/6NusbrC26QJxRixoBNQJqBK4wAqIfKRRaeT2U5LNUzbxmqr1Me15df2HM+lN8evp3iF2i0xLApd+w/o11Ges6VukT/3NFEptjvGe1XZeMxj/ChP6VlJyyVKQURsPbLlg5jJOFR5eHkyT1XWP+DjdrJiy6KNI+8dFYeew1xOad7GKr9osluXv32L8pgEL7NcyN2AZgGBkGc4Jux5GULfgh8qOOm1z08zACMTePeJL6z62aHlpbe3FeAA059r7E9fiJx6YKudYWlz7bF/dIWnE6c18bcOFlG6jEqqK268ew3rruhya9Cgvjlnfu13c8yHxVPe4c/Rf2Ab8LgiP9ItR9irL8QNJGrD8jI48vZGRq79hb7bxn7D8UOS1p359/Wsi72AQ/+6G8t7fB32Fo2ylLq2mUqwVcSN+7Jvh2bhPStk1nM2EDbkBaUSxWsF8XVGa1bSIya49OkUfiC4sPv1Pa6+TcyzbfeuGGXNKb363LjUWnDevdhVf25erdtqhH+31EIIyXGd5al3G6h7UHRQYHsEqP1fRa5lJbRDaYXIbkc3JR2pCMvMIzKCtcjuCRORg/gzn8hljK9gST+WCP7DRDXDd3BEx0faiEMhynj6Zg5Uff4PNPvsCPm9ZhCX0jBk8Zg/sfug/ReSkImDQBlfrNqCgrgQW9BR1cXfAzzbo97FwpF1VMWXlTxETHKUnieia77exsKRW1EhkZyRgzZiRCRwyl/8BsRSpox+F98PZ2wrwpM+Fr6Yxrxs2ihI8VSguZxyNzr4EJ8waOcHenwXZpcR4NqY2Rl5GBpTTuTqa3hA0BgWumTsemnRvx008/wJKAQjZNnUmRAJhQB2WZ4OIMGiHwB4zLmHDmhXMdPzNQtXp8pLfh6HmyGOrJAIGdD44kn8ORkwfhQADh1j89xFS9DrZu2IQmghoclI8R06Zg+ITx2EH5LDMfVxQz6Z5cXkoQ2BTXz1tAtZNZGOfqCgMmyi355EhbCp63iUJdzTQ+N0UzTawNx4/BK6t/xNwbFuEfzzyNSUMGYdHM6YgjoPHGa68xBsZYRPPu7ZRL+nnbL/j3O2/hBQI7+mQxCGPDnLJHO9f8jNtmzGReNBOvfP05/UjqKXWVBWcyS265YTEaK7/BrqRUDA0ahGvCZmCEvxcKmJAf4OQGIz59Z9N8fdumLfhl9zZs/WEj3Py9EXHmDPTMquklYsukfaHi4+DrPxAVBHdqaVQurB1dXao3sB11vLACGpY3V9eTD6JDQ24DuJKxU0X/h0QaiMecicLy5ct579zJxJiIqdOnYQw9OCoaG8hYKUM2718dwR7prxVUJTBlbKZPm0YTbCoPFOSzD0UrvhcuZI3csGgRjMjCWHzzYmTmZCvG6P6BBChSUvDhx8sJzpzB4sV3YtCgUfj554346oMXYWbO9lESbXaYFfRsrAla8QXOgKoMzIM208DehP1UjyCGsJZkQExtXRNefeW/BCoa8cBDjxBUOotnnrmfbcyCn68t3BzN2R+JJplQyaayjm80vLHdvBn0G+BCkv2S8NbIEUli/8EFPkghoBCVUob4jArFG4L5+MsuLvSH0AYtxMxbgIPCMgaztYgPRFF5CSKTSnHDZNc2MGWghzmGD7DCsdj2D5TCMrA0lfdyksp4Yz/ekILU3POa37JcwAsBYKRW1jS0tUHknwR7utglzR9H+pL0UJa8klp8vycTSdntjy8SW3NGU0OstQh4IlJUZymdpV3Er2P3qQKcor/F4zf4UUuvpXvcMMWV11t2ASij2VckOLafyMcOSktpt1WkrqQKMHLffB9oJL6mhdrjCBP/0j8vt1yN/qDdNneHFpBK/Ee++CUFpQRmtEtMWgWkRjGmAqppWDQi33U8tpjac5JPOF/6ol/0xX3ui+/E+Sioc79SBLr5s3BBq8y5REa3CgtD3tTeZq1gVYsaATUCagSuJALyW3Spv0dXcj513/+9CEjmfQ1rJOsy1p9Yr+Dpknv/xoqTpWe75H54/Pd8HpfX/SsrH+7/C0flUbKApbq+8z/pg13G4ZaRT8PEQGj8Fy8yWv0+Gn9vPbdSMZm+2NbjvK9RDKf1+MJ+sSISSeN9r4WLlQ9287p7UmYELMXc4Dvb3o262kfenSb7L2SC3hqrjv1bYY90tW13y/vqHkVmHlBYInL+qrpygkPt3zG129Wb160xb5fjexMwmTf4njYGhvY5O85P8J1HhksIXt/5UJd9tDfbqTm/sC7kfo5wn46bRz7Z5t+iWa89FZbFg5NeUZga2subqGFe11BDI1lT7cUKiCb9+u3wJ+gx0v69ud2GXXzoChTrq+/WpcSiiyari9UI/K9EIIwXEt5al3G6h7WbIol4JpRFG4pPEvIwocd/mnQKmUxORWzal1wWCVP9LMrPF8CE6xqZzzciaJpfcpZJ6EAMG7CQiegxHMRKcKCkEeaOtIFgfvaPTzwNvyH+ZP2VYNnz/0RhTTkG+gZAj9K7DjYOzAc2ooyeEAlHTsOMxsf6dqVwcvZAE0fkOzk60Pw5D7Y2dkhJTkdWTiEln7KRmbcZa5lY3r7nEJYsXcIB1/VYNGs+7rjxVujxMSHyRDTbYsvcsDWTyvTW1TNGcWUZaqtrYWVuhjoyJnR0mnisVMphceR7BWWWmgxRl5GPMN8hOEdWhEgsNdvZoIK/sU1MjFsQnCjXpQGzsSXZbvybRJkoMepmFhp0q1biB0MOGqAvBR25AWfmID2ckE/PhZUbf4COrR2GDRsEC4JEgcOGYvcvv2CWpwtm2c/GsajTqEpJovG2K+YMm4Tc1BT8/PkXKORo/7DQEbC2s5cR7PyDWI1mGifk5eajiT4gK37aCCcPD+w/egwh48aTORCIG++8Gyu/XQXvcRMQz3akljG5X1OB25csxumY03j80YfRSAAkldeelZGFSWPHK9YbOdm5sDC14B1thtesWVT5iUAKJbea6SNBFADTBgXDjM9gqbEJMCVoI6bhNWQ1uHi5wbquBo89/Bg9QrJxNjYOYwND6BtBRmJ8JOOvAxuyUmzNbZFrXEVTdMaOJttGfA6qoI+FmZUF/y7pU4WrgX/D9JFPEMOcAJA5YytSUzW8Zn0jQ2Tn5WDFqhVY/8sGym25ws3bF6PHkLlKCS1HpwHsg7rsK2QNFhXSM4XSzpXl9MXkOXPyeIwq1NK/o47LbrvzdujQSN2YAMQssm327I2gqfjnisn4rUtuooG3D95882Vs2fwzJbcamYM3hlVlM31MqNIDa9TwFueQndhIJlJtqS7MDJzZFXhvrOiRklWKF1/7kHJVzpQsG4ftZO8s/+pdGOuVkJiji0behxnTFmH4uOkEoSjBRtN2YZZ0Vy7+xNjd3ldxvRg9r9qejocW+Som2ZpTezubkgHR8pAhxiTJTNonMVEuklCZHA1/KcnxqaEOmsMSqWrAez8lXZBw1mwg5svf7c4kJUYXov0vZQJlozoCF8I40JQdJ/MuAC006zTTDYdyMJaj9kX2SZLf4skhBtddFQ0YsDeyAL8czu0UXBAGhUYeSnwxPtmYogA+XR1TAIzVuzIoV+WtbCLsC/HOiCM41FmRaxY/jK6KSHqFn8rHoomuyibW5oYKiCEg0OWWq9EfOrZNmCQfrU+GGLR3VYSZI/EVUE36hsR9Ahk8Oyltpl36ol/0xX3ui++EdhzU+V8lApf7u2/N1v6L9QnWV1lFRoqPa2pRI6BGQI3AZUWgZdTFZe2q7qRGoF0EZHi1aB1FsD7PuoH1f6L42A1qdx0nM3qQe2m3R+cfROpJaldlIk27bxj2cNtqSeweSdmKuLwIJBWeZUK9hsmFII5wH4IJPvNovmiuyFldE3wHX3I9OUpdHhMuLNMHLmEi/O62FTWUrjiQvBEJ+ZFIKjirHMfHNpjSVIMxznsOkz80fOQo9p6AJzeEPIyJfvPbjl1dV6GAKNLezJIkxctD4jmJgIWnzUBlO2ELmBpY4FMaYl8uINR394g63lkH266nq5m+vO6bhj/edtoEykHtSfgJ6ZSPKiOTQGTD5P4vGPLHtvvjSPbOWO/Z9FHZ2LafZqYv2znUdYICsmkG88k5BezJLkthv92mNEHkre4e+/c20KK+sQ6Hkn9h/9tEGY8s5gwaFdBD7ucEAmYaJokDr3MpGTyfH1qmHKeZ3wUxS9cUYcNoJL1kmfa61KJzms3apn313dKcoCex0GyrTtUI/A4iEMZrDG+tyzjt/I9oE5OuuvI3kYooMCNYQYNhQS74pKpLwYHMos9pvP0NGRAkGxhyMfPOJty8mDU6HrB1DUTg2HtwfH89jp44gGnXLqIBtxmcA0OZPK5EXmMVZiycSzm6agSNG0UZuiJ8/PUXGElPi5nTZ6A4r4DyUHuQtGUvf6P0kEwmRG5yKlw8/FCYk4WAQH/E0mchLjYGRvQzuOOePyKSngaHDh1kMruY7IwSSgLNpRm2Lb799hsaUa/B3Xffi2uGhyCGSfQGDqK1ou+EqyO9BczNlWurpeRxGb0XdJmk1+Pvmg4ln5o5+n3emDDoUcIpv4JyQzTlPhF3DofiopFJI+i65DQY6Vughl6CMGUOVCgQAlI0MyVA9gPdpBkYDvglYwFUgSEVhJ8ZR0qpk0KAZkoJRXD0f2jYNEycPxdOfp5Iyc2hX0IVKhgDb4IGdmxD9MadBGzssWv7zzChzNX1UyZQm4jnIgOhkZmMIoI8sbl5zLEdx5bDh2Hr64/r6IERGBhM0+tEPPHaG9h44jTyeD5zAj6ppcXwChiI0/Sc+HLlKrzy3DIkJaYhgEDEVxs2wj94IJzcnHHs9DkEkGWhw3iU8VqMzSyQTvConiyTm8NmwoPX6sD41xGsaGysR1ltNfO2epT/5/Wzr9RXVlGhxwoTR4xBY0goL5xhIOATHR2FAwf2Iy4qltdKqSUSVSSjKObWtdXVMOMCGQxeVVOP4oIcSo4RyKI592CCVoYN9fTCMCReU0P/DIIHBGuqed7ouCgcO34cWzf9QrUcQ/gP8KekUwjlomZjcABZmgSnsrNzEE0/kJziLMo56aOAwIyDJf0gs5rh4BMER/cgrN8WgR+//5H92xC3L72dsmWW+Gb1ZwRU0thXmmj8TqCOjAoHAgyG9WbISa2AsS+JN3oVHOBfAMM6HdRVGbL/GOLUuWS8uOw1jBozDZMmjsX2X9YhI/UszeQJ8FQSHCPwYUt5sYnjplJSisAZB7000zNF4qGM2JeAdVEuN4HVxeH6drEkwF//Nk7xVBhD9oX2w4mcWRL9QV4WSpXPtaQvCZBxhmwBMeYW2aeuingXaAAI2WbrsdwuQQvtY2w6nKOYNYs0kLBBBEQRFogUPYIPnk4tI/Xlc2x654l/WacpAogIS0G8JaTISP+LAReyjTA1NhzMkdkLig3ln0Q+SFNEHkrTPs2yzqbCHhB2gasdf4BYAj3NOwUuJMZbjuR2doh2y44T3BDJKImTFCsarF8JcCHH6Mv+IMfvWMRX5WKghWZ7kbGKiC8hQ6gl7pOH2ilyUZp9+6Jf9MV97ovvhCZG/XzKv8gQtFR+UKQKmi4Y2QAAQABJREFU/UYz3x8+n/9RYsMvo3C4g8K8EBmpl1g/Ze0aXeVKtagRUCOgRqCTCLQ8EHSyQl2kRuAyIyBvietZj7EKgLGZtV8XNyu+HbYWSbSWXgUTbfE3mDvoLs1pqQZRp8jlnMk60LZMZsSDQap4AdzPUeniEyBluEcYDqdsVnwPlAWt/5gZWmJm4M1tiySx/PGBv9IDIK5tWR1fzE9l7lWqSCXdO26ZkhR3tvRq26azGRdLn3aghchhSaK5oDK7bfNC+hZIlePfGPoYRnvNVNYFOA3HCI+piqdG28aXMPNr3CNN867GdUsyZWvMKmw7t4rpLSaOWkt+RSYTW5lIJOD00MRXYG3aMgBQwCkBBATs0pS+budCgieavEBeeTrWRLzDdp3RnF6ZCiNEwAspjRzp+sG+Z5HSAVgQ8CKxIFKplbVlbX3KnxJUIgkm1y//7YhdrRxH/hEgQgNcRGUfabeubaPWmb76bmmfpyex0N5enVcj8DuJQBivM7y1LuO0PYBBY2m6BLO2gBfMLCpsCw6UJxuiFgmJcYpikjFz9MxXg77PSDmrQ7NmS4wf8ycYeFzDRK8B1mx4H5Nm3QAbdyNk5zJlwN9Ba3sj1FQUkyFRT0kdY5IQnODs447BB/2gw6R1gLs7WQ1OSIg4RtKCHspKimBha4YSSjAlHz8ABwcnmien0c+hHG7ubnjjrTcwM2wynv7zMzh+7BjCJk3GrUtupXdFHF5/5TXs3LELn332OQYPHor1P29QTJX/9CeyJ02MKUFkSJzBkEn3Jv4OMqFBSaGKqgr+fupyuT6qmXjnJTMUMoDaFtPoqTB4+DDcRCYKKWk06q7De198Q5l5jt6nEXZiYQ7H31uRjFDORDx/JU3MlAR8czNjacUxj2QLIK8MHHkO0I+CYaVhkj9ORZ7ECkpQjfT2xvSZM/Ddl8uhV1JJ2aVmVJcVw87CGZvWrcODD9+Lp//0GOnZDDqNpquqSmlSnY+sklI88+K/EJGeBi+aVxsSZPnii8/g7+OLUSOGI/r0KZIzjNj+SRjox4HvTPyPvelWxoBm1vU0o87IRPDQIfTkEFAokHJWJ1B/SgfDOd9M9oguJZhsHVygR6PsErIXHiEINNydA5MJKNTV1Sl/byR2Ml8vII12YagE4DYzM0M5mR6llM0aPmw4Zs+czfOmEXA6jR07t5OZkEXAo15hScg9EWDBnqySYrItGtgGYXLUE7QQKSYBv2oIeOhzYLQUibewKywt6fthZk5yS6Ui9SRA1qeffMprCsCECRNoiD0TYWFhyrGTkpKRlhIPF0cb+A4YhlNxOUjPj8Kq1StoVWKKa2dzEApBqWeffBrOHgZwdrPB0iWvIHSQG1KijxCU24+XXvkLqg2tCOWReUGWhCFZirYWhmy3LeLyy/CXP/8F181fiKGDQxG+fT2+/245BgW68zjXYwBBquKCTOw/cBh2Lu7sY+wTIjcGfqkIn3VX+hVwIRdTTbTw+71ZlCbKwxD6O0j1IligSYhrX7AwBQI9LZR6Pf0dolPLsJGMhs4S5uIVoTG3LqI0lEgR9aQIO0GS8sKSkDI60KYNGJAHmyPRxRCzZiGbZRMI6EkRKpGmmHQw7tYs10zF3HtNeKbm4wXTge7mbbERqSqRguppEZbElBB7UslJ/6HBTWclMrEM5WSndFckaV9SUa+Yfsu21kpMutur+/V91R86nlnaLpJkPS37zxa1ARemlNwSAEpjDN8X/aIv7nNffCd6Gr/f+HbyhZZf2N97cWEA3mN9hvVF1uWs3f8YcCO1qBFQI6BGgBHo/ilVDZMagcuLwCju9gvrIdbnWbez9suiMUmWxhdV5lyVa5gVcEvbCPoGghYf7vs/GntGd3nu3PI0/JdSOo9MfgMyOl3KvMH34q3dj7XbRzwDjFp9J8Qo+30mjsUou6siied39zzN477erVTRjICb2g4jkkpv73lSMVpuW6g1I54I3574DwwplSVeGlIm+y28bODi17hHmsu5GtctJukiAdZVya/IwK74dbg+5EFlExsCGDYmjgpIpNmnr9upAU32xP+IDVFfdMqeEXaIpmyL+eYC0EKzTjNdf+ZTSpXNVVgYIiHlYO5GM/IMzerLmvbVd0u7MT2Jhfb26rwagd9ZBMJ4veGtdRmne1glVcfKHBylk4R1Qe0TWaoMi69vKqO1Qx1ys5h/d2PunU+veflmsPMIgZPtHTRKNoG/sQsMLBzx12X/RTFH2GcW5kOXyXIxSi6pKmLOvxkNTJjn0NvBxsGOOfhKPH7/A7C3tGfCvw77zu5ngjyX7AADJq05Mr6kmOo5lrD3cKHJcQl0TW3gQEbAux9/gFCaV+/Ysxe+fn7YRTNvJ7IoVqxYgQ8//AB29o5Y98OPTCgbYu2675nsrsVLL7/MC+Fod+rTl0oinVVMkXXoSdDE6yW5hAn0BtRLQp4Jdx0mxHUIWNcRVKlmrtOCNBPx36glsCvTD559DmlkhETFx+Dk6ROUK3InI6UAGTSEruYxkgsKYW3rSDZCHaWECO4YmvH8PIlIAgnyo08QmDHcfuQwdu/bj5FWdmjMLoAn2RZl6dkwpFQXuQxYs3oVRo8cjAYaaDfSD0Gg4/S0VOw/eAT/+fBjnEtJRvCc2Xj1P69iE43RQ4eHIis9C58TwKhNTcHNDz6CJGGpMOEfOnQYln/OJHpQAOZMnY3l362GuYMjvly7GjZMuoeGhuDxRx6lrFMMNpGBwdvFHDPlvgqKMPf2Ozmo3BqVBFb0CGgISN4C/kjSvetSy9gLuOHh4Ulwo05hPxgZGSkeFaPHkHWTmcnzxSMi4iTKykphROmm7LQsWJKlcscdd6CQMQ0ZFoLw8HBuF6sABQJmSGfVZX62gffMgXHOI/OkjFJcBrznNtY2nBoQxEpAFJktq7/7DoEBARg+fDjGE8gYOjSEgwxMsW3bLsSl5SOKvh0DydSYOHocakoL8eZ7r8LJQR+vvPAybCj15Orlh+uvmY6bFszBK2/+B7rmRijLKISuVb0C/uhRNkxAEx3dJrz37vu4belSBPr64IP33kBKUgxmT5+AgAHu8HJ3wi6CNQEDB+CBJ8SDjIP0yahtJCTVLNJo0gm7KZ1no7vZ6bewWsyfDzA5LFWfPwieTqY0gjZVJI28OC8yPdpFwIAhvlYKiCGyPR2le2R0uaaIJBK/qz0u4lmhAS60jyPeFT8dOD/Sp7sDyv2aRLkp7WN0t4+wOLQ9ODpu70AzbE2RxLsk4HtaIuJLyRwovejmPQVj5CBlVQ1twIVGuuqiB7+Elb3dHzqeOpK+H5ciOyZxEWkpjTeG3FMNcNEX/aIv7rN2P+yt70THuPbTz/32d7OP4u3F437G+izrMlYZhiZPfWpRI6BGQI2AGgE1Ar9mBMbx5KITs4/1edbdrP2qCEtBU7TZA5plvT21MXXCBL95bYc9THmoi4EWmg3FNHxz9HLcQRNnKSLFJCbMwm6QYmpgroxMVz7wH5HvuRhoodkuuyxZkR3SZmpo1mmmdjQQ1wAQsmxz9IouQQvNPjLdcJYjUl3HKdJBYjwtEkHJhVHam/Ro/nLukSSNLI3tenR8zUYC9mj7kVyN65ZzaksfadrScXo0dTsWEKzS+GNYmdi3ARdXo53SHgG6fjrzccemKZ/16IPhZRPQtk6YQt2V+qY6MkqyKH3moWzqYTPgioCLvvpudXYdF4tFZ9ury9QI/A4jIJnS89nS1tyfDDDVUcbhNZFxwXwitzDUNaKRtQlqaeHQzLyxeAlXlJvDIXAJjZMr8dQTr2B82J3wDRqHoWNGw8LRDsQm6IlawvxRHRP/loqPQUxkFCV5vsc///kPek+Yw83SAXEpcdi2fTMOHt3PUfWlTBbbIy2X8u/M8VfLCPvGGhhamUGXbId8ykv986UX8dgjDzP/b4TFN92kmC/v2rETH3/0Ka6duwDzFswn0cEO587FwNd/ALy9vQkm1HKAdkv6Qqd1zJAw4nRIHamk5JAk4cXrQl7fbWkkbU5WSCVBCwuOqK8hWJFTUsjkciN9LQxRX1ULo+pS+JmYwytkBIJp4G3hYIM6MjKsed7NB/dh9YZNsCJjwIJ/5yrJWDCjlFI9k9R1/B2upA+EQlcRygq3MSJIUVVSBnsaZJtUNeLw3iN45qmncPsD98CWzABh/DXUVTOpz3GjZB+s/eF7fL1yNarkPlmZM79YiV+2bSYbtZoxPED5p0Q88MDdNDuvoGxTLUrIzFhBBsJXX3yt6GN8+cEnqCUQYUq/iX0nj9E3wxpTpk7BkKBAJvtjsXrltwj288UAT29O/WkKTqCCg7+b6UWiI+wR6TRM2gr7oZExEVaFFGlnxyIMlFr6jgh7QjxMhIUhecBagg8CIjk4OMDT04NAxgT6nZcqAETc2VgcPHwIm7duoYwUWTs5OQQ8sghelfFcFPzguatrKumtQYCLlBlhVpyjefd1C+fDxdWN4FN9q0QUTbfJ0hAA4+iRIzjMY65bu479zgoP3PMHGodH4RRBk0nTZ1NeaiJy0nLx2kuPUomLvsXbfoSTlQuW3nQHhgTa4Z4/3oWRg4ZA10xEOwwYM1ekEpQypJdJbVUTPVQIdJkactuhCGIcn3roXuSmpdG/3ZLAUST8Pa0Re66A3iFmmDZjNswsycTRkRw1+2Qzzbylb0r4zn8bO4ZS+dzSgztd1X8WirySxtx6B02iRYrHw9EEATTMDva2bJM7kisSQEOMqmWfPafPsw+0k7TiGyFG2z0tzratiCx3sDDtPqSStHeiFJQtZZxsSK2RqS0T23Ic8y6YDV21JbuQemoXKQ70yNCUSwEZNPt0N82mgXlPi3iQXI3SG/2hYzsvBfDR7JtL0cM24MLq/H3QrO84vZJ+0Rf3+Wp+JzrG4jf+We833r5fq3kDeOJVrM+x/oP1R1a1qBFQI6BGoLMItB9d0tkW6jI1Ar0XARm10y8BdWEFaMrlmANr9u3pNMAxtM0DQOR0dsWt7emuOJWxF+JxISPTpQxyGdMGXAgooDE+lhf8/Unre3zc/UkbMG3gjXy/6/wda6jreGVUvBywkKyUQ8k9Uwgrqsoly2I7xvvMVdoyxmv2ZQEXl3OPJIn9t9lf9jgGsuG+xPX44fQHbftcjes+lbEP5bXdqxDUNlShmDJmGsaNNYELTbka7RRj7W9PvKk55QVTSRgdStkCKwUsau4RaCYH0e5zJgTfrqT01XerY5u6i0XH7dXPagR+ZxHYw+tdxhrOer4oT6WSORVhBeEntKb4mZDX0bGAUbM3R6ofhS41+umfDF2yCI6dPorCQnfc+8ATSEyrw/FT+ym/cwp+AcH87bDCrJlTmHAnyFFRBU9Hb+gGGyqj331pfMx0IHbv3osD+8ORlZsJL1dvjJwwAqvWfANXSjelMVmtY6ADAwIUFSmp0PVw50NMIwLpxTA4ZDDllMp57mKFJTFj+kwMChiMnLxc+mAkEHSoR0jIMNpN0DyZOU99/VZ5KIII9ZTmkYS7FB3mTPUNyLqQEfz8LACGyA8Z6jMprk+WA383zbivGZPL4pGhR3BDl4n4mop8nqMCuga68LaxhY2tA8xp4K3Pfa2ZmB5IsGT1z5vo7ZunRNPW3RWnYmOgQ2YDTwCci4MpTbptjYxhXUND8MpqNBZXID4jEVvXb0TwqOFKXruUzA0rex6XEkrVlEZqIOgRFR2jADH1bJetnZ3idZGdn4eC+nKU5dQykV6NVT99j5mTpsCLclyzrGbj7jtux+H9h5HB+MTQiDs+MQl+oUPw2a4t8La3pzRXMc5QWurkkWNoogSWnelQzKDJd1FOLqyMzChvVEBvhkaYMnEvoIPESI+gjjzLSMxEKqpT4IJxFoBCthemhVy6BrSwtDQhqFJC0/IiMl+aFGaGr58vYzcAN99yKxIIOCQnJ+J7Al0FjIMco4n3Uo8SXgIYyHH1GBdTggG1BCseeOBBjJ0yBauXL8err72GSsYrKDgYixYuhIuLC9IIJJw4cQIpicnYt+8AAYvJZKykElQYjJL8XLz//j8UNS9b/o28cd4SSpXpwNbJFiu//BYm5k5w9AskcJTPJ2kyLspLYeDigCD6iVTFBKMh9wCN3YuV+/TSy8toZWIDa4M6xMZEEegrxuefnsWdd92NRx55HIWUzTK3oJ+zkQWPp6NcQ32d9D8RY7x46fwJ8OL7/ObXinGz+DhI3XosT2FiCFjho2WUfc0YJ2W9sCWk2Fq2/EjJvEZeSuYvtXQFXAgbZBRlpMQDw97q/EvIpR6/4/biQ3Gx4qB1rgJKYPV2qeyBTFRvn/NSj3c5/aHjOUqres5U0exbUnE+3nYEqDorvdUv+uI+9/V3orN49JNlKnBx8Rs1iKu/Zz158c3UtWoE1Aj8jiMg70hqUSPQ1xHYxhO8wHqgr0/UV8ev4Yh3TWlJumo+9c1UzJU15UzWISaj8zQfu53KSFVJrmskgxzM3dv2kVH3miJm2eKN0NMibA7xDhjqNqHTXbSPHZt3kq3oOUaVUniuDbiwNz/fxk5P1MXCq32PNM24GtedVZakOV2307KawjbgQls+62q0UxgUhVp+Jh0bK94V2qBPx/UdP0vKcrL/Ithr9duO21zq5776bnVsR3ex6Li9+lmNwO8kAp0DFpqLl7d75clUcoIywzSqkkmVvycWHO1OA+3sDLIwztCD2pXJc0vU6BYzAesMbybIY2hgPTQoCPuPHMCxQ7uZbC7Dik/dsHD+Elw7ZxqiErMxdJQfgQLKTNH74od1a5HBxLS1jSWyMymBTxNtJxcv+BKAaKC5tbPfAGSk5yiWG16+bkhPTcXXny3HlLHjkZeTRxWVcvovtCR7G2vqOLrdHs70Dagli8LY1ITSQ2XKiH1JcEsRTwTxsRAjaSUJTlCigQwGYxo4N1D+qIn7SSmkn0OdMD24rXgw6HKEvyVBiTqyBirJjOAMGivIgOByHY7493N3o7SRBUq4z4Y9O/DWhx/hhddfx5vPP49YJsTDDxzCD5ERsCYFpZRJf1OOrPdw8oAVp3WFJbDlgISc/2fvOwDbqs7vj21ZsmzJe+8Vx1nOnoQMskjCCIQNZY8CLZQW+uuftpCWFii00EILZYYVIISwQyABssjeO7HjFe8ty5Zsy+t/vic/WzFO4iR2Vt+Fm7ffu/d7T9bTd+45JzsPCbEJeGvNBzwvc2b8X4yb/QIDmaBvJPBTw5iReUB5qiaCBTqCOSb292BhMcJSgiirVYFqplfdfPRMhJPlQQPr97/5EtaKakwaPhKh/iEKW+TOe+/BPfffR8PvFfh27WoM7ZeiMEgy9u9HgMmMu266CaMGDUULmQqWgmKyXSjiRdPwcJp7S/xEgklACgEthHUhIERFRYWyXpY7lxa2VfYVCScBixrIUmjld5Hchyom8AVQ9yaLwmDQ8V600LSb0lp86BoJOCUlJyuMjOEjRig+Glu2bCLQ9QO2bdtGmSgm/HleYZM08B4G0kxbmBUpfP68vAz0AClCXFwccvnMrP3xRwJQrbjm6qsxefJkbGDsamorccmsy7Fm/V7s2r0Vb77xb0wcNwReLeGwlJegiXnLhP7BeG3RZ6giGGQOiHMaaHtwsD59Kbzow2JrcmDt5vUozM7GiFiu5+fnh+++5fHFBPlqGMcU9EuOVNgi02gaf9PPbiIDqQ4xBDvQyg8BPVDoJKI8Q9QlY0yOn147L4GLzg9NFg26X/48G9ddFI1hKaSmsAgrY2SqP5FAJ3AhPgQ9UYTRIWha298I5Tqzx4ThwrSOkSedr9PIB1UMuUstDaSG2TG0j3/7SP3O+3ZerqH80rGKqzeFnYimVmhm3o3noXOcxEvkRIur74rR68gPozx/Pflc9MZ97q3PxInG8SzbX76VfvrNdJY18ixpzrCzpB1aM7QIaBE4+yKg/R09++7J+dSir9kZASw2nuudsjuYKGgrQT7h6myvTUNdwAaRaTrRUljdcUyo2RW46Gh7Cc2TT7SIjwbQNXAR7BPZfjrxVhgec1H78vFmIv3i23cxGwLa509k5mTukfhs5FVlHPcyfsagdkPpzjufjn4XVed0vuxRl+sbnb+pO+9wOtrZHdmxzu2SZZEwC6PxeyAZMEr1CYMALeHmOJi9nDmDro47mXW99dnq3JaTjUXn82jLWgTOkwisYj/msa5kPXpxpwaUAlgY+EO/bfQ3c3rN9CZwh5GiNkMRHxOABmsmbPLd6FbMZH8FvYVLmNwuwyUzLsKGtXvhRkkhP6961HocQmnBXvzrmfVY+PJQjloPwS/n3YqQCH+s+G655HkRm5hITwI/Mjd2EHBwx3Mvvoz+BDBuuWsm5XgC8d8XXkD6nj1MGjfiissuQXxcNH7xwH24jJJQQwcOQQilmaxkXtRayDaottGrwYtJajI8mCAWpoYktyXRbhfZJ7NZSZSLbJEYSqtMABvZHZI49mZy3dFQD1/uZ6Vs0TdLvkYxgYuLJl+EYIIOBWSASALeSN8OHWWB/Pz9Ed8ngUlVD0oV7SNg8RLe//RTGOkFUVxQhDWUxbpo0iTcPGcO0saPQ1ZtBT0m3kIkTdBbSysR5mlEbYUdJdk5uP+eO3H77bfAYPQke4AsBSbwxUic+lTIyclCI9mfq1atwUf0a9i/9wD8aPpdVFiijNZvpc9DC1kkTTw2l2bmfvTtMFKWSW+iaTQBoL15ucgg26CFjBGLwwYTfTQSmVQfPHEUvv1hOe9RIRpoSD59xkyE+PjCQa+ImpIyely4ky0iz0EL2QtklxCYqCMbQwAK1YxbgAwpKoNFWXD5x42eKWwKwQUOZlaS8zyfGMDznBJLZ2kha8aZZ9Qztq0EoyTVVEVpKLmWO5klXmTFXDRtOsaTUVFKMGjf3n3YsmULp7vpVbEMEydOwK6dO2nKvhwbN21R5KuMBK9MBGMEcBFWzdKlS7GZRu6tNJqfOXUyguJjkZ2ejfSVn7H9tVj1/RrM5P268MLhCIz0pin6w7BVUcrLm1HwcGefm2Hg54GNQj2lxxqYOxdgRlg3hKDQqBPWCGMfEYxDO9OxY6sFiQkJ+OPj8+BtNpGh40BgVDz35ZPvxrgRvNG1sWjlDN0pPZOt786VTmGf/3dDiiKlJKcQeScx2D7Rws8wFq7Ip4GOAVHBos+F9qnM19ga4S2cLZat6Rak59Uo8yf6jxh/q6CFSP/cfUn8T0CInGKbwvY4XFqn+CBYeIy0Ty1JUaKV5myjuu5kp5YaB/vlPJefzzlxu4/b1dPxPHRuhJkf2lMpVj5faumN56I37nNvfCbUGJzD0/PjQ3QO3wCt6VoEtAicFxHo7nvqedFZrROnJQLyKv0l659Zjy9gf1qadOoXqW3o8JoTeSEZCX4ijIKjtUCS9KPjZyibxcx6A2V0pLiCDaLvf6Kl3IVJYfT0gcngDzm/66j7Knv3WRzq9Y91jCug0y98BKSeTPH1Ojng4mTuUTVllZ5b8cvjNvPKwffhwqTLutzvdPTbtW9dNqIbK09HOwuOYfLeuYli0j0qbjoSKV8W3GYm33mf3ljurc9W57aeSCw6H6staxE4jyLQPcCivcMySEBMLDzBAfuSO26rXGg2MfEdQ5koSkZ5x8Jg7g9DQxGTtkUoRCkZAbkEEsZh6Ii7UFp4GbZtWY6a1r14d8G/mRivhq6hEvmHS5lgr0JZeRWi40JpiNwHazdswJaN27E/LxuxxUU0uOb3/aFcVHHAbD5Bg6z9B3HxRZOQm5VNw+Qg+HN0/rdfL8WST78iQyEe42iofC8NqFP79qGxdw2Tw/WwM1HtwWR3Y2M9OyDKTB4c0e+tsBaEaSHV6WlBAIGJZ3mfEFZDC1kXwgYoLi3Cc8/8XUnU33v3PZQDSsWbb75JMMOK0aNHo9+Afogky8KbTA1hHCx87wO88tqr2M8R/628roGeD18s/wYFBFNqCPpcO/dqJu7tWPTBB9CTIdBCv91ApsWqMtMRSe+P1957H7EpsUyeizQVJaqYcnNvYfDpvXEoJxMeNAN/45U38OILL9LgOY6Ahi/7Rut0vl9Y6mqYPGdSf+wENEWY8eGKZQr0VF1jZ/sb4evhCQuBCH/KOfn7+OHbjWvIvgjGdxsaCGr40Gi7hSwDOlEQ/PDiNX0ovVRCs2o/HxPbQMSBt76FoImUVir6yGPBIClxc84qa2S2fZ2y4PqP+KQIC1R2bTd/Vx8uWdm2XY5RFp0/j8ipUFY4r0rggIBTI+Wq/PwCMYFAxTiCQbUEVApyDiNj334sphH7qDGjcffdd2HxokVYs2krUhPikEzmhjAv/Ak0iS+HmfenvpZ9IthWWLYZA1JGIDw4EvW2CmRnbMCEqTfhqut/RvYHfdQJYoFgioBhLYwNPL1hI8OkXsAiNxN8/c2o9/Pk88RtzQ0werUiOzcbw4cPhoPg1113/xxR0bFoIkDh5Uu/EvaJ4mRKn2VeLRKN7pRzIgnnICNBLZFEEk+28HnD/tyadsAinCAGB74rpssCOIS1eVUIC2PbcUypu9OGCWlBR4AWwqYQ0CWbElbHKnqyNnqqlJHJEdkG1PSkRFVPte9kznM6nofO7QqgD8mJlgB6pajF1UC9N56L3rjPvfGZUONxDk87/sqew504TU3/ite55DRdS7uMFgEtAudWBNShbfLCI++sMnWd72qdtr0jVudyfOR7dAhrTxX5qfcJ619Yd/TUSc+W87iOyvdgAkKSwOW2EwcUOvdH/CdmD7hVWS3Ji12Fa2F31MDVaNqVSdD5+KMt1xCkcC0mg58CXLhKB+lo0Hmipa7RdtRDXM991J26scGTMgjulCsQWaETKb11j6QNrqP0O7fpTPe7c3uOtnw62tkdHw4PjnS9dNAdmJh8xdGaytHTYshdgFKygnIrD2BYzGSIKXdPlN76bHVuW3di0fmYXlyW7yqtaBHoTgTku7wnyiqeZB7rStYTKHJ5StYo/zoPk6Sxh465Rw9vGTDP5LovwYcyjpDn62iLN4EMmnYzge+gjv+KVZ8hLrwYqQNGISYhnibXYejfL4mmyDvx2Qcb0KxvQgwldQ5kH8SOPbvw3dovKLWzlQldf/zx2T9h0OChmEEmwpPPPItqJvF9jN74/cMPY+vaFfTUaICOiXRPNiIowI9gSAlysnKQl12At159G/956RWkDRqI/gP7IyA0TGEE2Gy1HG1fyx40K94DOh0locjcELaAsC7EH8GTfgnNlIiKpAdC3uE8pB84gMcee4xmzYPx+9//Ab4csf+3f/wdQUx6z5lzOVIJYpjIqJAEaj6ZDI8++ihWr16peCz4+QciKCISIyZNgj8Np2+ZNAVlZHrc/uuHUct3i8FMopeRCRLmZUJVbhZG0X/hmb89DQ+ajjMTDp3JC45WigdxJL6twUoAqExp54P3P4gfN2/kyP2/4Idly8lq2YhAgg8mmmvHBQTDk6BMVEAYNmYehI3gjdxFO30uPMgMkB8aPvxOz6X8lYBRRoIgDa31yC4rRCOBj3C9mUwYH9zGRH1KYjJqyssQxfhZKdUkngsisSRgDiftwITqZeE6VeedT03Hv60EKggPcYVUtajzrk+auk1+5rgW559PdoXm3VZF7koxA+dzoCOgoidrIywoGH0Tkwhg3Yuvv/4ar7z6Ki6/7DLcfscd+IgARmVFOY9jvwkyGTiVvgnO0GAtwTvvvobElIkYPiANoaE+uOP2m3DPb34Le3ktDPQgaSXw00jdrlZ+d0p6etf2Hdi0fjVuuuuXyOCgbHm2AplnHtxvOAJoNj9xwgjORyigxc033IpAnkPv5Q1rXQPP5c2OefEYxpXRlZ4Km8UZG4mJrOncf65yKWz22V/Ex0E1wD4V4EJ62uAi+SNSPlIlEV7p4v8gxtknUnwoAzQwwVc5RAyZxVtDyqBE5zqZ35drxfylh2X2uEUFGo67Yzd2KKP8lFri6K9xImVAvBm3XhynHJKRX4tXv8o5kcN7bd/T8Tx0bnxMyIkzYKJcjnF9vnrjueiN++za5p76THSO6zm4rAEXx75p8g20mPWvrDtZ1W9nzmpFi4AWAS0CR0RA/j6cWIbwiMO1hXM0AvJCdewRPN3rmHzffMz6BOue7h1y7u2VXbnviEaPTZiJL/e8ccS6k1noEzK4/bAia44CWsiKKnsZ1ESzn4vBcvvOx5kJ9A49Yg85n5Tquooj1p/ogvkYbAjxwFDbvOXw9xCN/5MplTT2PlHQQq7TW/dIzu06Sl+WXcuZ7rdrW441fza0UyShfj7+qZ+AENkV+2jIvg+Hqw4o0l3C7HGOcHX2KNnlc3KsPnZnW299trpzbW0fLQL/AxFYxT7OY13JehJF8n9tP/OZKJYXVI7Fp1SU+BRwi+AXNJN2awwn+8ITNVVM2zYHwuAZwEHpJcy5FuHA4dXYuncF2QktmDzxUsT1uwKDhtyA6687hFUbvkVUDBtHICOrYDP2ZR+mXNFYPPzo49y/GTsy9+LtDz+EOwe+hoaEwEAzjMLDudhHT4MWMgM2F5fj4Qd+hYigUBQfLqIcPTCcYMe4cRcoYMTL/32VptM5uOLquRiYNgh9UxMQHBaKGqsFdUxa1zfYKB/lyUS/XpGJksH/zO6zxx6UXSpSpIeeeOIJjpYfjqeffRZNPOajxYsweOgQXHjBeMUzQQALO2WVFi1eiNdefQ0H6Q0RRHNuA82iU/r0VXwnTHoCCRzB78a4LfvyG0STIeDb5IPaA1kw8dj9mXvwh9/8BrfcdAOarDIgwY0si2Z6h7RSiqmGMW2ll0UBdm7YitdoNH0wMwv33fdL7DuYgUvnXI2/zHsaTz/5N5QQZKigj8etN96GpZ99jUxbCULpcaHjAA89TbSb6B8hII2O4EyUj5k+Hs1wcNmL/U+NCIPe1oRH7vo5BvZJRXVFJexkEhCKQsnhQrISxPyarAL+J+l5eRYUEItB8+CCABWuYIXrPHftKIJ4KEdLsNvmlcCz1wqtR921I2Ev/hcKM0M20Qxd4iNeGOHh4YyNmKtTpknxymghEKFDPUEB8TcpLi7G9OnTMW3aNOVebt++HVfQmLumthbLli9X5MEKCwr4HFiY984gaygEAwZF48Xn/4ToeAN+98jvMHvK5WixUIUoNAAtvNcUiiL4o0Mzc+W5mYfws5tvxw3XXUKmSzl7448S+o44StJRE52CoqpyfPvNJ0hNjsf9d/ycR5kZOwNlthpoiWBDjDmCg1jIbKEHhxQKgvHJUz5hyhKpHcr6Y/1zbgAX5fUY1jbYQbT8g3z1fFCpFXYSJVmRYXIeKN4S6uj9CkoqqWUYPSaWbiw5AuRQt3U1Hds/EDNo/i1FfCqe/dCpWRpg0rfvvnpn917Yg/307ZJV7Qefwoy0Ry1JkT6IDTVCJKq6U1JiSJdrK66Aj7ruTE0LT8Pz0LlvfRkLuTfiRdKdIvvLc6oW1+e1N56L3rjPvfGZUONxDk814KLrmyc8yg9Yn2Q90PUu2lotAloEtAhoEdAiwF9hp1YE7FrI+hfW/ad2qrP/aDEcrmBCXZXbGZcwG98dXIi6RupSn0JxTchmlHYQVcpq8xHln6icOeQkZHSCTVHtrZKEtUhESKmwF7WvFy+BEy0BnQAR1+MlPuH0KZCSU7kfW/N+cN3c6/O9dY/8jSGQerRypvt9tHZ1Xn82tHNSn7lHgBbCpvhi9+sQo/hjFU+P4ydTjnW867be+my5XkOb1yLwPxiBVezzPNaVrCdfWs3METO57KaOp3H+5HfjUHPJNXPcPeX9uV1PloKbL3xDw+k/0EDQoYGeAuGwmTgK3kAvBJ0DVns1Fn9B+cWvVmFAWgoSU8O4zYwNG5dQ6siCSy4fi9GOUWjx8ceOw9vx5vuLyTLwQCsBkUsmzMDYwWNoenwYwW51+JwSS8kpfdFEIKAkrwCBZAiAQMaIYcOYzOZ56bMQEhGu5DTHj78A6ekZ2L5jJxkVHkhMpJzUuNEYOlRsJ1tRTKZBJRP0kgg30v9BYAsvekK40adg0KBBeOqpJ5VR8l8u+YpeED4YfcEF6M9rmygvJG9u69etw/z58/HDihVMntcjLDiERuVGmkV7oKKkhDEioGPfQ9moHLSYVqKOIIKO5y/dtRt+TIMnxsbj5QV/wcD+qbAzAW/wNSqDBVrIAKkorVD8RDKZIF/61Tf47vtVSErth9lXXY2NW7fR4+MyXHPllXjv1fcRExlPb5AQMjiqsWXtJrTo3ZESEoNyK2WMCLh4m3RM6htRTz8NTwJAmYU58KeBtTv7XVpcgQgCQ9MptxRC+agCttVIKSmDsC3p/WEgItRMSaYW9kZAiybe80YBEAhCGFspdaTMdg+4YMjksE6FyXpSKGSbk2EgO3Ts5CbSUsqBXC1UC2VCM2wahovMlwAxPpQMExBDGDSqz4a3t8iB1fI5aVQYM/E0566mXFNZWRn+77e/xZo1qxUmytdffUTGClkzbnb8/je/wJp1a/HoY/MwddoM3osmuIl3hYMCYoyfQ0ALXn/5mg1Y8MZL9E6p5/PdCk/e7xbm0e2U84oM90UgmS/N9PGIiPbHQ79+ALVlNfD2jcTOXQcJIpkIjCTxnbWJnhtefAqc3RPRqBb220NZIwCN1GOn2c4J4KKIjAvXcuPUaLxEs+0mEdw6geJPBDMxQvwjnEU15palXZlWzB4dTkTVjaYzHhhDMEL8NI5XRGpqZGqHJurOQ9SmY5HnTMdzqUUMu7tTxg8M6s5u3d5nX47o3QndzHmrpwwP6Rbzw8A/YAPiOxgjBw6fnOdHtxt6Ajuejuehc3PkD8yFg4Lw6Y8dP7w67+O6PJ77qkXYECpY1FvPRW/c557+TKjxOMenIoApHyb5y6pOZf5cWZaRrj9j7akiSN5brH9jzWLVihYBLQJaBLQIaBE4VgS6+Ub8k1PI750FrH9lzfjJ1vN4xbrsJbh04B1KD72oMSyeB8sOvH/SPR4UecERhs/pZdvbz1VK4EIt8YH91dluTxOCOo4prek4lySv1RIdkKzOdnsaG5By1H0r7Rzt2lbCzLHqbLemImU1KGKcsm+xNfcn7IlunYQ79fQ9kuteNuhOJcFxtDacDf0+Wttc158N7UzjM6+WvUUb8fr6x9XFY06j/ZOOuf1ENvbWZ+tE2qDtq0XgPIrAKvZlHutK1lMvihcBc4tuTN62pZUlkye5G8k4NrU6mMTlgOAWDyaQPblOD3f6yHqZfSiDY4bJLxxNLQ4UFRXDL7CV/rmtKCisxM69B7F+6xaYfZsQFmVFSHAQfMJCEGH2RzX9FRrJNrj2yqnIOJRHEMTORPNuVFb7YeP2VXjwmlsxf+GnCIiMQ1paGhIS+yCQUkbTp09lAr4Ms2dNp5nyJLz80qv49OP3KW3khiEjRmHs2AsQR/PlYrblPzT8Lqah8+WXX4ZLLpmNscOGULqpBYcOZdNGgnJD9MCVfuo8vXABmRUFHJU/YvgQmJkI75ucwuR4iwJSvPfOu3jiz39VmBs+HDWvZ0JfWB/VVRVIosySkX4VOhpq33TbbVi1ZRvSD+dTBssXpWxDFT0WHnjgftxw5x2op5+GsBfExsJG8MJI4KW0uhI1Fgv2E+D48+PzlAT54GGjMXjYCHyz9Fu8/NrrCDQHkhXwJwIMOibPPZiwN2LQgAQq3RTCj2COjb4W3vZmpKX2R2ZuFtkAhxEWFkaD6SoMCIvhuQZh+XffY860WUgbMADJwbFwI+hE8wp4sR91dWwX5bhMJhMT/HYFrFL8P+QBEMBKEAhBsORhkNr2jDjZFhJBSbzLVIrs0NWrrnIgd5N9ZbtMpahTrnPnvFyn0+Ei9yRAhUg+ibG65CaltFJWDDRiV9bzum4EFSTCtQSWAkNCMXnWbAJe+Xhr/jvYsnUr3/1MxN6MaLVZkJN7AK++8g769B+ktKHVs5GeIpIr90adg6kt4vbfrN6Mjxd+gJ/deDP+b+MmGm370erCg54YTdC5WTF81CDMuXyuEut77rob9bRfCI1JxdYNu+mJYYBO7wS2PDlfW0cDb2NHxyR55uyFGjeuOEbRHWPbWbMpq8iG4soOuaiYUG9cNzka732X1+02ymj5ey6NJ+rWEaydmU6QQU5STZ2ubRmWdhBi8lA6ohfQ8ISj+49VZo8NbzcOl/3kHFLk2ZaEteqb0TfGjIx8oUMdvaQl+eICl4S37Nn2TB79oONsEabE8q2lmDM+Utmzf5yvkoBfs/vYDJA54yNoTOPZfvaDeac2sqv9RD0wczqeh66aOapfABFbG3ZlSe766GVM/wAI40It328ra0dbe+u56I373NOfCTUe58FUwGepkrQ/14ogaj0BXAht63XWZ1g7MhNc0IoWAS0CWgS0CGgROEYEOl7Ej7GTy6ZGzr/D+iRrlsv6/5nZjTnf4uJ+P+MoN73S5wlJc7Am84uTYl2IoeVcGj6rpZk/1DPLO0adi7a/WpJD0hAXmKpo/avrjjXVU0vjgsRL23dxTdSWuxh9R/jGQwySM8v5w7YbJdIvQdn/aLsK40EtI2IuwpK988n06B67XBgsM/vfrBwufX9q+V3qqU5o2pP3SC6cQOPoodETj9mGs6Hfx2xg28azoZ2ujJ2VGYu702wE+0S2S5B164Dj7NRbn63jXFbbrEXgfIvAKnZoHutK1p4rkjtVEm+SHhUlfueoRPWFRe8m7Ct+B0u2lVubWn3h5Z1IyR8mjj3qKXNUh6Z6OwKC4ilJ1IQgjuCPoDZUBT0GBAyorCpEUXY5ygqZYM8vR2BEC8yhvvAw1cHoXofEwcFoaKlDfmkOgY6n6A+Rj1//PR0+HoMQPnwybrrnbqw7lIWH/jQPr//nRTzw4C/IbwCum3Mxsg8eQpI//aQISBzYsQUb1pDp0X8gZl12KS6eMg02mjL/8MMKvPrftzBh0iRcecXVGDkqmUebUWtvgMVajsYWPbbt2IMQP29ERwQjPjGODIh67N+xHS/++7+UAVrJhDUVSDhav9FehaDAAIVpkRDN0fRMpiclx6GSnhrfL1tCYMETDaUFqM5OJ7jRinfefgVjxozk9cj04LhPBz2rvHVGggX0m8jNRnlZBRkBa/E4QQuTjy9uuuVn8Kd3w/IfVmH61Bn48uNPsG/3PqrSeGH3/gxeqw/bYuDtcidDwgvNlCMa1j8Jd997F2rrbfQROYSN27Yq3hhDKAV1JSWTrJSDmvKLoUiMiUUVPUL0VbVw1Dvo98BEv8NOhopyWwk4WTn4nL4OBAc8CGbJ/W/hvVTuOQfNywiaI4vT5Fx5YBRcgk+OAnTICFeno0P7/gpgwaeL710K+KDIRQmTR/ZQ/qF6F8eYKivaQI62g8WXRPbR6UTqS7Y5WR9uBDNqa62KZ4lIYdXUkJnBuAbQtyQ1JVVZ9qJUVgtbExoUDTdHFYGaVhzOteDZp99F8uAhsFSVQmf2JivIQLYFU1xkc3iQWbRk2U68//bruPnauWi213OAP/2hPcidcTQhAmVkupYhJCYK+S01+PGTTxAcOJBsocFYvXQHDP56hIYHISQkXPHY8KDGlslA9lJbf6QvwvgR3wtncfa/fXMXM+pnsYtNZ88qYVa8s+wwpZskV+gsg5P98ODcJIzo638Es0Hdrk6FOTBuQCDun5NI8xznC79sk1H7G/dXqbsp0x+2l5Ei4wynD2kyP78sAX1cpKVcdxYGhYAbE9KC21fvybYeISWUV9bx0nwhjbrFM6KrIswMOde1k6J/sjmR8k6nWjbsqzpCWuuyCyJwCQGXroq0RbaN6NvBIlm/txKWWvndeHaU0/U8dO6t+KHcOC0G4wYGdt7UviysjLkTovj3xvnhKyeSq4JZ6k699Vz0xn3u6c+EGgNtesYioLxuncLVBcEUsCKe9QHWfFataBHQIqBFQIuAFoHuRuD4v06cZ5LBAa+w9mG9k/V/ErRgv2FzWPHt/gUyqxQfgy8enPgcTkZyac6gu+Fn7GAFf5++sF3OSU6+h6PRaxs6BnZN63u986Ld+Hc8QQsfml2qRZL5ahGQQvwD1HJh0uXq7HGnE5OvPOY+OwvWUDnDmU4w6k0YlzDrmPurG8UEdHTcdHUR2/NXt8+f6ExP3iORJ7py8L3HbcLZ0O/jNpI7nOl2ujH1pKPJqFrcKV/SnTIheU53duv2Pr312ep2A7QdtQic2xFYxeZPZp3EupK1Z0v7m4nMdKRIZal9kzLnXPJgwlyv94XR25fSPf7w9QtCQGA4ayhMZFN4U2rJaDTAbDZxNHoo4mOTEBs9EL7ecagqacLuLRnYtW43snYcgjsHUOup/x/K0e7DaYB9KRkV11xxJSZfnIrgvvVo8MzBpozvsWLjN6iiHNLDv/ottm7ZhV/d/zDyc/M58l3+xpE5oG9VDMH79olnMrsSH73/Lp5/7lks+2YpIsLC8civf4PUvv3x0gsv4u47/x+eefqf+HHtOgTQ8DuQQMEAGmaPJ+siPjGRTIpyBSB56Fe/xOqVP9DY2lORKKqg1JSRjIugoAAmy8UzwxNhkZGw1tQgKiqKbXBHdsZBNBIAGDmoPz5bsICgxVgyAwjsECAQhoN891aUlRKwKMOh9Ey88K//0Oj7D5h80TTcfvddBFLssJMBMXnyVIILjcigaXh2Rjrenv8G5Ye244P338f33y2j7FUl70grZkydhgfu/znN0h2wW6rx9mtv4MP3FlBuKxtJsXHYvW07YsMiMLRPf1DHCwnhNJCutfHYFkorORRGST3BHfGOEIDA6WFBwIKSXCKJRBIOzy2YlRPQcj4TknhX/+MzQpBDvmuUNcLK4ZzzOXLu7XxYnc+O+kSJebeUtvRz2zwFlBgjZxuc4ITMC9ChrlNBC1kW+SgPT+d3WhP38eS9iYmLRUJyMoGkGgIQeoJsbDsZNeJFIqXFsxVxCVGIIrBAVSx4BdGnhKCFgzFw4+CW+mY9Fr2zHMs+/xzXXf8zSnPF4LOPPuaRZGTo+Jzp3OBjaMDMaZOQmDwIRfTFcLRSmsvWgvRDuURs9Ip5usiR6biv5M2dRtzOnndERD5n0napHZ85LnRZBFs6J0qZxYHFqwpxw9SY9vZG0/z4WjIvLhkTTnaETWFNyChxGX1u9tYRMTRgQIKZpjlHvqBYuc8H3+cd8ZDIScW/4LutZZg+wmks50Wk6Y5Z8cgk4yOLI+0Pl9gZeDeE+BsgvhahLibekqBeuOLIHN72jGoMT/FXktjuTGSL0bWwPLaTlVFLapYAKWJ6LOBLgNkJqjTxAyLHqfJTaYl+eOxmH0gC+cfjsCTaA9Npppmo3KKVBbh5Rmy7f8ZEorqpsSZkMm4imdVIcCiQbRBWQSj7p5YSMl2+WNcxkkldf6anp+N5cO3j3hyrIp0l9/EKsldGUR4su8iuPBOCUYh5vPinCBtILQK0fbKm8CfPWW89F71xn3v6M6HGRpuesQgc+cew+80QKtkLrP9irez+YdqeWgS0CGgR0CKgReCICBzv1wm5+wqj72lOj3yxPuI0/1sLP6QvQlrkOMQG9lU6HuYbi4cm/4uSN/O6xYjQMxk+J+3nGB0/oz1weVUZRwAiskE8KUSGSk2cD4gYDUngrj70WftxXc0kBadhWup17Zt25K+h4fHB9mUxvRZvjquH/lJZN4h9GRE7BWKmfawyImYKhpNFcawiRpFbDv/AvjlBiCkp1yKjbCfyLYeOdRguG3gXAqlNrpbjtUXd72jTU71Hcl6RxLpxxG/bTbklMaEOhup83bOl353b1Xn5TLdT5D5Etkz1QekXNgLppR3yaJ3bK8tDoiYokmyu2xTTVNcVbfMtTDKpxZXZoa5Tp7312VLPr021CJynEVjFfs1jXcl61hTJ/8jfBD0Tw+Iz0Nwshs5MhDPxLQlbMYZ20DNBvAeCgpggZlLdUU/fgZoqeg/IoOAqlFXmIz/zMAqLOFhA30CWgTdikqJoqh1N6akW6JMKkDrIA2X5rYgNroeBZuBffvouWuv1uOO6O/DxOx8iKoJJ6hh6XND3qoFZ6BJrHZPtdbx2HTECd65vwPLlB6k644UlX3+B+LgkXHLp5YiOicG27bvx0cJF+GTxp0hMCMN9d93KfrRg5YrllJ76EN8uWaIktH18TXA0kIFAcGToyOFUlPEj2OGPzZu3IL+oDNdccxFGjRqFDxd/QgmqQ7xmM/78pz8hjaP5TZRxQmsDWQ2MB5kZ9rpqNNSLWXgTvl+5EgsWfIh9+w7igV/8UjEOf/et+bjmhpsUQOHg/jzs27MHVRWllJKyMtYGmmsb4Ovrh4umXERpLJo9M/a7CGYMHdqXOTcHnn3uOXpwLEcxzbunk3EibJewwCCUlhShjJJJE0aPhY55z2Qm9h1kPogHRGVlFfstxtHezgQ+2yb3VE8zc95SRYZJpJh0HNjuxneZjuJ8nRWwQiltQIRzvm1VO8eA+/D7XEndy8PDZL3861wjrI22/ZVTti04V7X/qwIX6lSObuBzZiYTpb65UQEx+vWlnBjBMzsBGT/KXvmI14etjvF3kB3EUxHc0pvckHFwI2KTx6GVWAZ5HApIoyMLhrcGL7/+BfIO7sGls2fxXaoAn733DvrGRTOun/CKNFCHBQZvPRLj+sPKHH0tzeWDzWQo+gaS9WNFEAGRADJyzGayknj9o73DtHesmzPnDHAh/dlO/whhxkylT4MkitUi/g3CwOhOEabFm0tzj8ogWL6F6B8lnq6eFKXISonnRUq0SalHO7+AJe8sy0M96VmuJT2/VgFCprUBIbJtcJKfUl33U+cl0b1geT7EFFkFLmSbgDB9on1OGriQc4jE0T8/PoSbp8dCAB8pYQFeSh13FF8Nkbp6d3neCXuJKCc/Df+cjudB7cbKHeWoJutEjVVUsBFS0UnaS91fzLjn8zkrqZLf30eW3nwueuM+9+Rn4shIaEtnIAInClyUsY3Ps/6H1XoG2qtdUouAFgEtAloEzq8ItP3C+0mnhKb8KuszrIU/2fo/vkKSr29t/Cvum/A3SthEKNEwGfxx/4XP4PPdr2Jz7ndwNHctbxvj3wc3jfy/9mS4HNzY7MCCLc8qxpidQ7sua4kCVqjXuYKARwBNoj/f/VrnXZVlkTS6YcTD0FH3W4rIT4lcU+ciDIxpfa+Dv3eIMuLyhuEPU/7KgPXZX3feVVme3OcqxdujOz96hTkyMm6qcl5hpEhc5m94Aq7+HepF3Cn7IOee2OcKdRV2F65Due3UHrtTuUee7npc1Pcaxud6Sms4X9Vsjhos3PY8bh/zWHs7O8+cDf3u3Kauls90OwWkU4GLCclXKPJoe4rW/6Sp8gwLw2d66vU/2SbyZmsyP//JepuDSce2EmaOgYHJn6NJlfXWZ0u9vjbVInAeRWAV+zKPdSXrWV3kO0qnc6ZVZSpJbwEw1Kp+hzVzcLUMgrUQvMgvyIapKAAhoXE4XJDF7+R6VOVbUZJziABGGeITIuEX50XjY4Ijdh1qKvbDYtdzBH0ZDueUoMIyCr//033I2H0IO7fuhpcpHEHBwchc/iWqqkpw1VXXYv/BDGRmHeaXcoOSSG6sq8WGdauw7sdVSIzvQ5PwObjjlpuRnpWJzPQ9WLRoMW698So8/tifCRhspQE2E89kgZSUlsHPP5igQw0GDhqAyKhYLPzwA2zeuguff/4pZs2+lPenBeMmTcahjAxEkIEhXhEC3jRRuqm46DCqLZXsu47rfekF0kyWxYt4jUbf4aGR9K54BBVVFjz//PN49tln8RGBlLVr1vKcNDxnLPumJBG4qEZ4RChKistx4YRJbI8/gQsm3fk3OyM9Ha+9+irNz39EAT0vhFUn7W5taoCNx1mYsW+gfJK1uJTgCQeikxHg5cOEuqMBfZnol2IhMFJYWEwQo5IADS2jCWTId7HcO2E1eJE9Ix4mTn8K5ZAOIJaeXi0AAEAASURBVEJhDLStU+AI9TVXcsNOcEPi0z4vuATlpJSBCTxWWVTADDmlLHVd1G0q+0IO9OC7Q2mlhUBSANIG9oU741VH9MHHKIOp3QiSEWhQZKbA/dg3VBNMIKhFMKqqVYdwnqOmrhnuRqc81lsvv42Sg/mYccUNyC7Lxx9/9zD8CDxtaLRS+sxEJk4+jcIr6I+Rh6LCWr73BXJgPBlGpjDoyTJyo9yZiRYNfn5mBbSTz0N7e7vuVrfXnlPAhfRKGAtSByb4YsqwkPYk/LF6LDpgGfSr2JpuUUy4ZWT6sYokxEvbwAslOX2UnR3847NyRxlW0sS7UTg4XRRJ+lYRiLiIbQ0mA6SrIg+heEgs2VBMLw9nolsYEhMGBzmP4ant9R3oXg3ZGr6ka8lxwtzobqmiWcq/P83C7DFhCrOiMxNFPU8jKVHC8FixvZw/Prrul+wrcbW5tEs9/mjTWntHW6UPPVFOx/Mg7ZS+ijG3sFMmDz0SOHPth8RL2Bkfkx1U19Bxz1z3kfneeC7Ua/T0fZbz9uRnQm2nNj0jEeju33z59f531ldYyevUihYBLQJaBLQIaBHokQiov+LUk4kB3H9Zn2UtUVdq059GoKquFP9e9TDuu/BpghAxyg7ie3HVkF+QPXAn9hZvVEaWN9H8UhKw4iURE9AHnUeBO5rqsWjHiyipYUKjiyKjGBdufR63jflju8b/pD5z0S9spMJkyKncz6NalURwYtBAxY9BTcwIs+KLPa91CQLIeeW6t4x6lLrSXkpC4JqhD2BU7DQcKt+JHCZmJOkbT4PvpOCBiPRLbG/d+uylGJsws32580xZbYHCFLm4303KJjExv/uCJ3jeXcgs262wUiT5EGqi5GvibEiCWS3iv/H+1n+oi6c0PZF7JHIZYiYexX6GmKOY1OkYWyKJ7wWbn2Eci47ZnrOl38dsJDee6XZuzVuhMHyUJBTjfsfYx7EjfzVkfU0Dkz4E5gTYGBU3rf3z0kRwb2veynYmz+Co8fjzrA8U5tDqzA4GkqWuor37Hu46PDTpXzhQspWfkFZlRPBXe95s395bn632C2gzWgTO/QicE4CFmkTuHG75GyPAhSS/RX6nYz8PJpCbOYrfgz4YAQgPj0J8BUf7V5Vh6IBRlFqqRHFJAYrKilBRXordazPRtK0YoQkGhAeHIMA3CN5hZqQlpsIyohY793+P6+fcrjAlau2VYI4e69etR2lZMf7f/3sYN990C/72zLPYuX0LQgK8YakoQnBoOGIjQ5nEb0ROzn6CB3vwAv0ypkyfjlEjh6IgP5/pdTd6XeyirFU0v6dbCYJYEB0dgxtvuJGAwmJs3b4db7//MaZOmYr3F35MCawYhaXhaKhjQtyAZMpMSQ7eQb+PRnstja7rcGDffl4vF1U04K5ikv27777Dzt37MX7CeNx2251YSgPuzz//gkwKX/z6od8gPjkRv6Ss1S30utj441p8u/QrNJOxIabZzfy7bLGUI9kjCRu3bGMyvgozZ83CV58uREVlGZWgauEbEkQlGTPKikswc/oMpCQlorG2DgMGDMDrr7+BB+69TwEj3MmMUaWhhBmSmtqXt9ON7IwSxRuimqCHva6O/aEcE70wPDwaGR/J78lrrPAs+J1NloUTc+j4/pZnQqALJwbhmktV57m17TgZ8CASUzJ1HiXTnxb1OZJpe2XeUZgioeHhijyUt8nM9tbzXOq1WxQAqYaSUZVWC4EFA6yVdliE8cJrBnoR3OG+ngYPFNLX+a1X5iPvQDruu+1urD+wD488/jA9N6oQGuKPAuY3Q0MiMGvGFIJTh3DgINWLmrwpkRZFkCSEwI4RBoIfvn4E48JD4enm2Q7myWdCfUf8ac+6v8bt4Zd3qxHs/lFn0Z6ioxZg8lSklgLMnkpQqOakSB/JCHlhQ1QyYX+sJPKxuiOm3vHhvCnensq5/HktGU0vtZSj6UWWqjtFHuiECB8EsY0BvqSUkclRS3RLvCMOl9oJbpxeDwnxshBpoyC2Rfom7ROGhTAEpHa3X93p++ncpyefhz/+rK8CEEn7X/wkk/epw7MkJtSosH4CeT8llnIv5VkTNoUryHS8vvf2c9Eb97mnPhPHi83p3v73ewfxU3DelyT28NAxepnDbX9jnc/qRFE5c7Ll0cffP6e/X06239pxWgTOxwg8+acb/hf+Rp6Pt+5s65PosQpAIZ5JwuaTjLGw+87Z8qvFM07rd53IPs2gWfdEjhxXR+d3N3gHS7bho+3/QqX9+BiReGjcOvoPCvjRnfPX1Fvw7uanFHDjWPtH+SUpiePOgMrRjhEJpu8pM/XXS0VjmdK+BBr+uuz2LncfFj0J1w5/CBKj7pRqJp1fXfcHFFZnd2f3bu9zKveo2JqL+Rv/QhAqj54hfvjLJQuV64oh+yc7X+qyDT3Z7ycvXQwjda6lPPPdvSiydi82d479E0RaTMriHf/Bj1lfKvOu//RkO+fNXNDu1/LPlb86rmSaGNzP6Heja3OOOi/A0TubnkKFrRi/myZEsI6ylz4wr69/vH2FpK8emfqyAhS2r2ybkedr3tKfXrOnP1snGovO7eyp5X/O/VZ7T+ipYP7vnWcluzyPVaanvTAZfMrf466nODJRKwlmNw50pgQRR6DLh0SIdaIyJ34GNhuNoh1kBFRX0/ehBMXFRfRv4LQ6F4VV2WQJ1NI3wxsREUG46YZrFdklq9WKosOFcKMfgbAnfE1+2LJ5NzZv2IQNGzYyMe+JLLItysprkJiUwGt6Ii+vgOCJXN2NZuINBFG8yOJoQj2ZEXovPYYOHojvln9NMCKa7A1/eiLQnJqJ1QH03bj+huvw1ltvoaq2gT5YnvSZeJcMiEj6a7BvBGQMTOyLHJZeryPIQPZIaQn7ZSXDYz1efWM+Zal2oYFyRTLYO5CeGmIyPW78hTicdxjZ2YcJ3FgxeswYzJg+E5dfOZcgSyTNwcU8m/AAm9xIAOHll1/C3r17meJ3R0ZWDpkdURgxagwWf/opQYo8RQrJSE8RAYiZbKWfR1+yMy5kHLJwLQ26Z/Pc3yz5Ent27sLDj/6ecaCHhWhBsYhhNlrJfuBj0EgVHFkvUl82Wz39QijDRX+OWnuFEg8BMuRpEcBBLLjdyCSReynrVVBDgAmVVSHnP7LIo+Z83CQXKGdyTuWk0h5nm2SLFPVZam9rG3ghoEtISAhiKPvlQ7ZDPeWspF0CmHGcBp+DTYpUl+wznQBOnY1yZL6NuPTSfjQ9vxr9B8+GhzkQh/Or8N8X/otAX28MGTSMcl+H8dVXH2Jvxmb4RntDT4ZQqA/tDUaPw423XY/d6WQINRnoYxHJ64bBxxwEXwJFBi93+PuRJUSmjph8G7282A53JZanCl7weEb5HC8iz1REloLU3iii8S/1VIs8ROKTkXWqJ+qh48Xg+sBh+c14fpXefh7UaOURxJB6qqW3n4veuM899Zk41dhpx59UBI4cDtBxinTOPsX6HmvP0KE6zq3NaRHQIqBFQIuAFgE1AvId81fW51g1zyQ1KicwdVD24cs9r1MeajlZCLMgI8FdDbe7OpUk+8Xge0ve911t7nKdgBv/WvVryjXdjjHxFytsiK52FJbFvuLNWLT9BVjrj39LC6oz8dyKX+LaYQ+hf/jII5gGrucXQ28BLfYVb6IZZIeHnOs+nee35a9EaW0+z/0rRPsnd97cvtxA1skKnntFxseU2Or535Anc49Ezmjz4eUQSS21TXWNNe1triUz4GilN/ot99VVBulo11bX1zRUqbNkMXTMt6/kTE+2U+Ihz70kmmoJmh2vfLv/PQWwE7myYFNkl7vLuYQtIZ+vImuOss/Cbf/EJMpHBZuiuEy1AWp4uxZhVoiM2/TUGxRvDFcwUUCorkpPf7ZONBZdtUlbp0XgDEdg0hm+/ilfXk0w//RETL7zF7ibIj3UsVWS1ZLsNjPpDB8TE8cBiAgOQ1xUAupqa2h6nIeSimIUFBZRbqkEObstePqPizjyPRgzZ0/FpHFjOHi2HHv2bsbezFKOdvfHo/MeoydEJT777HO8++ZbyMsvow+EG0GPMLIybNi6MxMpiZG48fq5BAtsyMwrwcGMLIXNkJN9CPUcje/rL8nsAgwdMhBTp07B/r27sHnbNpTTa0Ln5Y9W9qORQIgYaHtzALRINnkR4NB56GCtqkRjfR0llyqw6IMP8Oabb9L3oIlAjY7JbSPZKAZ4M8ldXW3F3KuuwSeffkLJSh0e/NWDmDhxIjzpGSKghp7ntTMHW8dzBfqaUZhXhpfIDvnPSy/hj/PmYfKU6cjNPYz33nuLcv0O+Pv7IY4+DI0EHNIz0okZiKl2EyrIuhg9dAilpixMoDfiYspaVbNtny/+CJfPvYbvHwSOrDVMvvtSUovghbBlRN6I4IWBbQ7w8+PqYNjsNtQ1BZAxUony8goalRMgoR+IgB3if+HLe6f4mjQ0KqcxGPSK2bc8E56eet50p5G2gA2yn8RBvm8kFyhF1F1kHzd38UlxKGwFASCa2SYn06SZnhFmAik2hc0j54iIiEBKSgqZLFaCTHI8r0UASUCLzZu34w9/+IMivSWm4wIawb2VMmV2GniH8rnzg7eXiQMkqMjz4vsIDfTHlAtHY+XK1fiS3ib11sOUngpBg9GOKD4vVkp0pQ1MJUDUwJg209w7HmbKh8n9MtMfOTDAxGfBRG9p+oIQpKO1i8AxbBMvKw3qgXLOMy56IAbaKbQIdBmBYzEuujxAW3lOR+B/hHHRjzdpn8uN2s35J1k/Yj0S3nfZ6WRnzzXGRWCgCSHBfHE52cJ3hmqrnS92NXzpECpp94q8uKb06fgRnZdfwZeUnk+kdK812l5aBLqOgMa46Dou2lotAqebcdE54vLjMIamzkE0mvb1ot6w3gyRgxLTYEkg51TsO67kUOdzdl4W6amU0KG8RgSvEcAf+zqOuqyCGC+L0XHnZG7n44+2bDL4ISVkKPwpNSAeHR68jiRh8ywZCuPgaMd1Z32wTyQSgwewvUGoZjvlGiK9VEEvixKaNYtZ8ukqXd0jGdUvXiPSNklwC+DSE+Vs6vex+nOm2imjZBMpRSafF2E+iM+K+iznVh7oFhvpaP0SgE0+gyKF1kSz1Pomm/IZOdr+sr63PlvHumZvbdMYF70VWe28vR0BJpHbUsi9dyWnHJDz/M6UrvzrhhYmliWxr2Sc+Wu8iYnwhjpK+tRWUJa9DjVkOZQVV9FoupQARhksNPe21pTT18ATY8cPwpgLBjDhbadvRiG2bDxAOag4GmOn0YsiAT98sxQffLAQq1evUQy2Z826mEl2fzzyyP/hm2+W4fl/v4KyimrF07aZSf+M9EMYd8F4xFICajAZGOvWrkY6PSQupkSQp0crdu3PRF5FI+65+x7MmjmTklL8G8rEtKfSk2ZUlBaT9bEOixfR3Pvrr+FHY2wdfacayUBo4W/jRlYjgZp3330baWlpVMVxICjQTFCghWCHRWGRCglCamSYHwrzizlwQYc//v53ZHm8hzFjx2LU6NFYsepHZObmMJlPMKHGQp8FggP8QS1+DhaCFNHxMfTPCCWDYypM9LuIjYnFZZfNQRN9PloIBrz88suYc9VcxJC1IXJW3myTO5Pwih8D2+Ih8zTpFqBBkvPNBBPKLKWUZQpRwAMx9C4pEc+MJsXEW5gZInUlv/+dgARBCMo/igSkGLjXUcJJAAQvshCkOgjmuD5yznkashvcuB/lnvg4iuSYlPr6enpG+FG+qka5RlFREUGaOPTpk0JApYHxNLJ9NN0mQCXKQx999Cn+8pcnFA+zd955m6COP6ZOm6aAJK0ttbj52mm49fbfMm4mvPjKh4iNj6B3STx2b1mFH39YhuSEWCSlRmHlpq+gM1KNJzMbf370Ccy84hdY9c2PVDNqJdATCDcyLIJCfOHjZ1SeKR96XXgQiOOTTCBFaXqP/XNeMC56LBraibQIaBHQInD+R0C+S6RsYZURr+Iy2OsvarzGOVEunjoEA/rHnHJb5WXDYrGRnmvFnn151APNOuY5Y6KDcfMNE9v3Wfb9Tqxa44ovtW/SZrQIaBHQIqBFQIvAERGQEd+Hqw4q9YgNPbggvhnCfOjpUttQrYzC7+nzyvnEbPtUDbd7ql2n4x6pbT2b+q22qavpmWqnJA8zxfuEtadLPcGw+toTA8R667PV033TzqdFQIvAqUSAmfguxwi6o8mtmZJLlGUSqSEyM3SU5dHRL8CNnhE+jU1MPDdS4odAa1AEoqIqYaHvRElpEX9nFuKrL9Zj6ddrkZAUg/j4aIwfPxX1BD22bNsJz5176KURhr8+8xTBEAcWL/4Y5ZRweuO1t8kcKCLQUYrK8jyyGpqYaPbmKPpEJuk9MGHyZEWCaP369fTgqFWMqgsKCzFq2GCMNofg4MffYO+ePdi/by8G9kslINGIW2+6gUnrFqzfsAFPzJuHzMwchFJuqoHtdzN4EqR3I0vBD9MnTMBzz/+DEkNusFJqvcWD6jkc8Kc36KCnT4JIXImBeUNNLayWehiNXgpz4/0FC3DPz+8mwODN38iraQ6dg7CwUEpNFcBMbwdhrrh7MGlOAKi5hQwPIh8OxmHuFVfin/94DqnJyYw/v4l5bj3POWXaFKxdvRLX33gzk/BmMhsalWPqKQvlTZCghZ4aDq4zGOjHxfN6MB0fQiDErYXH6wyIj0tEXEwcKioqFEPvEBqjy7x4CIskmMhMEbogc8KL8RVgiuCOpzu3EZRgvz08BJRQUzAdjARhaIg/igAowraQnIJUAS8E8BDz8MGDByv3x87+eRFwqSF4IYbkjbzmf/79Xzzz1FOU0QpXJKPEHFuObeJAllbKegnDREziK20t+Mvf/4VxaYOQNnIg3l30Lr77ZhH6BPlgWJ+R6DNiKFlABMxKNuP3DzyIMcOmoTjnMHx8Q2EOYnwYEb8QMiyMzTQ615G9QZYMURNiW6KQ1StFTWL1ysm1k2oR0CKgRUCLwFkVAdFwuJj127OqVWdJYzz4UtETRV46AkiZlCpMipHDk/DFki0oLOpaOqHzdTsv90SbtHNoEdAioEVAi4AWAS0CWgS0CGgR0CKgRUCLwOmOgPDuhGEhWV0n30KmTCXDg1JCkhpXV4tfgigHeXgykU85oqZmK1rcmmAmw8I3kOzEBl+EVdCI2RaLQoIPBWQllOXXo6TgEFavWYP4xCgkM1GfktyXskfAjp3bOVrfivETxyEyIhzX3TAXK1aswPbdW+ipYcWFk0fgyaf+jviEVHpf2OBH2aV6JttrbXUEG/zhZSC7gFJBB/ano9+QEbj2qiuRzST2ZZddig0//oiv6RuRkpIMHRv+6edfooxshCDKWQkYUFVdi4tGD8HAwcMJqNRj1iUzUS2qAp5e7C8Ny6FHPRP03FVJzEtyXdgIkth3NJJ5wvakHzyA2ZdeongEf0wmBzfSR8FMAKcCkUzQNzNYIkckDIV6sidaCZbYKYMVzjZ8uOA9XH/NVQRwwmGzVCiggI5ySil9+tDzIx+11RYlwa/cCyb/xaNDuREEDqisJCSOttJKUITeWVznxSS9yDk1UFbLh2yO4JBQ+pLkkbmhw/4D+xWTbx/6IldbbdyPXiIiFUXAQGSgPOUabGcTWR0dRZ1vJTOjjv0giNPG/hAZKgEwBHwQQKN///4Ec4yK74Y3ry2n0RsNlPIEHrj/t3jv7XcoDaZj2wU08VRiWkMPlTqap+sI2IgsmY4MDdSXQ9dE+acLRuP5fz6JnZu/RYiPG2WnbPjHf95Cy4tv46FfX4m5tz9CVkoq2UBBKC6nYTy5NfFREdD7eBKUaoSZfskeOspqudNXQx5g6Up7zDp62BNzGnDRE1HUzqFFQIuAFoFzIwIFbKZUrZzGCAij4t67ZmD5Dzux+sf9p/HK2qW0CGgR0CKgRUCLgBYBLQJaBLQIaBHQIqBF4MxFQLK5XVtNipyQwBmS85VEtPgdiH+CThgE3h4wunuTtcBR9zTpbmUiXEfTbG8fPQEMKAbZSUl2FBPAqLAWU7bRiIrKMhz46mtKQX2L4cOGIiU1ERcM6oe8glxKLC1DgK8f5l59Oe7jSPodWzcRBAhBXbMHGQ13IKnvYAIMrUxGe5HdYMbOA9sJDDRicEwifSgeQHhULH7csoeMjWqCGYVkA7DBbdl9SbCbyH4w+jg9LNwJQriRnWCxUp5JkYG04cNFn8Dx/iIMGNhfkS+KT2ASnN4ItvpWNJDNINJLnoyGB1kLDUy4uxE9+MNjf6RclBvuuuM2jubnfkzik6tBBkSYIrHlZfSmh0MTzc2tSnuCgoIYyVbGpBAvvfhv6JnwT0hIwDV9r0crEZJ6nteLHhWTadxdXFKC+BRR0mZ8KcVUTBkmS5UVA4cMZXKeRg2CIEk+nvfDgy7hYoAtoIIIIvmYJJUuYAMVFvbsxLJl3yIxMQF/fOwtBbyYNety+lDEUPqpUQGOdAQs5Cmoq7cRnCCY0aoOmJS18gSwb2TGyABG1dSaKxVARmSoBHwJCAhQPC+kDarRe3mlDVdTBmvrxk2U3QqEgfdDwA1hYFTSjyM+OQk/u+Vm5LNva9d8S+kudxpnOxAf4Y1/vPgMtmxdhUkj+0DfYmfM3chE2Y1f3Hot7rz2TiAoAF7GWKz+YSNiEuIRbvKB0eypnJ93Wmm1REHpiXRBuiLFdd655pT/1YCLUw6hdgItAloEtAhoETgfI7Dkm22kopZ2q2vykiEMiyD6ZISF+KF/vxjlxUM92J30yWkXpSEru4TU3OObl6rHaVMtAloEtAhoEdAioEVAi4AWAS0CWgS0CGgROMcjIAldFg6Iby+qK6Kyievd+JtRx5H5bhylT4dpJu0pVESfCM96ExxkQrQSIGjhiP/mpioCGI2UC6LxdSAlg2zhZDiYUVwaiNDQCHouFmHXvj1Y9eMPNE82Y/asGWQ+pCnJ+43bNpCBsAzDhgznaPwaPPLbx5GeRf+niiqMHDWZzInPcDg3D2aCEJMnTcacyy5hwtyBzz//CgazPx77w++wdetW5GRkUh6oFZs3bcKcSy4hS6KJvgtsG5tu4Mh+8kXowWCikbdDMeXev3cfDaKrYacU07IfViKlbwqvNxID01IRHBSiHOdOsKKRAEEomQw+vpRUIniQn5WOmbMuphTVenibjPT9qKPBt4UySTaCFpQ/oseDyCvFxcQQJKiil0UD5Z8H4KHH59EHw6T4ZHAnemnTPLrVKednIMjiyMsDNaWIKekUdkJ8UpICnuzZsV0x0Q4NDSergD4OBDrqaW7uY6aRugAMZI8Y2I7ignwsWfK5Yn7+zDMvcJsNP6ek1cYNa/Hxp58TZGnGkCHD6FHhS5mvaBgo9yQ+lno94RlKhCmZfsZPzfTrKDUlvhoK04J+GQbKhYkpd3R0jNIPkYoKIZNEpLEs1dXIyCnAPfc/iP07dsGfoEajo56xayJrxgw5V1RkJGW9duPFF17kMxKI8CAjjJ52lFYVY9GXnyA0kvJjIe7Ym7Ebaey7HwGxv8/7PW656yG0Gjxgt5Zg994s9BswgX1nO3V18DBIuxtoik5PDh3vMe+19ED4M3AnmiZAljsZNe0oBmd7oGjARQ8EUTvF+RmBbRkWeFHnz97QjILy+vOzk1qvtAhoEThqBCoqa44q79TVQWKqrRYx+p42OQ2DBsby+9v5diqjJ+bOGYN///cbZSSNuq821SKgRUCLgBYBLQJaBLQIaBHQIqBFQIuAFoHzPAICTrh0URKykgqWUevELNo3tjDt7yaMhlYPZTCc3khmhhcT+c0c5U/Tbr2ezIwWL1bKAJGRIH4KEeHJiI6wwlZbQ/PoYnouVlBmqA5WqwUL3v0acbFRSEpMwrDhI2FIJCDiZkN+4SHcde/lyMxLx6Gcg9i453n4hNlhanKHv18TNqevwb4XD2H82OmYOH4iRo4ehF279uC/89+j5FJf/qb1RGLSANQ3uqHGWg8fowkV5ZXwNtILgQhNjZUeFgQG7DY70gYMVHwjSkvL4etlho+HNz5ZsAj/ejYfF1wwDsNHDkNyUh8aT8eRWcJgkK2we+cGHMrdC68A+le468g60SMiIAI6Xwea3OmjYTegvrQAAZRn0pMd4k65qGAaRl99xWwCI8moouRVaHQ8WujjISbZXmYm/gmONDXWK6wSai0pYJBYjIgHRmsLwQYyVRhQZGdmIT3jIA2+TaiutdLbIh5RMQQgyDxYt2YVsrMzMXPmbETGxBNgaQDtIxSJptFjpmL0mGkoKyrBjl07kJN9CFnpB+BLACMmJoqeJbyPZFyIMbjceU+d08BbR1YHG6cwLuS+hZFVEk0wRkfmSkVFLXz9g0Bcgl4kbljx43o8+shv4dbswH23X4uIkEB6UhQqXh02ew1lsxpgcm9EGKW/EsNj+TTp4UemhsHDV+mjt74OA5MCEBiaQFWI77B15y48//TfMXHUDBRX1dCHJBCFhQSDkpKJQrF7fEoJp1GGSsd5AS3E+YPNVR9mmXHjGsa2/SHmXE8VuZZWtAhoEegiAks2lHSxVlulRUCLgBaB40egsrIWCxevQ0lZtcK0UI8IJRtjwvh+pOruVVdpUy0CWgS0CGgR0CKgRUCLgBYBLQJaBLQIaBE4nyOgJnk79bErESklLSyJYPWYtp1kgL7O00BGgDtH5uuVSj0fGkOT38BR+n5mPXy8/MiWCGai3q4wB/Lz87kciaKiQmzcmIlt23Ip6+SNiCAdRo/ugxFj0jC0Phb7s00YUeaDBso8WaweOHDQgo3r8zF21DD8giP7rVU2vL9oMT777HNaVHigoKiAAIIJ8554AlfPvQIRTOr/8P13iKVkUiuZEpVVlWyLAb5kX4QoMkd1qKqohi/BjRAyKkJpeB0XGYWPP/4Iny9chKWffYaBQ0fgimuuxpQL0rB/+48oIqACYy3yi4tg9iP7IDCJIWlAuf0ASstrmSiPQ3hYBCqL0lHZbMfsaaMU/4uFC17G1l2b8avfPYYd+3YjgQwMHwNNz5lgd9CfQU8go0HoAgQOWsTQm+oJYoQt5t1EDhTZqYTkRMTGx6JK/DSag6makIf5818mA8OMiRMn4YqrriKjxIsADdEEAgPuHnrOS+JeXEvcERIWjWnTo+CorYS90YbivGxs27kF3yxZTFmpREydPhMmxqKosASBvmSAkInSyFpjtVNuagDjGa+wS8TjIjQ0EBZbE4IIYH381TLcedc98KivQZ+ocIT5GTBlwnDEhF9MBQgCRjr2iYboBhqiZx06DBP9UnwDIwhglbK94QSNjPjtr+/Fd99/TVZFPfy83fH2/A/QJ2koQZIg7NmQQSaNBal9B1CujH3RNyoAhZsb5a4o6UUoTQFXGCaXIguUwOqlogEXvRRY7bRaBLQIaBHQIqBFYNWavUhODEdCfGh7MJISwjXgoj0a2owWAS0CWgS0CGgR0CKgRUCLgBYBLQJaBLQIHC8CknjXkQ0gZs1iSC1+BuIvId4Y1fR5EIa/JODN5iYmwinb1OY9UVtbS0mjSJSVlZGJYVHMpUsL3bHgnR0wfbETF0wegGHjrsXo4SJ4VI69h3Zj0KAWXHWNF75a+j3+8OxEmjun4ItFOxBhCkCQnx656btpzFGL0oIqfLykBtNmzIQ+3ES1kjyO7vcieyIM/VOTcGDfLgVUaW4kMEBjbvGhCO+XStaDnQyBZsRHRxHQKCLDIRPrqopQWbiX225HDVkHxeXVcNRkoLaqEEUFGbBUNlKAykDfjBp4tzYiyq8eDZQoCuwbgy8/fgMZ+7bh4P5dlL7KwqqN6/DXp36NCyZOIyOjDraaMribKbvFxD55C0qcnPEWsMFZBJBpVQANsgwYO4mzGHC30izcRNmotOHjuIE+GwSJ3GiATed04SE4bR0UDTDOE2yqI9NDpKHE60MM2P19DPCnXFNq2iDccPNt2E05qvc/+JB+E/TbmDSFTIoWylQ5FP+LZAImUdHRChNHACaD0RNl5Tb6S/jgyedfwu9//SD86HnhTiZGA69dZW/E4cJKRb4pgoBWUKA/20R4gbhMPU3BS6yVCE2IJwjhx+ejmfJiXhg6bBgOHtqHJBq533jrPRg0YCRNv1sI0lSS0WNH37590USpMg+CZCqrQiSqVCUJNV6na6oBF6cr0tp1tAhoEdAioEXgfy4CMujiy6Vb8cC9M9v7Hh7m3z6vzWgR0CKgRUCLgBYBLQJaBLQIaBHQIqBFQIuAFoHuRkAFMATEUIu7O5Pu/PHZSEaBjNIXvwSpfn5+ZAn4KH4JISEhCnBht9WjurQenuV+qKopxddfbsPKNdvRb3AMkvpF0ldhOEjcQGVZEa6/cjqKK/ORR6/GUGMCcrKKYCIAkGv2RtYqemGE0SzcbkFxbgbcm2y0jajFqMmTkNq/H1rsHggM8qVUVB3ZIc0EUpqQnZNFfw4jk+aJTJSXo6KqlAl7dzIEKPfUakOzPY+MD+4THg1Y6KNg94Ke0lJ6oxuqeG6HYl7eAt/mBjRU5aHY0Yqn//4MNm3eg0bKJMXEpCAiKhkjxk2DrckNEbHJqK60kNXgTwDCQcDB6VWhxk1gC4mbFPHKcNBjw4uAkGIGznk3gg+elLvSezG+vGYzASGdgTJdYubBmDsT+0KNaaPHELkwEnCQ0krfD3cCGDwzK/tP6S/SMjBoyGjWyTQVL8b6dZtQVFyGiNBghQ0Rn9ofFvqNGAk0NBAgaaRsl4+PF55+5lk8+dST8A0L4zoHvTYayK4g44OSW02eZrgZg+HtFwFzSBjPa4Gd7eBTQJksBwqrcxEXHYwmj2ayP+rx1tvzCXAEIyQiEWNGT+UzYSdg0YpNW3ZxfRR9Say8R16MSzPBF4IzbVX65Dovy6ej6Hh7BBBqi/DpuKR2DS0CWgS0CJxdEZC/g2dXi7TWnE8RKKNclFB3ddSClGI06uFrNsJaI7qWPVfkpclMozAPjiKx2Ro4ykZoq71XDAZPan4aqK3aSuqpXRnp01tXOx3Xkvh5cwSKwaBj/Dh6R0REtaJFQIuAFgEtAloEtAhoEdAioEVAi4AWgbMgApJgl+S6mjyWqVq8mCCX7Z4c4S9sDKkCYgjbQgAOg8Fp9hwcHExJIgdssXYaelej2hKKysoqlJSWYNumYmzZlA0fv1ak9I/G6BF9MSxhAGojy1AeewDV/fajqMwMa0MAPv+yFP1GRaE0rxIBlF7atWmjwqh4+qmnCDA0o9bBRH2TFdu3bMb+Axk0CQ9WjKbj4xKxfedm+mtkk1kQyd/EVfw96SATwxe1lVbU2Svha7LBXpuDWksNwZNqmmjXMzGvR2tDK4xkGhj1/jBRmknMvPV6M9as34fm2lKkJkQhOTYSnl56DBo8DAPSRmL+goUw0A/DrZFmDUzy0yyDelv0s2gDKzpP9fSCkBS5gCyyTVgXNZYqmOhRIYwMncGIJrIjWglaeNKYRBJJbsyqS2JdinAwGujP4c5tkvR30JzcjcwH8bAgsUJJvouklBvslL8KwoyZc3hUIypKi8hA4ZziYeLFfZuZN/Di71IHHvzFr/DBQjI0jAZpOmXAGhRmSFZuPj5e/ClWrV7P2EZjxLDh9CEZjqDQAKT2S4atuQbGQLIy6nPgSXNvg3ksysnA2HMwHU/+9W76eYymN4cXaulBsvy7lZSoSoO3lw8Cw/0I1BAUI23D9VlT55WOnsZ/2BJxfHFrU0w7jVfWLqVFQIuAFoGzJgLyd1ArWgR6JwJC3S2vqKH+ZgfTIizU75SBCx+CBmNH90VsdBAC/E3w9TW2gyPSEwEuBBxJzyjEpq2HSA22HreDgQEmmraFte+3d38ejcMcyrK8fA3oH8MX2D40C/Njkp8vf22lsbGZL7sWxcx8H4/JyCxWNx11ejqvdbRGxMUGY0haAlKSOTqFYJIH9U3VIi+cFfQq2bU7h3qkOQqYoW472lRAqYGMkVpc46euCwnxpYZoBF/eTUoVoGT+uysVcEvdR5tqEdAioEVAi4AWAS0CWgS0CGgR0CKgRaBzBI6WPBZAQ6Si9HoPVvpeEKhwSkWZFAaGABjCwFD2YWLf068B5nCaVtsMqLX6I8pCEKKkSjGNttKXIX1LFXZtXkaJIjeMHNYffQf3x9C+k5GSlI8D6Rvx6B0Xkq1Ri9ziGvy4JQeW2kTMufRevPL8u/BuMePCkWORUZiJPXu2w4vAhqWqDLm5mbxWNX9TDkDu4WzU1JQTRLEzK93AttWjnvJMJRYrEiLYPmbxty7ZhKxcC2ZfeSW9Kg7Rk8EGT3pKeLqT8eDjiwKyBwLIVPAO8sb+nAJkZm2ln4cOkydehAGjRuC2e24lcyAIt996M+ppWu4ljAcCD0Qu2sMq4IRaPdqkthyOBsi8MC+oGUVjbf6OJ/jTZLMxe065LiNZDvUED3g+ASpa3cRMXZAL57ynXs7vRkCARtdkuwhrQ1gSOvpNeIgTeFtxEBxxNNTAQNkps8npcyH318hjrDU2/jZtxcUXX0x/jQIIMCXARTX74Sm/WYlgeJMFUl5RSf+ScmzevI3+I18iPDwEZn8jflj7NawEcyprCtCPINTgAX3gQfJHQGgQFn32Bfx8KIHVrMfO3RkoKSQINZA6YSz+IUH8XV9E4KMvPS0IsLBf6jMn0zNRJJqSsNOAizMRfe2aWgS0CJwtEdCAi7PlTpyn7ejMftCTrXCyRdgaF17QDyOHJ3EkTcdLV+fz6fnCFBxkZu2LcWP6kpZbqhiG1xyD6REdFcQXzlHtpxLQZev2LMTFhuCaK8fC31+otT8tnp4ekGOljhqRrByz5JttymiTn+7tXHM6r9W5DUGMy1VzxiA2JrjzpvZlYXlERgQoddqUwaRP71W8SdRROe07uszI+VzjV0C9URX4iY4KxKQJA5GaEqm8/LkcpozIcV3W5rUIaBE4dyIgP3flJ92502KtpVoEtAhoEejZCMjfwZ49o3Y2LQJaBLqKgJpA7mqbuk4+jc4qH8tWhW1hNptpyG1SGBh1dXWUBbKhtqlBGdHvYxKvDAd/M+r424ij8yssHP1fBkeTHWVMYFdVlmDr2jys/f4g+qelYsSoRAyNuxLNnrkorcxEVLIDfYcNQk2dESuXfQODqQb1FrL/W+soy9TMwV81bIcb9DqqDlAd4MDB3fTbCCOgYEB5eYnSBks1QQvKQIVHRJNRYkUAB4M1WApgy92P5JA0jE4bhi8/WwRDJE21a71QSc+J5oAIRCQlwF54EN+vW4qGSkpYUQrJj8yOLbs2opFm3DU0KA8IjUYZfT38fUyUVqLcEw2wPQgACNAjRU3Gq7/xRGZLtokclsSvorQUjQ126Ahk+Ab4kxFBnwi+9nlQPspNSacTrGh/E3Sm1wUg4t9FJeYCbDTTALyJdIvGxhZ4EwyR/ZubCWS4kwlDxr+Slufv6Va3Ou7Xitq6Gso31eC662Zi56699MLwUsAKAUKaCdYIY0NHYKeWTJRW+mx4G/1hpH+I3Pe4+Dj2iWBQcx2ZNEWwlAKmEYxDgA5xyUkKQ2Xdxu2YMmkmcrMKUVJSDR9zsNwhMmAiuJ+ZxuLsZxN9OjzocdHq9LZQ4yQxO91FWCaNvOjJZ1BOd4u162kR0CKgRaCHI9D2d7CHz6qdTotARwQEQHAtZeXHZz+47q/Oe3vrcfcdNBg7CoCg7tfVVAzCb75hIl6b/123ZaSEZTEkLR5XXDbqCDZHV+d3XTd8aKJiSj7/vRXdYnrIsafrWoMGxGLunNHHBH1c+yLzwsSYMmkQxFj93Q9WcdSSvDp1v8g1rybw48ro6P7R2p5aBLQInNURUIbZaYPAzup7pDVOi4AWgd6NgPwd1IoWAS0CZzQCOsV02tkEGU4hnhcyRr252QkttpA5IPJRIn0kLABvRyAT5e7Kb7ywAHcm65v/P3vnARhXdaX/M6oz6r25yb2AMWAbMBgwPWEJCSH0ZNP2n7qb7CbZTbLZDWRLet0ESCWFhIQkQOgxzaaDY3Dv3ZYsWVbvmpFG/+970rPGgySPpFH/Dnx+b968d999vxmP773nnnuQkyFgzQXZVluUhYHzastARH9NdQYSWzcg14THytY32+/Xv2HxebFWfHq+LV50uk0pjrHpeY3WhHwVC29aatdevsy27Km2fQcwgWt/XffUDpTb6se9E5yk168jcfa7rrvWSo+2I79DKfpWjYh+T3KWrIrxtGJppjabmT3VMrxJdtkF55gHuSAS2xqtptasAstbLbnicrvk/e+3KfNn2W+/+Tk7unk30k20OgnJDx1ug2NkKsoutUuuuMouu/JdiJBIs5Z2LLPkD8JRwogLDITjWWkeOCTIpLm5GSsKJDmRDXQ8BBENwcr7cCzQWg92XkQwYJAf+S0qK45isD/NvIjeiKMjAmXFJCDCBctDx2CUnUnH2+H8COB1IvJQ0KEQ60EODzhT3LU+yIKOkQ4c8EB0lrRhxYRWcDJEctz+5S9jia2dlo6k4HSqoETzYhmwROQDYYFB8PAg54bPl46lorsSgnvg/GisPWbTsYJCXloSBvpb7czF8XbFxefYotPORoRLk+0qOYrk7IZJjUdt2/Z9VlRQbMnIp5GSjETgeJ5YOHcSMQGSKcdj8J8nZEUCB9go/MGpmgPrfY9CJXVLERABERhmAvodHGbAk7l4JtMKXVaJibwqB+G44MD+LTesfIvTgmWte2OfVVXVI5GWH7M0Opz7TUP0w9lnzrKsrJQT+BlBcPMNF9i9973gNIBOvNHHTlFhFtbKnH0iIoARGLv3HkVDsNqOQi0YwM/D0keFBZlYImk6GsE9y0elpyfZlZcusd/d/2IfpZ98eCTuNW9uYa8OhPLyGjt4uNIOHznuLK/FZb0YPTGrOB8zZTgLpsuKZ+TabTddiKWd1qBxyVlMpzY6cRiFwc+vN2tuRmK1CMvq7XodEwERGG0C7IJq2d3R/hR0fxEQgdEk4A7FjWYddG8REIHeCMRiaSMOnMdgdj+XjuJSUUHM+E/DILXTPaGTgxdiGwzGIdIgDvkmuIRUptUU5MFxUY9kzw1IsN1px/Lqrbb6OCamHbKtz22xva9h5aW0GJsxt8guuPRcyylItfScOsstOmCdLU/bkc465HZMdiIEfFi6ivXILcyxsqNlVl9bB8dIKhJnI/oB0RAVx49aqi8VkQSJWHYqznYgT8bZF16DwflWy41rthnpMUjk3WYf+PQnbcEl59nr+9605//2Bzu6e63FtNYYcns7+R9i4HAoP3zI3v+Bf7Cr3nG9Pbt2k11wQaYV5CZZQjAWESCIhEgnk56+nLvMFjGEHudrRkM0NtRhiV88G5g1tzShDDgyMLjfgaiVVGSOjkU0SQAJrePgGGJCbuDtnrDGJaKQnwMuhDgsBxWEE4kRGPBU0GcB4x+MzeiE0yWAP+FEwXnxyOOxcfNmOFGSHGcML2E9YrB0VFfUDfJmJuHzw1JPjAQJeuBoMb/NnFFsZy0/07xJndYSaLL83Ay79cZr7MzT5lt7Z7xVVDTi+RItGbkzdu7Yg20aomBSEWWRBSdMoqUh+sML5wdKxC17+PDuo2lMzt0KBsgXLxMBERCByUmAv4OT88n11CNBYNnZs066DR0NgxmovuySxTZrZk/+CTooHnxkHXIwHOqlgWW2F3km1rywzS6+cJFdiaWOXJuPhiVzOuxC7otTGZd9co0JuO9/4BU7eOi4e8jZHjrc9fqFl3fY+26+EOtqZp54f+GCKU5uj/JjmB5zChvuezH/xM3vuaC7EdlVGTqR/vr0RnvltV0n1Y7Lar36+m40FuOxRNb5Nh/LO7nGz+Cqy5fYk09tdA/1uc3OSrV3XrP8JKcFE3/T0UQmx6CqasxgkuOiT4Z6QwTGPAGPh5MfFL0+5j8oVVAERGDYCHT9Dg5b8SpYBERgaAQYgeFGYTjj9eFj0pzEj/+YRDoe0QeJ8UnmS0zCpLRMy0QujKZGREFgmn7atFprrEq1WTVZ5keuheM1SOpdU2/bNtbZM8//2s5C/sUrLjnNstLT7UM3f8D8FWtsx6YKO3DgAEfyMbM/2a6//npbuHCh7dq1y/bv32uJWAYp0BHALP9ERAI0WGZOuq3fdtQysnJs+rylVuBtthdf+6tlZHvt1ouvta/+5gd2pb1huTkey2nZahdflWMFKfnmQ6LuAPJnxMVmWkl5o61++Af229/9AktXzbRVF5+HaAM4QNK9iHroAMxYTPZDRAWfGX+6jgt3S+cFRScBt4m+WKurr8S+OXkv0tN9loUVEKrqajGRDzkvkMOjquo4llXOgEODydG7Jr45zggstcRolgREXsQyTwYDOVg+PxNn7gvJmxPtUVZW7iwVlZuT7KyQ0IAcIowGYY4MJiJndAidTXzNJNo+ODmO11QhUXicLV56hl3x9svtzKVL7Nf3/sR+/LOf2NXXrLKZc6ba/n1brbYOSdA9KZgEWQCHUSaWkoqx7MwC5NZIQb3TsCwUPvdEOE4IxAkkZiCd49LigVE1BLF4GlGDnpGQUa2Obi4CIiACI0+g+3dw5G+sO054AszjwCWGQq0sgkH80PPd/TNOn+HuOttHHl+PNS8PnnSstxfPv7gdIaZJdu7yuSfePh1LF0XiuHAvoHPit3944US+Bvd46La2tsl+/Iun7ZMfeZsxATWNjb2LVi60Pz7wauip/e4P171WnDsPjbGesUVGOtz3x5ec3B99VYhLQnFpqMsvOQP5KU47cdrypXMwe2er06A8cbCXnSvh4AhdHurNjfvtidUbrAWRMTIREIGJQQCdzwB+7CbGw+gpREAERGAQBJzfwUFcp0tEQARGnoDTZHGaLRwuDzoD852YRMXBcGeuPcb1kYrByY3hZRJvJJTGpHzLCbZafpvZ8SyP1TalYMC+w3z19ZaNJaVqsNzTlPRYq9lRYvdtOWI5WKpp/mln2Ozi82zFigpniaqK8kqrrW+wBx94yBoa77Vzz1lu06ZPscbGeryux+B5ls2dOQ2D+O12pLLFmhLj7Pn1L9jxI+vsji9+1Gz3LHtk9dN2+Ypsm+59wa48I9dyzvLb7AKzuso9Fos6dzQbciyW2+IFqXZl0nJbt6XWDiKyPtaz2/Iy59j27bts9qzTsVxTmuO46IRDgeZGonD/pIgLOhjAKAFRCLmFuV0JuhuR+6OpDlEOyJWBBZzakP8i0B6w+vpq9Ps6LScnx1qa66y6pg7RCz5EM+Qi2gEOEC5NBQdDDFmzVPB2cmTQG8L7QkkpaXDetGFZrXY4WOLhpKDjAHXE9XR2YF2prjOZ3wJ92Zg0OGKS023J2Wfbze+91bwZSfb61jftzw+stmUXnmuF0+bbmuf+aq0BRFVkZ8GpUwinVJoFkUcjP7fAcpAPhGIUTgy+GKhS1+2wZe4MrG41Jpq4cfhQ6kczyQawyERABERgVAnwd3BUK6CbT0gCzClxPRJAhw5cM0piLaIgBmp0PGRl9iz5tBvREkyaHam9vn7vSY6L/LzIAy0ZlfDAX17r12nh1iMQ6LBXXt/lRBm4x4oKstzdU26H615MVL7inHkn3f+hR9f167RwT2Yb8ennNjvOmNMWTnMO0wHCZbheW7fbPa3XrfuZkcu9v3/B9u0v7/U8HRQBERi/BNCXVPT6+P34VHMREIEoEODvYBSKUREiIALDQKArshuD0M5M/dAbMGDUj+PxGLBmPgxmEkB+BpzH9BhdczK4DFI71IHhc3gGvCk2BbkQCrFCZiOSWFdXVFkdXk/PL7TGukYrOVJq1ZV11tbQaRte2oQIizgs0ZRvK1dcgIiEWsvOyoXzYAccGQk2bcpUq62qsRRfssXmIIIA0Rgx3hhrx1j98aoGW7/jBTvW2GTZ04vsF69vs7+9+LKdNdVnt7y9yC5fWWtJwVJrrw1YsD5o7G0il7QFMTesCMH/bUhyvf/4Rjt74TKbMT3L4jHc09hwyB66/xf2qU9/GfdPdaIs2t2ls5BfIg7REHRa8Lm5pbohYKmsGgzut0JYxikByz7FgxP6g34sA9XBpNs4N9Ebi8lp9UjEnY6ltMqsFY6FxPQ8a8PSUl4vPD/g3NHmRxmIoMD5MU5qIDB1tvQYJKAsLPmEuvDeiVi6ie6MWDg7uKVXobMTSb7RN8dNLAZRHeVYySF/SpGtRC6PTnA8gETiiekAgPolZuTZ4cpGO1LRjOWg0iyuA9EWaXlwpiCPB5KT52Vlo16J+KwRZcP8KKwCiqafhH4tD37YnWN8McoGAh7kGJeJgAiIwGQmoN/ByfzpR/PZmQ8hLzfdLrxgobMcU3jZz67ZYoNJzM3cCqEWvlxT6Hu97R8/XocEZEzIxkapnZS3obfzQ49xyaSqagZnRmYbEQXytivOPBHdkIakbpHacN2LERKheUa4FNR2zAgaiK3GklIL5k054Yg675y5p3RcuOU/u2aznBYuDG1FYMIRUPT6hPtI9UAiIAIDJOD8Dg7wGp0uAiIwEgQ4MYyT1TmrnuY6JJxRaQxOBzGxLshVk7BUEMev3axdGD7HwHwzzkdkAQa3GY8RjE20BCRrjsN+KpZHyk5MtabMIkQsIP8EnBCZ2TOQ66HZqo4ft0MH91sbvAlZOfmIJMiAM6Ieg/tJVlBYhFwPQScpdQdSLhfPnmZNzcwZEWv7juy2+mCdbdqy1c698Cq79IJr7OyrLradB3Yjh8aVtv2JO+38szMsDlEeHF2PQYQFqmgHMZcsBs+AvNJWh1WMU7LbLdvXYXXtDdYei2WtWlosJzfHDh84aE8/9Vd7980fxth/K6IKcBEyWwcdJwXSUWPrrOCL5Z1ADIjwGgemF882P5Jh19YijwUSfPsDLVgyqwp5QBrhSOgAn1jkBcm16qpqROS3mg+OmSl4LmTotmPlx5H7w2cJcBLEgrXjHABNZ5koegbwHEF8KO3+DicxNz8fJlFvbOQyUR5HPIkBvkEm8cb9WEgzIlMCiMhoQZk1SJ6e1FjrPA+qjkzdcHJ0eKz0SBXyWORiAmSOpSalYWmpVCwNlWbF04qcSBHmtYjDPZxgBtdB0fU1GTNOCzwNXWqdWOTarSEPyURABERgshHg76BMBE4mcB0SKtc3YOpGBBaHBlwG1rkMXYoo/LIjJVX24is7ww9H9JoJvkOtBImxB2JscDHaw3VceEOWTOqvHDZ017ywtb9T3vKe39+O5Gp1Nm1qjvMemVBtbZzV07cN573OP68n2oIN0idWv9l3Rfp4h86bdev32Aqs3UrLzUmzOYhNZi6R/uxISaW99OrJOTT6O1/viYAIjDMCnVavrtQ4+8xUXREQgegS4O+gTAREYEwScPt/J1eOY8AJGArG0kXxWCYIM/TDjUP33rgkHOZU/A78GYOEXl2j2jyC4W7kwfBBcBbUtmDpoQTM7E9H4uomS8Ws/2nFs+xoxRFngLwBfWpfUrqVlR2zZOS/CGBwvwBLKt/6/nfa3PnT7HDJHtu8db1NnV9tzf4Ku/Saleb3ZtuB2p32wMOHbW7xTPvR7++2Wy8stGBck1UifeIsLBGFIA579RVsj2GsHr9CiXgk+ElsXrJZRnodcnNUwNEww2Kb8Xz1HvvJbx632uNH8Eh0lPitug4JwdNz4AKIsTbk8fD5ktBfjoGTwg9nTAB5JPBMqVkWwHJQyai/z5vnOHNaWxpRdhOcNVW2YME8Ky09av7mFktAdISnOWDNDc1YXgvlpWYgZwecCEGOKcBBEovE3YiaQFIKh6AzFo998oRnCU4j5MNA1EVjY50lY0JkDLNSY1mo5uZGOJWQ4hsP2NGB9bqwZFRLAA+MpajivVxyqtkyk2LwPH7buXmTxWKhhgvOWII6tlhecralwWGRmZhh6WCfhMgMT2cHcnR05aXsZJ6N7s8VBfUY90Nf97wz4nvRwp/FAABAAElEQVR0XOwdM7UZ8cfXDUVABESABPg7KBOBkwmkpvqMGqrRafC3N/Y6yw05IaeDKJDJo7dsPXTiyiaEng7EsrNT0RBDS26AVoUwXeZ5GKgx+VmoMeri+PH+yxmue9FpkpGO1mu3VVTU2dGyGvflgLbbEKXhOi544Ry0mE/luGAuksF+7gOqnE4WAREYLQKKXh8t8rqvCIjAWCGg38Gx8kmoHiIQMQGOSndF4/d9iTt6TTdGjzn7zmh717HkZJ8T3e9xcjJghBlhA36/HzkspiOywW+tLe3IAdFshUVTMSjfYG3+ZqusKrPHnnjUMtdhqaniXDvjrNMsu+BMa+soMw8Sg9c0BWz/seO2ef8u277nHiuef8B21+23/X6vLSjCCA6qnjcd0RVYJ2rPIbO9B8wQ9GCZmGPWgTH5o+iOdqZMtV0H/fbMfatt5eXZlleMpasycJH5kEsiBTk3OuFYSLXKmjJnaaZYuBACrZ3W3NZksZjsFocB/4TYBERDIOIhNh7BGTHmxTYBDoTOYIqlpmH5ZSztlJudbxmZ2VZRiiWikKMiCQ4QThpEeISz7FYcIigMybWDTIsG90+PdfNF5AsjYmIR/dEV8sFiEZXS0Y5VA1LQl/TBoRGAw8fvRICkIaF2CpKZB+BQaqirNB+iVTZvfNPa4OA4tHeXvfDUM5aE6JiaRkTBpGYiyiLdvHAyJfl8WB6KeUt66oDH7I7CQa1CP+SeSo76HpJzx2wa9VqoAiIgAiIwigT0OziK8Cf4rQ8fqbRHn1g/6IHyUDwNmAUyGCsqzLTrrj13MJdaeQWmsQzCGjC7I9TiGbd7Chuue2Vn9eQGYRUOHEL88CCtPCyxeipmwvRnjDIZrJOkv3L1ngiIwBgi4AkePTFTbQxVS1URAREQgREj4PwOjtjddCMREIExRgArJWFwHUtNxSEHBAbFExISnMFw5mPAQlXI05CA9xIQtZAMB0cAuSAaLSk53g4d9lvlsWNWjuTeb27YiAiFFJu/6HRbumymFWfFWH5Wls2c3mmLKo5aU3APUnK0295jrYagC8spxuA+5vKdc7XZkr8zQ35vRGsADMbk63C8oq7IXnx5hz3/itemzb7a3nzoadu8fZu95/J32Kdueq+VlAbsxVfX2GVXYuQ+1g8HQZzlJWZZEurug0Mnnp6RDr81NLVgwD8djgVEp8RymSYIUQqcmJaUmmSdcCj40nAuloXKzitCPbB8FM7x+wNWU11tTYg28Xp9zlJScXDIMM/FyUYPUFcOEjouOsGMZXOpKqqTSYSQT4T5L5JQjgd8eZy5M2bMmmGf/Md/tLq6alu95nlwNrv7xz+xwsIptnnzVps5cw4m8OXg3AAiOJLhvODnE+fk83DrMB4m2OHz7nwFwT9Y/cpdycytvrYiIAIiMPEJcPU/LIuIAEOZCJxMgBEAA8lHwX/06+pbnGsqsYYnr62rw7drBCwjPclZqioTy1VxyarMDCTfwpaRFkzsPVgLH6iPtJxAACGwA7ThuldmSFJzVikGYbbz52GaThQsJaX/iJxjiO6QiYAITHACQdvrRthP8CfV44mACIhA7wT4OygTARGYXAQ4O59j7jAEAiDCABEBAQywIwcDlwBmxADzSjPxN5eVisGgvBcD95zs0dKSbGnpaTZ12jT0mUugo1aL5BTNSLb9xmPbbN3TWyxnQZ6dtWqBLV54vi3JX2zlTYssruVNy0v9m9VUdNiaDYi4mIYlotAda0NdGqEapGUsP1Zsu/Ycs3XrjiLnRLKtPPfvkINyij3z/FrzeersZ7/4sv3+p99GXznDahua7L6/3G833nCDTZkyxd5+5VWItkCCbOSxSMpMNw+cBW2tVUjGDfdLbADODFQfSbKxoAKeL9baW5Hfgg4NOGVaWxvMh+WXktAN9mDSXgMcC+VHyxHJ4bV8JC/3YFmuFuSiSEjoa+KbQwnnwWGBZ2GycObOoBMoJTkNo1btznFGsnQgoXczIlh8cFSkJ8IRkYp+P/Sju35iOTk5WKlhh82cMdeScV0iIjayc7BsM6JefF4sZcXPrdvGg9OCVY27+xNn1Hz27s3PYf+K7rprIwIiIAKTicBz/B2cTA+sZ42MwOPIg7BrNybSjkGbMT3H5s+dYlOnZNmUoiwn5HM4qtk8wCWphlKH4bpXdpjj4pxlc4yKhp0q4qKsXD8t0eCsMkRgLBNAQsdNp44pG8tPoLqJgAiIwNAI8HdwaCXoahEQgXFJgIPgGMT3YDCfk8M40B6LqISuvBpxiDtATocgkkoHsdQSUynAuCRScjKWWYpJtuYWL97rwJLGyZaVlYuE10iAnVhvxxpqrGR3lR3c/7y9kJNgMwsT7bLzFtu8OcutqW6ZpSU9ZysvqrTS2mbbthPLRCF64m9vtBnG662x7aAlJKVaStJZljG9wI42xVvBrEybOXeuHTi40YLxAawqsMfKq2ItPW+qNVW22v98+zt21mln2s4dB+zG666z/MxM5KnotI5WP+6Va7XNDXBe0ImAqBJs4zyJcFbACYB8FfVIop2VxdwYjL4Ai3gk4cY5PoApKCiEsyDJ4rBME9JK4NnZYoS3AbwMkRRdRm8IptNiEmQHnD00coxDgm9yqaiocKJY0lJScRYSg8Nx0Y5JgplpXuS18Fl1OZanwrHf/vpenJdo+/YcQB7GeUgaHuPks4hDlAUdLe2IIgl3WvCeTmJu565j9w/4v8Csw/NzPIMcF2P3c1LNREAEhomA8/s3TGWrWBGINoEsLHt00/Xnw2GRHXHRLS1+LI9UAUdHERpBTAQ2uSw9JL9FtJ/8VBEX1Zz2IxMBEZjQBNoDra/ExCR3oDMo/8WE/qT1cCIgAr0R4Fgbfwd7e0/HREAEJgEBjL8nJMAx0ckliOi46NoyP0NrADkjAlzuiEmpOUDPwXsPojM6nZwSmYmJSJKNpNXIg9EE58DxtGMWm44ohcpE8/jhKGhPND9yRjTsqLUnSw7YawVmxbPTbc6c91phcqcVp1fatGWVtie3xJbkttjeJTG2aU+j7TraYYerkQ/C04hojlLb/Nhhy0vPQE6KGXbuRfMsETksjhw6YtteWYekGLmIB/Hatj3b7ODhg5aPiIXZU6bb6fPmmQ/5LFJTsMQVHC2eWAzyoysNFwPycHQ6OSySkTMiLoHLYcGJgUQMHXAoeJgTAw6IRDgsEpA8m9EnrYjsiINTgdEPHVhKGDeE4KToQuLsI1DFiVZBKgzHuZOAJaHI8Prrr7edO3fCiXPAmayYm5eHPBwt5m9AJAi8Qa+98op97VvfQjoNrP7QVIeVBRZYbIIPTiE/cnHEgyu3CUhc7oEDg4nCu5ei6vZi0JE01s1xXKyvrHxwWX52CWhNHesVVv1EQAREIHoEOkvWV1Y9GL3yVJIIDB+BJYtn2DuvWY5GHhbu7MW4PBPzKXDJJS5T5Sx1hSWramuxKCQaQJ/4yFVOdEYvl07oQ+0I8Q035p6Ihp1qKbHu9nk0bqUyREAExiiBu297qebTD1z5HPpRmgQ2Rj8jVUsERGAYCXg6n+Pv4DDeQUWLgAiMGQJdEQFd1ekZ8HbH32NjPcgVwUiBrv5qUwsG3+G0aPd3wIERdPJbdLTzHCai5nwPJMdOyME2aFmZOZaWk2nx5XHWmlpj/so6CzY3W1wKBtpjvVZRf8yqjrdYbVOHlZel2/SiHDgjCm1G/jRbmHeaTc9vt1lIVD191hE7u67FdpVU2v7DVVZaUm6NrbFWecBjNW2JVh6HPBsdAVt61hL7u2tusXUb1tnaxx9B0vCj1ojHe2PLU1ZTOQ3Jrp+2hYhcmDV7jk2ZNcdikBuCDoCU5CRrrGtAzWOthctKIalGS1sHnBTMgRGLiIh2ujEQVEFHAUnFOE4L5sgI0rEBx41rbjJzZvD2w0mRACcOc1xwsmF9fY0tXLTA3va2t1lZWSmcQrgOkRqNSOaR7E00X3oqIjrykAB9psXSCYHrkhNT4EhBIu9OJBHHslzsi9J5Qd+E4yvBeazjeDPHcbH2jkvaz757y+14ll+MtwdQfUVABERgsASwUuHt/P0b7PW6TgRGisClq063y1YtfsvtSkqrbP2b+5BcrNqOIZF2sKt19JbzJvOB6hpkbwuxe3//gu3cVRpyRLsiIAIiMDQCnZ3Bn3s8sXJcDA2jrhYBERiHBPj7Nw6rrSqLgAhEmwBHxjFQ3jWRny8MEQJeJ9KiAzki2tu7cl8wBwaXNHIG4pkA24NQg25LDyI/I5Y/asqpthrMrW+qqzB/Sw2WYPJbXHIilj+Kxy3iEAmRaf5AjjUGUm3TtiMY7K80X77HiubmW96UPNtXdsSm5vrsgkUea6pts0O7q23ftuPIjdFidS0dVtceb6+vf9aefvoBW7nyYvvMF79gNTVV9tTjj9rvf3mv5eYn23tveo8dKm+2LXtetZSs6TZr1kLk5JhuM2bMMC+WcQrCMZGEJaDa2lotgMTcTNrd5u9Kou1LQAJtpJHuEp+bybpbnackE3d5Jneppk6sIxWPMlvbGA0RACs4IZBL8R3vuNqmTSuy0tIjduaZi63i+DEnGgOeF5sxda69413vsmI4VeIQGUKHSQ6WpuKSVJ0IDUH1HGcFI1xc69lzj4yPreO4YFW/e+yBX302//qP4kHOGR9VVy1FQAREYPAE8G/qOv7uDb4EXSkCI0MgJcVrF12w8KSbcQmip5/dbJu3HjrpeH8vutYa7e+MifleTe3JyzVlheW8mJhPracSAREYSQKbt7Y/uGRxbAn6UYpeH0nwupcIiMCoEkB/qoS/f6NaCd1cBERglAhwsJ5D4VSXOUsp4TCdF5ztH48oBJobhd617cqr0OXg4LsnhqUtpjPRMnwZ5s9utfqiQqtuLbOWxjLztNZaQ2mZxWBg349M3K1xcBjA6XG8FTdpzbCWpharLy+1LdvLLDU3zTKzsuyc4oXmTWi1xvqDVl3QYbWndVhFSYPtrmi3N0pqLbm83tqak23Dxudt/bp1NnfmQrvo/KvtcNEOq686bFt3v4HojfPt8O5N1lRy1Mqqai1953YrLJyCXBtzLT+3wBKQ0DuI6AguH9WBZ2Y+iURvgsViMmEHlm6Kw3tdeT+wH9e1RJO7ZBaf3IPlongtQkrwZwDRFDWIlPAiIsXrRFu0IOH3w4/82c47bynOMatvqHUiLuYUz7RbbrnRZsydDWdJu5VV1lhKagYq4AWvFvMmg2n3R+N+Oj3xMbzz+LKeb8gddwSDd77jthhPwgZ8gVLG12OotiIgAiIQOQH8g9kY7PTfZvjdi/wqnSkCo0Ng8WnTTzT6WINKLAP1o5/8FaG2PbNTTlUzhp3mZKee6rQJ+X5NWMTFUB0XyZjtE9Pd0g5g5lBra3SWnZqQ8PVQIjBJCKy9Y237mX++8nb0QBW9Pkk+cz2mCIgAxsU6OxG9vlbR6/oyiMCkIYDRc46gu6Pizj4dEV3D4nRMOM4LbkOYnJxGgfkwnOH6kDO6dttwFSMFOHifnTDFMpLyrDN1jvnbkbQ7rdr8wTZra2mxDj/6X+gLx8I50NwMZ4Yv05I6/NbQ2GA1x4J2tLXJdiYdsmlz0m32GXNt/hkLnKiNfRVHzHN4jxW1NWB55TbbuaXCsjISEJWRYm1NVfbSS8+gn9dhV1y0wlY/9YCte20LHBFwGLTFW9HUXTZrxkzLzsq3rdu227Qp0yw3J9cWLJhvxdOnoi6eriWdkQujHXXz4JfR39aCB8OiUlieiU4cJucOMscEk3PjOCMvKLg5IOT98DE/CHKAdLRZVnYalnyutr1799jlV1xqWzZtsrr6SpuHJOPvve0Wyy/It/K6OixEFWtZhRgv8KY44wOJyYhyQend3VWmAnf2Qz8PHBpX1uO4QLW/98mlez9356ZbOz2eh4Bv/C18Na7Qq7IiIAKjQQD/IHSgkX0rf+9G4/66pwgMlED4QPtTz24akNOC9ysqzOwKKx3ozSfA+TVOjo+uhiEfZ9HCqfbkUxswC2bgfstURL/867+801l3lGVxqa67f/YUd2UiIAKTnMD3tz71q39efOVH0T1U9Pok/y7o8UVgchDoXMffvcnxrHpKERAB5qHoMWdovOdl9x4Hyx3nRfcoORNOO4bXTp4F5zj7ZZBTHofVuwbxmQuC9/DjnQR4P2KQpyHOEtGsSrTOuCxLy5tm/pg2OCCaLaGp2TzNjYjEwH7OFCst248UD20W35lqvph4q0NC8JKjlVZypMSeefmgefM8Nm/JQpt/+jJbcf55WFbpEHJflNlpc1us8niT7d1TjteIZqjDElZBn7V2VtmtcA7UHK9G7sg6q2hohqOjyjZv32yNtS1WkFdo569YaanJaXbkyGGbWlhgs+fMsNMWL0RibCQWR6SFF8thBdHfZIJtPiO5OE4L7uA5HYeFs99FoD3Ybl4fJsjhPeYKSUn1WVJepu3aswNLbsVjGakmW7Bwrl177bU2FY6SRiQtj09OtrTUTIv1JVmcL8XJqRGPa5Gz+4R1rRTlHiDj8WcnOS5Y/W9/csmjn7lz04dA6x45L8bfB6oai4AI9E2ATovOYOeHvoPfub7P0jsiMLYIpKclnVSh41UNJ72O5MX0aUx6NjmN66keq6izgnyEz8LIk4nO39x4YMBAzjoTyc/QEHVt/4Fj7q62IiACk53AHRb0/9FzW3xMJ6LXPYpen+zfBz2/CExgApgt3RgIehC97ow8TuAn1aOJgAgMlIDrvOB1CDA4YRyjd8bpsTyS47RwnBiuZ4OnIcE1flISsMXQvQVisIdR93aMWsdi3D024LH0oNfiPAiB8CXjvVRr9fqtgrkzpidYeq7X2morLbaqHu/jZr50q2sNWm0LzimttTW7DtnrT8QgV0Whrbx4ni0uPs9qc/dZzdS9Nmthux2tqLfaqibkw6iwg7sOWO32KWZteYjImGH7j2609Jx0O+2MxY4zpaa63p5e86wVFUyxwoICK5s2xXYd2G0v/u1lW7xgoc2dOtsyvBmWlpZiSUjmHQOvTaC9FZEYAUR0sC9J5wV8MviPxoiLYDsSd8Oh04HE4W+8sd5SU5Ns65ZNiCKps/0H9tny5UttZnEx8mxMs4ryY+bLyLb0rDxLSUmzeCTkTkpOwbVYRgt+kjhwJ/quqAvXScQ78X5d9+Sr8WJvcVyw4t/95JLfIPKiBpEX9+FB1fAeL5+m6ikCItAnAfwj2chICzkt+kSkN8YoAX+AszR6LDM92SowEB+pZWQkI0fGokhPn5DnvfjyDrvh3StOPBt5DNRxQYfF8rPnnCiDOxs2HzzptV6IgAhMbgJ33bh67z/9+cpbYzrtIfShQrrrk5uLnl4ERGDiEECfijGrt/L3buI8lZ5EBETg1AQ44M6Z+z2TuPq6xhkwx/h46BA5l4DqGrBnTgjudg3ec7fHOJSPpNa4B50b3I/HdVhpyVmCCqswdVsiogwSzYdllzxQS3sylpCKs4A3FwP5zebPxeBPXZNV1Ry3pNo8S0bEREo1EnPXtNuODfts64Z1ljct1eYvKLK58wuchNtziy60hqZ6q5nXYCWLj9vuzYcRXeG3srLNloWIjaAnwcorDmL5p6A1NbfZ8gvPsiPIu7G34oBtPrTTvLFxNh25L0qQi7JsZrulx2Radk6azZkz3RJ8HvNBTLydACdGHDw6cZ1I4N2OyBI4aGJ8MdbYdMxSMnzW0tJqzz33hBXPnG6vr3vdYuM67dLLLrJlZ59rL734ulVXtVpKWoHl50+B/ybJMtKzkcsDkSmwID4asmeUhYPbOco995W7dd4YN3/06rhg7Rl58S93vnEWcl78Do+mkOdx85GqoiIgAuEE8O/bOua00PJQ4WT0ejwQOFpWY2ctmXmiqvPmFiFk9OiJ1/3tcLD91htXoqGUcNJpDE2dTMYk5pddstjcZbdykbTtqivOtNVPb4wYwzuuXmZZWT1zOfi5DMSBFPGNdKIIiMC4JvDD9zz16Kf/dNWH0Pa4R86Lcf1RqvIiIAJhBOi0wIjjh354w1OKXg9jo5ciMDkInNpp0ReHrt6n+yc9EX2cieO8C+XOAHFO5R9h1zCSAfEM5o2D4yJmirXFYhA/sc3a09stLqneEjLgyGhoQK6IWkvLrENi60Y4HVKtui7Baitq7Xk4HF5/cZ/l5mZYbn6ave2aC23h1ASbkVNuU/I2WWn5Xjg/AlZZk2k7t5dacysi+Y/V2fIlZ9vS5Rfa+je22pKl59n9f3oQSzZlWCmSZK+559c2K+slO/+cS2zlBefZvuOHzZfUbkVTcmzG9ELLSUtDfiA8SycWwkL0hacDjpyWTsvIzLKmlmqrr6+x1HSfvfraCxYX77cf/uhHyK0xz9atX48lo9IsB0tjxcfBYZGabQkJcIAACiboOktPcTmu3s0l2fu7Y/1on44LVtwZ5LvjjhWfyb/+A0D5FXxLpo71B1L9REAERKCHQGcJfPC3f/fYA79SIu4eKtobXwRKj1afVOFzl8+xPfvKbOeu0pOOh7/gkkjvuHqpTSnKCn8LjZw4JBNLw5qdCKWdBBYMdhqjLt55zfITT3vRBQstOSnR/vLoOqw3emL6zon3Q3dWnDvPli+dHXrIXnlt50mv9UIEREAEXAI/uGH1bxB5UYPIC0Sva9kol4u2IiAC45cAl4dipIWcFuP3M1TNRWC8EQjzU/RZfTowmNA7EZEHTuJvDOSnpqZZW1ubNTU1WQOcF1RzczMiG+qtGlEYDfXNVlNT7SzFVFPVjFwXR2zz5p9Y8excW3bOfFu69GJbevpFdqBii+088oJNmxdrddWptmN7nJ2FJaNWP7HGzlyyynZtPGKrVlyN6IvDVlJWYe+6+d1WX1tqf/jT/9izW6bahReutBlTp9rxQK7tKtlmhUjoPWfqTEtPyrDspBRLSU61Dix3dby8yuIT4yzJl2o/+P7/2fQZ0+wnP/0Fkn8vsBeff80CbWYzpuVbakqmpSPKwodE3jFYQ4uJv2nuc3OfPCaS9eu4cB70jjuC37U77ll1x5rfnJ2beb0nJubDOH6p8l9MpK+BnkUEJg4B5rHA0zzXGQz+4s3jNQ+sveOSk9fZmTiPqieZJATKymustdWPGRZdUROMlrjp+vPt+Ze228uv7nxLou7ExHgsDbXQLlgx3+Lju/6ZZ56H3XvKnMTULrbrrj0H62UeswOHKmzf/omfq+HNjfvtopWLLBNLZ7m29KxZaPx5kax7o1Ucf+vyW/nIi3HN2862WTPz3UucLcvasOngScf0QgREQARCCTDy4hN/vOqshNjO32Hyl6LXQ+FoXwREYJwR6FzHnBZaHmqcfWyqrghMIgLsI4euKpCMxNVeL5wZiVhSyueDIyMVSbn9zlJMOY0F2LZZbU2tVVZVW3V1FaIp6nB9wMoOl9q9W/9qzzz1qi09Z7FNL8628+beYE2xdXB2BGzxwlZb98Y2LDHVaS3+Ny0XkwSnFuXbotPOtqLCFJQRbwdaG+zdn/iA7di1zx57/AVLRh6K3KxcKywssgVzZ9mBgko7+4zTzIdlpDwIZOuICVp2bo51BIJ27PhR9D0X2Pe+9x3Lz821Jx57GpPtUpGbYy7ybRTAOZMM54bXEhLxvJghQ3OdFtyGMpgoH/+pHRfdT8rBv7Vm9+Pl/R+/a3OmL9i5IibGswSDhHPRGC9CEpFcbNPxOgVeMWRLQUJ3CFu4ejwnL7GFgzIREAERiIQAfkf4PxdTDOK3JYBtAAda8TPdiON1nZ2e49gexes9mDW9qSXGXr37E2fURFK2zhGB8UDA72+3Pz34qr33lotONEQYMXHFpWfY+YgEKEFERhCrDXNmBaMomNMC/z6feDQ2YB55fL0xV8aihT2BkzOm5yJcNdfm4fq7frr6xPkTdae9PWi/vHeNfeSDl2HtU9+Jx+TSW1RJaRWcF/VwBLU7DHOyUi0zM+UklryIS0Q9/Nj6E9drRwREQAT6IuAM8t1hK/759Cs/gNyBX8Evc8+PcF8X6bgIiIAIjBEC6HOVYAmS27+/9SlErzuL24+RmqkaIiACIvBWAu4AfhB5LxiJQMXFxTkOjJQUJq/uQBRGu5Ojor09YM15rVZQ14jlmRrgyEDURWU5ckbkWU0dEnN72mzr+mP24jM70HfMtqnFhbbozKl2xlmFNq9ohu06tgGRG5W2e9c6Kzm+09pLsqy2utPedvlNiJJYaHG+TDhNXrVzlyVjmec9tnfXbovBKPm+/a9Zc0253XDj2y3lpmsQjZFtmd5Ma2/rtObGVvN5U+3737kT/dE0e+aZ55H8e4oVT5+JZ/Gibplwwnit3c+oCjw/nDXuM5MGnRYTLdqCzxWx44Inu9Y9KPgEXlMyERABERABERCBYSSwc/dRW/P8Nrt01ekn3SU52WvzMejel3EQ/s8PvWZbtx9B9EUswmPbLAnLI01Wq6pqsJ//6jm78foVmBFz8hJaU6egQQr1Zzt3l9ojcFowgkUmAiIgAhERwGDf9+0pRK+v+s2SxQnX45oPW6fnUvQtx/eCwxE9vE4SAREYbwQw36UDC6Y/h3r/YtMWP6LX1yp6fbx9iKqvCEwiAhy4d83d5+C9G3nA/YSEBMeBwfeTkz2WmhbE0lFNmB4biyWDY7HMVLJ1BDvQT07GJLYpVldfjf5eK6bgd2Dlgw4rPVxvZXtbbPP6lyw2qdpuft8VNn/+UmsrqrQFc+bb/oOHrORwBfJOBO2JZ76EZt4iO33xtXbbTe+0//zv/7Lly5ba2992rt3xX7cjmqLQCgpy7e6ffdPefPNx+/K/f85mT51nc3LPsVZEXqSnZlpTY4utX7fOphYWYyJdNuqVjjomwXkRj3rhaXvmKJ5wXPA5J6LTgp/toBwX7pdCWxEQAREQARGYqAQY6TCW7Nm1W9AoOmaXXnz6W5YuCq9nByIwtu8ssbUvbLPyY7XO24FAh/3450/ZtX+3zKZNzcEMkHgnuqAO63u61tjU6u4Oaev3n3pgfyTvFfowzOtx10+fMuatWHHOvJMSboeeF7rPKIsnn9rgLK0Vejx8P/w7E61nDL+PXouACIw/Ahz8W+tGr/9uZWZ8om9FjKc7er0zBtHrlouudzqiSFOQtNGLCI149EYRvc7MjZ2Io8MZMhEQAREYIAGsiIH/PYheRwQ71kFBBEWg02No8Hka8aOC6HU7bp7gUcRT7MXxjYG2llfvvu0lRa8PkLNOFwERGB0CjKKgkyI82oDHXUcGa+Y6MjqC7fi5a4fzIgnLR6UgAiNorVg2yu8PoF+YCUdFq9XV1VprWxOOtTrRGI1pbTjWZDmZ+dbcEmc//d7DFpPYbMtWLLQVF59pyxcV24z8A/bq+rV21dvn2M49lVZy7I8W2PiizZy3zzILgnbnb+6z5edlWX3dYWtH8+5Tn3qH5Wfk2QtrHrNNSYW2cFq5FeROtwMH98FB4UFkRYpNnVqMZNzIZ4EojCTkw/D7uRAJkpZjJJ/uGrdhGP7szkkT6A/3OSfQI+lRREAEREAExgKBf7/9vp7pD2OhQhOoDky4XViQgRDSFEtP8znJpZlguh5OCDoidu8ts0aEmspOTaCoMNNxBKVi+Sjmu6iuaURDMdGqqhuc/erqRiQxr2O3f1LbV79yq9qMk/oboIcXAREQAREQAREQgYlHAIPbk7yVP/E+0/6eqBNOiw7IOrHWEoXsBlhgyVmcvAH95wAcGI2NSOLd2IjVChotEGywsmObraG2GktJtWA5J4M6sNxUq9XUHzNfaqcVTI+3gqmxlprVZp1xNdbYscv8nkqL98KhEt9qja0BY+pJDxY/j+vMspT4OcitUGSdjRnWWhdjLfXohyYusvjYNESEeJ18HPl5OZadk2NTirhsFeoHzzI7Y+40Fmc7CXpncMp4FHHR3zda74mACIiACIjAGCRQirwUlGzoBBhNQclEQAREQAREQAREQAREQAREQARGhgBzUTz88MP2zne+cwSXOUICa8QrdHq4ukKXQ6CTqZkR25qSihUJ/DEWn2DmS4pDNIbP2oMpON6BiIsqy8xqsoa6NsjvODeymtKspbXWqkorrfxwpcUmtpk3qdPSChIstbDRuEAzXSMZKC8GL2Jx3xaU09LkRWRHnMW0JVhCMNfSE/OQRwP5K7zpuFeKpaWlWVZ2NqItcnEFHSxd0RWu02JkPp2xcxc5LsbOZ6GaiIAIiIAIiIAIiIAIiIAIiIAIiIAIiIAIiIAIiMCEJOD3++3ee++1r3/967Z37177wx/+YDfddNOIPCujK7piF+AQcEIY4BXginpYTS8OOSTifLFwXPgsKTkR+SR8qFOGpdQnWFpynmWkYfmo1nYnb2Rzc5OVlJRYU1O6NVLN9XB6tFow4LdAdao1t+dZe0obIi4arSP2mMUntlhCfKZ1dqRajD/PYgN55o2daunJUy0xPtvi4lPhvEjHigoZlp6ebpkZTMSdiJUVurCcCK7AzmRzYMhxMSJ/NXQTERABERABERABERABERABERABERABERABERABEZh8BJqamuxnP/uZffvb37bS0tITAOjAGCnHBWMgPJbgRF2wAnBZIPqCe/QQBBncgBwTFBwY8djB+bGeQvN6A1jGqQ3OjHZraWmxpoZGS0vNRs6LBquprULuimpEXzShiA44NjosgDSSSFZmnbFtFhPfZolY1jm+Mw5LUgUtIdZnvoQMS47NhNMiHQ4TLA+VngaHRRocF+mWnJSKhOII0QhdxKzbc+FBIrQuO+HK6H49cTdyXEzcz1ZPJgIiIAIiIAIiIAIiIAIiIAIiIAIiIAIiIAIiIAKjQqC6utruvPNO+/73v2/cD7eNGzfaE088YVdffXX4W8PwmgP+PYP+XDaKrzoRxhB0nBddt8QiUtjhQk9wc3jjkBA7zhISvcbk3gleOjWCcEgELCXdaznZuUjw3Y7oi2ZraWhD7otaawq0IIoixto9HfBgdJgPERxeLxePwktPPPJZeM0bk2CxFDwneXm5WCIqFfkt0iwuLh5LZ6FmqEJPdAXq6VS7OwTDqTXrN/FNjouJ/xnrCUVABERABERABERABERABERABERABERABERABERgRAgcPXrUvve979mPf/xjJ9l1fzf92te+NkKOi/BadDkxPMhA0ePOcJ0WXee2B8w6cCg23oPlneItyZtiXqwiVVCYbf5A0Job/NZUH7DmJiwTlW6W015jbYYlouB5aG5ttVZEaSTEJ8LZkWDtOJ83io+JQxk+S/YlWVJCnBNpQceF69zgElFBXB/T7blAjmpUhk4L1m1ymRwXk+vz1tOKgAiIgAiIgAiIgAiIgAiIgAiIgAiIgAiIgAiIQNQJMG8Fl4P65S9/acxnEYm99NJLRq1cuTKS04d0To+DIryYrgiLLgdBTzRDQnzYeTHxlpaUgYOdWPbJzBvfjkiJIJwSHdbe0W5+JPVua2/BqlEdyFERtACWieI2iC2viY2F0wJRFXHxECI56JzIy8txzulkmAWMfgpGXZxsPXXqigY5+d2J+kqOi4n6yeq5REAEREAEREAEREAEREAEREAEREAEREAEREAERGCYCWzatMm++c1v2v33328dGLQfqH31q191lowa6HXRO991FIQ6CPoqneci1TccF/FwZMTGwjGREAPnAw6kcEmo9G5nBR0WXWJJMTExjqMiBjk0YrHvgXPC4+F1QWzd+9Nx0bPP63oskrr1nD0R9voiMRGeTc8gAiIgAiIgAiIgAiIgAiIgAiIgAiIgAiIgAiIgAm8hgBnuk2/tnbdQGNqBV1991eh0eOyxx4ZWEK7esGGDnXnmmUMuZywVwK+Y+zWj46I3c9/v22HR21UT/xh4wK0jEwEREAEREAEREAEREAEREAEREAEREAEREAEREAEREIEICKxevdouuugiO//886PitOAtv/71r0dw57FxCqNKKEZLhBqdEG6UBbeuU6K3c9qR/4KiyWkRSqhnX0tF9bDQngiIgAiIgAiIgAiIgAiIgAiIgAiIgAiIgAiIgAiIQBgBDsT/+c9/NibT3rhxY9i7Q3+5c+dOJy9GQkLC0AsbwRLIhY4H1/kQut9bNdz3Q8/v7Twdm0zZPPRpi4AIiIAIiIAIiIAIiIAIiIAIiIAIiIAIiIAIiIAIREyASbbvueceW7Bggd10001Rd1qsWLHC/vKXvzhLRY0Xp0Us81RATt4K5quA44LRFaEKB+xGYLhRGK4DI/w8ve4hoBwXPSy0JwIiIAIiIAIiIAIiIAIiIAIiIAIiIAIiIAIiMAkIYABZOS76+Zybmprs5z//uX3rW9+y0tLSfs4c3FuXX365ffGLX7RLL710cAXoqglNAI4d+S0m9CeshxMBERABERABERABERABERABERABERABERABERCByAlk4tT/gCohOneiqQ6U9wC0FJKJgAiIgAiIgAiIgAiIgAiIgAiIgAiIgAiIgAiIgAiIgAiIQJ8ECvHON6EGKJrOCpblh34FzYdkIiACIiACIiACIiACIiACIiACIiACIiACIiACIiACIiACItAngdl4526oFYq2w6IJZf4QmgbJREAEREAEREAEREAEREAEREAEREAEREAEREAEREAEREAERKBPAmfgnd9C7VC0HRY1KPN/oRxIJgIiIAIiIAIiIAIiIAIiIAIiIAIiIAIiIAIiIAIiIAIiIAJ9Ejgf7zwCRdtZwfLKoC9AqZBMBERABERABERABERABERABERABERABERABERABERABERABPokcCXeWQMNh8NiP8r9JOSFZCIgAiIgAiIgAiIgAiIgAiIgAiIgAiIgAiIgAiIgAiIgAiLQK4EYHL0eehMaDofFFpT7PigOkomACIiACIiACIiACEwwAil4Hh+UALHB54FkIkAC8yF2MpbxhUwEREAEREAEREAEREAEREAEIiAQj3M+CO2ChsNh8SrKfRekvisgyERABERABERABERgIhJgQ6+3hmQQxwNQG9QM1UOyyUWATotaiN+Pg9B5kDoGgCATAREQAREQAREQAREQARHolUASjn4KOgL11s8c6rFnUO6lkEwEREAEREAEREAERGCCE2CERSSNRzoxZEMjwAb2RUMrYkSupnNiAVQN8btBJxa1DVoBMdxbJgIiIAIiIAIiIAIiIAIiIAIugUzsfAk6DkXSvxzIOeyLPAgpChwQZCIgAiIgAiIgAiIwWQgk4kEjaTQy8kI2NAIv4/Knh1bEsF9Np8QS6BjE70UTtBdqhDqg9RAjL2IhmQiIgAiIgAiIgAiIgAiIwOQmUIjH/wbECP1I+pUDOcePMn8NcVKVTAREQAREQAREQAREYJIRYG6LSBqPXC5KNngCV+NSl/M5gy9mWK+kM4KzmPZDrGsN9EMoF/oOVAW1Q69AjLxQAjxAkImACIiACIiACIiACIjAJCQwC898F9QKuf2caG3Z9/wRNB2SiYAIiIAIiIAIiIAITFICTMwdSQOzYZLyidZjM1LB5fxotAqNYjl0QtAZweWgWM9y6D8g19Kw8wWoBOKyYWshOS8AQSYCIiACIiACIiACIiACk4jAYjzrbyFOaHL7N9HaMr/eVyFOnJKJgAiIgAiIgAiIgAhMcgLpeP5IGppsRMoGR+A6XBbO+MzBFTUsV9FpsRJ6A+JyUPugD0HhRufFR6HdUBvEZa+4bBSvl4mACIiACIiACIiACIiACExcApy09DDEfBPhfZuhvuakqS9C7G/IREAEREAEREAEREAERMAhkIU/I2loVovXoAls6YXxnwZdWnQv5PJQdFq8BtEZsQG6BurLkvHGTRDPY1j4ExCXvlLOC0CQiYAIiIAIiIAIiIAIiMAEI3AFnuc5KJI+40DPOYBy/xHyQjIREAEREAEREAEREAEROIlADl5F0sA8ftJVehEpgVv64MvIhoWRFjKM57GT8CuoDloLXQCdyngNc3a8BDEPxtcgOjRkIiACIiACIiACIiACIiAC459ADB7h3RAjsiPpKw70nK0o9+8hRW4DgkwEREAEREAEREAERKB3Avk4HElDs7z3y3W0HwKMQtgF9cX3t/1cO1JvsVPyXuhO6AzIA0Vi7GRcBH0PeiekTgcgyERABERABERABERABERgHBOIR90/AO2E+urDDOX4ayiXy+hG2ufAqTIREAEREAEREAEREIHJSqAIDx5J47N0sgIawnN/8BRsmdBu9hDKj9al7DgwimKgRqdHAqRlogZKTueLgAiIgAiIgAiIgAiIwNghkISq/BN0GIqkbzjQc55FuZdBMhEQAREQAREQAREQARGImMA0nBlJw/NIxCXqRBLgbKX90KnY/pwny0RABERABERABERABERABERghAlk4H7/DnFZ4FP1Wwb6fhBlPgQth2QiIAIiIAIiIAIiIAIiMGACM3BFJI3QgwMueXJf8LEIufpx3vTJjerE0zPyoxBaBqWeOKqd4SKQjoLJmsvFyURABERABERABERABCYPgQI86teheiiSvuBAzgmgzN9AYyGfH6ohEwEREAEREAEREAERGK8EZqHikTRE943XBxyFenPZpZIIuZL9j0ahjmPtloxQORdiBAo7Oosh2fASOAvFPwF9H1oyvLdS6SIgAiIgAiIgAiIgAmOAwEzUgbntWqBI+oADOae5u+wZ2MpEQAREQAREQAREQAREYMgE5qKESBqku4d8p8lTwD9HyNTlzo4DIw0mq9FpcTnEtW8Zpv5/kKIAAGGYjR3Xe6Ea6AHoAkgmAiIgAiIgAiIgAiIw8Qicjkdiu4859tw+SLS2tSjza1AeJBMBERABERABERABERCBqBFYgJIiabTujNodJ3ZBTGxXHiHTUO7fGWNY+Bx0JvwD9HHoBuhsKBaKpsWhMN7nVagR+j1EZ5ps+AmQPaMu/gTRefYktBKSiYAIiIAIiIAIiIAITAwC5+Ex/gIx30Ro3yMa+8dQJvNjpEEyERABERABERABERABEYg6gUUoMZKG67ao33liFvj5CHmGM+egfc4YQXIj6sFEehshJmUvg/ZAL0PfhaKVYI85LZZBr0Nt0NPQmZBs5Agw2oWRFk9B/AzYsaWDSiYCIiACIiACIiACIjB+CXBiEKOZw/sc0Xh9EOX+I+SDZCIgAiIgAiIgAiIgAiIwbASYSyCSBuzmYavBxCmYs42qIuTZG/P/HWUUCbj/7RCXBWP9OIvqS9AtEB0ya6F6iIPb0XBeTEM5a6EAtAG6CIqBZCNLIBG3ewf0BsTIi3sgRb0AgkwEREAEREAEREAExhEBtqOvg/4G9dbXGOoxTmR7P8SoXZkIiIAIiIAIiIAIiIAIDDsBznCPpBHLgWVZ/wRux9uRsOzrnDpcn9H/LYb13c+hdEZXsH4cwL4KyoSSoY9B7KzwPTovGHkxFOOSU7+DuM4u81p8COLsf9noEEjBbf8FqoT4PfxPKBuSiYAIiIAIiIAIiIAIjG0CbEO/H9oB9dXPGMrxdSj33RCjpWUiIAIiIAIiIAIiIAIiMGIEluJOkTRkORtb1jeBLLzFAd9IWPZ3zpf7vsWwvnMxSmceE3f927u670YHw3uhQxCXEmLdec4TEJ95sPYZXEjnCMv8DaS1cQFhlG067v9LiJ8vlwjjkmGMwpGJgAiIgAiIgAiIgAiMPQJcqolLNrGd3l//YrDvPYdyueSUTAREQAREQAREQAREQAT6JcDQX86K5izoXCgdikaYLpf8iaQxy5k2sr4JfA1vRcLxVOdwqSl+ziNpHJz+I+Q6JljHFd0V8GL7JhRe7ydxbLDRIfNwbW13mXuwZYJ42egT4Cw6RtnQScnPm53VJZBMBERABERABERABERg7BBgG5xJsSug8Db6UF9zAstfoHMg2egQSMRtR7o/OJJPyj4Hn5H9TJkIiIAIiIAIiMA4J7AQ9f8y9DjE9Uo3Q1shDiavgb4BnQYN1s7DhZE0cF8d7A0mwXV5eMbGCDlGwvrfRpjZxbjf3pD6+7FPRxmNjWZ2YELrTQfHL6HB2lpcyPJYDpcnYuNVNjYIsAPB35RWiLlH/guio1QmAiIgAiIgAiIgAiIwugTycfuvQdGI8g5t23Of7b57oUWQbHQIMNJ9OnQL9HmIryeipeKh3g0xqn82xMghmQiIgAiIgAiIwDgiwIHw66GXIbdR2YF9zqrhDPUd0EGoAeL7HFhmvoC50EDtAlzg3qO/7UsDLXgSnc98D/2xG+h75ShvJBtw38L9QjtA/N65xnrwOxf6DNvwehU0GLsNF7llHcQ+G66ysUVgJapDRyU/p1LoYkjOJUCQiYAIiIAIiIAIiMAoECjGPX8EtUBuOzpaW5Z5F1QMyUaPAFdV4LJcT0ABaDc0UZdsnYpnexSqgZ6DboTyIfU3AEEmAiIgAiIgAmOdAGdYMBE2GyxskNIp8TrE44ys4D/0BVAxtAz6N4gODZ63HzofGohdhJMjafi+MJBCJ9G5RXjW4ehEfGqEGCbhPi9C/P6434Nvh9ybkRcroOch5sC4D2KUzmAalrxmH+Te59PYl409AvycvgE1Q/ys7oL4PZeJgAiIgAiIgAiIgAiMHAH2/X4Duf1Ctw0djS0nLX0d4oDxZDRGM6RD7FvPhIqhQojR5uz/jKTx/v8Bcclg9sk4gegCiG3yiWhc7prjGA9B/B6WQfwuLoCisRQ2ipGJgAiIgAiIgAhEm8A0FPgryG2IstFyCOIA9qlmW7DB9QjUDnEpqTwoUluFE9179rddE2mBk+w8Dur2x22w75Wg3FN97tFATafE9rBnuDEaBfdSxidwjJFDZFINjXSnALeURUjgSpy3EeJn1QRdCunzAgSZCIiACIiACIiACAwzgXNRPgd1QycWDbZPEX7dMZT7JYiD9pPROGnrDIhLFX0RYl/uXujX0PehT0NXQ1zCaLj7YmxbnwXx/mxv+6EnoWJoohudMnOgu6EKqAV6ELoQYsS/TAREQAREQAREYAwROAd12Qq5g7psYK6DIsldEY/z3gaxocWlozgj5wYoUrsMJ4Y3aHt7/UykBU6i84rxrG1Qb7yiceyjI8Dyw7jHkbBnKB6m++4NuU9oVMcw3U7FDoFAIq69H3K/x1yeIG8I5elSERABERABERABERCB/gmwX8Y+l9v+iuaWE+L+CZqsg8J0EsyDOCmQjJuhdmg39AK0FuKkHU6uYgTAbyE6MIZrWVv24VdBayD23xuhe6F8aDIZJ2/+L8RJe3TU8bO4FkqGZCIgAiIgAiIgAmOAwCrUgY0jt2HKf7BfgbjO5aksEyf8Dgp1eLCcO091Ycj7V2LfvXd/29Uh12i3i8A9EbLrj2t/7+1H+XHDDPs7KJ8hum49arDPhnS0jbOa2CB37zM/2jdQeVEn8EmUyE4EPzPOzlsCcXaUTAREQAREQAREQAREIDoE2LZ6F8RJa247OZrb7Sj3A9Bw9ylwizFrZHw+9HuIUQ3kyz4P+3Lso3CyINu5H4c4cN4K8Zw3IPaVo903Ynlvh16H2Pen4+IuKAeajEZnzX9C7pjIeuzfCHHZLpkIiIAIiIAIiMAoErgK9y6HQhunzCMwK4I6sfH5i7Br3XL+FMH17ilsNLnX9bd90r1AW4fAXPzJWTr9MYvGe+8fZt6PhD3HWryOdseGnQXeh41yMtkBycY+gdNRxZch93v8OeyrAzH2PzfVUAREQAREQAREYOwTYHv77yE6Fty2VjS3f0O510OadGJ2DjisCeFcj/27oQKIxvYtnUd0bOyDQiPqOSFwChQt4+fO1RJeg+i04Gf+Oyia90Bx4874/N+AGPFCJm9C74GSIJkIiIAIiIAIiMAoEOCg4EEotIHKtS0vhyKxYpx0AAq93t3nslGR2t/hRPe6/raPRVrgJDmPDcz+eEXrPTqyhsvYQGR0T2hd/w+vY6N8wzkorzTkPp+NcvkqbngI8HvwB8h10D2H/cLhuZVKFQEREAEREAEREIFJQcCHp/wkdBAKbYNHa38Nyr0CknUR4AoFXDkglO8uvD6t623nz4vxJwfKQ89x95/F8dBznQuG8McqXPsS1AHxHuxjL4TkYOrKefEzsOCYCNn8DeIky0RIJgIiIAIiIAIiMIIEOHPgdchtEHHLGRdfgSI1NqAqoNAyuM8ZIpzFEalxDcnwMnp7/XCkBU6C88jebWz2xirax24aJqarUO5WKLS+/w+vY6Bo2qdRWC3k3oeNc9n4IPB5VNP9nWHY/DIo2t+P8UFCtRQBERABERABERCBwRNIx6VfhI5Bbps4Wlv2I9lXOxeSnUzgDrx0IxvIm0tF0VngOgqSsf9vUF+fxa/w3gwoGnYWCnkUCkC8Hx0YF0JxkKyLwFJsQh1NnDi1HIr2xLquu+lPERABERABERCBtxCIx5G7oPDG0QEcK4YiNc6W7y20+HEcZ8M4UrsOJ4bXpbfXD0Za4CQ474EImfXGcTDHNg8T039AuYfDnoUdHrchH43bcpCb3x061PjsVZBs/BC4HFXdBrnf289h3zt+qq+aioAIiIAIiIAIiMCoEsjD3b8K1UFueypaWw6A/xbipCrZWwnk4FAlFMqbE3I+FnIqJxT+a9g57vnsJ90M+aCh2iwU8BOoEWL5nNT1cYj3l/UQoBPnVmg3RE6M/OYSXjMhmQiIgAiIgAiIwAgQ4MBwDeQ2iNztd3GMg7yRGs9lsjA6LziLhAPC/w2xcTwQew9OduvQ3/bPAyl0Ap87A8+2FeISTnug/dAhqAQqg9gY5mfRBPXHc6Dvcd3VoRi/L5yp4oplfQMKjYRgnQsh9xx3O5DvJS4/yXLxirzc5/3TSe8O/wuGFhdAs6GF0GJoAcTPMQ2KppMGxY24JeCO/DvP52On9QyIy9DNhfKhoXx2uNz5PryArfv5cZYYuclEQAREQAREQAREQAT6JsC25g+hZshtR0Vr24Iy74KKIVnfBP4bb4Uz34djoY4e9gXOh56F3IlW7BNxpv8HIfZlhmrsjzCqnf1Etz4/xf50SPZWApk49C3IdfbR2fMlKAsacaMnRSYCIiACIiACk4UA/937CpQR9sBcgoUNWzogIjWe+xTEhhdngbABy4bQQC3SgU0ujSTrclJwYPhU9n6c8KtTnYT3OYPkk5DrJOhry4bbYIwRPjOg+RD3XePneQ6U7B7AlonqLoPYOAw1fj/3Q5z5MlBbggtSQy56MWR/uHbZAaEDhp2B2dAyqBjKgTiric9JR9MbEHN87IIGyxeXjrjx+fgbwqiredByaBFEBwafzw8dh3ZAqyE62A5Ag7EyXMSZapztxN8v9ztDhjIREAEREAEREAEREIGTCbBN9nnoVijaY55sf/0Y4oS3Y5CsfwLvDXubfWUy3BtynMc2Qv8Msc9EJwMdF6XQQagBGqqdiwLY33OdIK9h/w8Q+yOytxLgJM/fQ+dBKyH2Vz8C8XN6GmJfRyYCIiACIiACIjAMBK5FmRwwZgMpVPcNw70iLfKWsLqE1it0fzTrGOmzjKXzPhQh118Mc6XZQP5WhHUJ/bxD99k4/PYg6/mvuI4D3255Fw+ynEgvo8PiCoiOQA7Y08HHQXw6Kf4KPQI9C3FQnw4aNoD/H5QFjQejY2IpxA7xWojPUAtthtiQfxh6HHoZOgjx/d9C50ODNX5/eA/3M2Tni84TmQiIgAiIgAiIgAiIQBcBTu54EGLb020zRWtbgTL/A8qAZJERYIR1+GfRhGN39XM5J/RR0WznFqM89vfcMQDW6X+g0IldeCkLI0CnH7/z7Me5f4/Yx5kGjaixIjIREAEREAERmAwEOHvjU1B4hAMbMZxxMVrGGf6RGOspi5zAWOHKxvEh6BnIbYSz8ZcLzYGSIde2YMdtHLrHuG2GNoQeGMA+Iy5SQs6nw2A4jLyXQbdBN0N8Ps6oegris78Auc6KY4xG7QAAQABJREFUHOyzc/k+6G3Qf0J8xgegVmgsGn83iqArob+HLoD4d5IOCz7jsxCdMJyhFA8VQ3QwvAcijzMgOim3QQM1OoDoAEnvvpCOk/UQ7y8TAREQAREQAREQgclM4FI8/Behy4cBwmGU+R3o5xDbqrLICbD96/Z93KvYnl3tvuhly35TNI33Pw16N8S2PO0liHVgXWR9E2jHW+ybcULaRd2nrcKWfbffQi2QTAREQAREQAREIIoEOOujDHJnDLjbUhybF8X7DLSo9/dSJ7duodtfD7TgSX7+xyLkevcIcOIs/enQrG4VY/tp6BAU+hlz0H8u5J7nbqfgWHjDH4dOaVzC7GWInQDepxyK1KGDUyO2NJzJzsnfIPd5SrD/Vai/v1t874/d17BhPB8ai0Zmi6AfQJxxx2ekU+Z+6EIoHurNOCvvOugoxGt+BQ3G2EHYDblsf4T9vu45mPJ1jQiIgAiIgAiIgAiMJwJsF78Leh1y20fR3HKyzQchtbcAYZC2FteFfyaHcWzOIMsbzGXsWzwJhdbjm3gdOnFsMOVOlmv49+w/IXdiHTly0tY0SCYCIiACIiACIhBlAjegPHcAN7Tx8jKOJ0X5XgMpjo3i0Pr0tX/PQArVuc46pn2xDD3OQeDRsM/ipnQkuHVpwP7cKFekGOVtgNx78LsebcdFKsr8HBT6LBzc/zjEKKdT2cdwAs/fD11yqpNH4X12WBnhcC/EaBCyZFQFZ94tgvoyRmd8E3oTqoJ4HZ05dCYN1M7GBewkuJ/jY9hPGGghOl8EREAEREAEREAExjmBONT/fRAjWN12UTS3jGh9DxQDyYZGoBqXh3427IfTIcS29UjZpbhRG+TWg58vJwTJIiewHKe+AbkMO7D/USiSfh5OG7rpL+PQGaoEERABERCB8UHgGlSTswbC7TkcGM3Q30gHktlIkEVOYKxznYlHcZf+4VPtg5q4E0UrRFnekPLKQvajsZuEQj4MfR7K7y6QYcVfh+6G2FE4lXEGTy3EqI0RawCfqlLd7/M7ROfElyBGlLB+fKbHIToltkN92Sfwxr9AZ0FZ3SfRaTEYx0UFrgtlOQOve/st676NNiIgAiIgAiIgAiIwoQiwPcu21V7oN9AiKJr2PAq7CloG/RniILts8AToMEgJu9yP1y9CgbDjw/WS7WV+Z0In+7yG16yDLHICdFqwn8o+Ho1+hI9B/Ds5IibHxYhg1k1EQAREQATGAIHz+qjD6j6Oj9RhDo5GYnJcREKp55yxzJVRCpyRH9rg4yB46OB0z5MMfq8w7B7H8JqzZaJhHDi/FeLgfHZIgb/D/g9DXp9ql84b8qDzghENY8m4RNenoWshzvCjsfH+E2g3X/RhSTh+C+Re457GqBpqoFaJC0LZsCOmNvxAKep8ERABERABERCB8UaAE1u+AB2C7oTYBoqWsU38KLQCWgU9BcmiQ4DLeIX3xdiWfSI6xUdUSi7OemfImexL10OjOWExpDrjZpdOvCchLn3r2pnYOQ8akf7IiNzEfTJtRUAEREAERGAUCczu5d6c4c51+UfTwht1fdVFM3/6ItP78Ui5joZDaDqq7M7Cd2u/Ezt+90WUtoyCCI1ioOMiWrYUBX0Emgq5s/85wH47FOlMqgKcy0Yv67kFKofGimWgIh+EuFyA+10qxf7vodeh/ow8eouseATHI2UTWn4rXvC3yv0NoKOHHXmZCIiACIiACIiACExEAnl4qP+FDkNfg/g6Wsa2/33QGRAnp7wGyaJLgBHHbv/ALZkz9re7L4Z5y3Y4B9dDJxG9itePQ3RYyQZGYC1OD+9HcgKb20caWGkDPDv0QxzgpTpdBERABERABMYVgd7+Yd2IJ2gb5aeIdBLBaAywjzKaId2+t8+7twJHgytni4U7LtiQj/Z3kQPcoW292t4ADOIYIwr+AVoIhX5/78TrQ1AkxqR4dApcDTVDz0LsnI4F49q7y6H/B5EhjU6D16GHoVM5mPg8D0Efh9xOG5cd+D9osNaCC/lddXnnYD+8AzHYsnWdCIiACIiACIiACIwFAmwjfxZiO9MX5QpxIsivoG9CByDZ4AmwPeq2ScNLYTt6HuS2gd332c8phUL7Ju573NKhQLkTdXhssDYNF34p7OKdeD3SExbJgMqFzoHIhd/xTKgR2gexTi9CtL6enWXw78Np0EXQbIh9KfY52H/imAYdcHVQX2XgrUEb/76w38G+iNvHfjf2PwkNZlIWLovc+vrCRF6CzhQBERABERCB8UtgwxiouvuP/6mqwoaCLHICY5krG6zZIY/ShP2DULQbflyKKrRTwcHvaNgVKGQVFLp2bT1e/wyKxNjY/nuIM3UKIM56+yvExvdYMEYzfAyaElKZcuyvgY6EHOtrtxNvfAd6HSqESqA3IK7LPFhjZy+0I5Ix2IJ0nQiIgAiIgAiIgAiMMQILUZ/PQ7dB0R6nbECZP4a+C7E9JxsaAbbdvwDdBHHwPNzYB+Mge7ixTVwWfrD7NdvOFdA3oJ93HxvKhvefHlYA+1mM+hgJY/+LE70uhd4Pse/EOnHyk9undznRKcHJZfx+/ggKdT6wHPZLLoL+FTof4nNQ7BfwWjqK2OdjP+8P0Leh3VC0n3U9ylwBuX1Y9gMvhJ6EhtWi/YMwrJVV4SIgAiIgAiIQZQL8R320jY2WSMxt5ERyrs7pmQ1yKhajwXUGKsWZNq4dwg4bqWy0R9MSUVjo94uD39G4B6MkpoVVdDVecxZVb8ZGNTsriyE2cC/o3mcDnk6L70EHobFgbBuvgq4Mq8wevH4m7Fh/L/fjTX6u7LRwRtVQuYd/dmQnEwEREAEREAEREIHxTIARrhwEvw5iezGaVonCGO36QyhaUcfRrN94LYt9gFkQ28ytUOjnxvYuJ9eEHsNLpx1cgy0H23szXsdrEnp7c4DHWMZciIP+rvG7wLZ5X/d3z4vGlm30JdA/Q2+HeM8tEAf4X4b2QbRF0N9D10Bk9l/Q+6EboE0QecyHPgvdBlVBf4T+ArE88qQTaRX0KagY+iB0GfQe6E2oA4qWrUdBtVB2SIF8PjkuQoBoVwREQAREQASGQoCNhtAGDMvqa6B1KPcZ6LWhA8v9XTsSDa3+7j/e3ouUazQbdJEw4sykIih04HkXXnOWTLSNs29Cv/Mc/B6qsSPAhnZo/VkmB+j/iTswNrR57xQoF2KjOg/KgvIhdnT+Bj0A/RU6DEV7VhCKHJSx3uxEsO6u8bPZDtF5MRDjd6thIBf0cy4/u9DfADKWiYAIiIAIiIAIiMB4JHAJKv3v0OXDUPkjKPM70M+gsRLNOwyPOWpFckD836AZENv0oca26jch9hVC+yB+vP4MVAn1ZryuBIrGpEI6AdiWDzWW+0LogWHaT0e574I+B5EPB/v5PXwMCu8TsP+zGrq9W9g4DqEHsaXjIQD9D3QV9Dr0LYjldEK0VOhs6B+g6ZBr3P8y9F6IE+OiZTtQUGNYYZeGvR6Wl+FfsmG5iQoVAREQAREQgTFAgP/YnhZWj2gM5IYWyUFpNj7YMPnv0Df62Q9t1PVzWlRnTPR3n4ny3lh1XBQBMAfzQ42N6eHoWEX63Qqty6n2z8cJU6HwgfOVOMbGs2vk734GTdg/Cm2AtkBvQIcgHgtvxOPQqFoe7h7eCK/AMdZ5pJ1cowpCNxcBERABERABERCBKBJg2/Fa6IvQuVEs1y1qF3Y4aH4vxEFf2fAQYHt4Z7fC78AJQBxnDu8nHMex+6CR+FyScJ9zoFBjn4NjAcNpmSj8fdC/QKzDL6EfQPuhvoxOCH5nOX5AIzf2s+jsYL/pauhViI6ItVCoXYcXX4Jmhh7s3qfzwu2H9fL2oA6RIft0rLP7+S7CfiIU7TEVFNljclz0sNCeCIiACIjAxCbwLB4v3HHBGRnRMv6jzYbHx6GN0H9DkVikjQoNmkZCs+ecscp1GqoY7rhgR6ulp+pR2+N3ho1L1xLcnSFsF+PanLDr+X3/X6g15Dg7JmzcUtzne3xGvqazYix+n+nouRIKjbbAS2c95HXcGUWLx73dTgKrMawdhFF8Tt1aBERABERABERgYhHguOPN0Beg8L5YNJ6UEQBfhx6AgtEoUGUMmgAdBoywDm2zsrDVEPsDI2FszzPyIdTa8WI4286pKP966NNQEvQT6G6oDDqVcfLaQagYovHvy1nd2oftT6G1UKgx8n0VNDP0YMj+IexHu6/FvlwFRJbsl9D4OfPvNP8ODpvJcTFsaFWwCIiACIjAGCPwEOrzUYgOBtdOd3eGuOWA8D9CH4bqoH+DIrWxOsAeaf3H6nljles0AAsd+Gcj/gDExmC0jWWGduD43WcDM9SZMZB78topUHLYRa/gNTskoc/Ae/DeoffHyzFtfD46LkKNjfPD0PbQg6Owzw4CO2KuhYdqu8e1FQEREAEREAEREIGxQICz7z8IsV9UDEXbnkeBX4PYBpWNDQKrUI3w5WRZs8f4xwgZx7n53Qs19kfYph8OY59zOcRxhgLoHoiOizIoUuutb8YJX2uh3/dRSD2Ot0GJYe/vxWvWgQ6RaNtBFMj+nuu4YPlyXJCCTAREQAREQASiQGAzytgFnRFS1lXY/2LI68HschCXs3w+ArHh8hloLRSpRTrAPp4GgCN99uE8L1Ku0Z6NcqpnmooTckNOOoT9Wqi3Buv/Z+884LQo7jc+B3ccvfd6IF0F7A0VjT0aYzT+7SXRWKMmGltMJBpjSdTY0o2995IIFhRLVKSoICC993Z0uDv4P89y8zq3vGXf3p7f5/OwM7Ozs7Pf3ePdnd8UJ1tCQY5ucK8v3IdEPAVzJAJ7EZX4DvoCcb7EZqonle/0KYvyugb7SuNHwVTI5ejLkpFoA5zF5c57KxMBERABERABERCBXCPQHBXiCPRfQB1SXDm+L/8H+gP0aYrLVnHJE+B7tL8hnaVOSL7oQCXw+4/T8rrGZ2YrlK5vaXZKOxPaGxoFPQUthIIanQA9w2RmGS9A4RwudGq8DvHvi44DOmqYNhd6BhoJpeO7bD7KpbOEI0ys9baBdG014iJdZFWuCIiACIhArhFYhQr9GeJwS/v7x2GYB0GfQPEaez/vAt0GnQKx/GugR6F4zO1FHe24bDecRqtbLu7LRccFX+S7QGz8tzYdgfU2kuItR/+4L61tkyyf9WYDut++QUKhPJ/+jx06LujwzLa1QAXs/1usC++tTAREQAREQAREQARyhUA7VORK6DKoZYorxffM56HbIa6XJss9AnxXZQN8ma9qSxBng3cmjN8pA3wnYkM73+fTYfyOZ3vCGRCvk9OVfQbFY+3DZObzPhN6O8w+m0QnCfMMhOgsZEe48dByKF3G9g6/I6Vbuk5my3U/gGyatiIgAiIgAiJQqASewIXtBfGF2trvEfghFE9DYBPk57Dn8yH+WM+GzobifVHBIYEXzqphZllgArnouOiE2vt7nnE4b7ocF3yB5kgIa+FejO2+IFv2VPKPDGHdeZ509WIKUq9U5eHHR0NfYVyPg3/f2TQ6vPh/jnVycug3P05kIiACIiACIiACIpBtAt1RgauhC6FkR/f6r4WNzo9Cd0GzIFnuEtgbVWMnqRJfFd9APFPfCfz+83/v8BlK13sz39H5fcfvh8+hkVC8dliYAziyehzk/+7yZ52LBCpTxlEd/ntJh2VazX4ApfUkKlwEREAEREAEcoQAewjcDL0F2ReBQxD+LeR/yUFSHeOLeH/oYmgixGPYu+FxaH/oEygR50IuNrDjUvLecpErR1v4HRfTkJYux8UilM2XdWt8xv0fE3ZfkC0bzLf6Mi5B3N/zxpclb6J8Ebf/L9hK85oX2kiWtq1xXnekyxzE/fXMUtV0WhEQAREQAREQgRwm0DmNdeN30SMQO+FcAaXSacGOI3+EekL89poFyXKbwIGonjuFkK0tHReZMrZx+xvS+e2Srm8tfjt8C90H/QuaCcVjrO/PwxywHGnPhUnPdhI7xPGaXWN7SFpNIy7SileFi4AIiIAI5CCBlajTOdD1EF8U2CB4FXQY9CTEl6t5EK0rtDs0FDoIqoA6QvzBfhH6MzQGcqfjQTQuC9rA7n9JiOskRZg5KNdEnE2J4uTHo99xwRdcNo6nw+hU4AumtWQ/Xtn7hx+SfBb5ok2z8R2x/P+XHwp08Fij44fDorNprXByv+NC/x9k847o3CIgAiIgAiKQ+wT4HcNe4PyOmZ3C6u6Fsm6AToLs+2Cqil+Bgh6o1epUFapyMkKAUxaFc16NzcjZd5yE33/hHBf8hkmH8TvhQ4jtAYl8z3F6rX0g1/htys5nX7uJORION+KiLN11S/V/Mumur8oXAREQAREQgVQQ4EvxddBpEEdK8MV4CHQ3NA3ijzIbfGdAr0BXQ3wZ4zDTp6A9oB9DPDYZpwUOD/zCn8kGdtYr3y0XHRedANV1XMxHnM9euhqhF6Ns13HRD/Fk3/34N8G/A2v8QElmFAfLaQn9C/oI2hOKZryvjSGOXqEjhkO0kz0/ivCMoxi+qg3bDc/HcyRjrN/tEB0gAxIoqCuOcT8E5yCuERcJgNQhIiACIiACIlAkBNjhgZ2s+K70qxRd8zCU8zbEhuiToWTfKVFEyBYg9AuoB3QLxPdjWf4Q4BRRvHduRxvWnp2oFjOQIeM7t/vOzNPynTmd39FsC1iX4DkOxXH+7xg6Qz6FctHIkTxd89ff3ZeSsEZcpASjChEBERABEchDAvzhpVOCL+C9oN2g/SA2iLaB+NLABtqZEHs8sMGWvR+WQv4fbCQlbGwYDWLpfOEKcv58y5NrXPnOxY/HZg5IPlN80U2X8RleCG2F+CHRqlbLsE3UJuBAHs/pi2j8e0mmYZ9Oi5ug/4M+g1jXaHYSdt4LsTG/GvoP9GvoGyhZ49/1e9CRTkH8+KGzic7ORIz3/WroemgWtAGK13riAK5xYW0iAqn8P8iWq60IiIAIiIAIiEBhELgfl8HvGtr5EJ0BbESO19goeQJ0A7R/vAcHyD8Nee6CnoBivQMGKE5ZskRgb5y3HeRvxH4pw/Xh+zG/f1zju3gy3ypuWakMkxWnWPMb2x8e9SfmSLwM9fDf4005UjdVQwREQAREQAREIE0EHkC5fMmKpcvTdP5CLfaxAEzJ/JwMAWBD++O+Ov0T8W5pPv/vUD57rdnn67Akz9cGx78J0WlgyzwG4aCOImT1jPnpEPg9tBKaDh0H8eMikvXBDo5Osefltgqi88I6UhBMyvrj6HWQPce3CB+fYIl0ylxVWxYdnicnWM7tOM7eQ17/EMj/0ZBg0TpMBERABERABESgwAici+ux7zF2e2ec18j3tDOhiWHKsmUmsx2Pcn8M1YNk+U/gRlwCp1v1PxN8t8+ktcDJ/gG59WDnIzrecs34nbAGcuvKjopjc62iTn1ORHg+5Nb5VWd/WoL6TyItWFWoCIiACIiACAQmELTBlw2WsuAEgnLN1EgWNtJ39lV/JuJrfWmpjk5Cge6cq3sleQI6GV6HFjrlnIJwQyceLcgG98bQIIhOCzrk2AOQHxTvQXSIRLIzsMPfYE9HxwDo6EgHxZk+F/kfg+gQoXWCjoKiOVSYzzWy6A39EboXWgD9Ckq011kFjiUz2hzIfjAwLhMBERABERABERABS2APBP5mI872EoTZUBrL+A5zMcQOJU9Cu0GptA9R2LHQntALkL5vAKEArB+uoVmY6xgXJi2dSfyO4Hu3a+WINHcTciTM7wv+vbnG74+P3IQcC7O+fj9Cur9ldzphjjFRdURABERABESg4An4f/wjXXCmGtgjnT/f0nPNcdERAF3HBe/nDGh9msHyg6HSOccwJ5xo8EUc+D60obYA9pjbF4r2LNPhwOmO2KB/KvQAxOPYq+ga6DVoCxTNWkXYSafQsAj74k3ejAP+DH0K8R7xI+xg6CAo2vVht3d9vbD9EfQUdDr0JXQB9DiUiPHaukCc6ov2ObTVC+kfERABERABERABEfiOQGsEX4L8jaHMwfcZdhaJZNx/LTQb+ivUE0ql/QeF8V3qUGhEKgtWWVknwG+c7pB9V7UVYmegpTaSoS0dF/y+co2df9q7CTkSvhL14NRLrvHb6i9uQo6F+S1W6qvTSl9cUREQAREQAREQgQIj8E9cjzvcMlKYjZ+y4ASeR9ZILN10Np5nwn6Kk6yG7Ln5Us0G8XQbHQb8WKyCeG6+XDItWWMPPA4N5gs2y+WQ/0MhNrTb3jjctoHYmL8/dCH0JsQ6TIPuh3aHghpHXNjrsBztluUGdVbFOh9fyA+E6FShk4DODJZ/CMQPH/bc4rl4fWwk4Mf9PhD/RumAWQPNhB6GekPJGHtjTYbsdV6BMM8vEwEREAEREAEREAFLgJ0r3oLs+0K47TLstyM47XFtEbgVct9Rwx2bSBobkZ+BOMpWVrgEvo9LmwL5nxGOOs608RtnCOSvy5NIS8X3T6qupyUK4t+jW0+OPuI7fyJGp1EzKFXfQpHqMBw7/P9XXBwpc6rS+WEmEwEREAEREAERyB6BoC8YNdmrYl6eOZe4sjcNeyPxJdUaX0xX2Egat3wh/gAaCnGYNBva+0P8wEjGJuHgm6C10DBoD+hpiB8GU6FKqAXEHlg8Hz8i6NRYBP0Xegl6B6LjI6i9gow/hI6AeC10YtAJwpf1RhDPtwpK1vihPQ7i9FW/gPaEjobogHkD4r1jvfmB0AUaCDEPnTT8CBkB8fpehpL9ux2MMnjPaOuhzyBet0wEREAEREAEREAELIHhCBxjIxG27ZB+AXQ/1A26pjbud2YgOSnjCNrHoLugmUmVpIPzgcAgVNK+q7r1HeVGMhTmdw/fl/1Gxx6/DfmOnwt2CirBbxfX6Lj40E0IGG6KfH+HDoHOgj6B0nWdnVE2v7tc+9qNpCMsx0U6qKpMERABERABEQhOIGgDO19mZMEJBOWabMNykBqxQZsfiK5NRGS5m5DG8EiUfQXUvPYcJ2P7+9pwMptJOPhK6FToSKgC+hHEKaH4gbCpVuuwZWP/ixBfyPlCvRGK11jepdBlUC+IHyZzoaEQnUL+DwAkJWz86H4Pmg79GOI5utaGG2LLXlvMwzqtheis4TWOrtVmbJM1Orx2h1rVFvQFtvMg/V9QC0QbERABERABERABczwY3BSQwzXIx84kZ0F8z0il8b2MDaj3QOyoIisOArvgMtl5yG9f+hMyFOe3Hb8zXIccv0vY/l0N5YJdhUrwe8k11i2R77OTcNxBUFeI3yXp/LZlhy2/4+IrpKXV5LhIK14VLgIiIAIiIAIxCfBFKoil8yUkyPnzLU8uOS7aA143ByBfKtnov9pJS2eQ56I6QeTCKZcSeTHGYTsZr4EfqU9Ae0EdoTYQn+s1UCW0BJoG0YGRrHGUyu+cQrojvD/Evw9O65RKo4NgDvRH6GFoV4j3kQ4gOi54PbzGxVCqrg9FhWwgQn0gfiCwB9kbUCoYohiZCIiACIiACIhAARBgozHfwfheEsT4HnN+kIxx5FmJvA9A90OZereNo3rKmkYCHVA238XLfeeYiTjf/7NhdABwbY2ezsnZCagzNMtJS1WwNwoaBrWF+D3wIcTvlUhGZq0h/9/sMqQtiHRQhHQ6Z06FekCfQasgfjOkw1qiUI7acv0IvE6OQpeJgAiIgAiIgAgUMIGncW18wYil0wuYQTou7b8BmJL5sek4ua/MIxCfCNl7PB5h9ozJpJ2Fk/HF0taBjfCFYP1wERzBMQLy9wDK9+u7EhewCOI9mwPtCQV1dCKrTAREQAREQAREoIAJsNGSvZ3tu12mt2xk/QXk7zmOJFmREDgB18nOUf5nj51+2FkqG9YCJ70LcutER8rZKa4MHSHP+c7Dc/K7ZCgUyV7Gji2QWz+G6fCI167FAXQe1EBHQelkvh/Knwy59eb3dtpNHz9pR6wTiIAIiIAIiEBUAkFfMPhCIgtOIJe4tke1uzlV/xLheHvUOIcnFPwPjpoB8WWTluredjtKzey/7KnE3j9ky55VW6FCMY7q2BdizyYaR1vMhzgKRCYCIiACIiACIiAC/wCCQVnAwGk0L4R6QfdC6nENCEVqA3Hd9l3VRcDGe/vN4aZnIszR3nQouFaByN5uQpJhjpi4Gjo1TDl8f98nTDqTeBw7IoXrbDWGGeKww5H3NKgN9CeIHePS2V4wAOU3g1x7y42kKyzHRbrIqlwREAEREIFiJ8BpefpAfKmvgNi4yp4ZHB7KFzy+uLBHiH9oLZLCWjpfRMKeMM8TM+244DBpjmJgQ7prXA+hK8R7TWMPG75YZnr49Gqc8xHI2v8hwCHN+WyNUPndIL78f5PPFxKm7gcgjdfG4diLof9AayCZCIiACIiACIiACPwcCM7MMAZ2vOH7Y3/oX1AhdRjB5cgSINATx9hvHPdwjsLIZmebzTj/BqdCbPvmyKBwDgMnW+Ag13r4ZYTc/NYL97fBcz8BsT2AefyOHbIMYvzGPRi6DdoDehH6G7QCSqcNQeHsWOVaRhwX7gkVFgEREAEREAERSB2BM1AUX0hSJb58rYKWQ+xdvghiD+w5EOfrZO8nNt52gmTGvA8IQdgPSxIWHRN8cX0B+i90LzQYskaHBj/ubF0mIHyo3ZnhLR0V7pRVHN6fz9YRlWePqsnQYfl8Ib6688OKzxH/5vncPATp7xoQZCIgAiIgAiIgAuZAMGDDqH23TPf2Q5zrWHEXAR8BNsCz4dr//I1Dmr+B23do2qN0LLwKuXV7DXF2KEyFDUIhbtk2TIcJvwl3952E7/YPQushvt/z23E2ROeOPZbf89E63nFfC+gUiN+T/D+A1zgASrdxpMX7kFvfzxEvS/eJVb4IiIAIiIAIiED6CPDlYhpkX0YysX0sfZeTdyXzIysIc/ZYScauwMF0KNlzrUP4j06B+yP8mbP/zwi3c/ZnOniWU5dvEG6V6Qqk6Hz8+zoImge9DmX7AwlVSJkdjpLGQnym+BFzJMSRFzIREAEREAEREIHiJtABl78Qsu+d6dz+B+fhu5ZMBMIR+D4Sv4b8z+CNSGPHrmwavxOOhty6LUH80hRViqMjJvnKX4v489A+UAnEERYtod4Qv//WQCuh30CNoQMgdjy0zoAqhLmvPcT9fPenmkLsrHUg9ADEzoscXfFXaBcoE8ZvkSmQy/MqxMlZJgIiIAIiIAIikMcEzkfd3R/4dIb5spOpl5d8uCWfBGTPl8BkjA3n7n3lfXiztkC+zJ0O0ZnBPN9CP4T4Mpsta4QTj4RYny3Q1VA+GnsccSQLX94vzscLiFBn9mi6C9oIVUO3QG0hmQiIgAiIgAiIQHETYCPmaMh970x1mO8ez0KDIZkIRCPAUQN0BrjPYA3ih0K50KDNUQ8zffW7D/Gg0zQja0Tj9fEbkqO+6bCg82EM9HPoGGgYdDJ0KzQVWg2xw9hFEEdfWDsEAY5coCOCZWyFODLkQuhYiM4hOgieh/jNuQz6CGI5baBM2R9wIrejHuuxC5TNb9pMXbvOIwIiIAIiIAIFTaAMVzcHcl/o0hX+Z0GTjP/iPgvIfb/4i65zhP9+0klxf22Oztg+ADEPHRp8Wc6FRujdUA++QLNefOHOt49Tfiz8AOJL8wiIvZAKxU7EhfCe8N68A+0J1YNkIiACIiACIiACxU3gXly+/70zVXF2ZvkHxN7hMhGIRYDvpvzG4XPjPoNfI87vn1ywFqjEdZBbvzcQ53dQKozfIyyL33fsMEcHBZ0LSyF+o7Bz1XRoDMS/XTpS6Hz0W0sk3Ai9DXEUx2yIx7KMhRCdL19Br0NXQ32hTFo7nOxdyI4MIU/ee9cBg6hMBERABERABEQgXwlcjIq7L0zpCPOlsXu+AkpTvb8IyH3vJM/v3k/2MmKvmb0gvtAfBc2CmIc95A6AcsUuRUVYLz47j0ONoHyxXVHRCdAC6MR8qXSAevZDnmch9nacC50ONYRkIiACIiACIiACxU3gNFy++86ZyvBTKDtXGpuL+y7nz9X3RFXfhPzPIR0FudSgzQ5qdCbYeq5D+FcQnQ6pNHai4nffBRDLvx66HOJI+x4QvwtjGes0FDoD4rEsg99rJ0P8XuWo7GzY2Tip/Z4lx+UQv2mDXBOyyURABERABERABHKdQDkqyAZW+8KUju2DuQ4hC/UbH5D5HknW7dva82zA9jaIL5a852xcfwVi75QpEBuhmZ4rxjUh/gXxeWSvnp9C+WDs9cORCGuhW6Bc+jhCdRK2pjiSHzprID5LN0NtIJkIiIAIiIAIiEBxE+A75XooHd8QLJOOC5kIxEOAI58nQu4zWYn4QVCqnQIoMmFriyP/APF7zNb1SYTpeJHFJtAKWZ6HqiDyI0e2O3CUiEwEREAEREAERKCACFyJa7EvS6nebkLZ6iW188PCIbVBWA/a+dC4Uo5Hbn5Mspc8p6caDt0KcYQFG6BnQBdCbJjONatAhT6AOFKEjp4joVw39uTiM/93iE6MQrAyXMSPoGkQn6OHoV5QCSQTAREQAREQAREoXgLsaGI7yQR5r00kD989+N4hE4GgBH6JjOx57z5v7LCVi9+ke6Ne45y6LkH4J1A9SBadwCnY7f7/w+/afaFcck5FvwLtFQEREAEREAERCESA0/Bwvkv35S5V4bsD1aD4Mk0KyJu92JKxBjj4cOg5iKMA2NuIWg29CNEZkItOC1TLe2HfE1s6ebZC70HJOnJQRFrtQJR+GVQoTgs6Jw6BxkB0IL0KDYb0MQUIMhEQAREQAREoYgJ8R2BjcKq+GaKV89ci5qxL/45AYwR7QgOgTlC4TjTM8xBEh5d9pjYjfDaUi1Ocsr78duB3mq3v8wj3h2SRCXD6qyegLRC5bYQ4fVULSCYCIiACIiACIlCABK7FNdmXpVRt2dO/UBpwU33LpwTknYqX1lKci9P68EX/AIiODL7wM4296XPZWPeh0DcQPzrobOkC5aqRZ6NcrVwC9doNx4yE6LTglr3C1IsJEGQiIAIiIAIiUOQEbsD1p+qbIVY5fAdkQ6WsOAnQQcHOVrdDT0OvQf+EzoD8ayvwXfV9yH2m2PmpH5Sr1hsVewqyU0bRiXEV1ASS7UyA34cXQ/Mge59fQngXKJwzC8kyERABERABERCBfCfAXvcrIfvjn4ot5+yUhScwDclBGPcJf3jCqewpz4bnfHqp48spRzKMg/jh+gjUGpKllwBf/tnji/PGvgVppAUgyERABERABERABLxGZHZqCPIum6o8d4l70RI4EVc+IczzxlHZx/ioXIj4Yicv12c7D+LIhly2g1G5TyH79/I5wgflcoWzWLf9cO7RkGXFDm50bHGmAZkIiIAIiIAIiEABE7gJ12ZfAJLdcjoiNS5HflhmBmTdK3IRRbWHjhb2lGJvmi8hjsKQpZfAYSh+BfQwlMujXNJLQaWLgAiIgAiIgAi4BLojshxK9lsh3uPZC72VWxGFi4IAG6MnQ+GeFzooODLBWgcE/gG5TrV/I14B5brRsXIu9C3Ea+Xoi3ypO6qaMePIq/ugDRA58Rm4COJ6OzIREAEREAEREIECJ8A5IdkrJdyLYbxpNxc4q2Qvb05Azj2SPVEBHs8RGLL0E+DonLL0n0ZnEAEREAEREAERyBMC5ajnF1C83wWpys9OVrLiIsARwJGeHzo02NPe2o8QmA7Z/B8hzJEM+fLtwGl8fw0tgXgNq6DfQG0h2Q7nBB1VCyHyWQfdDGlqakCQiYAIiIAIiECxELgVF2pf9hLdcsop9XqI/sTMD8i5a/RitFcERKAICHAaBH6oWZ1cBNesS9wx/YW959zqvuupEAERyDaBf6ICiX4fpOI4jvTI9Sl/sn2PCu38/BYK9+wsQvp1EKc7pvWDnoOqIeb/EuLvZr6tE8FRzpwWzU7hzEZ6ruVRSGvo4XLitoY44kxoOsT7y8W474U4Aowj87NmWT151q5aJxYBERABERCB7BFog1PPgexLYCI14WJ9dyRyYBEdw5ftTgGutzPyLA6QT1lEQAQKl8ATuLSznMsbhfD3nLiChUlA970w76uuSgTymQBHY3LqHoqjMqlw4XBpbt5k9t+Pc74PyYqDQH1c5rvQMIgN1kuhxyGm0TlBZ1Z/6JfQ/0HsPMd18dj4/xa0Dso364oKXw2dC3F6tJnQpRCf+yqo2IwjZo6AboP2gLjmIafRugeaA22DZCIgAiIgAiIgAkVEgC96fDFMRHyZzLeeLdm4teQUhG/7bFRO5xQBEcgpAmzAdv+/eC+naqfKpIuA7nu6yKpcERABERCBfCIwGJX9AOK7EHvaj4HY256d5R6APobWQGzQfg06Esr371GOvGBHwGUQr5sjDX4IlUPFZLzeY6D/QXTa8D7/GeoF0ZEqEwEREAEREAERKEICXNiML4VuQ1nQ8C+KkFcil8xFj4Mw5QgYmQiIQHETUAN2cd5/3ffivO+6ahEQAREQgboE2EDdB+KogxEQR6NzsXZOp8QRFWzcfx06H6qAOKKnEIxrW/wKWgjxu5Hbn0CFcn24lKjG6bFOhiZCdFosgYZDnLVATgtAkImACIiACIhAMRO4DxcfpGHdzcOXqYbFDC2Oa18dkG/LOMpUVhEQgcIkoAbswryvsa5K9z0WIe0XAREQAREoFgJcSqAx1BHaBdoTOgTapzbOjnds6C404/TNp0CzIH53c8QBnRmcPqmQjSNmzoXmQjXQZOg8SOtoAoJMBERABERABETAGA5P3QK5jolYYfaCkQUjwF5CsXhyf7NgxSmXCIhAARNQA3YB39wol6b7HgWOdomACIiACBQ1AToy6kPF0PO+DNdZAb0CVUN2jYdCdV6w4x6nAaOThtf6BrQvVCwjTXCpMhEQAREQAREQgSAE/oZMQRrXmYe9IfQyEYTqjjwbsAnClj2LZCIgAsVNQA3YxXn//SMftbZJcT4HumoREAEREAERIAE6argA+TSIC1IX6noXFbg2rlvyLfRTiKNO6KiSiYAIiIAIiIAIiEAdAhWIcT7JIA3sF9Q5UpFYBNh7JAjXQn0hjcVH+0VABL4jIMfFdyyKKcSpF/d3NKCYLl7XKgIiIAIiIAIiIAIiIAIiIAIiIAIiIALRCDyCnbEa2GcgT6EOVY3GJpl9QR1C4poMZR0rAoVBQI6LwriPugoREAEREAEREAEREIECIlAMc5UV0O3SpYiACIiACBQggT/gmrggVjT7HXZyvk1ZcAIbkZXiOiJkR+dQOBPXcFSUJgIiIAIiIAIiIAIiIAIiIAIiIAJZJCDHRRbh69QiIAIiIAIiAALToeejkJiCfU9F2a9d4Qm0QHITiFOBcME1vvNw7k6GmcZ9zSGZCIiACIiACIiACIiACIiACIiACIhAjhHQ9Ag5dkNUHREQAREQgaIkcBuu+jQo3KJYw5HOxcFkqSHAERYaZZEalipFBEQgPIFuSO4OdYY6Qfy/fRG0AJoHLYTSYTxPB6gC6gF1gTjqbAm0uHbL8+fb/4G8LjLtBe0CtYa2QnOg8dB8KFcsm3Ulo54Qn7mOEN8dZkBcZHQOFGt0J7LIREAEREAEREAERCB3CMhxkTv3QjURAREQAREoXgLf4NJfgX7kQ/A14i/40hQVAREQARHIPQJsLD4DOhsaHKN6bGx/GHoaWhMjb6zd9ZHhVOiX0O5QORTNlmEn11b6BzQrWsYw+05A2uFO+p8RnuvEbZBOkwsgLnZNZwMb0zkKbm+I126N9T7ARrD9HHrWiXNk3PnQlVBvJ90fXImECRB/L3ltXOMoiJ2JTKyTNY6A/IuN+LbZrquvOqFoV4TOgU6B9gil7hxYj6S/QndDS53djRH+NcSttRsQ2Gwj2oqACIiACIiACIiACIiACIiACIiACBQ3ATY4bPfpxOJGoqsXAREQgYwQSGZx7nqo4dXQJsj/f3is+FocQ0dHIsZp734KsbE91nnC7Wdv/BEQG76D2hvI6JZFp4JruyHyJFQFuflseC83M8If+vL929nPUYirffttOdG2M3HMUKecaMF47nu26+q/jgZIuB7aAEXj4d+3Efl/C1k7CQF/nhZ2p7YiIAIiIAIiIAIiIAIiIAIiIAIiIAIiQAJuo9AXQiICIiACIpARAvE0YLsV6ojIR5C/4TfeOBv73R7v7jnChekseROK9zzh8s9HOf3CnSRMmvsbxbJcxwUbwDdD4c5h04I6LtiwTseKPS7eLZ1IQRz/8dz3SI6LTNUVlxQyju7hiMx4ubj5H8XxpZAcF4AgEwEREAEREAERyE0CfFmRiYAIiIAIiIAI5AaB36Max9dW5Te5USXVQgREQAREIAyBlkgbAQ0Os49Jn0LvQVzbgg3GXaAjoP0hv52JhKbQjyA22MeyW5Dh+2Ey8djRENc0mAVxCiX2nm8P7Ql9D6LTwzWOuOD0TPtCHCmRiJ2Dg/4N1U/kYN8xNyM+3JdWgzgdB7w2rtfRCiL3IVBfyH9NDZHGqbDegTjCIF2Wjbp2x8Xwueod5qK2Ie1daCxk11Hhc7cPxGevBLJ2LgKciusZm6CtCIiACIiACIiACIiACIiACIiACIiACEQj8DZ2fhItg/aJgAiIgAiklEA8Pe95Yk7T9BFEh4Rf/P+7DxTJOLrhM8h/HONcMyKWcS0D/7Fs2H8K4poS0YyN3r+H2MDtL+OaaAfW7gs34oI99sOVx/KXQ6Og+6DLobaQa3RGuPWgY8I/auM/SOvoHuQLd0Y8Es9f+vL6o/Hc92zXlXVvBE2BXGY2/DjSe0CRrBd2PAfZ/Hb7fJg0OrtkIiACIiACIiACIiACIiACIiACIiACIlCHwCGIHVYnRREREAEREIF0EoinAZv1uBqyDb/u9u9I59oDsawcGR6G3GNt+PAoB9NhUhnmuDOiHBNuV7j6TwyX0Zfmd1xchP0zIVt3u2WvfzpoYpnfGWCP53YrRGeKO0ogUnnk+SjkHs8wR2ewsT+SxXPfs11XXsM9kP8aGb+dOwNYPeT5FxSuDDdNjosAMJVFBERABERABERABERABERABERABERABERABERABNJJIJ4GbK4vsBZyG3oZviSBCl4RphyubxSpsf7AMPnvT+C8POTxMGXFcjb4HRdf+8rg1FTnQUEtkjOAIzgOD1qIk+9LhP335QJnvz8Yz33Pdl33QuU5ssa9PnL6hf+iYsT5bD0EueX4w3JcxICo3SIgAiIgAiIgAiIgAiIgAiIgAiIgAiIgAiIgAiKQbgLxNGCH6/X+QhIV9DsD2Ih8coTyrke628hMRwFHYSRip+IgtyyG7RpLkcoLV1dbxgQc1C7SgRHSIzkDHouQP1YynRS2Pnb7pygHxXPfs13XJ8Nc201Rri3WLk4tZhn5t3JcxKKn/SIgAiIgAiIgAiIgAiIgAiIgAiIgAiIgAiIgAiKQZgJBG7BLUQ9OP+Q29HJNhp5J1G8AjuWi2G6ZL0co77++fG9HyBckuZevLJ7/pzEOjOS44LROg2IcG253OGfAemTsHC5zgDROC7UKclk+G+W4oPedRWSzrlzjYwvkXhdH/TSHErWBONAtzw3LcZEoVR0nAiIgAiIgAiKQUgL1UlqaChMBERABERABERABERABERCBwiRwNC6rg+/SuPD0bF9aPFEutsx1B1w7BpHGbgLC/G47yJc21hePJzonTOZ4R0zYIn6PAKeNSoXdjUIWJVjQJhz3qe/YLr54KqOZquspqLR/7RQ+M3ReJGqTceD7iR6s40RABERABERABEQgEwTYa0gmAiIgAiIgAiIgAiIgAiIgAiIQncBRvt1cY+BOX1oi0Xtx0MXOgRw5cAT0upPGc10B9XXSXnTC8QZ7hDkgkU5tXFci6OLQYU65U9LInVLiS1jsy97VF09lNFN1PdhXaa51cb8vLZHogzjosEQO1DEiIAIiIAIiIAIikAkCclxkgrLOIQIiIAIiIAIiIAIiIAIikO8E9vFdAEcZcGqiZG06CuAUSU2dgoYg7DouuCvRtR+cYkPBC0Kh5AL34HBOdZUqm5RkQX7HBadZSpdlqq5DfRfwDuJzfGmJRF/DQcug9okcrGNEAARKAlIImi9ccZGO5fRmrkXKxzz+vO5xscJBjw2aL9b5tF8EREAERMAhIMeFA0NBERABERABERABERABERABEQhDoD7S6ExwjesepMLY4DUROsApjGtfpMM4ddIl0A0pKJyjQEakoBxbxFwE1tpIgtulvuN439Jhmaor15vwr/nxbYouiCM3OFWZHBcpApriYtgQbxvjbdhueSp/2E1zj7Ppdhttn83DLS1cXrYhURyhxS3/xuzWhrmP4XBbprFcu9/G7Zb73HC4OiCLZ3YfI67jwIbdLcNW/L/LDTPOvwebzq0V0+0+d1tdm+7fMg/T3HMjulM8XJp7jBu2eSOluen+MONuGsuSiYAIiEDeEOAPjEwEREAEREAEREAEREAEREAERCAyATbucgon17gw98FuQhJh/4LI/RMsi9933aCKWvWo3fbEtg/UCUqVzUZBy1NVGMrhCJZkjQuFZ8IyVde2YS5mbpi0RJPmJXqgjgsRYOM5G9ojye73b21+N51hio365VDDWjHM/38YZ9gvroHCfdw2qFevXoOSkpLQlmGkl3ELuVuGy7CvtDbd227fvp3p/L+EceuUYJqhaEG3/rwoe6dj3TwM+82ey58eNM5zhjM33Q0zr437t9H2Ma8vPx0YVUjznBnYVuFaqrmFQlvk2Vob55b7KC/MfTU1NQxvYXjbtm38P45i3EtzwjaNv01c84dxhq14HGG4Dhobj5VmHTluPpsWHjBOJBMBERCBZAnIcZEsQR0vAiIgAiIgAiIgAiIgAiJQ6ARahbnAa5FGpcNaBix0N+QbCnEaK2ogxEbPTNiSFJ9kRYrLS2dxmaprmzAXMTdMWqJJclx85yiwDfT+Lf+eookOgyYQp3rjlmpcK4bpcGhUv379xhC3XhjOhYZQY27RmN2odss0xsvZWI9wSG7chu2W+Ri28dLSUtOgQQNPZWVloS3T7T6mW9l0xm3YblFfL83d2jDPy3zcMs3KrTfT3DjDtp52a9PsNYTbgqFn3GfNDaNh3yaHnAdMYHo0wRFgKJvHxt0tHAdeHpvGuBXTqqurvf3cMt1uES5FuNSmMd2qqqqqTnjr1q3GpnFrxXS7z+7nOVnfcFs3jWGr2vzbsN2CtM3YbsJ2S+12M8Ibmc4t6rsJ9eT+jUDoakNtnFtOb8gtRYcInRh00Liyo1FsmhtnmOJxMhEQARGISECOi4hotEMEREAEREAEREAEREAEREAEPALhHBfpRMMe1ZGM33A/gy6HBkTKFCN9AfZ3jZEn1u5MNd7Hqkch72fDt99471JlC1NVUI6Vw78Rb/QBthxR4I04qA0zbsV8dDw0gzjqqXmtGG+GBvVmaJhvigZ9T4g3ZRzbJtg2QcN5Y2xLbYN9pC2ymIYNG4bUqFEjL2y3dl95eXkoD8NWdEL4w9YxYffR6cAwt3QEyAqTAJwJniPDOjT82y1btnj7uQ2jeps3b25Uq1bcj7CnTZs27bTlfjpdogkOju2o0xbk2YDtBsTXU4h7W9SP4XW4G1acDtCqEmE6RrhOUjjRIcJ0bm34Ow8VEmUiIAKFT4A/1DIREAEREIEMEfgGH07LjdkLp9sD/YX6oItJN2zbI94a8npqId4Ab2T8oOL/0e4wckRlIiACIiACIpASAvz4t9M8VOO3pwoJbBiwPSlXIb4MP0LzsZ2O9AntjBm36448KalAnhXC3+VMGhtaw9nBSPwn1C/czghpi5H+ba0mY/s/aAI0H+oEJWrqKZsoueDHLQ2TlQ3tqTKODMg3s84GO3USeTBMZx/D3NIJwXdrik7HVnAqtISDoCUa9luigb8FhbTmiDdmY38kNWnSxDRt2tQTwzbeuHFjL8ytFR0Rbphx65xAHWQikDQBOqWsoyvpwmIUQCcJHRpWGzdu9MLcOirZsGFDQwppbdavX28QNtzaMI+3I0j8Wzg5kFS1DqpEeA2cJZXQGjg81qB6q2u1ClsrO+2Vf8upsSg6OmQiIAIFRECOiwK6mboUERCB3CUwypij0fjzE3RNPB619D4S2WKEhqKdjOkyERABERABEUgzAf4E2elPyvDbw4Y/WmhOfWZwf5PwG7bxA2PeRGv1vw83ZiQzF5Gxh6jf3kUCHQDpsDFhCj0GaS9D9l75s/B2TYV47OfQ2No4e7rK8pPAnDDV7oW0D8OkJ5K0SyIHZegY64DwRj/gnE1rxWnU2OmnA7dwPrSFM6EdHAZt4Yxog5EJrdGwW4+NuxylYLd0ODRv3ty0aNHC2zJs1axZM+PKOip4rEwEipUAnSTWWZcMAzpArCNj3bp1xmrt2rUMl2HbmqqsrDRM45Z5OBrEHRXCOBwaldiuhDNkBRwlyxFHn0BvraWl2FJ0cHAaK4q/ffztpujocF9pEJWJgAjkAwE5LvLhLqmOIiACeUtgtDFn4A3pt7iAfrwIvS3l7a1UxUVABESg6AngN4yO91PhiD/1A/Tgh2PjlkONebpIwLD3p9/+joQX/YlpivdAua9CbMz12zwk8F3jFSicg8WfX/H8IcBpVJZBbKi31tMGUrDNFccF/aTNIY4AokOCDtSOUHeoG0YtdG7ZsmVnNKJ2guBX2DECgls6HNq0aWNat24dUqtWrQzyh0QHBZ0YMhEQgcwToAPEOgmDnp3ODjox1qxZ42n16tXedtWqVS2olStX9sLWS7MjPOjsgINkE+JLcOwihBfifAugudBiiE4O/n/KMH/T9WkOCDIRyHUCclzk+h1S/URABPKSwPvG9EfDzqN4G9ovLy9AlRYBERABERCB6AT64TfuqdHGXIERGOcdtqOnf/Qj8nsvp6zwWyYbfW/Eyf0tr2x4+QP0AMTepPFapqe/ird+yr+DwBxsXMdFrxSC6Z3CshIpCq/LBjPQmd2ggRRGRPTt0KFDDzgjmtEhQbVr18507NjRIN20b9/ei7dt29bbx6mZZCIgAoVFgM4O63yMdmUYcWHgxDArVqwwy5cvN8uWLWu0dOnSnosXL+6JcGgfnBwbkT4HDhBOfTkZwgzOZiI0CcJrjEwERCBXCchxkat3RvUSARHIWwJwWpyHr7CH0KCjL6m8vYuquAiIgAiIQBACdNDjN28cfvsug/Pi0SDH5GkeOi6WQOwFbi2VDci2zHBbvk+c59vBKTD2hGb70oNG+R3YJmhm5csqgTk4+75ODQ5FmE6nZOdy74MyKqBsWQlOfA6mejqlS5cu+/fr169Nr169TEVFhadu3boZpHsOC03ZlK1bpPOKQG4T4IL0nTp18uSvKZ0acFaYhQsXmvnz5zeeM2fOwNmzZw+cOXPmid9+++3quXPnfoZjXqgVp5aSiYAI5CABOS5y8KaoSiIgAvlLAA03w/EVdvP2/L0E1VwEREAEREAE4iKA37zG+O17BL+BFYfhdzCug/Mr83hU9zinyocgjEtPyXQT96OcA52ypyF8Rm28B7b+xbp/i7TZtfsT2XTHQay7LPcJzPFVsRvifDYe86XHG70eB3DEQ7asa0lJyZ8wiqLN9ddfb4YOHWrouOCc+jIREAERSJYAnRp0gFL777+/VxynlYLzwkycOLHVSy+9dOyrr766d01NTQvs/HOy59PxIiAC6SGQzReV9FyRShUBERCBLBFAg43ntMjS6XVaERABERABEcgqAbSC3zwaymol0ntyLnbtWn9EfuAmJBjmNEAXQ3s5WuaUVeGEbRCvHUnZCUkdrYMzSeC9MCe7DmnJOJ7o/Dg7TLmZTOq2ffv2NuwVPWXKFDYkmlmzZhk2LMpEQAREIB0EOAUVhZFepqqqyuD/oHY4T5d0nEtlioAIpIaARlykhqNKEQERKHICaD04jw02RY5Bly8CIiACIlDkBLbDiY/fxMolJ2oAAEAASURBVLmHFea0UVz8miMdXGMD8mtuQgLhc3CMf72JJ5xyuFix35Jp3eU34Pn+AhXPWQLvomYLIbdxbQDiP4T4TCZi1+Ig/zOXSDnJHFNSWlpqTj75ZM9xMXr0aMNFtbt37+5NFcXRFz169PB6S3fu3NloLYtkUOtYESg+Ahs3bjRY68IsWLDAYFoozzGK6aK8MNfFwIgvCyWcc9ju01YERCDLBOS4yPIN0OlFQATynwAaaLgQN9e0kImACIiACIhA0RPgbyJ+Gz+D82JqgcH4EtfDxTx3d67rAIQPhj5y0uIJcl4cjrZwbQoi45yESidsg3sgMMNG4tzegfyD4zxG2bNHYBtO/Sj0a18VHkJ8LsQpzOIxOsouiueANOUtYc/n008/3TRr1sxMnz7dTJ482XNijBo1yrz22mtewyKdGVyklwt027nsuVC3u0g388hEQASKj8CaNWvchbnNkiVLPC1atMhbrBuLcRvm2bZtm/f/DP/v4LR0u+66q9m0aZO56KKLuE/rWxTfo6MrziMCclzk0c1SVUVABHKTAPpqPAKnhRbizs3bo1qJgAiIgAhkmAB/E/nbiNOyUb/Q7F+4oPt8F/VPxI+C5vnSg0R57C6+jO5oC+5a4tvP6LEQFxWN107CAVdHOAi3TZajBO5Evc6D3FEXnRD/EPo/6D9QEKPz4/dBMmYiD3s8c02LPffc0wwZMsRUVlZ6jZDsDc0GRzZCsqc0Ftb1ek5PnTrVrF271mzZssWUl5d7x3IkBsto3bq1adu2rWnTpo0nxunQsI4POj+aN2/uTROTiWvTOURABBIjQCfDunXrvP8D6HSg+P/BqlWrPK1YscL7f4Lx9evXG46soPj/Ate1oCO0RYsWnnNz991390Zu0WHB/wv4/wKdoAyPGzdO/x8kdot0lAhklIAcFxnFrZOJgAgUGoEPjDkd17Rjta9CuzhdjwiIgAiIgAgkTmD/D/AbOcyYZxIvIieP/BtqdSnUz6kdw/+DjoEmOemxglchA98jXFuHyONuAsIscwtU7qSfj/B/oRedtFjBQ5GBDqVINijSDqVnnQCfi59DL/tqwhE7r0G/hDgCowYKZ42QeC90kW/nCMT53GbdOPrCOhr69OnDuecN17/gmhdsnOTWNlDSebF8+XLPsbFs2TIvTGcHp4Fhgyfz8lg2YtLBQTHcsGFD07RpU28EBxs2rdjQSacGxbArOkUaNSI+mQiIQLwENm/e7P398m+Yf5v82+XWhhmnw5Jb66RgXh7Hv2E6I7hlnH/D/Pul7N9sRUWF56CgY4IOCf4NW2cm/3Yp5uexztRQ8V6G8ouACGSRgBwXWYSvU4uACBQEgd8WxFXoIkRABERABEQg9QT4G/lM6ovNaolbcfbLoXd8tWBPeE4XxUWvP/bt80c7I4HTNZ3l34E4HRJcz8A1NlqPhPwLgdMJUQWx4Tqa9cVO9tjnmgjWeB10tgyzCdgeB+0BTYDqQ5EawbFLlgUCXM/iFsj/7sl7dR90PfQk9AW0COIIGj6XdFidAbWAXOPzyhFEOeG4cCvGMBsZrdOBvaRdY49sNmhSbNC0Ybehk04O20PbbtkwygZTOj04koN56OTglDE1NTWGa25QZWVlobCN2wZTbm1jKLe2kdTd0tHBOMWwjdNxwvLUgOreTYVziQAdhvxb4N+EFf9OGLaOQ7u1zkRureh0sI5Gbvk3WV1dXUdcFJtpdFbavxP798O/Ka5tQ6ci/+5dcR8dEJT9v8Fu+bfFMMuUiYAIFBYBOS4K637qakRABDJI4ANjjsTp+mfwlDqVCIiACIiACOQTgf4f4Ldy2M6N/Pl0DeHq+i4S2XjMRmTXWiLyAcSREP+AxkDLITYsV0B9oAOgX0BNIb/9CQkv+RNr47/CdhjUvDbODct4FRoN3QV9BdHpwVbeARDfUXi+c6AyyLUrEWFZw5xEljceWgtxzm82estyi8DNqM42aHiYanVCGp+TIEan1YnQYWEybw+TllNJbJy0DoFIFWMDLBtIbSMpG0rdsL8xlQ2zbu9v9gK3vcLZAGsbaxcuXOiFbaMut3Se0JlSv359r+GUWzfM+lrRKWLrzsZaNrgyzq0bZiOsTbONs+7Wbbx1G3NZvo3bcCRGSs8PAnxu6QCg3LAdjRBu6zr0bJhbis8sj7HPLrfWOcH9PA+fZys6Mhh2twzzmbbPrH2m7ZYjHzgKwo5esiOauKVTwo6MsM7CcFvrQLRbnk8mAiJQfATkuCi+e64rFgERSB2Bn6SuKJUkAiIgAiIgAgVJgL+V7xTgld2Ka+I0Pdf5ro1OCo66oGgc2cA0KprR+XBDlAzTsO9siI6KEl8+9qinaNVQrG+8PyAPp7waAnEkht/o0NjgT1Q8Zwj8DjX5DHoQ6p1ArV7DMadDm6C6Qxl2OK02JlBmzh3CUQ22AT9I5WxPc38DrRu3Dbl2y8Zbexwbgm1vc+vosL3Qbc902zjsNhpzFMjSpUtDI0dsIzPzUGyo5rVYsfHWht1tuHSbxoZf68SwI0gsG7vPptutbSymAyZco7J1zoTb8rx+xw3jrC/3WTFu0yNdC+8d90Xbch/vQ7itTeN+K94/N2zj9r7auG2oZ9yGubVhOr+4j1um2bh1kNk0xt0w41Y8hmHrlHDDTON+t642zC3PTbP1tfv8cd5L1+lFZ4ON2zBHNlhHmXU+uCOKGLayUzWxDHsv3XseKc3/TDCfTAREQARiEYj1UhvreO0XAREQgaIkMBY9F9EV0TZKFCUDXbQIiIAIiIAIBCBwAn8z994xpVGA7HmVhVPzTITuhdpFqHmDCOk2maMb6EjgVD90OkSz17HzJugWKJIjJNr33RYcdyH0BET7EnoLOpYRWV4RGIna7gZdDJ0K7Q/FagV8H3luh1xHYnfEXWNLaKzn0M1fMGE2jrOBPlGzjcb+rW1EZrm2sdnNY9PdNDfM4+nAsD3luXWdG+HCbPCmXOeH2zBuG825ZcM4y7BptiGdW8o2uPvjrJfdzzyMW7OOBsbdcND9kY6zxye6Jddw5k+PFrf7uGVDvF98hpjmOnts3DqD7JZ5GKY4+obOJBu3W+tgso4Gbplm49bxYLdMt44Hm0YHAe9DJJGJ3WfzhkuzedxtOJ5KEwEREIFUEkj8lzmVtVBZIiACIpBnBNDKsCe+DtnTUiYCIiACIiACIhCZQBP+ZmL355GzZH3PUl8N/HHf7jrRpxBj4/9vodOgDlAQY+Pw3yH2nud0UkGNTo7noRshjsAI8j3HHvTPQn+G6Ghx7QeIsA4nQ7tAdIhwmqhvoVgWD6dYZXF/qsuLVab/fP54tDrHkzdaOe6+eMukI4oOL6ojNAzqBLWHOGKmNbQCmgXxvn8D+a27L2GuL65oQAK2MTdg9riz2QZze6Abd8Pc748HOcbmsVu3DIZ5fTQ33R+nA8OVdW5wa50bdss0K5bJMLd+2XT3XP46cJ81W093y7BtkGfYFdNd0cngxulcYNw6KBi2zgme057Hnt+m2Tq6+92wm9+G3f1u2O63ZUeK+4/xx93jFBYBERCBfCGw49cnX2qreoqACIhAjhD4wJhLUJW/5Eh1VA0REAEREAERyGUClw4z5q+5XMEU1Y093g+Gjoa4PgQbk+nIYFfk2dBMaEbtlo3IS6BkrAIHHwVxa8VpnpZBXOtiAcRzvgitgWQi4CcwCgmHOYmvI8y1LzJhQ9E7/KOPP/7Y7L03xmTJREAERCCDBMaOHWuGDh3KkUn83f44g6fWqURABOIgEKSHThzFKasIiIAIFAcBeH37hh9sXBzXr6sUAREQAREQgTgI9Ikjbz5npYNidK0ycR1zcBIuAi4TgUQJ9PAdONcXV1QEREAEREAEREAEskZAjousodeJRUAE8pkAWia6wXkhEwEREAEREAERiE2gW+wsyiECIhCBAKfvugPq7uznNGMcLZGM7YuDe/kKkOPCB0RRERABERABERCB7BGQ4yJ77HVmERCBPCYApwXnD5aJgAiIgAiIgAjEJhB03YfYJSmHCBQfgTJc8lWQ++3eEvFkHRe/DoOSU4vJREAEREAEREAERCAnCHAeVpkIiIAIiED8BLjgoUwEREAEREAERCA2gVaxsyiHCIhABAKbke5fLP1IpPlHS0Q4PGzy7kg9wbdnHeLv+NIUFQEREAEREAEREIGsEZDjImvodWIREIE8J9Akz+uv6ouACIiACIhApgg0zdSJdB4RKFACb/uuizOW3gc19KUHiTZCprsg/6ynzyNtQ5AClEcEREAEREAEREAEMkFAjotMUNY5REAECpGAGmEK8a7qmkRABERABNJBQM7+dFBVmcVE4B5cbJXvgo9HfCTEaaOC2q7I+AV0jO+ArYjf60tTVAREQAREQAREQASySkCOi6zi18lFQATylQC6qDXI17qr3iIgAiIgAiKQSQL4zSzP5Pl0LhEoQAILcE3XhLmuQ5D2FXQT1C3MfpvUGYHLITot6Lzw221I+MafqLgIiIAIiIAIiIAIZJOAu8BXNuuhc4uACIhAXhHYbgwXSpSJgAiIgAiIgAjEIKDfzBiAtFsEghG4H9nw52S4da07IrdCv4PGQ/OgRVBjaECtoo3KGIE8t0MyERABERABERABEcgpAnJc5NTtUGVEQATyiID+/8yjm6WqioAIiIAIZJWAfjOzil8nLyACD+BatkHc+teo4GwKe9cKm0D2FHKdD/mnoQp0sDKJgAiIgAiIgAiIQDoJaKqodNJV2SIgAoVMQP9/FvLd1bWJgAiIgAikkoB+M1NJU2UVO4GHAOAA6EmIa1MkYtNw0P9BZ0PZclpw9IhMBERABLJNQP8XZfsO6PwiEIWAej9FgaNdIiACIhCFgBphosDRLhEQAREQARFwCOg304GhoAikgMDnKIO6GroQ+iFUAbWFItlM7HgPeht6FaqBZCKQswRWr15tlixZYpYuXWoqKyvNpk2bPFVVVZnt27eHVFKyY/BRvXr1DNWgQQPTpEmTkFq1amU6duxo2raN9ueRsxhUMREQAREoagJyXBT17dfFi4AIJEHAPzw/iaJ0qAiIgAiIgAgUNAH9Zhb07dXFZZHAMpybC2tTNK5r0a1W/NZfVasV2K6Bcsn0/0Iu3Y0cqcvcuXPNV199ZSZPnmzmzZtnFi5caBYtWmTWrFljNm7c6Gnr1q2e02LbNs6atsPosKADg9uGDRuapk2bhtSmTRvTuXNn07NnTzNw4EAzePBgU1FRYQ/VVgT0f5GeARHIYQJyXOTwzVHVREAEREAEREAEREAEREAEREAERCAggY3I922tAh6ibCKQfQLjx4837777rhkzZozntJgxY4bhyIpEbP369WbFCvrq6lppaanp3bu32W233cyBBx5ojjzySC9cN5diIiACIiACuURAjotcuhuqiwiIgAiIgAiIgAiIgAiIQLYJdEcFboCuhdZluzI6vwiIgAgUKgGOrHj55ZfNe++9Z8aOHWvodHCNoyc2b97sJpn69et7oynKy8u9fRs2bDA1NbFnPquurjZTp071NGrUKPPOO++YE0880Zx88smaRqoOYUVEQAREIHcIyHGRO/dCNREBERABERABERABERABEcgegQqc+kboPKgMug6SiYAIiIAIpJgAp3166aWXzNNPP20+++wzbyqoDh06mGHDhpl+/fqZ7t27e86EtWvXmjvvvNPMmTMnVIP27dubs88+2xx66KGG00ZRdF5wLQxOLcUppiZNmmRmz57tTSkVOtAJrFq1yowcOdLL980335jLL7/c9O3b18mhoAiIgAiIQC4QkOMiF+6C6iACIiACIiACIiACIiACIpAtAr1wYjoszoXc76Pt2aqQzisCIiAChUqAC27ff//95sUXXzSzZs0ydFhceuml5rDDDvPWouCaFC1atPDWqqDD4u67766DgotsH3LIIea4444LpXPEBZ0h69atM3R2LFu2zCubozjooODUU37jGhnz5883jz/+uDe11LXXXmuGDBniz6a4CIiACIhAFgm4L+ZZrIZOLQIiIAIiIAIiIAIiIAIiIAIZJdAbZ/s1dBYU7rtIjouM3g6dTAREoNAJ0BFx1113mRdeeMGsXLnSW2PilltuMQcddJBp167dTpfPdS6WL19eJ50Lb7du3bpOGqePatasmScuxN2/f3+z3377eetYnHvuuWb06NGes4SOCr9VVlaaN954w5t+inXp2LGjP4viIiACIiACWSJQL0vn1WlFQAREQAREQAREQAREQAREIBsE+uGkj0NTofOgcE4LJJtt/EcmAiIgAiKQPAGOgrjnnnvMs88+641w4KiKm266yRxzzDFhnRbbt28PjaJwz07HRTgnh5uHYa6B0aVLF7PPPvuYCy+80LzyyivmrLPop97ZuLbG66+/bp544gnDtTBkIiACIiACuUFAjovcuA+qhQiIgAiIgAiIgAiIgAiIQHoJDEDxT0GTobOh+lA004iLaHS0TwREQAQCEuBUTpySiSMtVq9e7R31/e9/3xtpwQW4wxmncuJoC25da968eSDHhXsMnSR77bWXueOOO8zw4cPdXaEwHSsjRowwX3/9dShNAREQAREQgewSkOMiu/x1dhEQAREQAREQAREQAREQgfQS2BXFPwNNgs6Agn4DyXEBWDIREAERSJbARx995C3GzQW0afXq1TMnnHCCtwB3pLI58oELbbvG41q2bOmtgeGmBw1zBMZll11muJ6F3zjCg06Ljz/+2L9LcREQAREQgSwRCPrSnqXq6bQiIAIiIAIiIAIiIAIiIAIikBCB3XHU89BE6DQo3m8fOS4ATSYCIiACyRIYNWqUGT9+vKFzgHb22WebAw44wJvOKVLZdFxwTQzXmjRpkvQaFFz8m4uBc4Fvv61YscKMGTPGLF682L9LcREQAREQgSwQiPflPQtV1ClFQAREQAREQAREQAREQAREIDCBIcj5EvQV9GOoBErE5LhIhJqOEQEREAGHwNatW70pn7jlotq33367ufPOO023bt2cXDsH6biYO3dunR2c8inWcXUOCBMpKSnx1r648cYbDRf19hudJbNmzfInKy4CIiACIpAFApEWostCVXRKERABERABERABERABERABEUiYwJ448rfQD6BEnRXuyeW4cGkoLAIiIAIJECgtLTUnnXSSt57FkUceaTp06BColHAjLui46Nq1a6Djo2VinQYMGGCOOOIIM3LkyDpZOZ3VkiVL6qQpIgIiIAIikB0Cclxkh7vOKgIiIAIiIAIiIAIiIAIikBoCe6OYm6HjU1NcqJQpCHFVWDow/IqU7s8XKa7jd2YaiVW4dPHLPX41ob8cBUTAIcB1KY466ignJViQjovp06fXyZyKERe2wFatWhk6UvyOi40bN5r169fbbNqKgAiIgAhkkYAcF1mEr1OLgAiIgAiIgAiIgAiIgAgkTGA/HPlb6LiES4h+4C7Rd2uvCIhABAJlSK+OsE/JIhCTANfC4MgH/1oTdDZUVFTEPD5IBq6XMWjQIMOpo+zaGzyuqqrKcFormQiIgAiIQPYJyHGR/XugGoiACIiACKSAQL1GjUx5jx51Sto8c6bZjo+PZK2kYUPT0PeRVIWPqerVq+sUXYqPqbLa4e81a9earYsW1dmf7UgDDK1v+4MfmIa9epkGHTt62l5TYzahN9vGb781m6ZNM+vGjjXVK1dmu6p5c/5ceO5yEVa9xo1NeffuXtX4N8i/xXRaw112MSVlbCczZsu8eWYbekvKCprAAbi6m6GjC/oqdXEikL8EOEpGJgIJE6jB++mECRPqHF9eXu5NE9W8efM66YlGOBKEjpD27dt7ThJbThneJxo0aGCj2oqACIiACGSRgBwXWYSvU4uACIiACKSOQOdLLzW7/OlPdQqccuaZZtnTT9dJSyTS+ZJLTO977qlz6PTLLzeLHnqoTlr7M84wfR580EvbCGfAF3371tmfrUi70083XX7+c9N8//29XmU71cMZvl+DBt9Ff/mLmX/XXaZq+fKdsiqhLoFceO7q1ig3YnzWBr/3nleZTXBajOndO60VG4T5qRvBeUH76nvfM2tGjUrr+VR41ggMxZnpsDgiazXQiUVABIIQ0LRRQSgpT0QC27Zt28lx0bJlS9OnT5+IxySyg2td0BHC0R3WGqEzVGN0wJCJgAiIgAhkn0C97FdBNRABERABERCB5AnUb9Zsp0I6nHfeTmmJJHS64IK4D6vftGncx6T6gEZwnAxC4/FAOG9aHHBAeKeF76T18aHW7ZprzH6zZ5uK224zpn59X478jDYZPNh0ueoqT20w6iRVlmvPXaquS+WIQI4ROBT1oSfsI0hOixy7OaqOCIiACKSaQLgRF3Rc9E1xpyCOuvCPruAUUk1z4D0+1UxVngiIgAjkI4HSfKy06iwCIiACIiACQQi0Qs/r8m7dzJb584NkD5un+YEHmiYDB4bdl8uJzfbd17AXeik+8lzbiOmglj3zjNk4darZunixoaOiUb9+psluu5n2p51m6uNjjcZtjxtvNGVt25rpF13kFpGX4RZDh5re997r1X3lm2+ala+/nrbrKObnLm1QVXCxE2Bnqx1zgRU7CV2/CIiACBQBAa4xMWnSpDpX2qZNGzNgwIA6aclG6CDhYtyutWvXznSonfrVTVdYBERABEQg8wQ04iLzzHVGERABERCBDBEoQS+qDueem9TZEhltkdQJU3Bws/32M4PeeaeO02IrhsB/dfjh5gs4KeYOH26WP/usqRw92qx66y2z8M9/NtMwquRzrH2xAI372zZvDtWi889+ZipuuSUUVyA2gWJ97mKTUQ4RSJjA+zjyEOhI6H8Jl6IDRUAEREAE8oLA3LlzzapVq0J15boTnTt3Nr3wrppK27Jli1mzZk2dIrt06WK6167TVWeHIiIgAiIgAhknIMdFxpHrhCIgAiIgApkk0DGJ6aLqY87bdqeemsnqJn2uehjaPvC550yps3DhBvRYGw9nxpr32fYX2aqWLTMzf/lLM/G448w2fMhZ6/Gb35j2WC9EFpxAsT13wckopwgkReBdHH0QdAz0WVIl6WAREIF0EdieroJVbvEQGDt2bJ2L5ToUu+66q+HUTqmy6upqs2LFCrN69epQkVzfgs6RthhxLBMBERABEcg+gdT9r5/9a1ENREAEREAERGAnAlywt8Uh7Kgbv7XHotZ26qT4j87OEbtgUe2GPXqETr7q7bfNhIMOMlvQcy2o0cExBde+HcPnrXERallwAsX23AUno5wikBICI1HKAdBx0BcpKVGFiIAIpIqAHBepIlnE5YwZM6bO1bdq1coMGTKkTlqyEU4RNRVTp7pGp8Wee+7pJiksAiIgAiKQRQJyXGQRvk4tAiIgAiKQHgIcYbBp1qxQ4R3PPz8UjifQ6cILQ9nXfPih2YI1IXLZyisqTCdnPYrNc+aYSccfb2rWro272iteecUs+tvfQsc1x+LeXC9EFplAsT53kYlojwikncBbOMO+0AnQuLSfTScQAREIQkCOiyCUlCcige3bt5sP8d5traSkxHB9i1Q7LtatW2dcBwnPw1Ede++9tz21tiIgAiIgAlkmoMW5s3wDdHoREAEREIHUE9i+bZtZ8uijpmft2gztTjnFTP/5z8229esDn6zpHnuYZnvtFcq/+J//NL0wmiGXrfPFFxuur2BtHuq7varKRuPe0nHR5bLLvOP4Mdfuxz82C+65J3I5ODdHt7Q96STTqHdvU4bFDbehNxvrwAXSV/73v2YVxLR4rBQfqx3OOss0GTTINMScww06dTLVcMZsnjHDbJo501tsfBMWHa9jqC8X5LbG+lgrbd3atDj4YBs127AA5LrPPw/FEw3kxHOXpntAJvWwkHubE04wrTGVWHnXrqZB+/amZtMmswUOsvVffWWWPPKI2bpoUUL4vGnZ8HfaEuuwlGNu6TKWjQaFLQsWmA1ff22WPP64d56ECtdBxUDgTVwk9QNoOLQHlKzxP8+BUEkY8T/acOlB03S8+AV9VsLly/XnZxv+PmQikDCBOXivmDJlSuj48vJy0xvvcT2cEcWhnQkGtuFbYSnWf/vss+9mHezYsaMZinfHTnjPlImACIiACOQGATkucuM+qBYiIAIiIAIpJrD0scdMxfDhXkN+faz7wEb3pWhYDWodsVi1tSrMfbv8xRdz23GBBuuOP/mJrbLZumSJWfLvf4fiiQQ2YuRK5aefmhYYbUFrPGBAxGIa4oNyVzBqOnhwxDwc+VKFuYSnYL2M1ZjCKpbVb9HC9HnwQe/e1cNHq99svbgGBx1Vs3/9a1OFj1BaSWmpGeL01nOPbXHggXX2cSTNZ1jwMRWWzecuHffAMqFDaiDubwM4o3ayffbx7hH/3hY//LCZceWVO2WJltDu//7P9MOzWh+OkZ0Ma7O0O/lk0wNlL8KzMOOqq4xBY4NMBCIQeB3p1EnQcGgQlKjxQZuR6ME6TgREQAREIDECb73FwXTfWQu8D+6H9wF2okmVbd682RvVMR8da2j169f3Rlocj5HKMhEQAREQgdwhwN4aMhEQAREQAREoOAJb5s0zq997L3Rd8UwXxZ7lHZzFqJc9+aTZjg+cXLbGAwfWaVSef/fdZruzwHaidf/6yCPNJ2ispqZdcknYYtr88IdmLyyiGM1pYQ8sw2KHu+ODtMdvfwvvQuQP0PotW5pBcG5wpIXrtOCohhrfiI0SfGx2+ulPze5vvmlKwjg47LkjblPYEJ6t5y4d98Dy6vSzn5lB775b5/my+9wtnUWdMVXZ4FGjTCnuXxDrDmfTgGeeCe+0cApgY0UXjJoa8PTTpqRBA2ePgiIQlsArSKUX9cfQpLA5YidqupvYjJRDBJIhoL+xZOgV8LGvvfZanatriXeKg7BeW6qMU1EtW7bMPIn3e2tdMNrzxBNPND179rRJ2hYPAf1fVDz3WleahwRK87DOqrIIiIAIiIAIBCLAEQet0fBOa4mpgRpioe7NmFoolnFqqVL07rK26B//sMGc3bbwfdAte/bZlNR124YNhopknTGVFEdFWPOmS0KvezqNKj/6yNRgeq7mGOHQEj32O8PxwQZtTmdV8bvfeSM4uAh4OOuHqbma78up63cYr2fhQw+ZtRgBYrBoOB0bvLds+LYOk2aYk7j3/feb6Wg858LiHIFhrdn++5u2mObImrtvrTNNgN2fzDbTz1267gEZdLvhBtPrD38I4ajG9E2L/vpXU/nBB2YN7i/vJ589TsvFNWHoZOKIliCOi964n12cRd+r16wxc3//e++5Wf/ll950VM1RdtcrrjC8t7T2GJ3Bqb4m4V6mwjEXujAFCpXAi7gw6lToZohTPwU1NWQEJaV8IiACIpAiAlsxfae7vgVHQnTDGmv9+/dP0RmMqcIUpq+++qr5CtNc0ppiZPbRRx/tOS5SdhIVJAIiIAIikBICGnGREowqRAREQAREIBcJrMBHCad5stbxvPNsMOrWXZSbjdqcMinXzTbes57bMDpk68KFaa8y157oedttofPwvJMxJdc09NBf/txz3noHXBh89YgRZvaNN5oJaITejJEw1tqfdpq3poGNh7b4SG111FGh6Fycgw6OtR9/7DktuKMGjdzLX3jBjEODtjuyphOm+OJ6CZxOaB4a3K1WjxwZKm8lRmbYdG7XYIRAKi2Tz13a7gGAlGJ0TA/H+cO/pa+POMLMvu46swqjZrhmzFasQcF7PQOjIb7GR391ZaWHsglGAEUzrlfiOi02TJ5sxmHKqQUYKbRuzBizHQ0Xm2fNMsueeMJMgNNxCaZ+s0aHlTsiyqZrKwJRCDyPfbtCZ0BTo+Rzd8lx4dJQWARSTyDysMvUn0sl5gmBj9ApgtM4WWvSpIk5EB0iGoebTtJminPL9TMeRKeb6upqb4qoQXgnuQSda9rivUdWlAT0f1FR3nZddL4QkOMiX+6U6ikCIiACIhA3AU7vtAzT0FjrcM45WGE4+k9fI/Tochd15qLc+WBswLa2afZsYzAMPt3W46abQiNTtmFaqq/QqL3i5ZcjnnYjGqcnYL2MTVhU21qvO+/cacqoZmjALqXzAbYdH5Xz7rjDZt95i/10ltBpQuNojuYYXZFNy+Rzl657QH7drr7a1EeDAY0jZ77Cwtl0KkSyytGjzZcYWeM6CyPl7X799aFdW5cv3+HUcp6L0E4EyPNbOB3pqLLGaaNkIpAAAf4gcLGes6FpMY5P/3+iMSqg3SIgAiJQbAReeYUz/X1nzfE+yNEQqbL1eJ8ZPny4mYkR2JyGslevXuaaa64xdF7IREAEREAEco9A9Nab3KuvaiQCIiACIiACcRFY4izI3bB7d9Pqe9+Lejx77FurxmiBZehNng9W5jgu2FM93VZeUWE6O9P8cFHmtZ98EvO0WxctMrOxmLY1TgHU7lTO4vKdlTsLZXPqKfa+j2bVGAmw9vPPQ1maOVNMhRIzHMjEc5fOe8DpmDgFlTVezwZM3xTLNnz9tTeVVLR8nLLNvedzsN4JR9DEslkY6bGt9lloOmSIaY7pqWQikCCBJ3EchwWdC33nSa1bmBwXdXkoJgIiIAJpJ/AmRsVa4zRRdCwMwW9+KqwG04jSSTECI4FpHTt2NNfh3YKOEZ5LJgIiIAIikHsE5LjIvXuiGomACIiACKSQwHosGr1+4sRQidEW6eaiv96ojNrcHK0RbX2HUKE5EOCC4taqVqywwbRtW2G6nnq1iyRvw1zB8++6K/C5lj//vNk4fXoof5vjjw+FGdjwzTehOM/R7dprQ/FIgdkY/TENa1tQi/7yl0jZMpaeiecunfeA61aUNmvm8eIilguddUxiQVyEtSv4TESytiedZLigOo2jg4KOatqMvEsefdQ7jv90+slPQmEFRCABAjU45nGIIzD4MPk9vnJcAIpMBERABDJFYCLe1+fOnRs6XcOGDc330OEoVdNEXY2RpFyQm1NRtUYHjWvxfvljjNpNVfmhiisgAiIgAiKQMgJyXKQMpQoSAREQARHIVQJu73c2mtZ3Ft5269z2xBNNg3btQkmL82BRblvZGiyabK2BM2LBpqV627hfv1CRK197zWxxPjRDOyIFMIpikdMQ3qhv3zo5N02bVme6oZ633moGYORLk8GD6+RzI1z/gveLql61yt2VtXC6n7t03oOG6OForRJseU+CGkfVcB2RSNYIIy6srX7nndC6JTYt2tZbnL02A0duyEQgBQSqUcYjEP9TuxCaA9HkuNjBQf+KgAiIQEYIPP3003XO06hRI3PCCSfUSUs0cj2mqPwnpn/dsGGDaYHvgD9gjbPzzz/fcCoqmQiIgAiIQO4SKM3dqqlmIiACIiACIpAaAsvQu4prKdQrKzP10HurPRZ6Xvy3v+1UeMcL2Wa1w9aNH2/WQ/li1StXhqrayGl0DiWmOOA2mq/H9EDxmnuMW5ZXDnr4T8O92PXFF0PFtsd0UtRGNKCzsXvt//5nKqEtc+aE8uRaIN3PncvN5RmUg3uMWxaPdx0XG7GIZbzmHQMnYThzHQ6cvq39WWeFyxY2rcnuu4fSG2CKB5kIpJAAHRj/gh6Dzoe+mysNEZkIiIAIiED6CGxDp5ZnnHXp6mHNsn7oJJPs2hNLly41HGnxGjrZbNy40bRq1cr8/e9/N8djtC8dIzIREAEREIHcJiDHRW7fH9VOBERABEQgBQSqsPgve4C3q21I5XRRfscF1wtohcWlrQWdvsbmz/aWCxxba9ijh8FkvXH1ZLfH+rdlaBy2U/JsXbbMLPkX2/WMaeSMuHAX2/YfHym+yZkqqhQ938o6dDBV+Li0tuKll8zU884zvf74xzqjYBpjdAbVpXb9hS0LF5rV775rVr7xxo6FwTOwKLmtY6xtup+7dN4D1/m1Zd68WJe60/5oI3Dcslsfc4yhEjE5LhKhpmMCEOA8Z/+A/h0gr7KIgAiIgAikgMCoUaPMIozYtFZaWmpORYeVZNaeePvtt82vfvUrM3XqVLMVa2T16dPHvIT3y/79+5sydGaSiYAIiIAI5D4BTRWV+/dINRQBERABEUgBgSX//q4NqjkWb248kOuyfmedfvpTU1JS4iXUYBj5Mt9w9e9y5mZoHdbysFaCjz23cdimJ7Ll+hM9b7vNU19Mw1Rauwh4Wdu2oeLc0R6hxBiBKjhBXCtzpuiy6Usfe8yMwUfmTHx0cvFtrrXgt/IuXUzHc8/1Rmfs8emnUaeT8h+biXg6n7t03gMuzm2tXnm5DQbeVkdZbNstO3CBYTLWx7ouJWp4CENGSSkiwBEYMhEQAREQgQwQeOqppwwXz7bG9S3OPPNMG41ruxydeTg11BlnnGG+xqhgOi3OQ2eYL7/80uy2225yWsRFU5lFQAREILsENOIiu/x1dhEQAREQgQwRWDVihNm6ZImxvbQ74gNmll30GaMT3EW7uXh0zdq1GapZak7DqZNc64SplkLX5+6IM9zq8MNDR2yYNMlYJwV74ZdhuD2tvGvXUJ6ggXKOCnEsUq/+mspKs+BPf/LE0R8tDjjANKcOPNA0328/QyeNNcYHYRqp8XvtZbbMn2+Ts7pN53OXznvAdSqSMft3Fq6MrYsXh56dpZjGbdXIkeGyxUzjYt3boywCHrMAZRABERABERABEcg6Aa478d///tdwuihrxx13nGlT21nGpsXaLliwwDzwwAPm4YcfNitrp1DtgBG9TzzxhDnyyCNjHa79IiACIiACOUjgu6/9HKycqiQCIiACIiACKSNQXW2WPP646V7rrOhw9tlm1o03GoP01scea9hz39qiPFqU29Z588yZZhMachv17Okldbr4YjPv9ttN9erVNktC25aHHRY6bs1774XCXKy5ae1i2Y169w6lBw00xkgKa3QoBXEUVSHfilde8cRjucg6F1vvhnvaZMAArzgurt7vkUfM1860X/Y8Wdmm8blL5z3YNGtWCJffyRTaESVQjrUrIhkdDk1qRzxxsW2uBSITAREQAREQAREoTgKv4N2OzgvXLnTWnXPT/WE6O8Zi1PHfsHbdCy+8YNavX+9l4foVV1xxhfnNb35jmjRp4j9McREQAREQgTwhoKmi8uRGqZoiIAIiIALJE1iCBm1r7BFu59bvdMEFNtlwVMG6zz4LxfMpsBiLDVorbdbMdL78chtNaNv2Rz8KjVBhAasdx8XGb78NlcnRD/Gae4xbFstpvOuuptXRR3sqadAgYtEcjbH00UfNODhQVmDRRWstDjnElGCKgVyxdD13LjeXZ9Drdo9xy+Lxmx3HRTOMYInXmu2zT8RD6Liw5p+yzaZH2pa1b286/exnnpofdFCkbEoXAREQAREQARHIAwJ0PHDdiS1btoRqy1ESh6HjDKd4suL+TZs2GU4D9Sk6PTz44IPm9NNPN10x6nc/jLh9BO/4XHy7Gd5/z8UUopwW6o477pDTIkRVAREQARHITwIacZGf9021FgEREAERSIDAJizOV4mPHU43ROP0UOvHjTNtvv/9UGn5tih3qOIILMbQ+Irhw0292kb7rldeaRbhwy6RURf1W7Y0vXGste0YOVD54Yc2ajaCpbWWhx5qmu2/f2CHT72mTU3nSy+1h5s6jeb16pk9MO1VafPm3v4vhw0zlaNHh/KGC3C6oGnomdf2xBO93fWw7kGzPfc0/umzwh2bibR0PXdpuweA4i643gSOpBa4x7Hug2XZBI6klnAeRTJ3NEcHzF89+4YbTM26dZGy10nvdNFFpuctt3hpfG6+wAKbMhEQAREQAREQgfwiUIV3tzVYD+vll182o/GeV433TGubN282Bx98sLe2GR0bdFhwRAanf1rtG0nMxbs5oqIt1l47Ee+Bl1xyienXr19o3TpbprYiIAIiIAL5SUAjLvLzvqnWIiACIiACCRJwe79z4eluWPjZrpOwDR9KSzEPbr5a9YoVZk5toy6voQxzAw/55BPTsHb6qHiua5e77zblnTqFDpmHXmvudE4r33jDVOF81nr8+tc2GHPbBU6LMmfxZ3cBa0xw7I16sYXQKRLEqrEmyXYcay3aSA18zdpsGdum47lL2z0AFTqpNmMdE2tdfv5zG4y57fqLX0TNs+LFF8222rUpSuEgozMikGE9k04/+Uko67LnnguFFRABERABERABEcgPAnREcE2L76Pj0GWXXbaTM6ISI2o/wfvr/9CR5TOMgv7qq6/MjBkzvHwleIcrLy83rfEe2R3TUh511FHmnnvu8fLed999pj86NDCPTAREQAREoDAIyHFRGPdRVyECIiACIhCQwHI0dtZgKDmtHqYhchtZl2OoeiKjEwKeOiPZ5t91l1n7xRehc3Hthz0+/9wbERFKjBKoh15rfbHGh9tAvG78eDPXcYjwcDox5t56a6gkOoG6XHVVKB4p0GLYMNPdcXIsRyP2OtTPNbdnP6e7CrLGQissuliC0Rq0bZhOwF+m69SItv6CW49UhtPx3KXzHnAUC9dIsca1RDqcc46NRty2x9oxHEURzbhwuruuRffrrzdNMUImlu3yxz+ahhUVoWxuGaFEBURABERABERABHKawIgRI8yv0HHoC7yv1tTU7FRXOh44kqIB3tM5moJOik7oTLPLLruYPfG+8CNMZXrbbbeZt956y7yGqUJ/hikkO3fuvFM5ShABERABEch/ApoqKv/voa5ABERABEQgDgJs7F0BBwUX5/ZbPk8TFboWfABO/vGPzeBRo0yjXr28ZC5YPeT9983Mq6/2FijfVrtwYeiY2kDTvfc2A556yjTu2ze0i6NQpoIVG7L9tggLIXbBdFT2PL3vvdeUd+tmZl1zjcH4fn920+6000z/xx7zHEbcyemnZnOBdJ+twodod0wfRGPdd8NH6Tcnn2y4AHk445oW/bHwurVK9NLbht58rlVhTmRrjdEbrz7mQA46PZE9Lpltup67dN0DXitHwnAkTTnmj6ZTqB/WE6mHxS7dtVRcJl3RCNHrzjsD9XTkCJ4OmIOa5XJk0OAPPjDfoCFizbvvukV64RJM/dUVz1RXxzG24tVXzabp03fKqwQREAEREAEREIHcJrBs2TLTu3dvzxnhr+l2vD/SadG4cWNPnAKK61hwdAWngOqLd9SWGK0pEwEREAERKA4CclwUx33WVYqACIiACDgEFqNB1u+44Hz5bk9/J3tCwQZYWPBAp7E83kK2Lllixu6+e7yHefm3zJ1rvkRj/mAspt0YH3k0rnvR56GHTC/0Wl/55pveGhXbMTKB6Y13281wAeaG+Ch0jSNTpmOu4I2TJ7vJofB2LJo4DQubD4QjqKxVKy+92y9/aVofe6xZA0fJWqwnQgeGt0YC5irmYsp2+P52OFhmoqE7XONz5UcfmfmoJ6fxojXFmgn7Yk0NTuO16p13DBd3ZjmN+vQx7bEwozfaAh+5NE5BtABTBvht68KFoSSugcFRKKtHjvTqx2NmX3ddaH+6Aul47tJ1D8jAKxv3fyBGKdVHAwKZ94WzquN554XuLx1AXOS7Be5v00GDQugW/+tfxl30PrSjNrBp2jRvxE7FzTd7KVxMfndMG8G/wTXQWkwNwSnc+Px2vvhiQ2eTtU1wYE3F+jQyERABERABERCB/CNwEaaIpGQiIAIiIAIiEIuAHBexCGm/CIiACIhAwRFg4ygXCLYjBXiBbGhNpXk9ydFLLFGzawAkejwb6sfBGcHFutlT3a7jwQbo9qeeGrNYOgim46OSToJoRgfFeJxn4AsveM4P5uX0VBTXsghnW9HTbgocDmswKiSSzcKIiyZoCG999NFeFtafi6lTkYzMONpk1X/+s1OWtXBUbPjmG8+Jwp22jgxvWbw4I46LdD136boHZLMKTq4vhw41u2KEg3VsNcdC7FQko9OJIyqiOS547Fw8m3Rg9MXfXn2M5KBDqdURR3iKVPaWRYu80Tc1WNBTJgIiIAIiIAIiIAIiIAIiIAIiULgEdkwGXbjXpysTAREQAREQgZ0JYBTAEkx7Y20bRg4sxRRG8djWpUt3yh4ubadMAROqwpQf8NBQtm0bNphZGLUwdsgQs/CBBwwbfWMZe7NPwVoGE7HYYSynhS2L+SZgNMUCLIpYE2EaKublKIsVWNR73B57RHVaeOUi70SM3PjmlFPMeizKGM04MoSLX09AY/pKTCsV1rBwN50aS59+2puiys2zYdIkN5q+cJqeO1Y4LfeglsT6CRPM+H328e4d72EkW4ORMhOx1smsa6/17nWkfG76MtyPLzFaYx3OEc1q8CzPgaNjDKaI2BDmeXD/9txwtDK1TwREQAREQAREQAREQAREQAREIHcJlORu1VQzERABEchdAh+gDTZ3a6eaiUAEAlhPoBkaoBv27GkaYJHDMix2yAZhNkbTUVL5v/+ZzTNmRDg4WHIJpp5q9b3vmUZYQLFBx46G6xOwIXnLggVmNdYvqF6xIlhBbi5MUdQE01k1xJodrHt1ZaXX+5+OmK0ol2tacA2JoFa/RQvv+jn6hAt581guGF0olpZ7UAunrH17b0QE172gw4gL3HMEzfpx48zGKVOSQsipv5pjdEc5ns0tGDHE9VLoSOPaJhsxVVg89zipiujgtBAYZoy+O9JCVoWKQN4SOKi8vPxjmNkba2zJREAEROD/27sXqMuuujDgZ5hHHjN5ZzIJeUxiRKEYy5uEEjvapVRo1aoQlbYLFqvapbSlq7VQXKwEHywL2tJWrQWJ1AjULFlgrLiCBidWhaQhCKIkPEJigLyTSSbzniT9/2++Pdlzcr/vnvvde7/v3u/+9lr/nL3P3fucfX73ztzJ+d9zzkoK3HTTTc3L49+dBw4ceHns989Xct/2RYBAdwH/A9HdSk8CBAgcEdgpcXHEQoUAAQIECAwS2CFxMYjI6wTmTeDlmzZt+r87d+5sLrnkknk7dsdLgMAqC1SJi0tjKn+2ytOxewIEFhFwq6hFYKwmQIAAAQIECBAgQIAAAQIEJiJw6PG4jeM111zT7ImrPxUCBAispMA34srtJ+I2rlEWvw/qSk7IvggQ6Cuwoe9aKwkQIECAAAECBAgQIECAAAECkxG4LRIXH7jyyit/5NFHH11/cTyn6qKLLmoujFtNbt68eTJ7tFUCBOZa4K677mpuiduPfjpucXrttdc2hw8fvj1AbptrFAdPYMoF3Cpqyt8g0yNAYDoFdrpV1HS+MWZFgAABAlMpsMOtoqbyfTEpAqsssD32/+oNGza8avv27S+K2HLeeec1sWwuiGdaZf2ceKbS2Wef3Rwfz6VSCBAg0EUgr6R44IEHmq/Fs/DujOfY3X777c1tt93Wq99xxx1Z/+qDDz54fWzrwxH/p8s29SFAYHUEJC5Wx91eCRCYcYGdEhcz/g6aPgECBAispMAOiYuV5LYvArMkkBmJZ0d8c8Rz1q1b920nnXTSs0499dQLTj755BNPOeWUJpbN6aef3px11lnNmWee2Wzbtq0544wzmq1bt/bWZx+FAIH5EoirJZr777+/ue+++5p77723F3fffXeTV1Xcc889TSQmml27djUPPfTQE7H8RiQyvrx///5bQunzEV+MuDXijgiFAIEpFpC4mOI3x9QIEJhegZ0SF9P75pgZAQIECEydwA6Ji6l7T0yIwJQJ5PM3T4rYGnFqRGYjtkXkVRnnHnvsseeccMIJZ8eVF2cdd9xxp8ZyXV6FkZG3lopER3Paaaf1IusZmdAoiY9Mfpx44onNM57hMZ/hqRCYWoGDBw82Dz/8cEk6ZOKhF5mIyKsoSmRSYt++fc3evXt7z8mJ5cFo3xO3nvtGxNcfe+yxO+Mg/zYil/dHPBTxQMR9EfsjFAIEZkDAMy5m4E0yRQIECBAgQIAAAQIECBAgsIYFHo9jyxOLGVnyR5YbI7ZkxC+lN0fk1RkZJ0ZkgiMTG9siGbE1EhtbI6GxddOmTadt3LjxtFhuOeaYY5qMqPeWWd+yZUsTV3QcFZEQ6SU1MrGR9RLZNyO2G7tRCBAYRiBv17Rnz54mkgi92L17d5PxyCOPHFlmPZMUdWQi4sCBA73IJEapHzp06MGI+yM58UD8XXBfrM8ExL0R9yxEJif2Ruyp4tGFdR7AHRAKgVkUkLiYxXfNnAkQIECAAAECBAgQIECAwNoVeCIO7WDEgwtRH2leNrEp4tiMeMj3MXGyMyPXHbPwWmYbTovIqzd6V3BEguOUeJ7GyZHI6EXUT8pYv359LjdFrItoMiL50VuWekli5DKv8CjLcsVHvcxER7kaJOulHcmV3jbjdlgxJYXA9AlksiFvwZTJg7yaoVzRUNq5zMiERFlmvUQmKbKeCYp8PRINve2VZW47I9qPxxUR+6L+SMSuqO+KJMWuSEj06iGTCcz8s1+uksjlgYXIvxdKPZd59UQuD0Xk3xsKAQJrSEDiYg29mQ6FAAECBAgQIECAAAECBAiscYG8OiNPVi51u5dyxUZetZHnPTZEgmNjnBzdkFHWVctMdOSVHCctLLNe4oRIZGyJJMYJkeTI2JIRiZBeRCLi+GhviOjdiqq9zNtTlXWZECnJjLLMhEbW84qQXGY767ks9WzXUV9FkvXSzu2XdqnHcSgzLJBXHZTIBECp5zKvRmgvc10kAHqvlWVZl+2MTEjU9ZKkyHW5j/iz0kQyYdFlvhZJjoOx3BN990R9d9QfzXbE7khG7I7t7A72jEeqeDjqGbk+//zmlRCHW5EJiLIu66UdVYUAgXkTkLiYt3fc8RIgQIAAAQIECBAgQIAAgbUtUK7YyF9ndymZ6FgfkVdztJfPiJOw6yPytX6R/fNKj95trWK5uRV5e6tcd1wkMY5fSHT0ltE+Ltq5/thcLsSxuT7657qNEb2ESC7riD7RJe6ptcjrpW8mMEoSo1xBksmN9rpsl9dzmZEJl1Kvl7l+sch5lURNvSzzzNdLlHVlrv3a5Rh7B7twvPW6vEqglH71XFdHnpQv7VLPZR35epyAP7Ku1OtlXjmQY3KZ6zOyXiLbmQQo67Oer9XLrPeLTEaU9WWu9bLMO48715d26dNqH4z1ByL2LcT+XEafXjuWe7Md88zl3mzHZkvUt10q9bz9Ukb+2cokYr/IhESuL8u6XtY99cZFR4UAAQL9BCQu+qlYR4AAAQIECBAgQIAAAQIECMyLQJ5EzV95L7dk4mOxeDLDEK/HSeGsr4uTxKVv7q/U+y2zfyZF8rZYvWRG1S7rc1nq9e2ycl22N0WiYFMkBUp9Y5yg7q2L5cZ4La9KyQRJri/13lUpuS5eK/VclnbOa0O8nkmbnHevRLtU+7bLi137lf79lvU2Yt79uiy5rj0m27nN9vrcSHtd1Y7qE+WqgbI8HOvKFQOlfmhh3aHYR9Z7VxLE56HXjuXBWH8wl7G7TDQcKvVsR9S3Rur1iXXlqqP6dkll3b6F1/O1TBpkSaRxR2/D/kOAAIFJCUhcTErWdgkQIECAAAECBAgQIECAAIF5ECgnhCd1rEdnBKpkwcIOl3w9ToIfeT2vAKjKkfXVuqwuZ30mMeroJTdiXS5zfS6XitxniexX6mUZqxadV75WSslilGW5IqC8R2VZ1ucy15UrAcr6bJfIdeX1XGZiomw/qkeVcazvt432umHbR01SgwABArMgIHExC++SORIgMI0C+Q/F/Ee0QoAAAQIECCwt0D65snRvrxIgQIBAW6D992i73e6vTYAAAQIEZl4gs9gKAQIECAwvkL+6UQgQIECAAIHBAr4zBxvpQYAAAQIECBAgQIBAJSBxUWGoEiBAYAgBJ2GGwNKVAAECBOZawHfmXL/9Dp4AAQIECBAgQIDA8AISF8ObGUGAAIEUGOXhfQQJECBAgMA8CfjOnKd327ESIECAAAECBAgQGIOAxMUYEG2CAIH5E4iHWxyav6N2xAR6o+lTAAAa5UlEQVQIECBAYHgB35nDmxlBgAABAgQIECBAYN4FJC7m/RPg+AkQWJZAPA3vwLIGGkSAAAECBOZMwHfmnL3hDpcAAQIECBAgQIDAGAQkLsaAaBMECMylwJ65PGoHTYAAAQIEhhfwnTm8mREECBAgQIAAAQIE5lpA4mKu334HT4DACAKPjjDWUAIECBAgME8CvjPn6d12rAQIECBAgAABAgTGICBxMQZEmyBAYC4FHprLo3bQBAgQIEBgeAHfmcObGUGAAAECBAgQIEBgrgUkLub67XfwBAiMIHDPCGMNJUCAAAEC8yTgO3Oe3m3HSoAAAQIECBAgQGAMAhIXY0C0CQIE5lLgzrk8agdNgAABAgSGF/CdObyZEQQIECBAgAABAgTmWkDiYq7ffgdPgMAIAl8aYayhBAgQIEBgngR8Z87Tu+1YCRAgQIAAAQIECIxBQOJiDIg2QYDA/Ak83jQ3z99RO2ICBAgQIDC8gO/M4c2MIECAAAECBAgQIDDvAhIX8/4JcPwECCxLYFvTfCYG7lnWYIMIECBAgMD8COw5UbJ/ft5tR0qAAAECBAgQIEBgTAISF2OCtBkCBOZL4LlNczCO+Pfn66gdLQECBAgQGFrg91/UNIeGHmUAAQIECBAgQIAAAQJzLSBxMddvv4MnQGBEgStHHG84AQIECBBY6wK+K9f6O+z4CBAgQIAAAQIECExAYN0EtmmTBAgQmBuBnU3zhTjYZ8/NATtQAgQIECDQXeCWHU3znO7d9SRAgAABAgQIECBAgMCTAhtAECBAgMBIAj8boz840hYMJkCAAAECa1MgvyMVAgTWpsBpcVhxJ7gVLdfH3vav6B677yzvZvHdVfebov5A1V7p6rTNZ6WPfxr29+KYxKnVRK6t6qoECBAg0EHAFRcdkHQhQIDAUgI7m+aT8frFS/XxGgECBAgQmDOBT+1omkvm7JgdLoF5EnhzHOwvrvAB/2Ds7yMrvM+uu3tpdPxU1fktUf9PVXulq9M2n5U+/mnY33Uxie9amMjjsVw/DZMyBwIECMySQGbhFQIECBAYQeCJpnl9ZIH3jrAJQwkQIECAwJoRyO/E/G5cMwfkQAgQ6Cewqd/KCa9bjX12PaT23NrtrtsZV7/2/tvtce3HdmZP4LyY8gULcdzsTd+MCRCYJwGJi3l6tx0rAQITEfjOprklfkLzUxPZuI0SIECAAIEZE8jvxPxunLFpmy4BAgQIEFjrAq+JA7wj4raFiK9rhQABAtMr4BkX0/vemBkBAjMkEP/ie/+fNM3565rm8hmatqkSIECAAIGxCsT34BU74jtxrBu1MQIEplHgN2JSHxtiYnmv/49X/e+N+iurdpdqnmxVCBBYvsAzlz/USAIECKy8gMTFypvbIwECa1QgkhdXRPKikbxYo2+wwyJAgACBJQXi9lBv3xGxZCcvEiCwVgTuigPJ6Fq2tToejPanW+s0CRAgQIAAAQJHBCQujlCoECBAYHSBheTF7XEfvl+NEzjHj75FWyBAgAABAtMtEAn7vQu3h3r/dM/U7AgQIDAxgbw93o9VW/9cVV+N6rTNZzUM7JMAAQIEZlxA4mLG30DTJ0Bg+gQieZG3jfpUJC/eH8mLl07fDM2IAAECBAiMRyCSFjdE0uJ18d3nmRbjIbUVAgRmU+C+mPaHpmjq0zafKaIxFQIECBCYFQEP556Vd8o8CRCYKYE8gfP3m+biOKHz2pj4rTM1eZMlQIAAAQKDBW7N77j8rpO0GIylBwECBAgQIECAAAECwwlIXAznpTcBAgSGEogTOh/c0TTPjl+j/sMYeHWc5Nk71AZ0JkCAAAECUyKw8B12dX6n7YjvtvyOm5KpmQYBAgRGFdgaGzg34phRNzSm8ZtjO+dHnB0xDedtVmI+8TXTnBZxXsTGiGktJ8XEtkekyUqVaft89jvuWZhjv3lbR4DAFAu4VdQUvzmmRoDA2hH4rqa5No7m2r9umk1x3fYLo/78J5rmW2J5TvwL/YxYnhqxJWJztDfFa/mP9fw7Ov9HJSP/Ia8QIECAAIFxCcRXTRM5iF4cji+ZQ7EiH5a7J+LRiAejfW98Ad0Zyy9F+zOnx4N0n/tkn2gqBAgQWBGBc2Iv313t6fei/mDVzuqzIl4R8U0LcUIsXxlxIKJfyX93vzHiZRHbF+K4WJbyUFTyweN/EPGeiC9HDCr5b/e80rr8m/2Pov611qALor2jWndN1B9YaOe/938g4l9GXBRxZkQp+ffyZyNujvhIxCciBpVpm89i8700Xnh1RL5fmTjaFJHlcMTtETdEvCsij7+UtPne0ojlhyL2V+1xV78tNvijEfn+nB9RP8fw/mh/MeK3I66KyO/PUcs4P58vjsnk/Ev5sVJZWOafrW2tdX8V7Zta69rNcc6xvW1tAgQIECBAgAABAgQIECBAgAABAgQIrIhAnhyNPOiRuLPjXvOEdj3uedW450f9dyMea/XJ/vXJ5Wj2Ss4hT4Lvjqi3uVQ9E7yZhMgfGi1VMglSb+etfTpf1urz+oU+F8fyK63X6m21678efbcsjF1sMW3zac8z558Jh/axLdb+cPTNKx2yXBlR92ufeO91GsN/1sc2fqm1r3q/7frD0fdN1X6vq8bmZ3RQmcTnM34zd5RVe8792u9cYqKTmOMSu/MSAQIECBAgQIAAAQIECBAgQIAAAQIEJieQJzzrk6SjJi7+SWwvf2Vfb7OutxMXp0TfvHKi7jNM/cYY295mrDpSLo1avb23HXnlqcplrT5viHau29daX29nsfpXY0xevb1Ymbb51PP8O9H4QsRix7bY+s/FmLMjrmqN3RbtcZdMkvxhxGJzWWr9b8S4vOLlumr8Y1Ffqkzq87krdrrUXPu99s5FJjqpOS6yO6sJECDw5G1IOBAgQIAAAQIECBAgQIAAAQIEZkHgn8UkfzMifxHfr2SC4mD1Qvb73xEXVuuyemvEeyO+GJG3n8pn0W2NeElEXg2Rt54qJW+5k1cIZMIkr8IYR/n22MhPRZTjyJPbebL8pohPR+RJ5zzJn1eZ5O2U4o59R8r5Ufu5iMuOrBm9shLz+cGY5m9FbK6mmyfPd0ZcFZHvySMRmYy4JOJfRJwXkSVvofWxiC9kY4IlE0LXRHxrax+53/dE/GXEgYh83y6M+NGIvOVS3u4ryxsihrllVG5nUp/P/LNwQkQpmXzIz3gpX4/KntJYWOZVGu0yyTm296VNgAABAgQIECBAgAABAgQIECBAgACBFRHIE9H1r7vv7LjXV7bGZeKgfaXFPbHu5yNeE/GciHxOXF2uiEa9733Rfm1EOdEc1aeVdbHmzRH1uKy/4mk9n1xxaavv2/r0u6zVp952Pg/jO/qMKau2R+UzEfWYTKBkYqNfmbb55BzzpHkmiOpjyPfi+yIWK/leXhVRj2nXty02eBnr831vO+f+Lh+wrefH63dFlLkdarUzKbVYuSJeKONymSbj/nzGJnvlTfHfel/556tLuSI61eMmOccu89GHAAECBAgQIECAAAECBAgQIECAAAECIwvkyeX6xOdyExd/09rOldE+dcDs8oqKet+vG9C/fvm/t8a+r36xqo+SKPjT2E59NUW12aOqx0frryPqY8mrF/qVaZtPzvFdEfXc84qSnOegkgmmvP1SPbaujzNx8f199vPTgya48PoFsWx/1so8H1tiG+0xr1uib/ulrp/PMm65iYuVnGOZqyUBAgQIECBAgAABAgQIECBAgAABAgQmKjCuxEU5Ebw3ZvsPOsz4rOhTxuTyDzqMqbs8tzX+xvrFqr7cREHecujCajuDqj8eHerj+fwiA6ZtPnm7p/yVfpn74ai/YJG591udV0J8IKKMr5fjTFzkbbrqbb+532SWWLc1XrultY3c3mKJi5X6fJYpLydxsdJzLHO1JECAwJKXRuIhQIAAAQIECBAgQIAAAQIECEybwNtiQtd1mFT79kvXdxhTd8mT0JkkKWWcJ8lzm/8t4itl4x2Wvx19Hq76nVPVx1Gd1HzeHpM7tprgR6N+c9UeVM2T/1dE5HJS5R/Fhl9YbTxvQfZfqnaXaj4f4h1dOi70mfbPZ05zFuY4BLmuBAjMksBS93ScpeMwVwIECBAgQIAAAQIECBAgQGDtC3wyDrHrCeVntjjyF/XDlPyl/J5qwElVfdRqPgfh54bcSCZR8nZZpeR8NpfGiMtJzudVrbn951a7S/NL0enjXTous89PtMb9z2gfbK3r0swHbd/dpWP0mebPZzmEWZhjmaslAQJrTEDiYo29oQ6HAAECBAgQIECAAAECBAisYYGfjGN7vOPxvTv65YnXEsNecXFBjM3b/0yi5NUcjyxjw/kQ6LqM66qLSc3n1JhsbXhDtP+iPoAh6r8yRN9hu35rNSCTOL9etYepHozOv9ZxwDR/PsshzMIcy1wtCRBYYwISF2vsDXU4BAgQIECAAAECBAgQIEBgjQrkif7PDnFseWuhPNFfIq+g6Fouio5Xd+28jH5/tYwxOaSduDhumdtpD5vUfOqEQO7zT9s7HqL9x0P0HaZrnhvbXg34f1FvO1cvD6x+ZGCPJztM8+ezHMIszLHM1ZIAgTUmsGGNHY/DIUCAAAECBAgQIECAAAECBNamwOfisPJE6rhKPnj4/FbkVRbPWlgXi4mV5SYK6mdujHNyk5pPO3FxxwiT3h9j7404Y4Rt9BuaV61sql4YZY65mVHHl6ms5uezzGHQchbmOOgYvE6AwJQKSFxM6RtjWgQIECBAgAABAgQIECBAgMBRAsNcbXHUwIXGS2KZz1vI5YsiTo9YrXLfau14kf1Oaj7Pbu1v1JP6fxvbG3fi4ptac8x9jFJ2x+CHIk4ZciPT9PlcbOqzMMfF5m49AQIzJiBxMWNvmOkSIECAAAECBAgQIECAAIE5Fbhtmcd9foz7QMTLhhi/K/peH/E9EeO6HdMQu18zXY9vHcn9rfawzQeGHdChf32bqOx+oMOYQV2+Hh26Ji7Oj77T/vmchTkGo0KAwFoSkLhYS++mYyFAgAABAgQIECBAgAABAmtXoOtDuWuBH47GeyNOrldW9b1Rvzkib5V0axV5ZUDu78aIF0coyxO4szVs1Ksl8tZE4y75GajLnrqxzPqxHcfNwudzFubYkVs3AgRmSUDiYpbeLXMlQIAAAQIECBAgQIAAAQIEugr8x+j4jj6d8+HL74u4IeLzEYcjlMkI3N7abPu2TK2XBzZHHd9vB+0rec7t12mIdeuib5dtzMLncxbmOMRboysBArMkIHExS++WuRIgQIAAAQIECBAgQIAAAQJdBE6PTj/T6pgnqHPd70R0fci320S1EIds3t7qP0riYVtsa0tre+NothMX7VtHDbuPnOcxAwbNwudzFuY4gNnLBAjMsoDExSy/e+ZOgAABAgQIECBAgAABAgQI9BN4TazcXL1wS9RfELGvWjeomkmL9sOlB43x+tECXz262XxvtJ8RkbfhGrZ837ADOvbPB2nnM03K7cRGfc+f02G/s/D5nIU5dqDWhQCBWRXILwuFAAECBAgQIECAAAECBAgQILCWBNq/7H9rHNwwSYu0yESHH3ymxPJLPoz7wWr4N0f91VW7a3V9dHxz187L6FdfdfGsGP8dy9hGGfITpbLEchY+n7MwxyWIvUSAwKwLSFzM+jto/gQIECBAgAABAgQIECBAgEBb4LzWirziYthyybAD9O8r8KuttW9ptbs0fyQ6Xdil4zL7fKo17l+12l2b+WyLH+rQeRY+n7Mwxw7UuhAgMKsCEhez+s6ZNwECBAgQIECAAAECBAgQILCYwN7WC+2TsK2Xn9bME9CT/IX/03a4hle8O45td3V8z4v6v6/ag6rnR4efH9RpxNffFePrh7T/QLTPWcY23xhjulylMw2fz0HnBKdhjst4CwwhQGCtCAz6S2qtHKfjIECAAAECBAgQIECAAAECBOZH4ObWoeazFbqWjdHx6oh8OHFd1tUN9c4Ceauo9lUXmSj4rxGDzkvl7bo+GXF+xCTL7bHx36p2kMmHD0acUK0bVM0rLf7NoE4Lr6/G5/Ox1twGXcGyGnNsTVGTAIF5Fhj0BTHPNo6dAAECBAgQIECAAAECBAgQmE2Bm1rTzlv/dElenBX98oT1xa3x2TwxIp9/oAwv8MsxpL7qIrfwryM+GtHvYdjHxPp/HnF9xJkRWQ5F/GWvNpn/vCM2W191cWm0/zjilA67+8nok8munHeXshqfz3tbE7uo1W43V2OO7TloEyAwxwISF3P85jt0AgQIECBAgAABAgQIECCwRgXyBPeu6tjy/EeeWP4PEf1OLm+O9ZdHfCnihyOy7I/43V7tqf+8J6o/HrGcB0w/tZX5q90fh/z3ItK3Lv84Gl+IyF/3Z8LoIxG/F/H1iP8VsSWilCui8vnSmMDyK7HN97a2+5JofyJiseed5O2k3h2RV5SUc2x5i6X3RyxVVuPzeVdrQnmFSCbz8s9DXk10QkT+OShlNeZY9m1JgAABAgQIECBAgAABAgQIECBAgACBiQpsi60/UcWdHff2ympMjn9Tx3Gl26ui8nhEve+s5wncj0ZkIiNPlN8ScSii7pfjXh+RCYp6fanfGOtLyV/ml/W5fFt5oVpe1urzhuq1YarvbG3neX0GT9t86imeFI20r70G1fO9+HcLG8n3rO5/xsL6cS0y+fALrX2U/X0u1mcy5Zci3hdxfcRjEeX1XB6M+KcR+Rko67NPv7JSn8+y79Oi8mhEmVdZpm/5c5Kfr7qs9BzrfasTIECAAAECBAgQIECAAAECBAgQIEBgYgKrlbjIA7o8opyg7brcE2Py1+hZjou4L6I9VuIidZqmSyLlyZ5P/Td/3f/TEZlAaru2238RfV4RUcono1L65Mn2TeWFMS9fE9vLz0HZV5dlHk9eVZKlS+Ii+10e0WXbdZ9hP5+5n1LyIef1ttr1duIix10+YEx7G9keZY65T4UAAQJHLmNDQYAAAQIECBAgQIAAAQIECBBYCYFMBHQp97Y6dR1XD3t7NL4z4k/qlYvU86qLqyPytkAfXuizb6H98Vjmr9Wz5Lqv9Wrd/9M+lu4jj+6ZJ4THUVZzPnli+10Rz4zIE/1viXh3xIci8jZRvxaRV1i8POJlEddGlHJeqcQyEwV5hcMkSn4Ocm5/FpHzXarcHS/+bMTfjfjzPh2Xsl7pz+cVMb/XRny6zzwXW7XSc1xsHtYTIDBnAuvm7HgdLgECBAgQIECAAAECBAgQIDCfAi+Mw85bK10QcW7E4YhMVuTzFDIR8bGIeyKU6RTYGNPK546UZ0nk1ReZ2Jh0yedY5LM4tkfkw9vz85K3XfpyxN9EfDwiP0ejlpX+fOafga0R+WyLTADtjchk0FKJlpWeY0xHIUCAAAECBAgQIECAAAECBAgQIECAAAEC4xXYEJvLZFGJ9cvc/LfHuLz6oUReoaEQIECAAAECBAgQIECAAAECBAgQIECAAAECBIYSyNsolWRDLvNB5cspvxmD6u384nI2YgwBAgQIECBAgAABAgQIECBAgAABAgQIECAw3wL/Ng6/Tjh8Yhkc22NM3s6o3k4+A0MhQIAAAQIECBAgQIAAAQIECBAgQIAAAQIECAwl8ILoXSccsv5DQ2whn23xO61t/NEQ43UlQIAAAQIECBAgQIAAAQIECBAgQIAAAQIECBwlcF206uTFY9F+Y8S6o3o9vXFhrLoxoh6b9Uue3tUaAgQIECBAgAABAgQIECBAgAABAgQIECBAgEA3gfOi21ci2gmIL8e6n4l4ScQzI06JeGnE6yN+OeLhiPaYP4x1CgECBAgQIECAAAECBAgQIECAAAECBAgQIEBgJIFzY3QmKtqJiGHaN8X4rSPNwmACBAgQIECAAAECBAgQIECAAAECBAgQIECAwILA2bG8KmJ/xDAJi3ww9/+I2BKhECBAgAABAgQIECBAgAABAgQIECBAgAABAgTGKnBGbO2tEZ+NeCSiXxLjcKy/IeIXIvJZFwoBAgQIzJHAoIcgzRGFQyVAgAABAgQIECBAgAABAgQIEFgFgZNjn/kcjFzmcy0ejLgvIq/MUAgQIECAAAECBAgQIECAAAECBAgQIECAAAECBAgQIECAAAECBAgQIECAAAECBAgQIECAAAECBAgQIECAAAECBAgQIECAAAECBAgQIECAAAECBAgQIECAAAECBAgQIECAAAECBAgQIECAAAECBAgQIECAAAECBAgQIECAAAECBAgQIECAAAECBAgQIECAAAECBAgQIECAAAECBAgQIECAAAECBAgQIECAAAECBAgQIECAAAECBAgQIECAAAECBAgQIECAAAECBAgQIECAAAECBAgQIECAAAECBAgQIECAAAECBAgQIECAAAECBAgQIECAAAECBAgQIECAAAECBAgQIECAAAECBAgQIECAAAECBAgQIECAAAECBAgQIECAAAECBAgQIECAAAECBAgQIECAAAECBAgQIECAAAECBAgQIECAAAECBAgQIECAAAECBAgQIECAAAECBAgQIECAAAECBAgQIECAAAECBAgQIECAAAECBAgQIECAAAECBAgQIECAAAECBAgQIECAAAECBAgQIECAAAECBAgQIECAAAECBAgQIECAAAECBAgQIECAAAECBAgQIECAAAECBAgQIECAAAECBAgQIECAAAECBAgQIECAAAECBAgQIECAAAECBAgQIECAAAECBAgQIECAAAECBAgQIECAAAECBAgQIECAAAECBAgQIECAAAECBAgQIECAAAECBAgQIECAAAECBAgQIECAAAECBAgQIECAAAECBAgQIECAAAECBAgQIECAAAECBAgQIECAAAECBAgQIECAAAECBAgQIECAAAECBAgQIECAAAECBAgQIECAAAECBAgQIECAAAECBAgQIECAAAECBAgQIECAAAECBAgQIECAAAECBAgQIECAAAECBAgQIECAAAECBAgQIECAAAECBAgQIECAAAECBAgQIECAAAECBAgQIECAAAECBAgQIECAAAECBAgQIECAAAECBAgQIECAAAECBAgQIECAAAECBAgQIECAAAECBAgQIECAAAECBAgQIECAAAECBAgQIECAAAECBAgQIECAAAECBAgQIECAAAECBAgQIECAAAECBAgQIECAAAECBAgQIECAAAECBAgQIEBgzQv8f5UqQ6rgZ7ptAAAAAElFTkSuQmCC)"
      ]
    },
    {
      "cell_type": "markdown",
      "metadata": {
        "id": "XtGozrXPmlz4"
      },
      "source": [
        "There are other optimizations that can be applied here, such as vectorization, parallelization and data layout optimization. Please checkout"
      ]
    },
    {
      "cell_type": "markdown",
      "metadata": {
        "id": "d-8iHbr8jp04"
      },
      "source": [
        "## End to end model deployment\n",
        "\n",
        "Finally, let us walk through an example flow for an end to end model deployment.\n",
        "\n"
      ]
    },
    {
      "cell_type": "code",
      "source": [
        "!git lfs install\n"
      ],
      "metadata": {
        "colab": {
          "base_uri": "https://localhost:8080/"
        },
        "id": "wrQ4TYeEBMBb",
        "outputId": "5b548356-38a4-440b-dbc9-4a7dd7f9607a"
      },
      "execution_count": 3,
      "outputs": [
        {
          "output_type": "stream",
          "name": "stdout",
          "text": [
            "Git LFS initialized.\n"
          ]
        }
      ]
    },
    {
      "cell_type": "code",
      "source": [
        "!mkdir -p dist/prebuilt\n",
        "!git clone https://github.com/mlc-ai/binary-mlc-llm-libs.git dist/prebuilt/lib"
      ],
      "metadata": {
        "colab": {
          "base_uri": "https://localhost:8080/"
        },
        "id": "y-pLH_BdBSwz",
        "outputId": "e06d6e56-f821-4f00-814f-78d2883e1686"
      },
      "execution_count": 4,
      "outputs": [
        {
          "output_type": "stream",
          "name": "stdout",
          "text": [
            "Cloning into 'dist/prebuilt/lib'...\n",
            "remote: Enumerating objects: 389, done.\u001b[K\n",
            "remote: Counting objects: 100% (115/115), done.\u001b[K\n",
            "remote: Compressing objects: 100% (38/38), done.\u001b[K\n",
            "remote: Total 389 (delta 94), reused 93 (delta 77), pack-reused 274\u001b[K\n",
            "Receiving objects: 100% (389/389), 126.00 MiB | 14.01 MiB/s, done.\n",
            "Resolving deltas: 100% (279/279), done.\n",
            "Updating files: 100% (100/100), done.\n"
          ]
        }
      ]
    },
    {
      "cell_type": "code",
      "source": [
        "!cd dist/prebuilt && git clone https://huggingface.co/mlc-ai/mlc-chat-Llama-2-7b-chat-hf-q4f16_1\n"
      ],
      "metadata": {
        "colab": {
          "base_uri": "https://localhost:8080/"
        },
        "id": "F_5Xka8fBVb3",
        "outputId": "95608e23-a068-4ead-d77b-f476b30d9c3c"
      },
      "execution_count": 5,
      "outputs": [
        {
          "output_type": "stream",
          "name": "stdout",
          "text": [
            "Cloning into 'mlc-chat-Llama-2-7b-chat-hf-q4f16_1'...\n",
            "remote: Enumerating objects: 129, done.\u001b[K\n",
            "remote: Counting objects: 100% (3/3), done.\u001b[K\n",
            "remote: Compressing objects: 100% (3/3), done.\u001b[K\n",
            "remote: Total 129 (delta 0), reused 0 (delta 0), pack-reused 126\u001b[K\n",
            "Receiving objects: 100% (129/129), 500.53 KiB | 19.25 MiB/s, done.\n",
            "Filtering content: 100% (116/116), 3.53 GiB | 58.34 MiB/s, done.\n"
          ]
        }
      ]
    },
    {
      "cell_type": "code",
      "source": [
        "from mlc_chat import ChatModule\n",
        "from mlc_chat.callback import StreamToStdout\n",
        "\n",
        "cm = ChatModule(model=\"Llama-2-7b-chat-hf-q4f16_1\")"
      ],
      "metadata": {
        "id": "KV2PMdivBbla"
      },
      "execution_count": 6,
      "outputs": []
    },
    {
      "cell_type": "code",
      "source": [
        "output = cm.generate(\n",
        "    prompt=\"When was Python released?\",\n",
        "    progress_callback=StreamToStdout(callback_interval=2),\n",
        ")"
      ],
      "metadata": {
        "colab": {
          "base_uri": "https://localhost:8080/"
        },
        "id": "4rTjoMR3BcgI",
        "outputId": "12ca253e-0eb3-445d-9df8-4c993bc8f423"
      },
      "execution_count": 7,
      "outputs": [
        {
          "output_type": "stream",
          "name": "stdout",
          "text": [
            "Hello! I'm glad you asked! Python was first released in 1991 by Guido van Rossum. It was initially called \"Python\" because van Rossum was a fan of the British comedy group Monty Python's Flying Circus. The language was created as a hobby project, and it quickly gained popularity among computer programmers due to its simplicity and ease of use. Since its initial release, Python has undergone many updates and improvements, and it has become one of the most popular programming languages in the world. Is there anything else you would like to know?\n"
          ]
        }
      ]
    },
    {
      "cell_type": "code",
      "source": [
        "prompt = input(\"Prompt: \")\n",
        "output = cm.generate(prompt=prompt, progress_callback=StreamToStdout(callback_interval=2))"
      ],
      "metadata": {
        "colab": {
          "base_uri": "https://localhost:8080/"
        },
        "id": "RAlmhbBrBenk",
        "outputId": "67e4c0eb-2c32-4841-cca3-38458843205f"
      },
      "execution_count": 60,
      "outputs": [
        {
          "output_type": "stream",
          "name": "stdout",
          "text": [
            "Prompt: tell me about cmu\n",
            "Carnegie Mellon University (CMU) is a private research university located in Pittsburgh, Pennsylvania, United States. It was founded in 1900 as the Carnegie Technical Schools by Andrew Carnegie, and later merged with the Mellon Institute of Industrial Research in 1967. CMU is highly regarded for its academic excellence, innovative research, and strong connections with industry leaders.\n",
            "Here are some key points about Carnegie Mellon University:\n",
            "1. Academics: CMU offers a wide range of undergraduate and graduate degree programs in fields such as engineering, computer science, robotics, artificial intelligence, business, public policy, and the arts. The university is known for its interdisciplinary approach to education, which allows students to explore multiple areas of interest.\n",
            "2. Research: CMU is a leading research university, with a strong focus on interdisciplinary collaboration and innovation. The university has a long history of groundbreaking research in fields such as computer science, robotics, artificial intelligence, and engineering.\n",
            "3. Location: CMU is located in Pittsburgh, Pennsylvania, which offers a unique blend of urban and suburban living. Pittsburgh is known for its vibrant cultural scene, rich history, and affordable cost of living.\n",
            "4. Size: CMU has a relatively small student body, with around 14,000 students overall, including 8,000 undergraduates. This allows for a more personalized and intimate learning experience.\n",
            "5. Campus culture: CMU has a diverse and inclusive campus culture, with a strong focus on community engagement and social responsibility. The university is committed to creating a welcoming and supportive environment for all students, faculty, and staff.\n",
            "6. Athletics: CMU has a strong athletics program, with teams competing in the NCAA Division III and the University Athletic Association (UAA). The university is known for its men's and women's basketball teams, as well as its men's and women's soccer teams.\n",
            "7. Extracurriculars: CMU has a wide range of extracurricular activities and clubs, including student organizations, cultural groups, and community service organizations.\n",
            "8. Career outcomes: CMU has a strong reputation in the job market, with\n"
          ]
        }
      ]
    },
    {
      "cell_type": "code",
      "source": [
        "print(cm.stats())\n"
      ],
      "metadata": {
        "colab": {
          "base_uri": "https://localhost:8080/"
        },
        "id": "B-SQZ2T8Bi3a",
        "outputId": "fd5dce77-93d4-4db1-b3d6-2dfdd8f60799"
      },
      "execution_count": 62,
      "outputs": [
        {
          "output_type": "stream",
          "name": "stdout",
          "text": [
            "prefill: 506.3 tok/s, decode: 49.1 tok/s\n"
          ]
        }
      ]
    },
    {
      "cell_type": "code",
      "source": [],
      "metadata": {
        "id": "40rcbuOzBk5t"
      },
      "execution_count": null,
      "outputs": []
    },
    {
      "cell_type": "code",
      "source": [],
      "metadata": {
        "id": "MtJ1iz39BYQn"
      },
      "execution_count": null,
      "outputs": []
    }
  ]
}